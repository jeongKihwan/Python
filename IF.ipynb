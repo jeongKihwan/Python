{
 "cells": [
  {
   "cell_type": "code",
   "execution_count": 1,
   "metadata": {
    "ExecuteTime": {
     "end_time": "2021-01-07T12:58:32.388755Z",
     "start_time": "2021-01-07T12:58:32.382730Z"
    }
   },
   "outputs": [],
   "source": [
    "password = 1234"
   ]
  },
  {
   "cell_type": "code",
   "execution_count": 2,
   "metadata": {
    "ExecuteTime": {
     "end_time": "2021-01-07T12:59:40.513007Z",
     "start_time": "2021-01-07T12:59:38.129326Z"
    }
   },
   "outputs": [
    {
     "name": "stdout",
     "output_type": "stream",
     "text": [
      "패스워드를 입력하세요1234\n",
      "환영합니다. 어서오세요\n"
     ]
    }
   ],
   "source": [
    "# 패스워드를 입력받은 후 패스워드가 일치하면 '환영합니다. 어서오세요'\n",
    "pw = int(input('패스워드를 입력하세요'))\n",
    "\n",
    "if password == pw:\n",
    "    print('환영합니다. 어서오세요')"
   ]
  },
  {
   "cell_type": "code",
   "execution_count": 3,
   "metadata": {
    "ExecuteTime": {
     "end_time": "2021-01-07T13:01:49.805656Z",
     "start_time": "2021-01-07T13:01:47.252356Z"
    }
   },
   "outputs": [
    {
     "name": "stdout",
     "output_type": "stream",
     "text": [
      "패스워드를 입력하세요1235\n",
      "패스워드가 일치하지 않습니다\n"
     ]
    }
   ],
   "source": [
    "# 패스워드를 입력받은 후 패스워드가 일치하면 '환영합니다. 어서오세요'\n",
    "# '패스워드가 일치하지 않습니다'를 출력\n",
    "\n",
    "pw = int(input('패스워드를 입력하세요'))\n",
    "\n",
    "if password == pw:\n",
    "    print('환영합니다.어서오세요')\n",
    "else:\n",
    "    print('패스워드가 일치하지 않습니다')"
   ]
  },
  {
   "cell_type": "code",
   "execution_count": 4,
   "metadata": {
    "ExecuteTime": {
     "end_time": "2021-01-07T13:05:40.902376Z",
     "start_time": "2021-01-07T13:05:38.349597Z"
    }
   },
   "outputs": [
    {
     "name": "stdout",
     "output_type": "stream",
     "text": [
      "임의의 정수를 입력하세요5\n",
      "임의의 정수를 입력하세요7\n",
      "'b'가 'a'보다 큽니다\n"
     ]
    }
   ],
   "source": [
    "# 임의의 두 정수를 입력받은 후, 어느 값이 더 큰 값인지 아니면 값이 같은지\n",
    "# a 와 b는 같습니다\n",
    "# a 가 b보다 큽니다\n",
    "# b 가 a보다 큽니다\n",
    "\n",
    "a = int(input('임의의 정수를 입력하세요'))\n",
    "b = int(input('임의의 정수를 입력하세요'))\n",
    "\n",
    "if a == b:\n",
    "    print(\"'a'와 'b'가 같습니다.\")\n",
    "elif a > b:\n",
    "    print(\"'a'가 'b'보다 큽니다\")\n",
    "else:\n",
    "    print(\"'b'가 'a'보다 큽니다\")"
   ]
  },
  {
   "cell_type": "code",
   "execution_count": 5,
   "metadata": {
    "ExecuteTime": {
     "end_time": "2021-01-07T13:07:55.752882Z",
     "start_time": "2021-01-07T13:07:54.382354Z"
    }
   },
   "outputs": [
    {
     "name": "stdout",
     "output_type": "stream",
     "text": [
      "임의의 정수를 입력하세요4\n",
      "짝수 입니다\n"
     ]
    }
   ],
   "source": [
    "# 임의의 정수를 받아서 짝수이면 '짝수입니다', 홀수이면 '홀수 입니다.'\n",
    "\n",
    "a = int(input('임의의 정수를 입력하세요'))\n",
    "\n",
    "if a%2 == 0:\n",
    "    print('짝수 입니다')\n",
    "else:\n",
    "    print('홀수 입니다')"
   ]
  },
  {
   "cell_type": "code",
   "execution_count": 6,
   "metadata": {
    "ExecuteTime": {
     "end_time": "2021-01-07T13:12:03.827760Z",
     "start_time": "2021-01-07T13:11:46.335404Z"
    }
   },
   "outputs": [
    {
     "name": "stdout",
     "output_type": "stream",
     "text": [
      "주민번호를 입력하세요123456-1920384\n",
      "당신의 나이는 108이고 성별은 남성입니다\n"
     ]
    }
   ],
   "source": [
    "# 주민번호 앞 6자리와 뒤 1자리를 입력받은후\n",
    "# => '당신의 나이는 **이고, 성별은 **입니다'\n",
    "\n",
    "a = input('주민번호를 입력하세요')\n",
    "\n",
    "age = 2020 - int('19'+a[:2])\n",
    "\n",
    "if int(a[7]) == 1:\n",
    "    sex = '남성'\n",
    "else:\n",
    "    sex = '여성'\n",
    "    \n",
    "print('당신의 나이는 {}이고 성별은 {}입니다'.format(age,sex))"
   ]
  },
  {
   "cell_type": "code",
   "execution_count": 7,
   "metadata": {
    "ExecuteTime": {
     "end_time": "2021-01-07T13:12:23.980888Z",
     "start_time": "2021-01-07T13:12:22.353304Z"
    }
   },
   "outputs": [
    {
     "name": "stdout",
     "output_type": "stream",
     "text": [
      "나이를 입력하세요32\n",
      "적합한 나이입니다\n"
     ]
    }
   ],
   "source": [
    "# 나이를 입력받은 후,\n",
    "# 20세 미만이면 => \"나이가 너무 어립니다\"\n",
    "# 20세 이상 50세 미만 => \"적합한 나이입니다\"\n",
    "# 50세 이상 => \"나이가 초과되셨습니다\"\n",
    "\n",
    "age = int(input('나이를 입력하세요'))\n",
    "\n",
    "if age < 20:\n",
    "    print('나이가 너무 어립니다')    \n",
    "elif 20 <= age < 50:\n",
    "    print('적합한 나이입니다')\n",
    "else:\n",
    "    print('나이가 초과되셨습니다')"
   ]
  },
  {
   "cell_type": "code",
   "execution_count": 8,
   "metadata": {
    "ExecuteTime": {
     "end_time": "2021-01-07T13:13:02.001579Z",
     "start_time": "2021-01-07T13:12:54.941001Z"
    }
   },
   "outputs": [
    {
     "name": "stdout",
     "output_type": "stream",
     "text": [
      "이름을 입력하세요join\n",
      "{'mary': 95, 'sams': 75, 'amy': 87, 'bob': 65, 'join': 50}\n"
     ]
    }
   ],
   "source": [
    "name = {'mary':95, 'sams':75, 'amy':87, 'bob':65}\n",
    "\n",
    "# 이름을 입력받은 후, 이름이 있으면 점수를 출력하고, 이름이 없으면 50점을 name dict에 추가\n",
    "nam = input('이름을 입력하세요')\n",
    "\n",
    "if nam in name:\n",
    "    print(name[nam])\n",
    "else:\n",
    "    name[nam] = 50\n",
    "    print(name)"
   ]
  },
  {
   "cell_type": "code",
   "execution_count": 9,
   "metadata": {
    "ExecuteTime": {
     "end_time": "2021-01-07T13:13:45.875938Z",
     "start_time": "2021-01-07T13:13:38.489046Z"
    }
   },
   "outputs": [
    {
     "name": "stdout",
     "output_type": "stream",
     "text": [
      "이름을 입력하세요mary\n",
      "합격입니다\n"
     ]
    }
   ],
   "source": [
    "nam = input('이름을 입력하세요')\n",
    "\n",
    "if nam in name:\n",
    "    if name[nam] >= 80:\n",
    "        print('합격입니다')\n",
    "    else:\n",
    "        print('불합격입니다')\n",
    "else:\n",
    "    print('이름이 없습니다')"
   ]
  },
  {
   "cell_type": "code",
   "execution_count": null,
   "metadata": {},
   "outputs": [],
   "source": []
  }
 ],
 "metadata": {
  "kernelspec": {
   "display_name": "Python 3",
   "language": "python",
   "name": "python3"
  },
  "language_info": {
   "codemirror_mode": {
    "name": "ipython",
    "version": 3
   },
   "file_extension": ".py",
   "mimetype": "text/x-python",
   "name": "python",
   "nbconvert_exporter": "python",
   "pygments_lexer": "ipython3",
   "version": "3.8.5"
  },
  "toc": {
   "base_numbering": 1,
   "nav_menu": {},
   "number_sections": true,
   "sideBar": true,
   "skip_h1_title": false,
   "title_cell": "Table of Contents",
   "title_sidebar": "Contents",
   "toc_cell": false,
   "toc_position": {},
   "toc_section_display": true,
   "toc_window_display": false
  },
  "varInspector": {
   "cols": {
    "lenName": 16,
    "lenType": 16,
    "lenVar": 40
   },
   "kernels_config": {
    "python": {
     "delete_cmd_postfix": "",
     "delete_cmd_prefix": "del ",
     "library": "var_list.py",
     "varRefreshCmd": "print(var_dic_list())"
    },
    "r": {
     "delete_cmd_postfix": ") ",
     "delete_cmd_prefix": "rm(",
     "library": "var_list.r",
     "varRefreshCmd": "cat(var_dic_list()) "
    }
   },
   "types_to_exclude": [
    "module",
    "function",
    "builtin_function_or_method",
    "instance",
    "_Feature"
   ],
   "window_display": false
  }
 },
 "nbformat": 4,
 "nbformat_minor": 4
}
