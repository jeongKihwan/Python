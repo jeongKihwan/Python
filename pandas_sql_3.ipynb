{
 "cells": [
  {
   "cell_type": "code",
   "execution_count": 101,
   "metadata": {},
   "outputs": [],
   "source": [
    "import pandas as pd\n",
    "import MySQLdb"
   ]
  },
  {
   "cell_type": "code",
   "execution_count": 102,
   "metadata": {},
   "outputs": [
    {
     "data": {
      "text/html": [
       "<div>\n",
       "<style scoped>\n",
       "    .dataframe tbody tr th:only-of-type {\n",
       "        vertical-align: middle;\n",
       "    }\n",
       "\n",
       "    .dataframe tbody tr th {\n",
       "        vertical-align: top;\n",
       "    }\n",
       "\n",
       "    .dataframe thead th {\n",
       "        text-align: right;\n",
       "    }\n",
       "</style>\n",
       "<table border=\"1\" class=\"dataframe\">\n",
       "  <thead>\n",
       "    <tr style=\"text-align: right;\">\n",
       "      <th></th>\n",
       "      <th>매물번호</th>\n",
       "      <th>연락처</th>\n",
       "      <th>주소</th>\n",
       "      <th>부동산</th>\n",
       "      <th>보증금</th>\n",
       "      <th>월세</th>\n",
       "    </tr>\n",
       "  </thead>\n",
       "  <tbody>\n",
       "    <tr>\n",
       "      <th>0</th>\n",
       "      <td>3467204.0</td>\n",
       "      <td>010-123-4567</td>\n",
       "      <td>서울시 강남구 역삼동 0</td>\n",
       "      <td>TODAY공인중개사(이인규)</td>\n",
       "      <td>1000.0</td>\n",
       "      <td>100.0</td>\n",
       "    </tr>\n",
       "    <tr>\n",
       "      <th>1</th>\n",
       "      <td>3150497.0</td>\n",
       "      <td>010-123-4567</td>\n",
       "      <td>서울시 강남구 역삼동 1</td>\n",
       "      <td>TODAY공인중개사(이인규)</td>\n",
       "      <td>11000.0</td>\n",
       "      <td>60.0</td>\n",
       "    </tr>\n",
       "    <tr>\n",
       "      <th>2</th>\n",
       "      <td>3440906.0</td>\n",
       "      <td>010-123-4567</td>\n",
       "      <td>서울시 강남구 역삼동 2</td>\n",
       "      <td>열린공인중개사(강광수)</td>\n",
       "      <td>5000.0</td>\n",
       "      <td>65.0</td>\n",
       "    </tr>\n",
       "    <tr>\n",
       "      <th>3</th>\n",
       "      <td>3376834.0</td>\n",
       "      <td>010-123-4567</td>\n",
       "      <td>서울시 강남구 역삼동 3</td>\n",
       "      <td>미래공인중개사(김유철)</td>\n",
       "      <td>3000.0</td>\n",
       "      <td>95.0</td>\n",
       "    </tr>\n",
       "    <tr>\n",
       "      <th>4</th>\n",
       "      <td>3331511.0</td>\n",
       "      <td>010-123-4567</td>\n",
       "      <td>서울시 강남구 역삼동 4</td>\n",
       "      <td>한백부동산공인중개사(김남조)</td>\n",
       "      <td>110.0</td>\n",
       "      <td>110.0</td>\n",
       "    </tr>\n",
       "  </tbody>\n",
       "</table>\n",
       "</div>"
      ],
      "text/plain": [
       "        매물번호           연락처             주소              부동산      보증금     월세\n",
       "0  3467204.0  010-123-4567  서울시 강남구 역삼동 0  TODAY공인중개사(이인규)   1000.0  100.0\n",
       "1  3150497.0  010-123-4567  서울시 강남구 역삼동 1  TODAY공인중개사(이인규)  11000.0   60.0\n",
       "2  3440906.0  010-123-4567  서울시 강남구 역삼동 2     열린공인중개사(강광수)   5000.0   65.0\n",
       "3  3376834.0  010-123-4567  서울시 강남구 역삼동 3     미래공인중개사(김유철)   3000.0   95.0\n",
       "4  3331511.0  010-123-4567  서울시 강남구 역삼동 4  한백부동산공인중개사(김남조)    110.0  110.0"
      ]
     },
     "execution_count": 102,
     "metadata": {},
     "output_type": "execute_result"
    }
   ],
   "source": [
    "df = pd.read_csv('budongsan.csv', index_col=0)\n",
    "df.head()"
   ]
  },
  {
   "cell_type": "code",
   "execution_count": 103,
   "metadata": {},
   "outputs": [],
   "source": [
    "db = MySQLdb.connect('localhost', 'root', '1234', charset='utf8')"
   ]
  },
  {
   "cell_type": "code",
   "execution_count": 104,
   "metadata": {},
   "outputs": [],
   "source": [
    "cursor = db.cursor() # cursor : 데이터베이스에 명령을 전달하는 객체"
   ]
  },
  {
   "cell_type": "code",
   "execution_count": 105,
   "metadata": {},
   "outputs": [
    {
     "data": {
      "text/plain": [
       "9"
      ]
     },
     "execution_count": 105,
     "metadata": {},
     "output_type": "execute_result"
    }
   ],
   "source": [
    "sql = 'show databases;'\n",
    "cursor.execute(sql)"
   ]
  },
  {
   "cell_type": "code",
   "execution_count": 106,
   "metadata": {},
   "outputs": [
    {
     "data": {
      "text/plain": [
       "(('information_schema',),\n",
       " ('budonsan',),\n",
       " ('employees',),\n",
       " ('mysql',),\n",
       " ('performance_schema',),\n",
       " ('sakila',),\n",
       " ('sqldb',),\n",
       " ('sys',),\n",
       " ('world',))"
      ]
     },
     "execution_count": 106,
     "metadata": {},
     "output_type": "execute_result"
    }
   ],
   "source": [
    "cursor.fetchall()"
   ]
  },
  {
   "cell_type": "code",
   "execution_count": 107,
   "metadata": {},
   "outputs": [
    {
     "data": {
      "text/plain": [
       "2"
      ]
     },
     "execution_count": 107,
     "metadata": {},
     "output_type": "execute_result"
    }
   ],
   "source": [
    "sql = 'drop database if exists budongsan; create database budonsan;'\n",
    "cursor.execute(sql)"
   ]
  },
  {
   "cell_type": "code",
   "execution_count": 108,
   "metadata": {},
   "outputs": [
    {
     "data": {
      "text/plain": [
       "9"
      ]
     },
     "execution_count": 108,
     "metadata": {},
     "output_type": "execute_result"
    }
   ],
   "source": [
    "sql = 'show databases'\n",
    "cursor.execute(sql)"
   ]
  },
  {
   "cell_type": "code",
   "execution_count": 109,
   "metadata": {},
   "outputs": [
    {
     "data": {
      "text/plain": [
       "(('information_schema',),\n",
       " ('budonsan',),\n",
       " ('employees',),\n",
       " ('mysql',),\n",
       " ('performance_schema',),\n",
       " ('sakila',),\n",
       " ('sqldb',),\n",
       " ('sys',),\n",
       " ('world',))"
      ]
     },
     "execution_count": 109,
     "metadata": {},
     "output_type": "execute_result"
    }
   ],
   "source": [
    "cursor.fetchall()"
   ]
  },
  {
   "cell_type": "code",
   "execution_count": 110,
   "metadata": {},
   "outputs": [],
   "source": [
    "db = MySQLdb.connect('localhost', 'root', '1234', 'budongsan', charset='utf8')"
   ]
  },
  {
   "cell_type": "code",
   "execution_count": 111,
   "metadata": {},
   "outputs": [
    {
     "data": {
      "text/plain": [
       "0"
      ]
     },
     "execution_count": 111,
     "metadata": {},
     "output_type": "execute_result"
    }
   ],
   "source": [
    "sql = '''use budonsan;\n",
    "show tables;'cursor.execute(sql)"
   ]
  },
  {
   "cell_type": "code",
   "execution_count": 112,
   "metadata": {},
   "outputs": [
    {
     "data": {
      "text/plain": [
       "0"
      ]
     },
     "execution_count": 112,
     "metadata": {},
     "output_type": "execute_result"
    }
   ],
   "source": [
    "sql = '''create table provider(\n",
    "provider_id int primary key,\n",
    "name varchar(255))'''\n",
    "cursor.execute(sql)"
   ]
  },
  {
   "cell_type": "code",
   "execution_count": 113,
   "metadata": {},
   "outputs": [
    {
     "data": {
      "text/plain": [
       "()"
      ]
     },
     "execution_count": 113,
     "metadata": {},
     "output_type": "execute_result"
    }
   ],
   "source": [
    "cursor.fetchall()"
   ]
  },
  {
   "cell_type": "code",
   "execution_count": 114,
   "metadata": {},
   "outputs": [
    {
     "data": {
      "text/plain": [
       "1"
      ]
     },
     "execution_count": 114,
     "metadata": {},
     "output_type": "execute_result"
    }
   ],
   "source": [
    "sql = 'insert into provider values(2, \"다음\");insert into provider values(3, \"네이버\");insert into provider values(4, \"구글\")'\n",
    "cursor.execute(sql)"
   ]
  },
  {
   "cell_type": "code",
   "execution_count": 115,
   "metadata": {},
   "outputs": [
    {
     "data": {
      "text/plain": [
       "3"
      ]
     },
     "execution_count": 115,
     "metadata": {},
     "output_type": "execute_result"
    }
   ],
   "source": [
    "sql='''\n",
    "select * from provider;\n",
    "'''\n",
    "cursor.execute(sql)"
   ]
  },
  {
   "cell_type": "code",
   "execution_count": 116,
   "metadata": {},
   "outputs": [
    {
     "data": {
      "text/plain": [
       "((2, '다음'), (3, '네이버'), (4, '구글'))"
      ]
     },
     "execution_count": 116,
     "metadata": {},
     "output_type": "execute_result"
    }
   ],
   "source": [
    "cursor.fetchall()"
   ]
  },
  {
   "cell_type": "code",
   "execution_count": 117,
   "metadata": {},
   "outputs": [],
   "source": [
    "### budongsan.csv의 모든 자료를 budongsan 데이터 베이스의 테이블에 입력"
   ]
  },
  {
   "cell_type": "code",
   "execution_count": 118,
   "metadata": {
    "collapsed": true
   },
   "outputs": [
    {
     "data": {
      "text/html": [
       "<div>\n",
       "<style scoped>\n",
       "    .dataframe tbody tr th:only-of-type {\n",
       "        vertical-align: middle;\n",
       "    }\n",
       "\n",
       "    .dataframe tbody tr th {\n",
       "        vertical-align: top;\n",
       "    }\n",
       "\n",
       "    .dataframe thead th {\n",
       "        text-align: right;\n",
       "    }\n",
       "</style>\n",
       "<table border=\"1\" class=\"dataframe\">\n",
       "  <thead>\n",
       "    <tr style=\"text-align: right;\">\n",
       "      <th></th>\n",
       "      <th>매물번호</th>\n",
       "      <th>연락처</th>\n",
       "      <th>주소</th>\n",
       "      <th>부동산</th>\n",
       "      <th>보증금</th>\n",
       "      <th>월세</th>\n",
       "    </tr>\n",
       "  </thead>\n",
       "  <tbody>\n",
       "    <tr>\n",
       "      <th>0</th>\n",
       "      <td>3467204.0</td>\n",
       "      <td>010-123-4567</td>\n",
       "      <td>서울시 강남구 역삼동 0</td>\n",
       "      <td>TODAY공인중개사(이인규)</td>\n",
       "      <td>1000.0</td>\n",
       "      <td>100.0</td>\n",
       "    </tr>\n",
       "    <tr>\n",
       "      <th>1</th>\n",
       "      <td>3150497.0</td>\n",
       "      <td>010-123-4567</td>\n",
       "      <td>서울시 강남구 역삼동 1</td>\n",
       "      <td>TODAY공인중개사(이인규)</td>\n",
       "      <td>11000.0</td>\n",
       "      <td>60.0</td>\n",
       "    </tr>\n",
       "    <tr>\n",
       "      <th>2</th>\n",
       "      <td>3440906.0</td>\n",
       "      <td>010-123-4567</td>\n",
       "      <td>서울시 강남구 역삼동 2</td>\n",
       "      <td>열린공인중개사(강광수)</td>\n",
       "      <td>5000.0</td>\n",
       "      <td>65.0</td>\n",
       "    </tr>\n",
       "    <tr>\n",
       "      <th>3</th>\n",
       "      <td>3376834.0</td>\n",
       "      <td>010-123-4567</td>\n",
       "      <td>서울시 강남구 역삼동 3</td>\n",
       "      <td>미래공인중개사(김유철)</td>\n",
       "      <td>3000.0</td>\n",
       "      <td>95.0</td>\n",
       "    </tr>\n",
       "    <tr>\n",
       "      <th>4</th>\n",
       "      <td>3331511.0</td>\n",
       "      <td>010-123-4567</td>\n",
       "      <td>서울시 강남구 역삼동 4</td>\n",
       "      <td>한백부동산공인중개사(김남조)</td>\n",
       "      <td>110.0</td>\n",
       "      <td>110.0</td>\n",
       "    </tr>\n",
       "    <tr>\n",
       "      <th>5</th>\n",
       "      <td>3373198.0</td>\n",
       "      <td>010-123-4567</td>\n",
       "      <td>서울시 강남구 역삼동 5</td>\n",
       "      <td>강남코리아공인중개사(기숙영)</td>\n",
       "      <td>15000.0</td>\n",
       "      <td>70.0</td>\n",
       "    </tr>\n",
       "    <tr>\n",
       "      <th>6</th>\n",
       "      <td>3376434.0</td>\n",
       "      <td>010-123-4567</td>\n",
       "      <td>서울시 강남구 역삼동 6</td>\n",
       "      <td>열린공인중개사(강광수)</td>\n",
       "      <td>1000.0</td>\n",
       "      <td>85.0</td>\n",
       "    </tr>\n",
       "    <tr>\n",
       "      <th>7</th>\n",
       "      <td>3322860.0</td>\n",
       "      <td>010-123-4567</td>\n",
       "      <td>서울시 강남구 역삼동 7</td>\n",
       "      <td>한강공인중개사(김상헌)</td>\n",
       "      <td>1000.0</td>\n",
       "      <td>80.0</td>\n",
       "    </tr>\n",
       "    <tr>\n",
       "      <th>8</th>\n",
       "      <td>3303061.0</td>\n",
       "      <td>010-123-4567</td>\n",
       "      <td>서울시 강남구 역삼동 8</td>\n",
       "      <td>동하공인중개사(임성우)</td>\n",
       "      <td>1000.0</td>\n",
       "      <td>60.0</td>\n",
       "    </tr>\n",
       "    <tr>\n",
       "      <th>9</th>\n",
       "      <td>3262172.0</td>\n",
       "      <td>010-123-4567</td>\n",
       "      <td>서울시 강남구 역삼동 9</td>\n",
       "      <td>스타공인중개사(박정직)</td>\n",
       "      <td>2000.0</td>\n",
       "      <td>50.0</td>\n",
       "    </tr>\n",
       "    <tr>\n",
       "      <th>10</th>\n",
       "      <td>3228631.0</td>\n",
       "      <td>010-123-4567</td>\n",
       "      <td>서울시 강남구 역삼동 10</td>\n",
       "      <td>HS강남공인중개사(김현수)</td>\n",
       "      <td>1000.0</td>\n",
       "      <td>96.0</td>\n",
       "    </tr>\n",
       "    <tr>\n",
       "      <th>11</th>\n",
       "      <td>3505011.0</td>\n",
       "      <td>010-123-4567</td>\n",
       "      <td>서울시 강남구 역삼동 11</td>\n",
       "      <td>H공인중개사(김용만)</td>\n",
       "      <td>15000.0</td>\n",
       "      <td>70.0</td>\n",
       "    </tr>\n",
       "    <tr>\n",
       "      <th>12</th>\n",
       "      <td>3249401.0</td>\n",
       "      <td>010-123-4567</td>\n",
       "      <td>서울시 강남구 역삼동 12</td>\n",
       "      <td>도원공인중개사(손석진)</td>\n",
       "      <td>65.0</td>\n",
       "      <td>65.0</td>\n",
       "    </tr>\n",
       "    <tr>\n",
       "      <th>13</th>\n",
       "      <td>3330951.0</td>\n",
       "      <td>010-123-4567</td>\n",
       "      <td>서울시 강남구 역삼동 13</td>\n",
       "      <td>강남우리공인중개사(어정화)</td>\n",
       "      <td>2000.0</td>\n",
       "      <td>150.0</td>\n",
       "    </tr>\n",
       "    <tr>\n",
       "      <th>14</th>\n",
       "      <td>3494055.0</td>\n",
       "      <td>010-123-4567</td>\n",
       "      <td>서울시 강남구 역삼동 14</td>\n",
       "      <td>청록공인중개사(하순자)</td>\n",
       "      <td>3000.0</td>\n",
       "      <td>60.0</td>\n",
       "    </tr>\n",
       "    <tr>\n",
       "      <th>15</th>\n",
       "      <td>3317227.0</td>\n",
       "      <td>010-123-4567</td>\n",
       "      <td>서울시 강남구 역삼동 15</td>\n",
       "      <td>커피한잔공인중개사(손별)</td>\n",
       "      <td>500.0</td>\n",
       "      <td>67.0</td>\n",
       "    </tr>\n",
       "    <tr>\n",
       "      <th>16</th>\n",
       "      <td>3405679.0</td>\n",
       "      <td>010-123-4567</td>\n",
       "      <td>서울시 강남구 역삼동 16</td>\n",
       "      <td>강남코리아공인중개사(기숙영)</td>\n",
       "      <td>15000.0</td>\n",
       "      <td>60.0</td>\n",
       "    </tr>\n",
       "    <tr>\n",
       "      <th>17</th>\n",
       "      <td>3103384.0</td>\n",
       "      <td>010-123-4567</td>\n",
       "      <td>서울시 강남구 역삼동 17</td>\n",
       "      <td>TODAY공인중개사(이인규)</td>\n",
       "      <td>5000.0</td>\n",
       "      <td>50.0</td>\n",
       "    </tr>\n",
       "    <tr>\n",
       "      <th>18</th>\n",
       "      <td>3418616.0</td>\n",
       "      <td>010-123-4567</td>\n",
       "      <td>서울시 강남구 역삼동 18</td>\n",
       "      <td>나무공인중개사(조민영)</td>\n",
       "      <td>90.0</td>\n",
       "      <td>90.0</td>\n",
       "    </tr>\n",
       "    <tr>\n",
       "      <th>19</th>\n",
       "      <td>3456814.0</td>\n",
       "      <td>010-123-4567</td>\n",
       "      <td>서울시 강남구 역삼동 19</td>\n",
       "      <td>한강공인중개사(김상헌)</td>\n",
       "      <td>300.0</td>\n",
       "      <td>80.0</td>\n",
       "    </tr>\n",
       "    <tr>\n",
       "      <th>20</th>\n",
       "      <td>3181675.0</td>\n",
       "      <td>010-123-4567</td>\n",
       "      <td>서울시 강남구 역삼동 20</td>\n",
       "      <td>TODAY공인중개사(이인규)</td>\n",
       "      <td>5000.0</td>\n",
       "      <td>60.0</td>\n",
       "    </tr>\n",
       "    <tr>\n",
       "      <th>21</th>\n",
       "      <td>3309372.0</td>\n",
       "      <td>010-123-4567</td>\n",
       "      <td>서울시 강남구 역삼동 21</td>\n",
       "      <td>한백부동산공인중개사(김남조)</td>\n",
       "      <td>75.0</td>\n",
       "      <td>75.0</td>\n",
       "    </tr>\n",
       "    <tr>\n",
       "      <th>22</th>\n",
       "      <td>3501566.0</td>\n",
       "      <td>010-123-4567</td>\n",
       "      <td>서울시 강남구 역삼동 22</td>\n",
       "      <td>강남코리아공인중개사(기숙영)</td>\n",
       "      <td>1000.0</td>\n",
       "      <td>65.0</td>\n",
       "    </tr>\n",
       "    <tr>\n",
       "      <th>23</th>\n",
       "      <td>3346510.0</td>\n",
       "      <td>010-123-4567</td>\n",
       "      <td>서울시 강남구 역삼동 23</td>\n",
       "      <td>도원공인중개사(손석진)</td>\n",
       "      <td>65.0</td>\n",
       "      <td>65.0</td>\n",
       "    </tr>\n",
       "    <tr>\n",
       "      <th>24</th>\n",
       "      <td>3406670.0</td>\n",
       "      <td>010-123-4567</td>\n",
       "      <td>서울시 강남구 역삼동 24</td>\n",
       "      <td>TODAY공인중개사(이인규)</td>\n",
       "      <td>1000.0</td>\n",
       "      <td>60.0</td>\n",
       "    </tr>\n",
       "    <tr>\n",
       "      <th>25</th>\n",
       "      <td>3493254.0</td>\n",
       "      <td>010-123-4567</td>\n",
       "      <td>서울시 강남구 역삼동 25</td>\n",
       "      <td>아셈타운공인중개사(임현옥)</td>\n",
       "      <td>7000.0</td>\n",
       "      <td>100.0</td>\n",
       "    </tr>\n",
       "    <tr>\n",
       "      <th>26</th>\n",
       "      <td>3501607.0</td>\n",
       "      <td>010-123-4567</td>\n",
       "      <td>서울시 강남구 역삼동 26</td>\n",
       "      <td>강남코리아공인중개사(기숙영)</td>\n",
       "      <td>2000.0</td>\n",
       "      <td>63.0</td>\n",
       "    </tr>\n",
       "    <tr>\n",
       "      <th>27</th>\n",
       "      <td>3484623.0</td>\n",
       "      <td>010-123-4567</td>\n",
       "      <td>서울시 강남구 역삼동 27</td>\n",
       "      <td>웰컴공인중개사(이영진)</td>\n",
       "      <td>1000.0</td>\n",
       "      <td>120.0</td>\n",
       "    </tr>\n",
       "    <tr>\n",
       "      <th>28</th>\n",
       "      <td>3190410.0</td>\n",
       "      <td>010-123-4567</td>\n",
       "      <td>서울시 강남구 역삼동 28</td>\n",
       "      <td>건우공인중개사(김상모)</td>\n",
       "      <td>70.0</td>\n",
       "      <td>70.0</td>\n",
       "    </tr>\n",
       "    <tr>\n",
       "      <th>29</th>\n",
       "      <td>3350050.0</td>\n",
       "      <td>010-123-4567</td>\n",
       "      <td>서울시 강남구 역삼동 29</td>\n",
       "      <td>NB공인중개사(길주현)</td>\n",
       "      <td>1000.0</td>\n",
       "      <td>70.0</td>\n",
       "    </tr>\n",
       "    <tr>\n",
       "      <th>30</th>\n",
       "      <td>3495453.0</td>\n",
       "      <td>010-123-4567</td>\n",
       "      <td>서울시 강남구 역삼동 30</td>\n",
       "      <td>부동산네트워크공인중개사(황창문)</td>\n",
       "      <td>8000.0</td>\n",
       "      <td>55.0</td>\n",
       "    </tr>\n",
       "    <tr>\n",
       "      <th>31</th>\n",
       "      <td>3446619.0</td>\n",
       "      <td>010-123-4567</td>\n",
       "      <td>서울시 강남구 역삼동 31</td>\n",
       "      <td>도원공인중개사(손석진)</td>\n",
       "      <td>68.0</td>\n",
       "      <td>68.0</td>\n",
       "    </tr>\n",
       "    <tr>\n",
       "      <th>32</th>\n",
       "      <td>3451078.0</td>\n",
       "      <td>010-123-4567</td>\n",
       "      <td>서울시 강남구 역삼동 32</td>\n",
       "      <td>스타공인중개사(박정직)</td>\n",
       "      <td>4000.0</td>\n",
       "      <td>40.0</td>\n",
       "    </tr>\n",
       "    <tr>\n",
       "      <th>33</th>\n",
       "      <td>3345445.0</td>\n",
       "      <td>010-123-4567</td>\n",
       "      <td>서울시 강남구 역삼동 33</td>\n",
       "      <td>대청공인중개사(이선영)</td>\n",
       "      <td>14000.0</td>\n",
       "      <td>70.0</td>\n",
       "    </tr>\n",
       "    <tr>\n",
       "      <th>34</th>\n",
       "      <td>3332380.0</td>\n",
       "      <td>010-123-4567</td>\n",
       "      <td>서울시 강남구 역삼동 34</td>\n",
       "      <td>한백부동산공인중개사(김남조)</td>\n",
       "      <td>10000.0</td>\n",
       "      <td>100.0</td>\n",
       "    </tr>\n",
       "    <tr>\n",
       "      <th>35</th>\n",
       "      <td>3450803.0</td>\n",
       "      <td>010-123-4567</td>\n",
       "      <td>서울시 강남구 역삼동 35</td>\n",
       "      <td>스타공인중개사(박정직)</td>\n",
       "      <td>6000.0</td>\n",
       "      <td>50.0</td>\n",
       "    </tr>\n",
       "    <tr>\n",
       "      <th>36</th>\n",
       "      <td>3471049.0</td>\n",
       "      <td>010-123-4567</td>\n",
       "      <td>서울시 강남구 역삼동 36</td>\n",
       "      <td>정성공인중개사(정문식)</td>\n",
       "      <td>100.0</td>\n",
       "      <td>100.0</td>\n",
       "    </tr>\n",
       "    <tr>\n",
       "      <th>37</th>\n",
       "      <td>3438747.0</td>\n",
       "      <td>010-123-4567</td>\n",
       "      <td>서울시 강남구 역삼동 37</td>\n",
       "      <td>TODAY공인중개사(이인규)</td>\n",
       "      <td>3000.0</td>\n",
       "      <td>100.0</td>\n",
       "    </tr>\n",
       "    <tr>\n",
       "      <th>38</th>\n",
       "      <td>3330749.0</td>\n",
       "      <td>010-123-4567</td>\n",
       "      <td>서울시 강남구 역삼동 38</td>\n",
       "      <td>미래공인중개사(김유철)</td>\n",
       "      <td>1000.0</td>\n",
       "      <td>85.0</td>\n",
       "    </tr>\n",
       "    <tr>\n",
       "      <th>39</th>\n",
       "      <td>3446920.0</td>\n",
       "      <td>010-123-4567</td>\n",
       "      <td>서울시 강남구 역삼동 39</td>\n",
       "      <td>한백부동산공인중개사(김남조)</td>\n",
       "      <td>75.0</td>\n",
       "      <td>75.0</td>\n",
       "    </tr>\n",
       "    <tr>\n",
       "      <th>40</th>\n",
       "      <td>3501554.0</td>\n",
       "      <td>010-123-4567</td>\n",
       "      <td>서울시 강남구 역삼동 40</td>\n",
       "      <td>강남코리아공인중개사(기숙영)</td>\n",
       "      <td>1000.0</td>\n",
       "      <td>63.0</td>\n",
       "    </tr>\n",
       "    <tr>\n",
       "      <th>41</th>\n",
       "      <td>3435418.0</td>\n",
       "      <td>010-123-4567</td>\n",
       "      <td>서울시 강남구 역삼동 41</td>\n",
       "      <td>친절한공인중개사(김천호)</td>\n",
       "      <td>500.0</td>\n",
       "      <td>65.0</td>\n",
       "    </tr>\n",
       "    <tr>\n",
       "      <th>42</th>\n",
       "      <td>3501551.0</td>\n",
       "      <td>010-123-4567</td>\n",
       "      <td>서울시 강남구 역삼동 42</td>\n",
       "      <td>강남코리아공인중개사(기숙영)</td>\n",
       "      <td>3000.0</td>\n",
       "      <td>75.0</td>\n",
       "    </tr>\n",
       "  </tbody>\n",
       "</table>\n",
       "</div>"
      ],
      "text/plain": [
       "         매물번호           연락처              주소                부동산      보증금     월세\n",
       "0   3467204.0  010-123-4567   서울시 강남구 역삼동 0    TODAY공인중개사(이인규)   1000.0  100.0\n",
       "1   3150497.0  010-123-4567   서울시 강남구 역삼동 1    TODAY공인중개사(이인규)  11000.0   60.0\n",
       "2   3440906.0  010-123-4567   서울시 강남구 역삼동 2       열린공인중개사(강광수)   5000.0   65.0\n",
       "3   3376834.0  010-123-4567   서울시 강남구 역삼동 3       미래공인중개사(김유철)   3000.0   95.0\n",
       "4   3331511.0  010-123-4567   서울시 강남구 역삼동 4    한백부동산공인중개사(김남조)    110.0  110.0\n",
       "5   3373198.0  010-123-4567   서울시 강남구 역삼동 5    강남코리아공인중개사(기숙영)  15000.0   70.0\n",
       "6   3376434.0  010-123-4567   서울시 강남구 역삼동 6       열린공인중개사(강광수)   1000.0   85.0\n",
       "7   3322860.0  010-123-4567   서울시 강남구 역삼동 7       한강공인중개사(김상헌)   1000.0   80.0\n",
       "8   3303061.0  010-123-4567   서울시 강남구 역삼동 8       동하공인중개사(임성우)   1000.0   60.0\n",
       "9   3262172.0  010-123-4567   서울시 강남구 역삼동 9       스타공인중개사(박정직)   2000.0   50.0\n",
       "10  3228631.0  010-123-4567  서울시 강남구 역삼동 10     HS강남공인중개사(김현수)   1000.0   96.0\n",
       "11  3505011.0  010-123-4567  서울시 강남구 역삼동 11        H공인중개사(김용만)  15000.0   70.0\n",
       "12  3249401.0  010-123-4567  서울시 강남구 역삼동 12       도원공인중개사(손석진)     65.0   65.0\n",
       "13  3330951.0  010-123-4567  서울시 강남구 역삼동 13     강남우리공인중개사(어정화)   2000.0  150.0\n",
       "14  3494055.0  010-123-4567  서울시 강남구 역삼동 14       청록공인중개사(하순자)   3000.0   60.0\n",
       "15  3317227.0  010-123-4567  서울시 강남구 역삼동 15      커피한잔공인중개사(손별)    500.0   67.0\n",
       "16  3405679.0  010-123-4567  서울시 강남구 역삼동 16    강남코리아공인중개사(기숙영)  15000.0   60.0\n",
       "17  3103384.0  010-123-4567  서울시 강남구 역삼동 17    TODAY공인중개사(이인규)   5000.0   50.0\n",
       "18  3418616.0  010-123-4567  서울시 강남구 역삼동 18       나무공인중개사(조민영)     90.0   90.0\n",
       "19  3456814.0  010-123-4567  서울시 강남구 역삼동 19       한강공인중개사(김상헌)    300.0   80.0\n",
       "20  3181675.0  010-123-4567  서울시 강남구 역삼동 20    TODAY공인중개사(이인규)   5000.0   60.0\n",
       "21  3309372.0  010-123-4567  서울시 강남구 역삼동 21    한백부동산공인중개사(김남조)     75.0   75.0\n",
       "22  3501566.0  010-123-4567  서울시 강남구 역삼동 22    강남코리아공인중개사(기숙영)   1000.0   65.0\n",
       "23  3346510.0  010-123-4567  서울시 강남구 역삼동 23       도원공인중개사(손석진)     65.0   65.0\n",
       "24  3406670.0  010-123-4567  서울시 강남구 역삼동 24    TODAY공인중개사(이인규)   1000.0   60.0\n",
       "25  3493254.0  010-123-4567  서울시 강남구 역삼동 25     아셈타운공인중개사(임현옥)   7000.0  100.0\n",
       "26  3501607.0  010-123-4567  서울시 강남구 역삼동 26    강남코리아공인중개사(기숙영)   2000.0   63.0\n",
       "27  3484623.0  010-123-4567  서울시 강남구 역삼동 27       웰컴공인중개사(이영진)   1000.0  120.0\n",
       "28  3190410.0  010-123-4567  서울시 강남구 역삼동 28       건우공인중개사(김상모)     70.0   70.0\n",
       "29  3350050.0  010-123-4567  서울시 강남구 역삼동 29       NB공인중개사(길주현)   1000.0   70.0\n",
       "30  3495453.0  010-123-4567  서울시 강남구 역삼동 30  부동산네트워크공인중개사(황창문)   8000.0   55.0\n",
       "31  3446619.0  010-123-4567  서울시 강남구 역삼동 31       도원공인중개사(손석진)     68.0   68.0\n",
       "32  3451078.0  010-123-4567  서울시 강남구 역삼동 32       스타공인중개사(박정직)   4000.0   40.0\n",
       "33  3345445.0  010-123-4567  서울시 강남구 역삼동 33       대청공인중개사(이선영)  14000.0   70.0\n",
       "34  3332380.0  010-123-4567  서울시 강남구 역삼동 34    한백부동산공인중개사(김남조)  10000.0  100.0\n",
       "35  3450803.0  010-123-4567  서울시 강남구 역삼동 35       스타공인중개사(박정직)   6000.0   50.0\n",
       "36  3471049.0  010-123-4567  서울시 강남구 역삼동 36       정성공인중개사(정문식)    100.0  100.0\n",
       "37  3438747.0  010-123-4567  서울시 강남구 역삼동 37    TODAY공인중개사(이인규)   3000.0  100.0\n",
       "38  3330749.0  010-123-4567  서울시 강남구 역삼동 38       미래공인중개사(김유철)   1000.0   85.0\n",
       "39  3446920.0  010-123-4567  서울시 강남구 역삼동 39    한백부동산공인중개사(김남조)     75.0   75.0\n",
       "40  3501554.0  010-123-4567  서울시 강남구 역삼동 40    강남코리아공인중개사(기숙영)   1000.0   63.0\n",
       "41  3435418.0  010-123-4567  서울시 강남구 역삼동 41      친절한공인중개사(김천호)    500.0   65.0\n",
       "42  3501551.0  010-123-4567  서울시 강남구 역삼동 42    강남코리아공인중개사(기숙영)   3000.0   75.0"
      ]
     },
     "execution_count": 118,
     "metadata": {},
     "output_type": "execute_result"
    }
   ],
   "source": [
    "df"
   ]
  },
  {
   "cell_type": "code",
   "execution_count": 119,
   "metadata": {},
   "outputs": [
    {
     "data": {
      "text/plain": [
       "0"
      ]
     },
     "execution_count": 119,
     "metadata": {},
     "output_type": "execute_result"
    }
   ],
   "source": [
    "sql = '''\n",
    "drop table if exists room;\n",
    "create table room(\n",
    "phone varchar(255),\n",
    "addr varchar(255),\n",
    "agent varchar(255),\n",
    "deplosit int,\n",
    "rent int\n",
    ")\n",
    "'''\n",
    "\n",
    "cursor.execute(sql)"
   ]
  },
  {
   "cell_type": "code",
   "execution_count": 120,
   "metadata": {},
   "outputs": [],
   "source": [
    "for i in range(len(df)):\n",
    "    phone = df.iloc[i][1]\n",
    "    addr = df.iloc[i][2]\n",
    "    agent = df.iloc[i][3]\n",
    "    deposit = df.iloc[i][4]\n",
    "    rent = df.iloc[i][5]\n",
    "    \n",
    "    sql = \"\"\"\n",
    "    insert into room values('{}','{}','{}','{}','{}')\n",
    "    \"\"\".format(phone, addr, agent, deposit, rent)\n",
    "    \n",
    "    cursor.execute(sql)"
   ]
  },
  {
   "cell_type": "code",
   "execution_count": 121,
   "metadata": {},
   "outputs": [
    {
     "data": {
      "text/plain": [
       "43"
      ]
     },
     "execution_count": 121,
     "metadata": {},
     "output_type": "execute_result"
    }
   ],
   "source": [
    "sql ='select * from room;'\n",
    "cursor.execute(sql)"
   ]
  },
  {
   "cell_type": "code",
   "execution_count": 122,
   "metadata": {},
   "outputs": [],
   "source": [
    "db.commit()"
   ]
  },
  {
   "cell_type": "code",
   "execution_count": null,
   "metadata": {},
   "outputs": [],
   "source": []
  }
 ],
 "metadata": {
  "kernelspec": {
   "display_name": "Python 3",
   "language": "python",
   "name": "python3"
  },
  "language_info": {
   "codemirror_mode": {
    "name": "ipython",
    "version": 3
   },
   "file_extension": ".py",
   "mimetype": "text/x-python",
   "name": "python",
   "nbconvert_exporter": "python",
   "pygments_lexer": "ipython3",
   "version": "3.8.3"
  }
 },
 "nbformat": 4,
 "nbformat_minor": 4
}
