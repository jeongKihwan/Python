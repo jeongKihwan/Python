{
 "cells": [
  {
   "cell_type": "code",
   "execution_count": 1,
   "metadata": {
    "collapsed": true
   },
   "outputs": [
    {
     "name": "stdout",
     "output_type": "stream",
     "text": [
      "Collecting mglearn\n",
      "  Downloading mglearn-0.1.9.tar.gz (540 kB)\n",
      "Requirement already satisfied: numpy in c:\\users\\tj\\anaconda3\\lib\\site-packages (from mglearn) (1.18.5)\n",
      "Requirement already satisfied: matplotlib in c:\\users\\tj\\anaconda3\\lib\\site-packages (from mglearn) (3.2.2)\n",
      "Requirement already satisfied: scikit-learn in c:\\users\\tj\\anaconda3\\lib\\site-packages (from mglearn) (0.23.1)\n",
      "Requirement already satisfied: pandas in c:\\users\\tj\\anaconda3\\lib\\site-packages (from mglearn) (1.0.5)\n",
      "Requirement already satisfied: pillow in c:\\users\\tj\\anaconda3\\lib\\site-packages (from mglearn) (7.2.0)\n",
      "Requirement already satisfied: cycler in c:\\users\\tj\\anaconda3\\lib\\site-packages (from mglearn) (0.10.0)\n",
      "Requirement already satisfied: imageio in c:\\users\\tj\\anaconda3\\lib\\site-packages (from mglearn) (2.9.0)\n",
      "Requirement already satisfied: joblib in c:\\users\\tj\\anaconda3\\lib\\site-packages (from mglearn) (0.16.0)\n",
      "Requirement already satisfied: pyparsing!=2.0.4,!=2.1.2,!=2.1.6,>=2.0.1 in c:\\users\\tj\\anaconda3\\lib\\site-packages (from matplotlib->mglearn) (2.4.7)\n",
      "Requirement already satisfied: kiwisolver>=1.0.1 in c:\\users\\tj\\anaconda3\\lib\\site-packages (from matplotlib->mglearn) (1.2.0)\n",
      "Requirement already satisfied: python-dateutil>=2.1 in c:\\users\\tj\\anaconda3\\lib\\site-packages (from matplotlib->mglearn) (2.8.1)\n",
      "Requirement already satisfied: scipy>=0.19.1 in c:\\users\\tj\\anaconda3\\lib\\site-packages (from scikit-learn->mglearn) (1.5.0)\n",
      "Requirement already satisfied: threadpoolctl>=2.0.0 in c:\\users\\tj\\anaconda3\\lib\\site-packages (from scikit-learn->mglearn) (2.1.0)\n",
      "Requirement already satisfied: pytz>=2017.2 in c:\\users\\tj\\anaconda3\\lib\\site-packages (from pandas->mglearn) (2020.1)\n",
      "Requirement already satisfied: six in c:\\users\\tj\\anaconda3\\lib\\site-packages (from cycler->mglearn) (1.15.0)\n",
      "Building wheels for collected packages: mglearn\n",
      "  Building wheel for mglearn (setup.py): started\n",
      "  Building wheel for mglearn (setup.py): finished with status 'done'\n",
      "  Created wheel for mglearn: filename=mglearn-0.1.9-py2.py3-none-any.whl size=582645 sha256=f0ea8f307b16705c543c78cd956a622229f621a178d384f456620cb5c46e185b\n",
      "  Stored in directory: c:\\users\\tj\\appdata\\local\\pip\\cache\\wheels\\87\\75\\37\\404e66d0c4bad150f101c9a0914b11a8eccc2681559936e7f7\n",
      "Successfully built mglearn\n",
      "Installing collected packages: mglearn\n",
      "Successfully installed mglearn-0.1.9\n"
     ]
    }
   ],
   "source": [
    "!pip install mglearn"
   ]
  },
  {
   "cell_type": "code",
   "execution_count": 2,
   "metadata": {},
   "outputs": [],
   "source": [
    "import mglearn"
   ]
  },
  {
   "cell_type": "code",
   "execution_count": null,
   "metadata": {},
   "outputs": [],
   "source": []
  },
  {
   "cell_type": "code",
   "execution_count": null,
   "metadata": {},
   "outputs": [],
   "source": [
    "### 지도학습.."
   ]
  },
  {
   "cell_type": "code",
   "execution_count": 5,
   "metadata": {},
   "outputs": [],
   "source": [
    "# knn"
   ]
  },
  {
   "cell_type": "code",
   "execution_count": 7,
   "metadata": {
    "collapsed": true
   },
   "outputs": [
    {
     "name": "stderr",
     "output_type": "stream",
     "text": [
      "C:\\Users\\TJ\\anaconda3\\lib\\site-packages\\sklearn\\utils\\deprecation.py:86: FutureWarning: Function make_blobs is deprecated; Please import make_blobs directly from scikit-learn\n",
      "  warnings.warn(msg, category=FutureWarning)\n"
     ]
    },
    {
     "data": {
      "image/png": "[encoded data removed]",
      "text/plain": [
       "<Figure size 432x288 with 1 Axes>"
      ]
     },
     "metadata": {
      "needs_background": "light"
     },
     "output_type": "display_data"
    }
   ],
   "source": [
    "mglearn.plots.plot_knn_classification(n_neighbors=5)"
   ]
  },
  {
   "cell_type": "code",
   "execution_count": 8,
   "metadata": {},
   "outputs": [
    {
     "name": "stderr",
     "output_type": "stream",
     "text": [
      "C:\\Users\\TJ\\anaconda3\\lib\\site-packages\\sklearn\\utils\\deprecation.py:86: FutureWarning: Function make_blobs is deprecated; Please import make_blobs directly from scikit-learn\n",
      "  warnings.warn(msg, category=FutureWarning)\n"
     ]
    }
   ],
   "source": [
    "x, y = mglearn.datasets.make_forge()"
   ]
  },
  {
   "cell_type": "code",
   "execution_count": 9,
   "metadata": {
    "collapsed": true
   },
   "outputs": [
    {
     "data": {
      "text/plain": [
       "array([[ 9.96346605,  4.59676542],\n",
       "       [11.0329545 , -0.16816717],\n",
       "       [11.54155807,  5.21116083],\n",
       "       [ 8.69289001,  1.54322016],\n",
       "       [ 8.1062269 ,  4.28695977],\n",
       "       [ 8.30988863,  4.80623966],\n",
       "       [11.93027136,  4.64866327],\n",
       "       [ 9.67284681, -0.20283165],\n",
       "       [ 8.34810316,  5.13415623],\n",
       "       [ 8.67494727,  4.47573059],\n",
       "       [ 9.17748385,  5.09283177],\n",
       "       [10.24028948,  2.45544401],\n",
       "       [ 8.68937095,  1.48709629],\n",
       "       [ 8.92229526, -0.63993225],\n",
       "       [ 9.49123469,  4.33224792],\n",
       "       [ 9.25694192,  5.13284858],\n",
       "       [ 7.99815287,  4.8525051 ],\n",
       "       [ 8.18378052,  1.29564214],\n",
       "       [ 8.7337095 ,  2.49162431],\n",
       "       [ 9.32298256,  5.09840649],\n",
       "       [10.06393839,  0.99078055],\n",
       "       [ 9.50048972, -0.26430318],\n",
       "       [ 8.34468785,  1.63824349],\n",
       "       [ 9.50169345,  1.93824624],\n",
       "       [ 9.15072323,  5.49832246],\n",
       "       [11.563957  ,  1.3389402 ]])"
      ]
     },
     "execution_count": 9,
     "metadata": {},
     "output_type": "execute_result"
    }
   ],
   "source": [
    "x"
   ]
  },
  {
   "cell_type": "code",
   "execution_count": 10,
   "metadata": {
    "collapsed": true
   },
   "outputs": [
    {
     "data": {
      "text/plain": [
       "array([1, 0, 1, 0, 0, 1, 1, 0, 1, 1, 1, 1, 0, 0, 1, 1, 1, 0, 0, 1, 0, 0,\n",
       "       0, 0, 1, 0])"
      ]
     },
     "execution_count": 10,
     "metadata": {},
     "output_type": "execute_result"
    }
   ],
   "source": [
    "y"
   ]
  },
  {
   "cell_type": "code",
   "execution_count": 11,
   "metadata": {},
   "outputs": [],
   "source": [
    "from sklearn.model_selection import train_test_split"
   ]
  },
  {
   "cell_type": "code",
   "execution_count": 12,
   "metadata": {},
   "outputs": [],
   "source": [
    "x_train, x_test, y_train, y_test = train_test_split(x,y, test_size=0.2)"
   ]
  },
  {
   "cell_type": "code",
   "execution_count": 13,
   "metadata": {},
   "outputs": [],
   "source": [
    "from sklearn.neighbors import KNeighborsClassifier"
   ]
  },
  {
   "cell_type": "code",
   "execution_count": 14,
   "metadata": {},
   "outputs": [],
   "source": [
    "clf = KNeighborsClassifier(n_neighbors=3)"
   ]
  },
  {
   "cell_type": "code",
   "execution_count": 16,
   "metadata": {},
   "outputs": [
    {
     "name": "stdout",
     "output_type": "stream",
     "text": [
      "0.8333333333333334\n"
     ]
    }
   ],
   "source": [
    "clf.fit(x_train, y_train)\n",
    "preds = clf.predict(x_test)\n",
    "score = clf.score(x_test,y_test)\n",
    "print(score)"
   ]
  },
  {
   "cell_type": "code",
   "execution_count": 20,
   "metadata": {},
   "outputs": [],
   "source": [
    "import pandas as pd\n",
    "import numpy as np\n",
    "import matplotlib.pyplot as plt\n",
    "import seaborn as sns"
   ]
  },
  {
   "cell_type": "code",
   "execution_count": 29,
   "metadata": {},
   "outputs": [],
   "source": [
    "import warnings\n",
    "warnings.filterwarnings(action='ignore')"
   ]
  },
  {
   "cell_type": "code",
   "execution_count": 30,
   "metadata": {},
   "outputs": [],
   "source": [
    "import matplotlib as mpl\n",
    "import matplotlib.font_manager as fm\n",
    "mpl.rcParams['axes.unicode_minus']= False\n",
    "path = 'C:/Windows/Fonts/malgun.ttf'\n",
    "font_name = fm.FontProperties(fname = path, size = 50).get_name()\n",
    "plt.rc('font', family=font_name)"
   ]
  },
  {
   "cell_type": "code",
   "execution_count": 32,
   "metadata": {},
   "outputs": [
    {
     "data": {
      "text/plain": [
       "<matplotlib.legend.Legend at 0x1d19425a5e0>"
      ]
     },
     "execution_count": 32,
     "metadata": {},
     "output_type": "execute_result"
    },
    {
     "data": {
      "image/png": "[encoded data removed]",
      "text/plain": [
       "<Figure size 720x216 with 4 Axes>"
      ]
     },
     "metadata": {},
     "output_type": "display_data"
    }
   ],
   "source": [
    "fig, axes = plt.subplots(1,4, figsize=(10,3))\n",
    "\n",
    "for n_neighbors, ax in zip([1,3,9, 20], axes):\n",
    "    clf = KNeighborsClassifier(n_neighbors=n_neighbors).fit(x, y)\n",
    "    mglearn.plots.plot_2d_separator(clf, x, fill=True, eps=0.5, ax=ax, alpha=0.4)\n",
    "    mglearn.discrete_scatter(x[:,0], x[:,1], y, ax=ax)\n",
    "    ax.set_title(\"{} 이웃\".format(n_neighbors))\n",
    "    ax.set_xlabel('특성 0')\n",
    "    ax.set_ylabel('특성 1')\n",
    "axes[0].legend(loc=3)"
   ]
  },
  {
   "cell_type": "code",
   "execution_count": null,
   "metadata": {},
   "outputs": [],
   "source": []
  },
  {
   "cell_type": "code",
   "execution_count": 25,
   "metadata": {},
   "outputs": [],
   "source": [
    "# cross_validation\n",
    "# - 장: 성능을 일반화할 수 있다.\n",
    "# - 단: 검증비용이 높다.."
   ]
  },
  {
   "cell_type": "code",
   "execution_count": 33,
   "metadata": {},
   "outputs": [],
   "source": [
    "from sklearn.model_selection import cross_val_score"
   ]
  },
  {
   "cell_type": "code",
   "execution_count": 34,
   "metadata": {},
   "outputs": [],
   "source": [
    "from sklearn.datasets import load_breast_cancer\n",
    "cancer = load_breast_cancer()"
   ]
  },
  {
   "cell_type": "code",
   "execution_count": 35,
   "metadata": {
    "collapsed": true
   },
   "outputs": [
    {
     "data": {
      "text/plain": [
       "{'data': array([[1.799e+01, 1.038e+01, 1.228e+02, ..., 2.654e-01, 4.601e-01,\n",
       "         1.189e-01],\n",
       "        [2.057e+01, 1.777e+01, 1.329e+02, ..., 1.860e-01, 2.750e-01,\n",
       "         8.902e-02],\n",
       "        [1.969e+01, 2.125e+01, 1.300e+02, ..., 2.430e-01, 3.613e-01,\n",
       "         8.758e-02],\n",
       "        ...,\n",
       "        [1.660e+01, 2.808e+01, 1.083e+02, ..., 1.418e-01, 2.218e-01,\n",
       "         7.820e-02],\n",
       "        [2.060e+01, 2.933e+01, 1.401e+02, ..., 2.650e-01, 4.087e-01,\n",
       "         1.240e-01],\n",
       "        [7.760e+00, 2.454e+01, 4.792e+01, ..., 0.000e+00, 2.871e-01,\n",
       "         7.039e-02]]),\n",
       " 'target': array([0, 0, 0, 0, 0, 0, 0, 0, 0, 0, 0, 0, 0, 0, 0, 0, 0, 0, 0, 1, 1, 1,\n",
       "        0, 0, 0, 0, 0, 0, 0, 0, 0, 0, 0, 0, 0, 0, 0, 1, 0, 0, 0, 0, 0, 0,\n",
       "        0, 0, 1, 0, 1, 1, 1, 1, 1, 0, 0, 1, 0, 0, 1, 1, 1, 1, 0, 1, 0, 0,\n",
       "        1, 1, 1, 1, 0, 1, 0, 0, 1, 0, 1, 0, 0, 1, 1, 1, 0, 0, 1, 0, 0, 0,\n",
       "        1, 1, 1, 0, 1, 1, 0, 0, 1, 1, 1, 0, 0, 1, 1, 1, 1, 0, 1, 1, 0, 1,\n",
       "        1, 1, 1, 1, 1, 1, 1, 0, 0, 0, 1, 0, 0, 1, 1, 1, 0, 0, 1, 0, 1, 0,\n",
       "        0, 1, 0, 0, 1, 1, 0, 1, 1, 0, 1, 1, 1, 1, 0, 1, 1, 1, 1, 1, 1, 1,\n",
       "        1, 1, 0, 1, 1, 1, 1, 0, 0, 1, 0, 1, 1, 0, 0, 1, 1, 0, 0, 1, 1, 1,\n",
       "        1, 0, 1, 1, 0, 0, 0, 1, 0, 1, 0, 1, 1, 1, 0, 1, 1, 0, 0, 1, 0, 0,\n",
       "        0, 0, 1, 0, 0, 0, 1, 0, 1, 0, 1, 1, 0, 1, 0, 0, 0, 0, 1, 1, 0, 0,\n",
       "        1, 1, 1, 0, 1, 1, 1, 1, 1, 0, 0, 1, 1, 0, 1, 1, 0, 0, 1, 0, 1, 1,\n",
       "        1, 1, 0, 1, 1, 1, 1, 1, 0, 1, 0, 0, 0, 0, 0, 0, 0, 0, 0, 0, 0, 0,\n",
       "        0, 0, 1, 1, 1, 1, 1, 1, 0, 1, 0, 1, 1, 0, 1, 1, 0, 1, 0, 0, 1, 1,\n",
       "        1, 1, 1, 1, 1, 1, 1, 1, 1, 1, 1, 0, 1, 1, 0, 1, 0, 1, 1, 1, 1, 1,\n",
       "        1, 1, 1, 1, 1, 1, 1, 1, 1, 0, 1, 1, 1, 0, 1, 0, 1, 1, 1, 1, 0, 0,\n",
       "        0, 1, 1, 1, 1, 0, 1, 0, 1, 0, 1, 1, 1, 0, 1, 1, 1, 1, 1, 1, 1, 0,\n",
       "        0, 0, 1, 1, 1, 1, 1, 1, 1, 1, 1, 1, 1, 0, 0, 1, 0, 0, 0, 1, 0, 0,\n",
       "        1, 1, 1, 1, 1, 0, 1, 1, 1, 1, 1, 0, 1, 1, 1, 0, 1, 1, 0, 0, 1, 1,\n",
       "        1, 1, 1, 1, 0, 1, 1, 1, 1, 1, 1, 1, 0, 1, 1, 1, 1, 1, 0, 1, 1, 0,\n",
       "        1, 1, 1, 1, 1, 1, 1, 1, 1, 1, 1, 1, 0, 1, 0, 0, 1, 0, 1, 1, 1, 1,\n",
       "        1, 0, 1, 1, 0, 1, 0, 1, 1, 0, 1, 0, 1, 1, 1, 1, 1, 1, 1, 1, 0, 0,\n",
       "        1, 1, 1, 1, 1, 1, 0, 1, 1, 1, 1, 1, 1, 1, 1, 1, 1, 0, 1, 1, 1, 1,\n",
       "        1, 1, 1, 0, 1, 0, 1, 1, 0, 1, 1, 1, 1, 1, 0, 0, 1, 0, 1, 0, 1, 1,\n",
       "        1, 1, 1, 0, 1, 1, 0, 1, 0, 1, 0, 0, 1, 1, 1, 0, 1, 1, 1, 1, 1, 1,\n",
       "        1, 1, 1, 1, 1, 0, 1, 0, 0, 1, 1, 1, 1, 1, 1, 1, 1, 1, 1, 1, 1, 1,\n",
       "        1, 1, 1, 1, 1, 1, 1, 1, 1, 1, 1, 1, 0, 0, 0, 0, 0, 0, 1]),\n",
       " 'frame': None,\n",
       " 'target_names': array(['malignant', 'benign'], dtype='<U9'),\n",
       " 'DESCR': '.. _breast_cancer_dataset:\\n\\nBreast cancer wisconsin (diagnostic) dataset\\n--------------------------------------------\\n\\n**Data Set Characteristics:**\\n\\n    :Number of Instances: 569\\n\\n    :Number of Attributes: 30 numeric, predictive attributes and the class\\n\\n    :Attribute Information:\\n        - radius (mean of distances from center to points on the perimeter)\\n        - texture (standard deviation of gray-scale values)\\n        - perimeter\\n        - area\\n        - smoothness (local variation in radius lengths)\\n        - compactness (perimeter^2 / area - 1.0)\\n        - concavity (severity of concave portions of the contour)\\n        - concave points (number of concave portions of the contour)\\n        - symmetry\\n        - fractal dimension (\"coastline approximation\" - 1)\\n\\n        The mean, standard error, and \"worst\" or largest (mean of the three\\n        worst/largest values) of these features were computed for each image,\\n        resulting in 30 features.  For instance, field 0 is Mean Radius, field\\n        10 is Radius SE, field 20 is Worst Radius.\\n\\n        - class:\\n                - WDBC-Malignant\\n                - WDBC-Benign\\n\\n    :Summary Statistics:\\n\\n    ===================================== ====== ======\\n                                           Min    Max\\n    ===================================== ====== ======\\n    radius (mean):                        6.981  28.11\\n    texture (mean):                       9.71   39.28\\n    perimeter (mean):                     43.79  188.5\\n    area (mean):                          143.5  2501.0\\n    smoothness (mean):                    0.053  0.163\\n    compactness (mean):                   0.019  0.345\\n    concavity (mean):                     0.0    0.427\\n    concave points (mean):                0.0    0.201\\n    symmetry (mean):                      0.106  0.304\\n    fractal dimension (mean):             0.05   0.097\\n    radius (standard error):              0.112  2.873\\n    texture (standard error):             0.36   4.885\\n    perimeter (standard error):           0.757  21.98\\n    area (standard error):                6.802  542.2\\n    smoothness (standard error):          0.002  0.031\\n    compactness (standard error):         0.002  0.135\\n    concavity (standard error):           0.0    0.396\\n    concave points (standard error):      0.0    0.053\\n    symmetry (standard error):            0.008  0.079\\n    fractal dimension (standard error):   0.001  0.03\\n    radius (worst):                       7.93   36.04\\n    texture (worst):                      12.02  49.54\\n    perimeter (worst):                    50.41  251.2\\n    area (worst):                         185.2  4254.0\\n    smoothness (worst):                   0.071  0.223\\n    compactness (worst):                  0.027  1.058\\n    concavity (worst):                    0.0    1.252\\n    concave points (worst):               0.0    0.291\\n    symmetry (worst):                     0.156  0.664\\n    fractal dimension (worst):            0.055  0.208\\n    ===================================== ====== ======\\n\\n    :Missing Attribute Values: None\\n\\n    :Class Distribution: 212 - Malignant, 357 - Benign\\n\\n    :Creator:  Dr. William H. Wolberg, W. Nick Street, Olvi L. Mangasarian\\n\\n    :Donor: Nick Street\\n\\n    :Date: November, 1995\\n\\nThis is a copy of UCI ML Breast Cancer Wisconsin (Diagnostic) datasets.\\nhttps://goo.gl/U2Uwz2\\n\\nFeatures are computed from a digitized image of a fine needle\\naspirate (FNA) of a breast mass.  They describe\\ncharacteristics of the cell nuclei present in the image.\\n\\nSeparating plane described above was obtained using\\nMultisurface Method-Tree (MSM-T) [K. P. Bennett, \"Decision Tree\\nConstruction Via Linear Programming.\" Proceedings of the 4th\\nMidwest Artificial Intelligence and Cognitive Science Society,\\npp. 97-101, 1992], a classification method which uses linear\\nprogramming to construct a decision tree.  Relevant features\\nwere selected using an exhaustive search in the space of 1-4\\nfeatures and 1-3 separating planes.\\n\\nThe actual linear program used to obtain the separating plane\\nin the 3-dimensional space is that described in:\\n[K. P. Bennett and O. L. Mangasarian: \"Robust Linear\\nProgramming Discrimination of Two Linearly Inseparable Sets\",\\nOptimization Methods and Software 1, 1992, 23-34].\\n\\nThis database is also available through the UW CS ftp server:\\n\\nftp ftp.cs.wisc.edu\\ncd math-prog/cpo-dataset/machine-learn/WDBC/\\n\\n.. topic:: References\\n\\n   - W.N. Street, W.H. Wolberg and O.L. Mangasarian. Nuclear feature extraction \\n     for breast tumor diagnosis. IS&T/SPIE 1993 International Symposium on \\n     Electronic Imaging: Science and Technology, volume 1905, pages 861-870,\\n     San Jose, CA, 1993.\\n   - O.L. Mangasarian, W.N. Street and W.H. Wolberg. Breast cancer diagnosis and \\n     prognosis via linear programming. Operations Research, 43(4), pages 570-577, \\n     July-August 1995.\\n   - W.H. Wolberg, W.N. Street, and O.L. Mangasarian. Machine learning techniques\\n     to diagnose breast cancer from fine-needle aspirates. Cancer Letters 77 (1994) \\n     163-171.',\n",
       " 'feature_names': array(['mean radius', 'mean texture', 'mean perimeter', 'mean area',\n",
       "        'mean smoothness', 'mean compactness', 'mean concavity',\n",
       "        'mean concave points', 'mean symmetry', 'mean fractal dimension',\n",
       "        'radius error', 'texture error', 'perimeter error', 'area error',\n",
       "        'smoothness error', 'compactness error', 'concavity error',\n",
       "        'concave points error', 'symmetry error',\n",
       "        'fractal dimension error', 'worst radius', 'worst texture',\n",
       "        'worst perimeter', 'worst area', 'worst smoothness',\n",
       "        'worst compactness', 'worst concavity', 'worst concave points',\n",
       "        'worst symmetry', 'worst fractal dimension'], dtype='<U23'),\n",
       " 'filename': 'C:\\\\Users\\\\TJ\\\\anaconda3\\\\lib\\\\site-packages\\\\sklearn\\\\datasets\\\\data\\\\breast_cancer.csv'}"
      ]
     },
     "execution_count": 35,
     "metadata": {},
     "output_type": "execute_result"
    }
   ],
   "source": [
    "cancer"
   ]
  },
  {
   "cell_type": "code",
   "execution_count": 39,
   "metadata": {},
   "outputs": [
    {
     "name": "stdout",
     "output_type": "stream",
     "text": [
      "[0.95652174 0.93478261 0.86956522 0.93478261 0.93478261 0.88888889\n",
      " 0.93333333 0.93333333 0.95555556 0.86666667]\n",
      "scores_mean: 0.9208212560386475\n"
     ]
    }
   ],
   "source": [
    "knn = KNeighborsClassifier(n_neighbors=5)\n",
    "x = cancer.data\n",
    "y = cancer.target\n",
    "x_train, x_test, y_train, y_test = train_test_split(x,y, test_size=0.2, random_state=77)\n",
    "scores = cross_val_score(knn, x_train, y_train, cv=10)\n",
    "print(scores)\n",
    "print('scores_mean:', scores.mean())"
   ]
  },
  {
   "cell_type": "code",
   "execution_count": 45,
   "metadata": {},
   "outputs": [
    {
     "name": "stdout",
     "output_type": "stream",
     "text": [
      "[1.         0.96551724 0.92857143 0.96428571 0.96428571 0.92857143\n",
      " 0.89285714 0.96428571 1.         0.92857143]\n",
      "f1_scores_mean: 0.9536945812807882\n"
     ]
    }
   ],
   "source": [
    "knn = KNeighborsClassifier(n_neighbors=5)\n",
    "x = cancer.data\n",
    "y = cancer.target\n",
    "x_train, x_test, y_train, y_test = train_test_split(x,y, test_size=0.2, random_state=77)\n",
    "scores = cross_val_score(knn, x_train, y_train, cv=10, scoring='recall')\n",
    "print(scores)\n",
    "print('f1_scores_mean:', scores.mean())"
   ]
  },
  {
   "cell_type": "code",
   "execution_count": 48,
   "metadata": {},
   "outputs": [
    {
     "name": "stdout",
     "output_type": "stream",
     "text": [
      "[0.85964912 0.92105263 0.96491228 0.94736842 0.9380531 ]\n",
      "0.9262071106970966\n"
     ]
    }
   ],
   "source": [
    "from sklearn.model_selection import KFold\n",
    "kfold = KFold(n_splits = 5)    # default = False\n",
    "score = cross_val_score(knn, x, y, cv=kfold)\n",
    "print(score)\n",
    "print(score.mean())"
   ]
  },
  {
   "cell_type": "code",
   "execution_count": 49,
   "metadata": {},
   "outputs": [
    {
     "name": "stdout",
     "output_type": "stream",
     "text": [
      "[0.94736842 0.93859649 0.92105263 0.93859649 0.9380531 ]\n",
      "0.9367334264865704\n"
     ]
    }
   ],
   "source": [
    "kfold = KFold(n_splits = 5, shuffle=True)  # shuffle=True\n",
    "score = cross_val_score(knn, x, y, cv=kfold)\n",
    "print(score)\n",
    "print(score.mean())"
   ]
  },
  {
   "cell_type": "code",
   "execution_count": 53,
   "metadata": {},
   "outputs": [
    {
     "name": "stdout",
     "output_type": "stream",
     "text": [
      "[0.92982456 0.9122807  0.93859649 0.92982456 0.9380531 ]\n",
      "0.9297158826269213\n"
     ]
    }
   ],
   "source": [
    "kfold = KFold(n_splits = 5, shuffle=True, random_state=777)  # shuffle=True\n",
    "score = cross_val_score(knn, x, y, cv=kfold)\n",
    "print(score)\n",
    "print(score.mean())"
   ]
  },
  {
   "cell_type": "code",
   "execution_count": 54,
   "metadata": {},
   "outputs": [
    {
     "data": {
      "text/plain": [
       "569"
      ]
     },
     "execution_count": 54,
     "metadata": {},
     "output_type": "execute_result"
    }
   ],
   "source": [
    "len(x)"
   ]
  },
  {
   "cell_type": "code",
   "execution_count": 59,
   "metadata": {},
   "outputs": [
    {
     "data": {
      "text/plain": [
       "569"
      ]
     },
     "execution_count": 59,
     "metadata": {},
     "output_type": "execute_result"
    }
   ],
   "source": [
    "groups = []\n",
    "for i in range(len(x)):\n",
    "    if i < 200:\n",
    "        groups.append(1)\n",
    "    elif 200 <= i < 400:\n",
    "        groups.append(2)\n",
    "    else:\n",
    "        groups.append(3)\n",
    "len(groups)"
   ]
  },
  {
   "cell_type": "code",
   "execution_count": 62,
   "metadata": {
    "collapsed": true
   },
   "outputs": [
    {
     "name": "stdout",
     "output_type": "stream",
     "text": [
      "[  0   1   2   3   4   5   6   7   8   9  10  11  12  13  14  15  16  17\n",
      "  18  19  20  21  22  23  24  25  26  27  28  29  30  31  32  33  34  35\n",
      "  36  37  38  39  40  41  42  43  44  45  46  47  48  49  50  51  52  53\n",
      "  54  55  56  57  58  59  60  61  62  63  64  65  66  67  68  69  70  71\n",
      "  72  73  74  75  76  77  78  79  80  81  82  83  84  85  86  87  88  89\n",
      "  90  91  92  93  94  95  96  97  98  99 100 101 102 103 104 105 106 107\n",
      " 108 109 110 111 112 113 114 115 116 117 118 119 120 121 122 123 124 125\n",
      " 126 127 128 129 130 131 132 133 134 135 136 137 138 139 140 141 142 143\n",
      " 144 145 146 147 148 149 150 151 152 153 154 155 156 157 158 159 160 161\n",
      " 162 163 164 165 166 167 168 169 170 171 172 173 174 175 176 177 178 179\n",
      " 180 181 182 183 184 185 186 187 188 189 190 191 192 193 194 195 196 197\n",
      " 198 199]\n",
      "[200 201 202 203 204 205 206 207 208 209 210 211 212 213 214 215 216 217\n",
      " 218 219 220 221 222 223 224 225 226 227 228 229 230 231 232 233 234 235\n",
      " 236 237 238 239 240 241 242 243 244 245 246 247 248 249 250 251 252 253\n",
      " 254 255 256 257 258 259 260 261 262 263 264 265 266 267 268 269 270 271\n",
      " 272 273 274 275 276 277 278 279 280 281 282 283 284 285 286 287 288 289\n",
      " 290 291 292 293 294 295 296 297 298 299 300 301 302 303 304 305 306 307\n",
      " 308 309 310 311 312 313 314 315 316 317 318 319 320 321 322 323 324 325\n",
      " 326 327 328 329 330 331 332 333 334 335 336 337 338 339 340 341 342 343\n",
      " 344 345 346 347 348 349 350 351 352 353 354 355 356 357 358 359 360 361\n",
      " 362 363 364 365 366 367 368 369 370 371 372 373 374 375 376 377 378 379\n",
      " 380 381 382 383 384 385 386 387 388 389 390 391 392 393 394 395 396 397\n",
      " 398 399 400 401 402 403 404 405 406 407 408 409 410 411 412 413 414 415\n",
      " 416 417 418 419 420 421 422 423 424 425 426 427 428 429 430 431 432 433\n",
      " 434 435 436 437 438 439 440 441 442 443 444 445 446 447 448 449 450 451\n",
      " 452 453 454 455 456 457 458 459 460 461 462 463 464 465 466 467 468 469\n",
      " 470 471 472 473 474 475 476 477 478 479 480 481 482 483 484 485 486 487\n",
      " 488 489 490 491 492 493 494 495 496 497 498 499 500 501 502 503 504 505\n",
      " 506 507 508 509 510 511 512 513 514 515 516 517 518 519 520 521 522 523\n",
      " 524 525 526 527 528 529 530 531 532 533 534 535 536 537 538 539 540 541\n",
      " 542 543 544 545 546 547 548 549 550 551 552 553 554 555 556 557 558 559\n",
      " 560 561 562 563 564 565 566 567 568]\n",
      "==================================================\n",
      "[200 201 202 203 204 205 206 207 208 209 210 211 212 213 214 215 216 217\n",
      " 218 219 220 221 222 223 224 225 226 227 228 229 230 231 232 233 234 235\n",
      " 236 237 238 239 240 241 242 243 244 245 246 247 248 249 250 251 252 253\n",
      " 254 255 256 257 258 259 260 261 262 263 264 265 266 267 268 269 270 271\n",
      " 272 273 274 275 276 277 278 279 280 281 282 283 284 285 286 287 288 289\n",
      " 290 291 292 293 294 295 296 297 298 299 300 301 302 303 304 305 306 307\n",
      " 308 309 310 311 312 313 314 315 316 317 318 319 320 321 322 323 324 325\n",
      " 326 327 328 329 330 331 332 333 334 335 336 337 338 339 340 341 342 343\n",
      " 344 345 346 347 348 349 350 351 352 353 354 355 356 357 358 359 360 361\n",
      " 362 363 364 365 366 367 368 369 370 371 372 373 374 375 376 377 378 379\n",
      " 380 381 382 383 384 385 386 387 388 389 390 391 392 393 394 395 396 397\n",
      " 398 399 400 401 402 403 404 405 406 407 408 409 410 411 412 413 414 415\n",
      " 416 417 418 419 420 421 422 423 424 425 426 427 428 429 430 431 432 433\n",
      " 434 435 436 437 438 439 440 441 442 443 444 445 446 447 448 449 450 451\n",
      " 452 453 454 455 456 457 458 459 460 461 462 463 464 465 466 467 468 469\n",
      " 470 471 472 473 474 475 476 477 478 479 480 481 482 483 484 485 486 487\n",
      " 488 489 490 491 492 493 494 495 496 497 498 499 500 501 502 503 504 505\n",
      " 506 507 508 509 510 511 512 513 514 515 516 517 518 519 520 521 522 523\n",
      " 524 525 526 527 528 529 530 531 532 533 534 535 536 537 538 539 540 541\n",
      " 542 543 544 545 546 547 548 549 550 551 552 553 554 555 556 557 558 559\n",
      " 560 561 562 563 564 565 566 567 568]\n",
      "[  0   1   2   3   4   5   6   7   8   9  10  11  12  13  14  15  16  17\n",
      "  18  19  20  21  22  23  24  25  26  27  28  29  30  31  32  33  34  35\n",
      "  36  37  38  39  40  41  42  43  44  45  46  47  48  49  50  51  52  53\n",
      "  54  55  56  57  58  59  60  61  62  63  64  65  66  67  68  69  70  71\n",
      "  72  73  74  75  76  77  78  79  80  81  82  83  84  85  86  87  88  89\n",
      "  90  91  92  93  94  95  96  97  98  99 100 101 102 103 104 105 106 107\n",
      " 108 109 110 111 112 113 114 115 116 117 118 119 120 121 122 123 124 125\n",
      " 126 127 128 129 130 131 132 133 134 135 136 137 138 139 140 141 142 143\n",
      " 144 145 146 147 148 149 150 151 152 153 154 155 156 157 158 159 160 161\n",
      " 162 163 164 165 166 167 168 169 170 171 172 173 174 175 176 177 178 179\n",
      " 180 181 182 183 184 185 186 187 188 189 190 191 192 193 194 195 196 197\n",
      " 198 199]\n",
      "==================================================\n"
     ]
    }
   ],
   "source": [
    "from sklearn.model_selection import GroupKFold\n",
    "gkfold = GroupKFold(n_splits = 2)\n",
    "gkfold.split(x,y, groups = groups)\n",
    "for train, test in gkfold.split(x,y, groups = groups):\n",
    "    print(train)\n",
    "    print(test)\n",
    "    print(\"=\"*50)\n",
    "    \n",
    "# score = cross_val_score(knn, x, y, cv=gkfold)\n",
    "# print(score)\n",
    "# print(score.mean())"
   ]
  },
  {
   "cell_type": "code",
   "execution_count": 63,
   "metadata": {},
   "outputs": [],
   "source": [
    "# GridSearch"
   ]
  },
  {
   "cell_type": "code",
   "execution_count": 103,
   "metadata": {},
   "outputs": [],
   "source": [
    "accuracy = []\n",
    "\n",
    "neighbors_settings = [1,5,20]\n",
    "weights = ['uniform', 'distance']\n",
    "\n",
    "best_score = 0\n",
    "\n",
    "for n_neighbors in neighbors_settings:\n",
    "    for weight in weights:\n",
    "        clf = KNeighborsClassifier(n_neighbors = n_neighbors, weights=weight)\n",
    "        clf.fit(x_train, y_train)\n",
    "        score = clf.score(x_test, y_test)\n",
    "        accuracy.append(score)\n",
    "\n",
    "        if score > best_score:\n",
    "            best_score = score\n",
    "            best_params = {'n_neighbors:': n_neighbors, 'weight':weight}\n",
    "            \n",
    "clf_best_score = best_score\n",
    "best_params = best_params\n",
    "accuracy_mean = np.mean(accuracy)"
   ]
  },
  {
   "cell_type": "code",
   "execution_count": 104,
   "metadata": {},
   "outputs": [
    {
     "data": {
      "text/plain": [
       "0.9385964912280702"
      ]
     },
     "execution_count": 104,
     "metadata": {},
     "output_type": "execute_result"
    }
   ],
   "source": [
    "clf_best_score"
   ]
  },
  {
   "cell_type": "code",
   "execution_count": 105,
   "metadata": {},
   "outputs": [
    {
     "data": {
      "text/plain": [
       "{'n_neighbors:': 5, 'weight': 'uniform'}"
      ]
     },
     "execution_count": 105,
     "metadata": {},
     "output_type": "execute_result"
    }
   ],
   "source": [
    "best_params"
   ]
  },
  {
   "cell_type": "code",
   "execution_count": 106,
   "metadata": {},
   "outputs": [
    {
     "data": {
      "text/plain": [
       "[0.9035087719298246,\n",
       " 0.9035087719298246,\n",
       " 0.9385964912280702,\n",
       " 0.9298245614035088,\n",
       " 0.9298245614035088,\n",
       " 0.9298245614035088]"
      ]
     },
     "execution_count": 106,
     "metadata": {},
     "output_type": "execute_result"
    }
   ],
   "source": [
    "accuracy"
   ]
  },
  {
   "cell_type": "code",
   "execution_count": 107,
   "metadata": {},
   "outputs": [
    {
     "data": {
      "text/plain": [
       "0.9225146198830408"
      ]
     },
     "execution_count": 107,
     "metadata": {},
     "output_type": "execute_result"
    }
   ],
   "source": [
    "np.mean(accuracy)"
   ]
  },
  {
   "cell_type": "code",
   "execution_count": null,
   "metadata": {},
   "outputs": [],
   "source": []
  },
  {
   "cell_type": "code",
   "execution_count": null,
   "metadata": {},
   "outputs": [],
   "source": []
  },
  {
   "cell_type": "code",
   "execution_count": 108,
   "metadata": {},
   "outputs": [
    {
     "name": "stdout",
     "output_type": "stream",
     "text": [
      "{'n_neighbors': 5, 'weights': 'distance'}\n",
      "0.9252747252747253\n"
     ]
    }
   ],
   "source": [
    "from sklearn.model_selection import GridSearchCV\n",
    "\n",
    "\n",
    "params = {'n_neighbors' :[1,5,20], 'weights':['uniform','distance']}\n",
    "grid = GridSearchCV( KNeighborsClassifier(), param_grid = params, cv=5)\n",
    "\n",
    "grid.fit(x_train, y_train)\n",
    "\n",
    "print(grid.best_params_)\n",
    "print(grid.best_score_)\n",
    "\n"
   ]
  },
  {
   "cell_type": "code",
   "execution_count": null,
   "metadata": {},
   "outputs": [],
   "source": []
  },
  {
   "cell_type": "code",
   "execution_count": 109,
   "metadata": {},
   "outputs": [],
   "source": [
    "# model evaluation - roc_curve"
   ]
  },
  {
   "cell_type": "code",
   "execution_count": 110,
   "metadata": {},
   "outputs": [],
   "source": [
    "# ROC곡선 - 진짜양성비율(TPR), 거짓양성비율(FPR)"
   ]
  },
  {
   "cell_type": "code",
   "execution_count": 112,
   "metadata": {},
   "outputs": [],
   "source": [
    "# 모든 임계값에서 진짜양성비율( TPR)과 거짓양성비율(FPR) 분포곡선..\n",
    "# TPR -  재현율, 실제 True인 데이터를 True라고 정확하게 예측한 비율\n",
    "# FPR - False인 데이터를 True라고 잘못 예측한 비율..\n",
    "# 좋은 모델은 TPR은 높고 FPR은 낮은 모델이 좋은 모델.."
   ]
  },
  {
   "cell_type": "code",
   "execution_count": 129,
   "metadata": {},
   "outputs": [],
   "source": [
    "from mglearn.datasets import make_blobs\n",
    "x, y = make_blobs(n_samples=(4000, 500), centers=2, cluster_std=[7.0, 2], \\\n",
    "                 random_state=777)"
   ]
  },
  {
   "cell_type": "code",
   "execution_count": 130,
   "metadata": {},
   "outputs": [
    {
     "data": {
      "text/plain": [
       "(4500, 2)"
      ]
     },
     "execution_count": 130,
     "metadata": {},
     "output_type": "execute_result"
    }
   ],
   "source": [
    "x.shape"
   ]
  },
  {
   "cell_type": "code",
   "execution_count": 131,
   "metadata": {},
   "outputs": [
    {
     "data": {
      "text/plain": [
       "(4500,)"
      ]
     },
     "execution_count": 131,
     "metadata": {},
     "output_type": "execute_result"
    }
   ],
   "source": [
    "y.shape"
   ]
  },
  {
   "cell_type": "code",
   "execution_count": 132,
   "metadata": {},
   "outputs": [],
   "source": [
    "x_train, x_test, y_train, y_test= train_test_split(x,y, test_size=0.3, random_state=111)"
   ]
  },
  {
   "cell_type": "code",
   "execution_count": 159,
   "metadata": {},
   "outputs": [],
   "source": [
    "from sklearn.metrics import roc_curve\n",
    "from sklearn.metrics import roc_auc_score\n",
    "from sklearn.svm import SVC\n",
    "from sklearn.ensemble import RandomForestClassifier"
   ]
  },
  {
   "cell_type": "code",
   "execution_count": 160,
   "metadata": {},
   "outputs": [],
   "source": [
    "svc = SVC()\n",
    "svc.fit(x_train, y_train)\n",
    "fpr,tpr, thresholds = roc_curve(y_test, svc.decision_function(x_test))"
   ]
  },
  {
   "cell_type": "code",
   "execution_count": 162,
   "metadata": {
    "collapsed": true
   },
   "outputs": [
    {
     "name": "stdout",
     "output_type": "stream",
     "text": [
      "0.9063426104883392\n"
     ]
    },
    {
     "data": {
      "text/plain": [
       "Text(0, 0.5, 'TPR')"
      ]
     },
     "execution_count": 162,
     "metadata": {},
     "output_type": "execute_result"
    },
    {
     "data": {
      "image/png": "[encoded data removed]",
      "text/plain": [
       "<Figure size 432x288 with 1 Axes>"
      ]
     },
     "metadata": {
      "needs_background": "light"
     },
     "output_type": "display_data"
    }
   ],
   "source": [
    "print(roc_auc_score(y_test, svc.decision_function(x_test)))\n",
    "plt.plot(fpr, tpr, label='ROC 곡선')\n",
    "plt.xlabel('FPR')\n",
    "plt.ylabel(\"TPR\")"
   ]
  },
  {
   "cell_type": "code",
   "execution_count": null,
   "metadata": {},
   "outputs": [],
   "source": []
  },
  {
   "cell_type": "code",
   "execution_count": 167,
   "metadata": {
    "collapsed": true
   },
   "outputs": [
    {
     "data": {
      "text/plain": [
       "array([-0.98203883, -1.06353033, -0.95731687, ..., -0.98967673,\n",
       "       -1.00939599, -0.98585883])"
      ]
     },
     "execution_count": 167,
     "metadata": {},
     "output_type": "execute_result"
    }
   ],
   "source": [
    "# svc\n",
    "svc.decision_function(x_test)"
   ]
  },
  {
   "cell_type": "code",
   "execution_count": 168,
   "metadata": {
    "collapsed": true
   },
   "outputs": [
    {
     "data": {
      "text/plain": [
       "array([[0.55, 0.45],\n",
       "       [1.  , 0.  ],\n",
       "       [0.31, 0.69],\n",
       "       ...,\n",
       "       [0.81, 0.19],\n",
       "       [1.  , 0.  ],\n",
       "       [0.27, 0.73]])"
      ]
     },
     "execution_count": 168,
     "metadata": {},
     "output_type": "execute_result"
    }
   ],
   "source": [
    "# randomforest\n",
    "rfc.predict_proba(x_test)"
   ]
  },
  {
   "cell_type": "code",
   "execution_count": null,
   "metadata": {},
   "outputs": [],
   "source": []
  },
  {
   "cell_type": "code",
   "execution_count": null,
   "metadata": {},
   "outputs": [],
   "source": [
    "rfc = RandomForestClassifier()\n",
    "rfc.fit(x_train, y_train)\n",
    "fpr,tpr, thresholds = roc_curve(y_test, rfc.predict_proba(x_test)[:,1])"
   ]
  },
  {
   "cell_type": "code",
   "execution_count": 166,
   "metadata": {
    "collapsed": true
   },
   "outputs": [
    {
     "name": "stdout",
     "output_type": "stream",
     "text": [
      "0.897774127045484\n"
     ]
    },
    {
     "data": {
      "text/plain": [
       "Text(0, 0.5, 'TPR')"
      ]
     },
     "execution_count": 166,
     "metadata": {},
     "output_type": "execute_result"
    },
    {
     "data": {
      "image/png": "[encoded data removed]",
      "text/plain": [
       "<Figure size 432x288 with 1 Axes>"
      ]
     },
     "metadata": {
      "needs_background": "light"
     },
     "output_type": "display_data"
    }
   ],
   "source": [
    "print(roc_auc_score(y_test, rfc.predict_proba(x_test)[:,1]))\n",
    "plt.plot(fpr, tpr, label='ROC 곡선')\n",
    "plt.xlabel('FPR')\n",
    "plt.ylabel(\"TPR\")"
   ]
  },
  {
   "cell_type": "code",
   "execution_count": null,
   "metadata": {},
   "outputs": [],
   "source": []
  },
  {
   "cell_type": "code",
   "execution_count": 169,
   "metadata": {},
   "outputs": [],
   "source": [
    "# unsupervised learning - kmeans, DBSCAN, Heirachical"
   ]
  },
  {
   "cell_type": "code",
   "execution_count": null,
   "metadata": {},
   "outputs": [],
   "source": []
  },
  {
   "cell_type": "code",
   "execution_count": 170,
   "metadata": {},
   "outputs": [],
   "source": [
    "# kmeans"
   ]
  },
  {
   "cell_type": "code",
   "execution_count": 183,
   "metadata": {},
   "outputs": [],
   "source": [
    "x, y = make_blobs(n_samples=150,\n",
    "                 n_features=2,\n",
    "                 centers = 3,\n",
    "                 cluster_std=1,\n",
    "                 shuffle=True)"
   ]
  },
  {
   "cell_type": "code",
   "execution_count": null,
   "metadata": {},
   "outputs": [],
   "source": []
  },
  {
   "cell_type": "code",
   "execution_count": 184,
   "metadata": {
    "collapsed": true
   },
   "outputs": [
    {
     "data": {
      "text/plain": [
       "<matplotlib.collections.PathCollection at 0x1d18e015610>"
      ]
     },
     "execution_count": 184,
     "metadata": {},
     "output_type": "execute_result"
    },
    {
     "data": {
      "image/png": "[encoded data removed]",
      "text/plain": [
       "<Figure size 432x288 with 1 Axes>"
      ]
     },
     "metadata": {
      "needs_background": "light"
     },
     "output_type": "display_data"
    }
   ],
   "source": [
    "plt.scatter(x[:,0], x[:,1])"
   ]
  },
  {
   "cell_type": "code",
   "execution_count": 185,
   "metadata": {},
   "outputs": [],
   "source": [
    "from sklearn.cluster import KMeans"
   ]
  },
  {
   "cell_type": "code",
   "execution_count": 196,
   "metadata": {
    "collapsed": true
   },
   "outputs": [
    {
     "data": {
      "text/plain": [
       "array([2, 2, 1, 2, 0, 0, 0, 2, 2, 0, 2, 0, 1, 0, 0, 1, 2, 2, 1, 1, 0, 2,\n",
       "       2, 1, 2, 2, 2, 0, 2, 0, 1, 2, 1, 0, 0, 0, 2, 2, 2, 2, 2, 0, 1, 2,\n",
       "       2, 0, 0, 1, 1, 0, 1, 0, 2, 1, 1, 1, 1, 0, 1, 1, 0, 0, 1, 0, 2, 2,\n",
       "       2, 0, 1, 2, 2, 0, 1, 1, 0, 1, 2, 0, 1, 1, 2, 1, 0, 1, 2, 2, 1, 0,\n",
       "       1, 0, 1, 2, 2, 0, 2, 1, 0, 0, 1, 2, 2, 1, 1, 0, 1, 0, 0, 0, 2, 1,\n",
       "       1, 0, 0, 0, 0, 1, 0, 0, 2, 1, 1, 2, 1, 1, 2, 2, 0, 1, 2, 1, 1, 1,\n",
       "       0, 0, 1, 2, 2, 1, 2, 1, 1, 0, 2, 2, 0, 0, 0, 1, 2, 2])"
      ]
     },
     "execution_count": 196,
     "metadata": {},
     "output_type": "execute_result"
    }
   ],
   "source": [
    "km = KMeans(n_clusters = 3,\n",
    "      init='random',\n",
    "      max_iter=300,\n",
    "      random_state=0)\n",
    "km.fit(x)\n",
    "y_km = km.predict(x)\n",
    "y_km"
   ]
  },
  {
   "cell_type": "code",
   "execution_count": 197,
   "metadata": {
    "collapsed": true
   },
   "outputs": [
    {
     "data": {
      "text/plain": [
       "array([[ 6.17541645, -9.47675037],\n",
       "       [ 3.33717955, -5.68241937],\n",
       "       [ 7.37607076, -2.00090878]])"
      ]
     },
     "execution_count": 197,
     "metadata": {},
     "output_type": "execute_result"
    }
   ],
   "source": [
    "km.cluster_centers_"
   ]
  },
  {
   "cell_type": "code",
   "execution_count": 198,
   "metadata": {
    "collapsed": true
   },
   "outputs": [
    {
     "data": {
      "image/png": "[encoded data removed]",
      "text/plain": [
       "<Figure size 432x288 with 1 Axes>"
      ]
     },
     "metadata": {
      "needs_background": "light"
     },
     "output_type": "display_data"
    }
   ],
   "source": [
    "plt.scatter(x[y_km == 0, 0], x[y_km == 0, 1],\n",
    "           s = 50, c = 'lightgreen', marker='s', edgecolor='black', label='cluster 1')\n",
    "\n",
    "plt.scatter(x[y_km == 1, 0], x[y_km == 1, 1],\n",
    "           s = 50, c = 'orange', marker='o', edgecolor='black', label='cluster 2')\n",
    "\n",
    "plt.scatter(x[y_km == 2, 0], x[y_km == 2, 1],\n",
    "           s = 50, c = 'lightblue', marker='v', edgecolor='black', label='cluster 3')\n",
    "\n",
    "plt.scatter(km.cluster_centers_[:,0], km.cluster_centers_[:,1],\n",
    "           s = 250, marker='*', c='red', edgecolor='black', label='centroids')\n",
    "\n",
    "plt.legend(scatterpoints= 1)\n",
    "plt.grid()\n",
    "plt.show()"
   ]
  },
  {
   "cell_type": "code",
   "execution_count": null,
   "metadata": {},
   "outputs": [],
   "source": []
  },
  {
   "cell_type": "code",
   "execution_count": 199,
   "metadata": {},
   "outputs": [],
   "source": [
    "# cluster 평가.."
   ]
  },
  {
   "cell_type": "code",
   "execution_count": 201,
   "metadata": {},
   "outputs": [
    {
     "data": {
      "text/plain": [
       "268.6229761175462"
      ]
     },
     "execution_count": 201,
     "metadata": {},
     "output_type": "execute_result"
    }
   ],
   "source": [
    "# inertia_ : 군집내의 표준편차값.. => 클러스터링의 수준을 평가..\n",
    "\n",
    "km.inertia_"
   ]
  },
  {
   "cell_type": "code",
   "execution_count": null,
   "metadata": {},
   "outputs": [],
   "source": []
  },
  {
   "cell_type": "code",
   "execution_count": 209,
   "metadata": {},
   "outputs": [],
   "source": [
    "inertias = []\n",
    "\n",
    "for i in range(2,11):\n",
    "    \n",
    "    km = KMeans(n_clusters=i,\n",
    "          init='random',\n",
    "          random_state= 0)\n",
    "    \n",
    "    km.fit(x)\n",
    "    \n",
    "    inertias.append(km.inertia_)"
   ]
  },
  {
   "cell_type": "code",
   "execution_count": 210,
   "metadata": {
    "collapsed": true
   },
   "outputs": [
    {
     "data": {
      "text/plain": [
       "[829.7118631865467,\n",
       " 268.6229761175462,\n",
       " 227.7017211574756,\n",
       " 197.31250980935232,\n",
       " 163.18010727375517,\n",
       " 142.41112144507514,\n",
       " 121.46684806636432,\n",
       " 110.1744325611772,\n",
       " 99.63449090626523]"
      ]
     },
     "execution_count": 210,
     "metadata": {},
     "output_type": "execute_result"
    }
   ],
   "source": [
    "inertias"
   ]
  },
  {
   "cell_type": "code",
   "execution_count": 214,
   "metadata": {
    "collapsed": true
   },
   "outputs": [
    {
     "data": {
      "text/plain": [
       "[<matplotlib.lines.Line2D at 0x1d18e75dee0>]"
      ]
     },
     "execution_count": 214,
     "metadata": {},
     "output_type": "execute_result"
    },
    {
     "data": {
      "image/png": "[encoded data removed]",
      "text/plain": [
       "<Figure size 432x288 with 1 Axes>"
      ]
     },
     "metadata": {
      "needs_background": "light"
     },
     "output_type": "display_data"
    }
   ],
   "source": [
    "plt.plot(range(2, 11),inertias, marker='o')"
   ]
  },
  {
   "cell_type": "code",
   "execution_count": null,
   "metadata": {},
   "outputs": [],
   "source": []
  },
  {
   "cell_type": "code",
   "execution_count": 216,
   "metadata": {},
   "outputs": [],
   "source": [
    "### silhouette\n",
    "\n",
    "# 군집 내 데이터들이 얼마나 잘 결집되어 있는가\n",
    "# a : 군집 내의 모든 점들과의 평균거리..\n",
    "# b : 가장 가까운 군집의 점들과의 평균거리..\n",
    "# a는 작을수록 좋고, b는 클수록 좋다..\n",
    "# silhouette = (b-a)/max(b,a)"
   ]
  },
  {
   "cell_type": "code",
   "execution_count": 217,
   "metadata": {},
   "outputs": [],
   "source": [
    "from sklearn.cluster import KMeans"
   ]
  },
  {
   "cell_type": "code",
   "execution_count": 219,
   "metadata": {},
   "outputs": [],
   "source": [
    "from matplotlib import cm\n",
    "from sklearn.metrics import silhouette_samples"
   ]
  },
  {
   "cell_type": "code",
   "execution_count": 220,
   "metadata": {
    "collapsed": true
   },
   "outputs": [
    {
     "data": {
      "text/plain": [
       "array([1, 1, 2, 1, 0, 0, 0, 1, 1, 0, 1, 0, 2, 0, 0, 2, 1, 1, 2, 2, 0, 1,\n",
       "       1, 2, 1, 1, 1, 0, 1, 0, 2, 1, 2, 0, 0, 0, 1, 1, 1, 1, 1, 0, 2, 1,\n",
       "       1, 0, 0, 2, 2, 0, 2, 0, 1, 2, 2, 2, 2, 0, 2, 2, 0, 0, 2, 0, 1, 1,\n",
       "       1, 0, 2, 1, 1, 0, 2, 2, 0, 2, 1, 0, 2, 2, 1, 2, 0, 2, 1, 1, 2, 0,\n",
       "       2, 0, 2, 1, 1, 0, 1, 2, 0, 0, 2, 1, 1, 2, 2, 0, 2, 0, 0, 0, 1, 2,\n",
       "       2, 0, 0, 0, 0, 2, 0, 0, 1, 2, 2, 1, 2, 2, 1, 1, 0, 2, 1, 2, 2, 2,\n",
       "       0, 0, 2, 1, 1, 2, 1, 2, 2, 0, 1, 1, 0, 0, 0, 2, 1, 1])"
      ]
     },
     "execution_count": 220,
     "metadata": {},
     "output_type": "execute_result"
    }
   ],
   "source": [
    "km = KMeans(n_clusters = 3,\n",
    "           init='random',\n",
    "           random_state=111)\n",
    "km.fit(x)\n",
    "y_km = km.predict(x)\n",
    "y_km"
   ]
  },
  {
   "cell_type": "code",
   "execution_count": 223,
   "metadata": {},
   "outputs": [
    {
     "data": {
      "text/plain": [
       "array([0, 1, 2])"
      ]
     },
     "execution_count": 223,
     "metadata": {},
     "output_type": "execute_result"
    }
   ],
   "source": [
    "cluster_labels = np.unique(y_km)\n",
    "cluster_labels"
   ]
  },
  {
   "cell_type": "code",
   "execution_count": 227,
   "metadata": {},
   "outputs": [
    {
     "data": {
      "text/plain": [
       "3"
      ]
     },
     "execution_count": 227,
     "metadata": {},
     "output_type": "execute_result"
    }
   ],
   "source": [
    "n_clusters = len(cluster_labels)\n",
    "n_clusters"
   ]
  },
  {
   "cell_type": "code",
   "execution_count": 228,
   "metadata": {
    "collapsed": true
   },
   "outputs": [
    {
     "data": {
      "text/plain": [
       "array([0.78515585, 0.5827168 , 0.5085928 , 0.7572969 , 0.71309591,\n",
       "       0.68241312, 0.71957029, 0.6825694 , 0.74552775, 0.643912  ,\n",
       "       0.80143201, 0.71718154, 0.33385407, 0.47845603, 0.67047502,\n",
       "       0.71066062, 0.72819347, 0.7778813 , 0.34585179, 0.4487505 ,\n",
       "       0.58201692, 0.80453626, 0.55654319, 0.38091893, 0.53716022,\n",
       "       0.72854645, 0.75926693, 0.66903076, 0.71244596, 0.73204923,\n",
       "       0.698228  , 0.58846345, 0.49248672, 0.4330924 , 0.74468668,\n",
       "       0.59926185, 0.71193788, 0.80739361, 0.77368629, 0.69508855,\n",
       "       0.77062897, 0.50215734, 0.73187039, 0.78523479, 0.75466793,\n",
       "       0.57496254, 0.70613704, 0.25213443, 0.3014079 , 0.62374856,\n",
       "       0.58364168, 0.62015208, 0.64883133, 0.6209985 , 0.71322484,\n",
       "       0.69795064, 0.69908213, 0.53600269, 0.73211702, 0.63742531,\n",
       "       0.69331834, 0.72268438, 0.58108845, 0.66302211, 0.77995288,\n",
       "       0.79476039, 0.63632835, 0.7051947 , 0.71163235, 0.7557789 ,\n",
       "       0.80119326, 0.74811523, 0.48108438, 0.72765841, 0.74843828,\n",
       "       0.60013816, 0.69783988, 0.69240653, 0.51778437, 0.62965614,\n",
       "       0.7327794 , 0.69347575, 0.73174868, 0.62274575, 0.76806401,\n",
       "       0.6995341 , 0.58594541, 0.60509928, 0.58129582, 0.62076869,\n",
       "       0.6305202 , 0.73159467, 0.79942928, 0.40583672, 0.74774811,\n",
       "       0.50296899, 0.58926497, 0.71480364, 0.38489305, 0.77028742,\n",
       "       0.69592294, 0.57671592, 0.13086784, 0.68566162, 0.64436749,\n",
       "       0.71483273, 0.70875259, 0.75019307, 0.73114055, 0.66014773,\n",
       "       0.20028955, 0.62351543, 0.64731424, 0.72675252, 0.38112531,\n",
       "       0.60441228, 0.45243718, 0.64466301, 0.63173513, 0.58807693,\n",
       "       0.5102234 , 0.79882227, 0.66588291, 0.73794129, 0.59610901,\n",
       "       0.75031729, 0.67741387, 0.69869771, 0.75220814, 0.64608662,\n",
       "       0.64273619, 0.64453622, 0.66962847, 0.65256079, 0.73712823,\n",
       "       0.74409911, 0.53757455, 0.69983105, 0.62032396, 0.68827704,\n",
       "       0.66351139, 0.32682484, 0.64808948, 0.79601518, 0.70619042,\n",
       "       0.7360107 , 0.64709891, 0.63671845, 0.80709757, 0.74162793])"
      ]
     },
     "execution_count": 228,
     "metadata": {},
     "output_type": "execute_result"
    }
   ],
   "source": [
    "silhouette_samples(x, y_km, metric='euclidean')"
   ]
  },
  {
   "cell_type": "code",
   "execution_count": 229,
   "metadata": {},
   "outputs": [
    {
     "data": {
      "text/plain": [
       "0.6461212670140554"
      ]
     },
     "execution_count": 229,
     "metadata": {},
     "output_type": "execute_result"
    }
   ],
   "source": [
    "np.mean(silhouette_samples(x, y_km, metric='euclidean'))"
   ]
  },
  {
   "cell_type": "code",
   "execution_count": 232,
   "metadata": {
    "collapsed": true
   },
   "outputs": [
    {
     "data": {
      "text/plain": [
       "[<matplotlib.lines.Line2D at 0x1d18e821c70>]"
      ]
     },
     "execution_count": 232,
     "metadata": {},
     "output_type": "execute_result"
    },
    {
     "data": {
      "image/png": "[encoded data removed]",
      "text/plain": [
       "<Figure size 432x288 with 1 Axes>"
      ]
     },
     "metadata": {
      "needs_background": "light"
     },
     "output_type": "display_data"
    }
   ],
   "source": [
    "plt.plot(sorted(silhouette_samples(x, y_km, metric='euclidean')))"
   ]
  },
  {
   "cell_type": "code",
   "execution_count": 235,
   "metadata": {},
   "outputs": [
    {
     "data": {
      "text/plain": [
       "<matplotlib.lines.Line2D at 0x1d18e8d6f10>"
      ]
     },
     "execution_count": 235,
     "metadata": {},
     "output_type": "execute_result"
    },
    {
     "data": {
      "image/png": "[encoded data removed]",
      "text/plain": [
       "<Figure size 432x288 with 1 Axes>"
      ]
     },
     "metadata": {
      "needs_background": "light"
     },
     "output_type": "display_data"
    }
   ],
   "source": [
    "silhouette_vals = silhouette_samples(x, y_km, metric='euclidean')\n",
    "\n",
    "y_ax_upper = 0\n",
    "y_ax_lower = 0\n",
    "\n",
    "clist= ['g','b','y']\n",
    "for i, c in enumerate(cluster_labels):\n",
    "    c_silhouette_vals = silhouette_vals[y_km == c]\n",
    "    c_silhouette_vals.sort()\n",
    "    y_ax_upper += len(c_silhouette_vals)\n",
    "    plt.barh(range(y_ax_lower, y_ax_upper), c_silhouette_vals, height=1.0,\n",
    "            edgecolor='none', color=clist[i])\n",
    "    \n",
    "    y_ax_lower = y_ax_upper\n",
    "silhouette_avg = np.mean(silhouette_vals)\n",
    "plt.axvline(silhouette_avg, color='red')"
   ]
  },
  {
   "cell_type": "code",
   "execution_count": null,
   "metadata": {},
   "outputs": [],
   "source": []
  },
  {
   "cell_type": "code",
   "execution_count": 238,
   "metadata": {},
   "outputs": [
    {
     "name": "stdout",
     "output_type": "stream",
     "text": [
      "0.566094125255195\n"
     ]
    },
    {
     "data": {
      "text/plain": [
       "<matplotlib.lines.Line2D at 0x1d190a5e610>"
      ]
     },
     "execution_count": 238,
     "metadata": {},
     "output_type": "execute_result"
    },
    {
     "data": {
      "image/png": "[encoded data removed]",
      "text/plain": [
       "<Figure size 432x288 with 1 Axes>"
      ]
     },
     "metadata": {
      "needs_background": "light"
     },
     "output_type": "display_data"
    }
   ],
   "source": [
    "km = KMeans(n_clusters = 2,\n",
    "           init='random',\n",
    "           random_state=111)\n",
    "km.fit(x)\n",
    "y_km = km.predict(x)\n",
    "\n",
    "cluster_labels = np.unique(y_km)\n",
    "n_clusters = len(cluster_labels)\n",
    "\n",
    "silhouette_vals = silhouette_samples(x, y_km, metric='euclidean')\n",
    "\n",
    "y_ax_upper = 0\n",
    "y_ax_lower = 0\n",
    "\n",
    "clist= ['g','b','y']\n",
    "for i, c in enumerate(cluster_labels):\n",
    "    c_silhouette_vals = silhouette_vals[y_km == c]\n",
    "    c_silhouette_vals.sort()\n",
    "    y_ax_upper += len(c_silhouette_vals)\n",
    "    plt.barh(range(y_ax_lower, y_ax_upper), c_silhouette_vals, height=1.0,\n",
    "            edgecolor='none', color=clist[i])\n",
    "    \n",
    "    y_ax_lower = y_ax_upper\n",
    "    \n",
    "silhouette_avg = np.mean(silhouette_vals)\n",
    "print(silhouette_avg)\n",
    "plt.axvline(silhouette_avg, color='red')"
   ]
  },
  {
   "cell_type": "code",
   "execution_count": null,
   "metadata": {},
   "outputs": [],
   "source": []
  },
  {
   "cell_type": "code",
   "execution_count": 241,
   "metadata": {},
   "outputs": [],
   "source": [
    "silhouettes = []\n",
    "\n",
    "for i in range(2,11):\n",
    "    \n",
    "    km = KMeans(n_clusters = i,\n",
    "               init='random',\n",
    "               random_state=111)\n",
    "    km.fit(x)\n",
    "    y_km = km.predict(x)\n",
    "    \n",
    "    silhouette_vals = silhouette_samples(x, y_km, metric='euclidean')\n",
    "    silhouettes.append(np.mean(silhouette_vals))"
   ]
  },
  {
   "cell_type": "code",
   "execution_count": 242,
   "metadata": {
    "collapsed": true
   },
   "outputs": [
    {
     "data": {
      "text/plain": [
       "[0.566094125255195,\n",
       " 0.6461212670140554,\n",
       " 0.5345441666442585,\n",
       " 0.45379234945361313,\n",
       " 0.33895880631399566,\n",
       " 0.35107580857489185,\n",
       " 0.3603790249827834,\n",
       " 0.35124329952645894,\n",
       " 0.37278746269483604]"
      ]
     },
     "execution_count": 242,
     "metadata": {},
     "output_type": "execute_result"
    }
   ],
   "source": [
    "silhouettes"
   ]
  },
  {
   "cell_type": "code",
   "execution_count": 244,
   "metadata": {},
   "outputs": [
    {
     "data": {
      "text/plain": [
       "[<matplotlib.lines.Line2D at 0x1d1901d5c10>]"
      ]
     },
     "execution_count": 244,
     "metadata": {},
     "output_type": "execute_result"
    },
    {
     "data": {
      "image/png": "[encoded data removed]",
      "text/plain": [
       "<Figure size 432x288 with 1 Axes>"
      ]
     },
     "metadata": {
      "needs_background": "light"
     },
     "output_type": "display_data"
    }
   ],
   "source": [
    "plt.plot(range(2,11), silhouettes)"
   ]
  },
  {
   "cell_type": "code",
   "execution_count": null,
   "metadata": {},
   "outputs": [],
   "source": []
  },
  {
   "cell_type": "code",
   "execution_count": null,
   "metadata": {},
   "outputs": [],
   "source": [
    "# clustering - DBSCAN, HeirachicalClustering, KMeans"
   ]
  },
  {
   "cell_type": "code",
   "execution_count": 248,
   "metadata": {},
   "outputs": [],
   "source": [
    "# Heirachical Clustering - 계층적 군집분석\n",
    "# 1. 모든 샘플들간의 거리행렬을 계산\n",
    "# 2. 가장 가까운 두 개의 군집을 합한다.\n",
    "# 3. 유사도 거래행렬을 업데이트 한다.\n",
    "# 4. 하나의 군집이 남을 때까지 계속 반복한다"
   ]
  },
  {
   "cell_type": "code",
   "execution_count": 247,
   "metadata": {},
   "outputs": [
    {
     "data": {
      "image/png": "[encoded data removed]",
      "text/plain": [
       "<Figure size 1440x576 with 10 Axes>"
      ]
     },
     "metadata": {},
     "output_type": "display_data"
    }
   ],
   "source": [
    "mglearn.plots.plot_agglomerative_algorithm()"
   ]
  },
  {
   "cell_type": "code",
   "execution_count": 254,
   "metadata": {
    "collapsed": true
   },
   "outputs": [
    {
     "data": {
      "text/plain": [
       "array([1, 0, 1, 2, 0, 0, 0, 0, 2, 1, 0, 2, 0, 2, 0, 0, 0, 1, 1, 0, 0, 0,\n",
       "       0, 1, 1, 0, 0, 1, 1, 0, 2, 1, 0, 1, 0, 0, 2, 0, 0, 0, 0, 0, 1, 0,\n",
       "       1, 0, 2, 1, 1, 1, 1, 0, 0, 0, 2, 0, 2, 0, 2, 1, 2, 0, 0, 0, 0, 0,\n",
       "       2, 0, 1, 1, 0, 0, 0, 2, 2, 1, 0, 0, 1, 2, 2, 0, 2, 0, 1, 1, 2, 1,\n",
       "       2, 1, 0, 1, 2, 2, 0, 0, 0, 2, 0, 1], dtype=int64)"
      ]
     },
     "execution_count": 254,
     "metadata": {},
     "output_type": "execute_result"
    }
   ],
   "source": [
    "from sklearn.cluster import AgglomerativeClustering\n",
    "\n",
    "x, y = make_blobs(random_state=1 ,cluster_std= 2.5)\n",
    "\n",
    "agg = AgglomerativeClustering(n_clusters=3)\n",
    "y_km = agg.fit_predict(x)\n",
    "y_km"
   ]
  },
  {
   "cell_type": "code",
   "execution_count": 255,
   "metadata": {
    "collapsed": true
   },
   "outputs": [
    {
     "data": {
      "text/plain": [
       "[<matplotlib.lines.Line2D at 0x1d18e871be0>,\n",
       " <matplotlib.lines.Line2D at 0x1d18e871c10>,\n",
       " <matplotlib.lines.Line2D at 0x1d18e871820>]"
      ]
     },
     "execution_count": 255,
     "metadata": {},
     "output_type": "execute_result"
    },
    {
     "data": {
      "image/png": "[encoded data removed]",
      "text/plain": [
       "<Figure size 432x288 with 1 Axes>"
      ]
     },
     "metadata": {
      "needs_background": "light"
     },
     "output_type": "display_data"
    }
   ],
   "source": [
    "mglearn.discrete_scatter(x[:, 0], x[:, 1], y_km)"
   ]
  },
  {
   "cell_type": "code",
   "execution_count": 256,
   "metadata": {
    "collapsed": true
   },
   "outputs": [
    {
     "data": {
      "image/png": "[encoded data removed]",
      "text/plain": [
       "<Figure size 432x288 with 1 Axes>"
      ]
     },
     "metadata": {},
     "output_type": "display_data"
    }
   ],
   "source": [
    "mglearn.plots.plot_agglomerative()"
   ]
  },
  {
   "cell_type": "code",
   "execution_count": 257,
   "metadata": {},
   "outputs": [],
   "source": [
    "# dendrogram\n",
    "\n",
    "from scipy.cluster.hierarchy import dendrogram, ward"
   ]
  },
  {
   "cell_type": "code",
   "execution_count": 263,
   "metadata": {
    "collapsed": true
   },
   "outputs": [
    {
     "data": {
      "text/plain": [
       "array([[3.30000000e+01, 6.80000000e+01, 5.43201508e-02, 2.00000000e+00],\n",
       "       [3.50000000e+01, 3.90000000e+01, 1.32573004e-01, 2.00000000e+00],\n",
       "       [9.00000000e+01, 9.40000000e+01, 1.38469534e-01, 2.00000000e+00],\n",
       "       [1.20000000e+01, 3.80000000e+01, 1.79359185e-01, 2.00000000e+00],\n",
       "       [3.00000000e+01, 9.20000000e+01, 2.03812578e-01, 2.00000000e+00],\n",
       "       [5.40000000e+01, 5.80000000e+01, 2.12984484e-01, 2.00000000e+00],\n",
       "       [4.90000000e+01, 1.00000000e+02, 2.29515850e-01, 3.00000000e+00],\n",
       "       [2.60000000e+01, 5.50000000e+01, 2.29903239e-01, 2.00000000e+00],\n",
       "       [3.70000000e+01, 6.70000000e+01, 2.51428699e-01, 2.00000000e+00],\n",
       "       [2.30000000e+01, 2.70000000e+01, 2.61488722e-01, 2.00000000e+00],\n",
       "       [2.00000000e+01, 4.50000000e+01, 2.70705115e-01, 2.00000000e+00],\n",
       "       [8.20000000e+01, 9.70000000e+01, 3.14676102e-01, 2.00000000e+00],\n",
       "       [3.00000000e+00, 1.11000000e+02, 3.43139931e-01, 3.00000000e+00],\n",
       "       [1.00000000e+00, 7.10000000e+01, 3.53756596e-01, 2.00000000e+00],\n",
       "       [9.00000000e+00, 6.90000000e+01, 4.15407228e-01, 2.00000000e+00],\n",
       "       [1.60000000e+01, 5.20000000e+01, 4.18642196e-01, 2.00000000e+00],\n",
       "       [2.10000000e+01, 1.01000000e+02, 5.11677101e-01, 3.00000000e+00],\n",
       "       [4.20000000e+01, 5.00000000e+01, 5.22107200e-01, 2.00000000e+00],\n",
       "       [2.20000000e+01, 7.70000000e+01, 5.42126946e-01, 2.00000000e+00],\n",
       "       [4.00000000e+01, 1.07000000e+02, 5.72559523e-01, 3.00000000e+00],\n",
       "       [5.90000000e+01, 1.09000000e+02, 5.87001455e-01, 3.00000000e+00],\n",
       "       [6.30000000e+01, 1.03000000e+02, 5.89661402e-01, 3.00000000e+00],\n",
       "       [2.90000000e+01, 4.10000000e+01, 5.97467810e-01, 2.00000000e+00],\n",
       "       [5.00000000e+00, 1.50000000e+01, 6.22035774e-01, 2.00000000e+00],\n",
       "       [6.00000000e+01, 1.05000000e+02, 6.27081578e-01, 3.00000000e+00],\n",
       "       [5.30000000e+01, 6.10000000e+01, 6.44875421e-01, 2.00000000e+00],\n",
       "       [7.00000000e+01, 7.20000000e+01, 6.59374913e-01, 2.00000000e+00],\n",
       "       [1.70000000e+01, 7.80000000e+01, 6.94429968e-01, 2.00000000e+00],\n",
       "       [4.30000000e+01, 1.08000000e+02, 7.32523968e-01, 3.00000000e+00],\n",
       "       [7.60000000e+01, 9.80000000e+01, 7.49209220e-01, 2.00000000e+00],\n",
       "       [6.60000000e+01, 7.90000000e+01, 7.71438529e-01, 2.00000000e+00],\n",
       "       [8.80000000e+01, 1.04000000e+02, 8.02189284e-01, 3.00000000e+00],\n",
       "       [5.70000000e+01, 9.50000000e+01, 8.04436988e-01, 2.00000000e+00],\n",
       "       [6.00000000e+00, 7.00000000e+00, 8.09942212e-01, 2.00000000e+00],\n",
       "       [5.60000000e+01, 9.30000000e+01, 8.11119903e-01, 2.00000000e+00],\n",
       "       [4.40000000e+01, 1.14000000e+02, 8.18362418e-01, 3.00000000e+00],\n",
       "       [1.80000000e+01, 8.90000000e+01, 8.30478669e-01, 2.00000000e+00],\n",
       "       [2.00000000e+00, 3.10000000e+01, 8.47876388e-01, 2.00000000e+00],\n",
       "       [1.90000000e+01, 1.28000000e+02, 9.12671805e-01, 4.00000000e+00],\n",
       "       [1.10000000e+01, 1.12000000e+02, 9.38032666e-01, 4.00000000e+00],\n",
       "       [2.40000000e+01, 8.40000000e+01, 9.95761199e-01, 2.00000000e+00],\n",
       "       [9.10000000e+01, 1.06000000e+02, 1.03761823e+00, 4.00000000e+00],\n",
       "       [4.60000000e+01, 7.30000000e+01, 1.08289044e+00, 2.00000000e+00],\n",
       "       [1.10000000e+02, 1.26000000e+02, 1.13361879e+00, 4.00000000e+00],\n",
       "       [1.18000000e+02, 1.19000000e+02, 1.15225970e+00, 5.00000000e+00],\n",
       "       [8.50000000e+01, 8.70000000e+01, 1.19226852e+00, 2.00000000e+00],\n",
       "       [1.17000000e+02, 1.40000000e+02, 1.21937230e+00, 4.00000000e+00],\n",
       "       [1.00000000e+01, 9.60000000e+01, 1.24232747e+00, 2.00000000e+00],\n",
       "       [1.02000000e+02, 1.23000000e+02, 1.26519290e+00, 4.00000000e+00],\n",
       "       [5.10000000e+01, 1.22000000e+02, 1.32050712e+00, 3.00000000e+00],\n",
       "       [1.30000000e+01, 1.30000000e+02, 1.37639535e+00, 3.00000000e+00],\n",
       "       [1.20000000e+02, 1.35000000e+02, 1.47328741e+00, 6.00000000e+00],\n",
       "       [6.20000000e+01, 1.29000000e+02, 1.50012976e+00, 3.00000000e+00],\n",
       "       [0.00000000e+00, 7.50000000e+01, 1.54167002e+00, 2.00000000e+00],\n",
       "       [1.31000000e+02, 1.34000000e+02, 1.54884906e+00, 5.00000000e+00],\n",
       "       [1.13000000e+02, 1.33000000e+02, 1.55086486e+00, 4.00000000e+00],\n",
       "       [8.00000000e+00, 1.50000000e+02, 1.57197828e+00, 4.00000000e+00],\n",
       "       [3.20000000e+01, 1.21000000e+02, 1.61866231e+00, 4.00000000e+00],\n",
       "       [8.10000000e+01, 1.38000000e+02, 1.66960292e+00, 5.00000000e+00],\n",
       "       [3.40000000e+01, 6.50000000e+01, 1.72980350e+00, 2.00000000e+00],\n",
       "       [1.36000000e+02, 1.46000000e+02, 1.76918491e+00, 6.00000000e+00],\n",
       "       [1.24000000e+02, 1.39000000e+02, 1.78482897e+00, 7.00000000e+00],\n",
       "       [3.60000000e+01, 1.42000000e+02, 1.80425702e+00, 3.00000000e+00],\n",
       "       [4.70000000e+01, 9.90000000e+01, 1.93304367e+00, 2.00000000e+00],\n",
       "       [1.15000000e+02, 1.43000000e+02, 1.94876409e+00, 6.00000000e+00],\n",
       "       [4.80000000e+01, 1.37000000e+02, 1.97552128e+00, 3.00000000e+00],\n",
       "       [1.47000000e+02, 1.49000000e+02, 2.01687555e+00, 5.00000000e+00],\n",
       "       [1.27000000e+02, 1.41000000e+02, 2.09799070e+00, 6.00000000e+00],\n",
       "       [1.48000000e+02, 1.59000000e+02, 2.11497848e+00, 6.00000000e+00],\n",
       "       [7.40000000e+01, 1.62000000e+02, 2.17230707e+00, 4.00000000e+00],\n",
       "       [1.16000000e+02, 1.44000000e+02, 2.47224343e+00, 8.00000000e+00],\n",
       "       [2.80000000e+01, 1.53000000e+02, 2.53313397e+00, 3.00000000e+00],\n",
       "       [8.00000000e+01, 8.60000000e+01, 2.76343456e+00, 2.00000000e+00],\n",
       "       [6.40000000e+01, 1.58000000e+02, 3.25871415e+00, 6.00000000e+00],\n",
       "       [1.52000000e+02, 1.64000000e+02, 3.32951345e+00, 9.00000000e+00],\n",
       "       [1.45000000e+02, 1.63000000e+02, 3.41588735e+00, 4.00000000e+00],\n",
       "       [8.30000000e+01, 1.32000000e+02, 3.52748779e+00, 3.00000000e+00],\n",
       "       [1.54000000e+02, 1.61000000e+02, 3.60519058e+00, 1.20000000e+01],\n",
       "       [1.25000000e+02, 1.73000000e+02, 3.73926337e+00, 8.00000000e+00],\n",
       "       [1.60000000e+02, 1.67000000e+02, 3.87273706e+00, 1.20000000e+01],\n",
       "       [2.50000000e+01, 1.66000000e+02, 3.97952267e+00, 6.00000000e+00],\n",
       "       [1.57000000e+02, 1.70000000e+02, 4.01651434e+00, 1.20000000e+01],\n",
       "       [4.00000000e+00, 1.40000000e+01, 4.20490246e+00, 2.00000000e+00],\n",
       "       [1.55000000e+02, 1.81000000e+02, 5.11423897e+00, 1.60000000e+01],\n",
       "       [1.65000000e+02, 1.79000000e+02, 5.20648184e+00, 1.50000000e+01],\n",
       "       [1.69000000e+02, 1.72000000e+02, 5.36451897e+00, 6.00000000e+00],\n",
       "       [1.68000000e+02, 1.74000000e+02, 5.40733684e+00, 1.50000000e+01],\n",
       "       [1.56000000e+02, 1.77000000e+02, 5.73412133e+00, 1.60000000e+01],\n",
       "       [1.71000000e+02, 1.75000000e+02, 5.99633836e+00, 7.00000000e+00],\n",
       "       [1.51000000e+02, 1.84000000e+02, 7.15633848e+00, 2.10000000e+01],\n",
       "       [1.76000000e+02, 1.86000000e+02, 8.06315968e+00, 1.80000000e+01],\n",
       "       [1.80000000e+02, 1.83000000e+02, 8.25118382e+00, 2.20000000e+01],\n",
       "       [1.85000000e+02, 1.87000000e+02, 9.18910026e+00, 2.20000000e+01],\n",
       "       [1.82000000e+02, 1.91000000e+02, 1.04785499e+01, 2.40000000e+01],\n",
       "       [1.88000000e+02, 1.89000000e+02, 1.50051372e+01, 2.80000000e+01],\n",
       "       [1.78000000e+02, 1.90000000e+02, 1.67618187e+01, 2.60000000e+01],\n",
       "       [1.93000000e+02, 1.95000000e+02, 1.78528673e+01, 5.00000000e+01],\n",
       "       [1.92000000e+02, 1.94000000e+02, 1.92747162e+01, 5.00000000e+01],\n",
       "       [1.96000000e+02, 1.97000000e+02, 8.12830478e+01, 1.00000000e+02]])"
      ]
     },
     "execution_count": 263,
     "metadata": {},
     "output_type": "execute_result"
    }
   ],
   "source": [
    "linkage_array = ward(x)\n",
    "linkage_array"
   ]
  },
  {
   "cell_type": "code",
   "execution_count": 266,
   "metadata": {
    "collapsed": true
   },
   "outputs": [
    {
     "ename": "ValueError",
     "evalue": "The truth value of an array with more than one element is ambiguous. Use a.any() or a.all()",
     "output_type": "error",
     "traceback": [
      "\u001b[1;31m---------------------------------------------------------------------------\u001b[0m",
      "\u001b[1;31mValueError\u001b[0m                                Traceback (most recent call last)",
      "\u001b[1;32m<ipython-input-266-c3514efd0259>\u001b[0m in \u001b[0;36m<module>\u001b[1;34m\u001b[0m\n\u001b[1;32m----> 1\u001b[1;33m \u001b[0mrow_dendr\u001b[0m \u001b[1;33m=\u001b[0m \u001b[0mdendrogram\u001b[0m\u001b[1;33m(\u001b[0m\u001b[0mlinkage_array\u001b[0m\u001b[1;33m,\u001b[0m \u001b[0mlabels\u001b[0m\u001b[1;33m=\u001b[0m\u001b[0my\u001b[0m\u001b[1;33m,\u001b[0m\u001b[1;33m)\u001b[0m\u001b[1;33m\u001b[0m\u001b[1;33m\u001b[0m\u001b[0m\n\u001b[0m",
      "\u001b[1;32m~\\anaconda3\\lib\\site-packages\\scipy\\cluster\\hierarchy.py\u001b[0m in \u001b[0;36mdendrogram\u001b[1;34m(Z, p, truncate_mode, color_threshold, get_leaves, orientation, labels, count_sort, distance_sort, show_leaf_counts, no_plot, no_labels, leaf_font_size, leaf_rotation, leaf_label_func, show_contracted, link_color_func, ax, above_threshold_color)\u001b[0m\n\u001b[0;32m   3275\u001b[0m                          \"'bottom', or 'right'\")\n\u001b[0;32m   3276\u001b[0m \u001b[1;33m\u001b[0m\u001b[0m\n\u001b[1;32m-> 3277\u001b[1;33m     \u001b[1;32mif\u001b[0m \u001b[0mlabels\u001b[0m \u001b[1;32mand\u001b[0m \u001b[0mZ\u001b[0m\u001b[1;33m.\u001b[0m\u001b[0mshape\u001b[0m\u001b[1;33m[\u001b[0m\u001b[1;36m0\u001b[0m\u001b[1;33m]\u001b[0m \u001b[1;33m+\u001b[0m \u001b[1;36m1\u001b[0m \u001b[1;33m!=\u001b[0m \u001b[0mlen\u001b[0m\u001b[1;33m(\u001b[0m\u001b[0mlabels\u001b[0m\u001b[1;33m)\u001b[0m\u001b[1;33m:\u001b[0m\u001b[1;33m\u001b[0m\u001b[1;33m\u001b[0m\u001b[0m\n\u001b[0m\u001b[0;32m   3278\u001b[0m         \u001b[1;32mraise\u001b[0m \u001b[0mValueError\u001b[0m\u001b[1;33m(\u001b[0m\u001b[1;34m\"Dimensions of Z and labels must be consistent.\"\u001b[0m\u001b[1;33m)\u001b[0m\u001b[1;33m\u001b[0m\u001b[1;33m\u001b[0m\u001b[0m\n\u001b[0;32m   3279\u001b[0m \u001b[1;33m\u001b[0m\u001b[0m\n",
      "\u001b[1;31mValueError\u001b[0m: The truth value of an array with more than one element is ambiguous. Use a.any() or a.all()"
     ]
    }
   ],
   "source": [
    "row_dendr = dendrogram(linkage_array, labels=y,)"
   ]
  },
  {
   "cell_type": "code",
   "execution_count": 267,
   "metadata": {},
   "outputs": [],
   "source": [
    "# DBSCAN (밀도기반클러스터링)"
   ]
  },
  {
   "cell_type": "code",
   "execution_count": 270,
   "metadata": {},
   "outputs": [
    {
     "data": {
      "image/jpeg": "[encoded data removed]",
      "text/plain": [
       "<IPython.core.display.Image object>"
      ]
     },
     "execution_count": 270,
     "metadata": {
      "image/jpeg": {
       "width": 300
      }
     },
     "output_type": "execute_result"
    }
   ],
   "source": [
    "from IPython.display import Image\n",
    "Image(filename = 'dbscan.jpg', width=300)"
   ]
  },
  {
   "cell_type": "code",
   "execution_count": 271,
   "metadata": {},
   "outputs": [],
   "source": [
    "from sklearn.datasets import make_moons"
   ]
  },
  {
   "cell_type": "code",
   "execution_count": 272,
   "metadata": {},
   "outputs": [],
   "source": [
    "x, y = make_moons(n_samples=200, noise=0.05, random_state=0)"
   ]
  },
  {
   "cell_type": "code",
   "execution_count": 273,
   "metadata": {
    "collapsed": true
   },
   "outputs": [
    {
     "data": {
      "text/plain": [
       "array([[ 0.81680544,  0.5216447 ],\n",
       "       [ 1.61859642, -0.37982927],\n",
       "       [-0.02126953,  0.27372826],\n",
       "       [-1.02181041, -0.07543984],\n",
       "       [ 1.76654633, -0.17069874],\n",
       "       [ 1.8820287 , -0.04238449],\n",
       "       [ 0.97481551,  0.20999374],\n",
       "       [ 0.88798782, -0.48936735],\n",
       "       [ 0.89865156,  0.36637762],\n",
       "       [ 1.11638974, -0.53460385],\n",
       "       [-0.36380036,  0.82790185],\n",
       "       [ 0.24702417, -0.23856676],\n",
       "       [ 1.81658658, -0.13088387],\n",
       "       [ 1.2163905 , -0.40685761],\n",
       "       [-0.8236696 ,  0.64235178],\n",
       "       [ 0.98065583,  0.20850838],\n",
       "       [ 0.54097175,  0.88616823],\n",
       "       [ 0.348031  , -0.30101351],\n",
       "       [ 0.35181497,  0.88827765],\n",
       "       [-0.77708642,  0.82253872],\n",
       "       [ 1.92590813,  0.01214146],\n",
       "       [ 0.86096723, -0.47653216],\n",
       "       [ 0.19990695,  0.99672359],\n",
       "       [ 1.2895301 , -0.37071087],\n",
       "       [-0.27847636,  1.02538452],\n",
       "       [ 0.24187916, -0.07627812],\n",
       "       [ 1.84988768, -0.09773674],\n",
       "       [ 1.88406869,  0.0449402 ],\n",
       "       [ 0.165822  , -0.08613126],\n",
       "       [ 0.13861369,  0.89639036],\n",
       "       [ 0.89087024,  0.52265882],\n",
       "       [-0.22806587,  0.84091882],\n",
       "       [ 0.98279208, -0.46457771],\n",
       "       [ 0.04237749,  0.19457898],\n",
       "       [ 0.76422612,  0.67223332],\n",
       "       [ 1.91108938,  0.21178339],\n",
       "       [ 0.43608432, -0.23007221],\n",
       "       [ 0.96186938,  0.09923426],\n",
       "       [-0.84336684,  0.52414334],\n",
       "       [-0.04122466,  0.35721873],\n",
       "       [ 0.55507653, -0.42493298],\n",
       "       [-0.4388286 ,  0.85940389],\n",
       "       [ 0.6532646 ,  0.71235382],\n",
       "       [ 0.10274835,  0.06721414],\n",
       "       [ 1.5486824 , -0.34012196],\n",
       "       [-0.37318371,  0.95506411],\n",
       "       [ 1.01706978,  0.19210044],\n",
       "       [-0.71923685,  0.65476676],\n",
       "       [ 0.16135772, -0.10771978],\n",
       "       [ 0.86434045, -0.4594568 ],\n",
       "       [-0.69717533,  0.80133734],\n",
       "       [ 0.32791175, -0.19619019],\n",
       "       [ 1.98046734,  0.03848682],\n",
       "       [-0.90479784,  0.05723938],\n",
       "       [ 1.04515397, -0.50020349],\n",
       "       [ 0.7534213 ,  0.65688005],\n",
       "       [ 0.54968577,  0.73635744],\n",
       "       [ 1.24038086, -0.47577903],\n",
       "       [ 0.24918868,  0.94246199],\n",
       "       [-0.20756105,  0.99290594],\n",
       "       [ 0.35136403, -0.29065432],\n",
       "       [-1.01628753,  0.16290244],\n",
       "       [ 1.78137056, -0.1244931 ],\n",
       "       [ 0.87423825,  0.53065346],\n",
       "       [ 1.09997644, -0.46733763],\n",
       "       [-1.07022744,  0.2365448 ],\n",
       "       [-0.15869858,  1.01497482],\n",
       "       [ 1.46569247, -0.3808977 ],\n",
       "       [ 0.03025209,  0.97792142],\n",
       "       [-0.9365943 ,  0.45674926],\n",
       "       [ 0.66038307, -0.46576222],\n",
       "       [-0.99144728,  0.40662094],\n",
       "       [ 0.46339847, -0.46605416],\n",
       "       [-0.132006  ,  0.52447234],\n",
       "       [ 0.81566997, -0.42821617],\n",
       "       [-0.94820947,  0.37717096],\n",
       "       [ 0.05300205,  0.18597406],\n",
       "       [ 0.92648634,  0.40988975],\n",
       "       [ 0.60689997,  0.78279323],\n",
       "       [ 0.72961391, -0.37215252],\n",
       "       [ 1.9796026 ,  0.12425417],\n",
       "       [-0.02053902,  0.97601558],\n",
       "       [ 0.63818364, -0.49916763],\n",
       "       [ 2.00639179,  0.44597642],\n",
       "       [ 0.02315539,  0.24035667],\n",
       "       [-0.35883877,  1.02716833],\n",
       "       [ 0.95414653,  0.04177433],\n",
       "       [-0.33921532,  0.96308888],\n",
       "       [ 0.59950492, -0.39774852],\n",
       "       [ 1.99019644,  0.39360049],\n",
       "       [ 0.33125729,  0.9365782 ],\n",
       "       [ 0.99460422,  0.35063363],\n",
       "       [ 1.98845457,  0.2628361 ],\n",
       "       [-0.67473718,  0.76419738],\n",
       "       [ 2.00751107,  0.3651166 ],\n",
       "       [ 1.78298331, -0.11490401],\n",
       "       [ 1.73616653, -0.22781554],\n",
       "       [ 0.40646216, -0.25422904],\n",
       "       [-1.02505346,  0.24337404],\n",
       "       [ 0.06414296,  0.07759793],\n",
       "       [ 1.30092145, -0.58089757],\n",
       "       [ 1.97425572,  0.30889897],\n",
       "       [ 0.03228388,  1.07937745],\n",
       "       [ 1.03086156, -0.02389082],\n",
       "       [-0.90062492,  0.30653639],\n",
       "       [ 0.08068561,  0.29131373],\n",
       "       [-0.98807765,  0.1039765 ],\n",
       "       [-0.47394435,  0.96143212],\n",
       "       [ 1.54651932, -0.35008497],\n",
       "       [ 0.23332453,  0.89648984],\n",
       "       [-0.58481687,  0.80318956],\n",
       "       [ 0.0374878 ,  1.02322111],\n",
       "       [-0.01943215,  1.07001032],\n",
       "       [-0.85323667,  0.39896937],\n",
       "       [ 0.92635535,  0.37695326],\n",
       "       [ 1.43250553, -0.50148981],\n",
       "       [ 0.60622756,  0.66229531],\n",
       "       [ 1.94401554,  0.13685573],\n",
       "       [ 0.57984414, -0.39868907],\n",
       "       [ 0.74317519,  0.50998316],\n",
       "       [ 0.87116686,  0.54105191],\n",
       "       [-0.71045745,  0.57281877],\n",
       "       [-0.03081568,  0.33644614],\n",
       "       [-0.0298505 ,  0.99553114],\n",
       "       [-0.06313347,  0.42194174],\n",
       "       [-0.79223214,  0.68354165],\n",
       "       [ 0.92098434,  0.04171051],\n",
       "       [ 0.17794377,  0.04536893],\n",
       "       [ 1.34934828, -0.3941652 ],\n",
       "       [ 1.98387143,  0.50898445],\n",
       "       [ 1.00104892,  0.27158454],\n",
       "       [-0.5425424 ,  0.76257612],\n",
       "       [-0.9969011 ,  0.47226403],\n",
       "       [ 0.23408511, -0.15381658],\n",
       "       [ 1.21437019, -0.40862022],\n",
       "       [ 1.60101745, -0.17940652],\n",
       "       [ 1.15844202, -0.40408591],\n",
       "       [-1.00922523,  0.2161359 ],\n",
       "       [ 2.01865957,  0.50313426],\n",
       "       [ 0.88839866,  0.39017093],\n",
       "       [ 0.10170896, -0.01206481],\n",
       "       [-0.01241966,  0.47064905],\n",
       "       [ 0.44566504,  0.94595998],\n",
       "       [-0.3569344 ,  0.98319206],\n",
       "       [-0.43845037,  0.88374167],\n",
       "       [ 1.01534178,  0.06687469],\n",
       "       [ 0.2310607 ,  0.01153495],\n",
       "       [ 1.35098772, -0.44520507],\n",
       "       [ 0.25423421,  1.0205525 ],\n",
       "       [-0.00586456,  0.24919627],\n",
       "       [ 0.4752852 , -0.37028432],\n",
       "       [ 1.68071768, -0.34775296],\n",
       "       [ 0.84564282,  0.45629647],\n",
       "       [ 0.34218757,  0.90613948],\n",
       "       [ 0.58741368, -0.35078742],\n",
       "       [-0.17818292,  0.96641541],\n",
       "       [ 1.25865528, -0.4740009 ],\n",
       "       [ 0.33542814, -0.18023343],\n",
       "       [ 0.52630774,  0.94876068],\n",
       "       [ 0.6424051 ,  0.77717105],\n",
       "       [ 0.15770292,  0.04709417],\n",
       "       [ 1.11178863, -0.5065278 ],\n",
       "       [ 0.60370903,  0.83759912],\n",
       "       [ 1.48247118, -0.32721961],\n",
       "       [ 0.39793421, -0.36876588],\n",
       "       [ 1.67240934, -0.09328043],\n",
       "       [ 0.47551295,  0.85547255],\n",
       "       [ 0.70605116, -0.42241887],\n",
       "       [ 1.56418943, -0.34860626],\n",
       "       [ 0.94012854, -0.57508877],\n",
       "       [ 0.61400301,  0.83833823],\n",
       "       [-1.07139757,  0.02669316],\n",
       "       [-0.91308996,  0.52626435],\n",
       "       [-0.74824469,  0.51823742],\n",
       "       [ 0.14688241,  0.0297201 ],\n",
       "       [ 0.94362014, -0.44829425],\n",
       "       [ 1.84489829,  0.40601924],\n",
       "       [-0.66827347,  0.69085682],\n",
       "       [-0.7362418 ,  0.59951884],\n",
       "       [ 0.60146482,  0.72551706],\n",
       "       [ 1.47437703, -0.37541022],\n",
       "       [-0.88760005,  0.50864517],\n",
       "       [ 1.92892164,  0.18201791],\n",
       "       [ 1.78673422, -0.27470711],\n",
       "       [ 1.95130228,  0.26574549],\n",
       "       [ 0.33471666,  0.98057089],\n",
       "       [-0.16884749,  0.89206411],\n",
       "       [ 0.77063994, -0.51750338],\n",
       "       [-0.88700503,  0.36696366],\n",
       "       [-0.62886492,  0.79087211],\n",
       "       [-0.93006783,  0.38754885],\n",
       "       [ 0.42447858,  0.93268774],\n",
       "       [ 0.80861392,  0.53599924],\n",
       "       [ 0.94000928,  0.27111431],\n",
       "       [-0.01609181,  0.37369612],\n",
       "       [-0.53633385,  0.86026837],\n",
       "       [ 1.88281749,  0.24435589],\n",
       "       [ 0.17575161, -0.007231  ],\n",
       "       [ 0.12423604,  1.00790161],\n",
       "       [ 1.62152568, -0.22328525]])"
      ]
     },
     "execution_count": 273,
     "metadata": {},
     "output_type": "execute_result"
    }
   ],
   "source": [
    "x"
   ]
  },
  {
   "cell_type": "code",
   "execution_count": 274,
   "metadata": {
    "collapsed": true
   },
   "outputs": [
    {
     "data": {
      "text/plain": [
       "array([0, 1, 1, 0, 1, 1, 0, 1, 0, 1, 0, 1, 1, 1, 0, 0, 0, 1, 0, 0, 1, 1,\n",
       "       0, 1, 0, 1, 1, 1, 1, 0, 0, 0, 1, 1, 0, 1, 1, 0, 0, 1, 1, 0, 0, 1,\n",
       "       1, 0, 0, 0, 1, 1, 0, 1, 1, 0, 1, 0, 0, 1, 0, 0, 1, 0, 1, 0, 1, 0,\n",
       "       0, 1, 0, 0, 1, 0, 1, 1, 1, 0, 1, 0, 0, 1, 1, 0, 1, 1, 1, 0, 0, 0,\n",
       "       1, 1, 0, 0, 1, 0, 1, 1, 1, 1, 0, 1, 1, 1, 0, 0, 0, 1, 0, 0, 1, 0,\n",
       "       0, 0, 0, 0, 0, 1, 0, 1, 1, 0, 0, 0, 1, 0, 1, 0, 0, 1, 1, 1, 0, 0,\n",
       "       0, 1, 1, 1, 1, 0, 1, 0, 1, 1, 0, 0, 0, 0, 1, 1, 0, 1, 1, 1, 0, 0,\n",
       "       1, 0, 1, 1, 0, 0, 1, 1, 0, 1, 1, 1, 0, 1, 1, 1, 0, 0, 0, 0, 1, 1,\n",
       "       1, 0, 0, 0, 1, 0, 1, 1, 1, 0, 0, 1, 0, 0, 0, 0, 0, 0, 1, 0, 1, 1,\n",
       "       0, 1], dtype=int64)"
      ]
     },
     "execution_count": 274,
     "metadata": {},
     "output_type": "execute_result"
    }
   ],
   "source": [
    "y"
   ]
  },
  {
   "cell_type": "code",
   "execution_count": 276,
   "metadata": {},
   "outputs": [
    {
     "data": {
      "image/png": "[encoded data removed]",
      "text/plain": [
       "<Figure size 432x288 with 1 Axes>"
      ]
     },
     "metadata": {
      "needs_background": "light"
     },
     "output_type": "display_data"
    }
   ],
   "source": [
    "plt.scatter(x[:, 0], x[:,1])\n",
    "plt.tight_layout()\n",
    "plt.show()"
   ]
  },
  {
   "cell_type": "code",
   "execution_count": 277,
   "metadata": {},
   "outputs": [],
   "source": [
    "from sklearn.cluster import DBSCAN"
   ]
  },
  {
   "cell_type": "code",
   "execution_count": 278,
   "metadata": {},
   "outputs": [],
   "source": [
    "from sklearn.metrics.cluster import silhouette_score"
   ]
  },
  {
   "cell_type": "code",
   "execution_count": 279,
   "metadata": {},
   "outputs": [],
   "source": [
    "db = DBSCAN(eps=0.2, min_samples=5, metric='euclidean')"
   ]
  },
  {
   "cell_type": "code",
   "execution_count": 280,
   "metadata": {},
   "outputs": [],
   "source": [
    "y_db = db.fit_predict(x)"
   ]
  },
  {
   "cell_type": "code",
   "execution_count": 281,
   "metadata": {
    "collapsed": true
   },
   "outputs": [
    {
     "data": {
      "text/plain": [
       "array([0, 1, 1, 0, 1, 1, 0, 1, 0, 1, 0, 1, 1, 1, 0, 0, 0, 1, 0, 0, 1, 1,\n",
       "       0, 1, 0, 1, 1, 1, 1, 0, 0, 0, 1, 1, 0, 1, 1, 0, 0, 1, 1, 0, 0, 1,\n",
       "       1, 0, 0, 0, 1, 1, 0, 1, 1, 0, 1, 0, 0, 1, 0, 0, 1, 0, 1, 0, 1, 0,\n",
       "       0, 1, 0, 0, 1, 0, 1, 1, 1, 0, 1, 0, 0, 1, 1, 0, 1, 1, 1, 0, 0, 0,\n",
       "       1, 1, 0, 0, 1, 0, 1, 1, 1, 1, 0, 1, 1, 1, 0, 0, 0, 1, 0, 0, 1, 0,\n",
       "       0, 0, 0, 0, 0, 1, 0, 1, 1, 0, 0, 0, 1, 0, 1, 0, 0, 1, 1, 1, 0, 0,\n",
       "       0, 1, 1, 1, 1, 0, 1, 0, 1, 1, 0, 0, 0, 0, 1, 1, 0, 1, 1, 1, 0, 0,\n",
       "       1, 0, 1, 1, 0, 0, 1, 1, 0, 1, 1, 1, 0, 1, 1, 1, 0, 0, 0, 0, 1, 1,\n",
       "       1, 0, 0, 0, 1, 0, 1, 1, 1, 0, 0, 1, 0, 0, 0, 0, 0, 0, 1, 0, 1, 1,\n",
       "       0, 1], dtype=int64)"
      ]
     },
     "execution_count": 281,
     "metadata": {},
     "output_type": "execute_result"
    }
   ],
   "source": [
    "y_db"
   ]
  },
  {
   "cell_type": "code",
   "execution_count": 283,
   "metadata": {},
   "outputs": [
    {
     "data": {
      "image/png": "[encoded data removed]",
      "text/plain": [
       "<Figure size 432x288 with 1 Axes>"
      ]
     },
     "metadata": {
      "needs_background": "light"
     },
     "output_type": "display_data"
    }
   ],
   "source": [
    "db = DBSCAN(eps=0.2, min_samples=5, metric='euclidean')\n",
    "y_db = db.fit_predict(x)\n",
    "plt.scatter(x[y_db==0, 0], x[y_db==0, 1], c='lightblue', marker='o', s=40,\n",
    "           edgecolor='black', label='cluster 1')\n",
    "plt.scatter(x[y_db==1, 0], x[y_db==1, 1], c='red', marker='s', s=40,\n",
    "           edgecolor='black', label='cluster 2')\n",
    "plt.legend()\n",
    "plt.tight_layout()"
   ]
  },
  {
   "cell_type": "code",
   "execution_count": 284,
   "metadata": {},
   "outputs": [
    {
     "data": {
      "image/png": "[encoded data removed]",
      "text/plain": [
       "<Figure size 432x288 with 1 Axes>"
      ]
     },
     "metadata": {
      "needs_background": "light"
     },
     "output_type": "display_data"
    }
   ],
   "source": [
    "km = KMeans(n_clusters=2, random_state=0)\n",
    "y_km = km.fit_predict(x)\n",
    "plt.scatter(x[y_km==0, 0], x[y_km==0, 1], c='lightblue', marker='o', s=40,\n",
    "           edgecolor='black', label='cluster 1')\n",
    "plt.scatter(x[y_km==1, 0], x[y_km==1, 1], c='red', marker='s', s=40,\n",
    "           edgecolor='black', label='cluster 2')\n",
    "plt.legend()\n",
    "plt.tight_layout()"
   ]
  },
  {
   "cell_type": "code",
   "execution_count": null,
   "metadata": {},
   "outputs": [],
   "source": []
  }
 ],
 "metadata": {
  "kernelspec": {
   "display_name": "Python 3",
   "language": "python",
   "name": "python3"
  },
  "language_info": {
   "codemirror_mode": {
    "name": "ipython",
    "version": 3
   },
   "file_extension": ".py",
   "mimetype": "text/x-python",
   "name": "python",
   "nbconvert_exporter": "python",
   "pygments_lexer": "ipython3",
   "version": "3.8.3"
  }
 },
 "nbformat": 4,
 "nbformat_minor": 4
}
