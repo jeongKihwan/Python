{
 "cells": [
  {
   "cell_type": "code",
   "execution_count": 1,
   "metadata": {},
   "outputs": [],
   "source": [
    "# 천단뒤 구분자 찍기 코드\n",
    "# 임의의 수를 입력받은 후 천단위 구분자 ','를 찍어서 출력하는 코드\n",
    "# => 1321465647 => 1,321,465,647\n",
    "# => 21458 => 21,458\n",
    "\n",
    "# 힌트 ) 천 단위 구분자는 뒤에서 3번째 자리마다 추가"
   ]
  },
  {
   "cell_type": "code",
   "execution_count": 4,
   "metadata": {},
   "outputs": [
    {
     "name": "stdout",
     "output_type": "stream",
     "text": [
      "길이가 5 이상인 임의의 양의 정수를 입력해주세요.12345678\n"
     ]
    },
    {
     "data": {
      "text/plain": [
       "'12345678'"
      ]
     },
     "execution_count": 4,
     "metadata": {},
     "output_type": "execute_result"
    }
   ],
   "source": [
    "num = input('길이가 5 이상인 임의의 양의 정수를 입력해주세요.')\n",
    "num"
   ]
  },
  {
   "cell_type": "code",
   "execution_count": 5,
   "metadata": {},
   "outputs": [
    {
     "data": {
      "text/plain": [
       "'87654321'"
      ]
     },
     "execution_count": 5,
     "metadata": {},
     "output_type": "execute_result"
    }
   ],
   "source": [
    "num[::-1]"
   ]
  },
  {
   "cell_type": "code",
   "execution_count": 14,
   "metadata": {},
   "outputs": [],
   "source": [
    "def thousand_separator(): \n",
    "    num = input('길이가 5 이상인 임의의 양의 정수를 입력해주세요.')\n",
    "    num[::-1]\n",
    "\n",
    "    new_num = ''\n",
    "\n",
    "    for i, n in enumerate(num[::-1]):\n",
    "        if (i%3 == 0) & (i != len(num)) & (i != 0):\n",
    "            new_num += ','+n\n",
    "        else:\n",
    "            new_num += n\n",
    "\n",
    "    return new_num[::-1]       "
   ]
  },
  {
   "cell_type": "code",
   "execution_count": 16,
   "metadata": {},
   "outputs": [
    {
     "name": "stdout",
     "output_type": "stream",
     "text": [
      "길이가 5 이상인 임의의 양의 정수를 입력해주세요.12345678\n"
     ]
    },
    {
     "data": {
      "text/plain": [
       "'12,345,678'"
      ]
     },
     "execution_count": 16,
     "metadata": {},
     "output_type": "execute_result"
    }
   ],
   "source": [
    "thousand_separator()"
   ]
  },
  {
   "cell_type": "code",
   "execution_count": null,
   "metadata": {},
   "outputs": [],
   "source": []
  },
  {
   "cell_type": "code",
   "execution_count": 20,
   "metadata": {},
   "outputs": [],
   "source": [
    "# \n",
    "url = 'http://news.naver.com/main/read.\\\n",
    "nhn?mode=LSD&mid=shm&sid1=105&oid= 028&aid=003'\n",
    "\n",
    "# D = {'mode': 'LSD', 'mid':'shm', 'sid1':105, 'oid'='028','aid'='003'}"
   ]
  },
  {
   "cell_type": "code",
   "execution_count": 21,
   "metadata": {},
   "outputs": [
    {
     "data": {
      "text/plain": [
       "['http://news.naver.com/main/read.nhn',\n",
       " 'mode=LSD&mid=shm&sid1=105&oid= 028&aid=003']"
      ]
     },
     "execution_count": 21,
     "metadata": {},
     "output_type": "execute_result"
    }
   ],
   "source": [
    "url.split('?')"
   ]
  },
  {
   "cell_type": "code",
   "execution_count": 22,
   "metadata": {},
   "outputs": [
    {
     "data": {
      "text/plain": [
       "'mode=LSD&mid=shm&sid1=105&oid= 028&aid=003'"
      ]
     },
     "execution_count": 22,
     "metadata": {},
     "output_type": "execute_result"
    }
   ],
   "source": [
    "url.split('?')[1]"
   ]
  },
  {
   "cell_type": "code",
   "execution_count": 23,
   "metadata": {},
   "outputs": [
    {
     "data": {
      "text/plain": [
       "['mode=LSD', 'mid=shm', 'sid1=105', 'oid= 028', 'aid=003']"
      ]
     },
     "execution_count": 23,
     "metadata": {},
     "output_type": "execute_result"
    }
   ],
   "source": [
    "url.split('?')[1].split('&')"
   ]
  },
  {
   "cell_type": "code",
   "execution_count": 24,
   "metadata": {},
   "outputs": [
    {
     "data": {
      "text/plain": [
       "{'mode': 'LSD', 'mid': 'shm', 'sid1': '105', 'oid': ' 028', 'aid': '003'}"
      ]
     },
     "execution_count": 24,
     "metadata": {},
     "output_type": "execute_result"
    }
   ],
   "source": [
    "d = {}\n",
    "for i in url.split('?')[1].split('&'):\n",
    "    k, v = i.split('=')\n",
    "    d[k] = v\n",
    "d"
   ]
  },
  {
   "cell_type": "code",
   "execution_count": null,
   "metadata": {},
   "outputs": [],
   "source": [
    "# 'text.txt'을 열어서 각각의 문자가 몇 개 들어있는지 dict로 저장..\n",
    "d = {'k':23, 'A':12, 'c': 32, '거':5 .....}"
   ]
  },
  {
   "cell_type": "code",
   "execution_count": 34,
   "metadata": {
    "collapsed": true
   },
   "outputs": [
    {
     "data": {
      "text/plain": [
       "[('이', 7),\n",
       " ('\\n', 6),\n",
       " ('의', 4),\n",
       " ('는', 4),\n",
       " ('한', 4),\n",
       " ('러', 4),\n",
       " ('다', 4),\n",
       " ('을', 3),\n",
       " ('인', 3),\n",
       " ('를', 3),\n",
       " ('고', 3),\n",
       " ('있', 3),\n",
       " ('자', 2),\n",
       " ('별', 2),\n",
       " ('슬', 2),\n",
       " ('픔', 2),\n",
       " ('내', 2),\n",
       " ('하', 2),\n",
       " ('임', 2),\n",
       " ('에', 2),\n",
       " ('애', 2),\n",
       " ('절', 2),\n",
       " ('은', 2),\n",
       " ('근', 2),\n",
       " ('히', 2),\n",
       " ('드', 2),\n",
       " ('적', 2),\n",
       " ('.', 2),\n",
       " ('그', 2),\n",
       " ('나', 2),\n",
       " ('상', 2),\n",
       " ('으', 2),\n",
       " ('로', 2),\n",
       " ('시', 1),\n",
       " ('화', 1),\n",
       " ('감', 1),\n",
       " ('면', 1),\n",
       " ('서', 1),\n",
       " ('대', 1),\n",
       " ('사', 1),\n",
       " ('랑', 1),\n",
       " ('종', 1),\n",
       " ('(', 1),\n",
       " ('忍', 1),\n",
       " ('從', 1),\n",
       " (')', 1),\n",
       " ('여', 1),\n",
       " ('성', 1),\n",
       " ('어', 1),\n",
       " ('조', 1),\n",
       " ('보', 1),\n",
       " ('호', 1),\n",
       " ('소', 1),\n",
       " ('속', 1),\n",
       " ('신', 1),\n",
       " ('충', 1),\n",
       " ('격', 1),\n",
       " ('과', 1),\n",
       " (',', 1),\n",
       " ('리', 1),\n",
       " ('가', 1),\n",
       " ('져', 1),\n",
       " ('줄', 1),\n",
       " ('커', 1),\n",
       " ('란', 1),\n",
       " ('처', 1),\n",
       " ('냄', 1),\n",
       " ('써', 1),\n",
       " ('떠', 1),\n",
       " ('지', 1),\n",
       " ('않', 1),\n",
       " ('기', 1),\n",
       " ('바', 1),\n",
       " ('라', 1),\n",
       " ('간', 1),\n",
       " ('심', 1),\n",
       " ('정', 1),\n",
       " ('전', 1),\n",
       " ('달', 1),\n",
       " ('것', 1),\n",
       " ('볼', 1),\n",
       " ('수', 1),\n",
       " ('도', 1)]"
      ]
     },
     "execution_count": 34,
     "metadata": {},
     "output_type": "execute_result"
    }
   ],
   "source": [
    "with open('poem.txt') as f:\n",
    "    data = f.read()\n",
    "    d = {}\n",
    "    for c in data:\n",
    "        if c == ' ':\n",
    "            continue  \n",
    "        elif c in d:\n",
    "            d[c] += 1\n",
    "        else:\n",
    "            d[c] = 1\n",
    "sorted(d.items(), key = lambda x : x[1], reverse=True)      "
   ]
  },
  {
   "cell_type": "code",
   "execution_count": 35,
   "metadata": {
    "collapsed": true
   },
   "outputs": [
    {
     "data": {
      "text/plain": [
       "[('은근히', 2),\n",
       " ('있다.', 2),\n",
       " ('이', 1),\n",
       " ('시의', 1),\n",
       " ('화자는', 1),\n",
       " ('이별의', 1),\n",
       " ('슬픔을', 1),\n",
       " ('감내하면서', 1),\n",
       " ('임에', 1),\n",
       " ('대한', 1),\n",
       " ('애절한', 1),\n",
       " ('사랑을', 1),\n",
       " ('드러내는', 1),\n",
       " ('인종(忍從)적인', 1),\n",
       " ('여성의', 1),\n",
       " ('어조를', 1),\n",
       " ('보이고', 1),\n",
       " ('그러나', 1),\n",
       " ('이러한', 1),\n",
       " ('애상적인', 1),\n",
       " ('호소', 1),\n",
       " ('속에', 1),\n",
       " ('자신의', 1),\n",
       " ('충격과', 1),\n",
       " ('슬픔,', 1),\n",
       " ('그리고', 1),\n",
       " ('이별이', 1),\n",
       " ('가져다줄', 1),\n",
       " ('커다란', 1),\n",
       " ('상처를', 1),\n",
       " ('드러냄으로써', 1),\n",
       " ('임이', 1),\n",
       " ('떠나지', 1),\n",
       " ('않기를', 1),\n",
       " ('바라는', 1),\n",
       " ('간절한', 1),\n",
       " ('심정을', 1),\n",
       " ('전달하고', 1),\n",
       " ('있는', 1),\n",
       " ('것으로', 1),\n",
       " ('볼', 1),\n",
       " ('수도', 1)]"
      ]
     },
     "execution_count": 35,
     "metadata": {},
     "output_type": "execute_result"
    }
   ],
   "source": [
    "# 어절단위로 각각의 유니크한 어절이 몇 개씩 존재..\n",
    "\n",
    "with open('poem.txt') as f:\n",
    "    data = f.read()\n",
    "    d = {}\n",
    "    for c in data.split():\n",
    "        if c == ' ':\n",
    "            continue  \n",
    "        elif c in d:\n",
    "            d[c] += 1\n",
    "        else:\n",
    "            d[c] = 1\n",
    "sorted(d.items(), key = lambda x : x[1], reverse=True)      "
   ]
  },
  {
   "cell_type": "code",
   "execution_count": null,
   "metadata": {},
   "outputs": [],
   "source": [
    "# 텍스트 파일을 열어서 특정 단어가 몇 개 존재하는지 출력.\n",
    "# 단, count를 사용하지 않는다.."
   ]
  },
  {
   "cell_type": "code",
   "execution_count": 71,
   "metadata": {},
   "outputs": [],
   "source": [
    "def word_count(file, word):\n",
    "    count = 0\n",
    "    with open(file, encoding='utf-8') as f:\n",
    "        data = f.read()\n",
    "        idx = data.find(word)\n",
    "        while idx != -1:\n",
    "            count += 1\n",
    "            idx = data.find(word, idx+1)\n",
    "            print(idx)\n",
    "    return count"
   ]
  },
  {
   "cell_type": "code",
   "execution_count": 76,
   "metadata": {
    "collapsed": true
   },
   "outputs": [
    {
     "name": "stdout",
     "output_type": "stream",
     "text": [
      "25\n",
      "178\n",
      "246\n",
      "448\n",
      "486\n",
      "526\n",
      "756\n",
      "1247\n",
      "1384\n",
      "1428\n",
      "1462\n",
      "1474\n",
      "2257\n",
      "-1\n"
     ]
    },
    {
     "data": {
      "text/plain": [
       "14"
      ]
     },
     "execution_count": 76,
     "metadata": {},
     "output_type": "execute_result"
    }
   ],
   "source": [
    "word_count('autumn.txt', '야외')"
   ]
  },
  {
   "cell_type": "code",
   "execution_count": 62,
   "metadata": {},
   "outputs": [
    {
     "name": "stdout",
     "output_type": "stream",
     "text": [
      "-1\n"
     ]
    }
   ],
   "source": [
    "with open('autumn.txt', encoding='utf-8') as f:\n",
    "    data = f.read()\n",
    "    idx = data.find('언ㄹㄴ릴ㅇ')\n",
    "    print(idx)"
   ]
  },
  {
   "cell_type": "code",
   "execution_count": 84,
   "metadata": {},
   "outputs": [
    {
     "data": {
      "text/plain": [
       "'자바은 재미있습니다...'"
      ]
     },
     "execution_count": 84,
     "metadata": {},
     "output_type": "execute_result"
    }
   ],
   "source": [
    "# 문자열에서 텍스트를 수정, 삭제, 추가가 안 됨..\n",
    "\n",
    "text = '파이썬은 재미있습니다...'\n",
    "text1 = text.replace('파이썬', '자바')\n",
    "text1"
   ]
  },
  {
   "cell_type": "code",
   "execution_count": 79,
   "metadata": {},
   "outputs": [],
   "source": [
    "# 텍스트 파일에서 특정 단어를 다른 단어로 수정해서 새로운 \n",
    "# 문서파일로 저장하는 코드를 작성하시오."
   ]
  },
  {
   "cell_type": "code",
   "execution_count": 80,
   "metadata": {},
   "outputs": [],
   "source": [
    "# 입력값\n",
    "### file = test.txt\n",
    "### old_word = input('바꿀 단어를 입력하세요')\n",
    "### new_word = input('새로운 단어를 입력하세요')\n",
    "\n",
    "# 출력값\n",
    "### test_new.txt"
   ]
  },
  {
   "cell_type": "code",
   "execution_count": 93,
   "metadata": {},
   "outputs": [
    {
     "name": "stdout",
     "output_type": "stream",
     "text": [
      "바꿀 단어를 입력하세요가을\n",
      "새로운 단어를 입력하세요여름\n",
      "선선한 여름이면 야외활동이 증가한다. 여름은 야외활동 중 진드기와 각종 세균 때문에 감염성 발열 질환이 빈번하게 발생하는 시기이기도 하다. 해마다 질병관리청에서는 여름에 빈번하게 발생하는 쯔쯔가무시병, 유행성출혈열, 렙토스피라증 등의 여름철 발열성 질환에 대해 경보를 발령하고 있다.\n",
      "\n",
      "최근 코로나19로 인해 벌초 등 야외활동이 줄어들면서 여름철 발열성 질환의 유행이 과거에 비해 줄어들 것으로 예상하지만 최근 추석연휴를 맞아 사람이 드문 야외는 괜찮을 거라는 생각으로 여행을 계획하는 사람들이 증가하면서 여름철 발열성 질환에 대한 주의가 필요하다.\n",
      "\n",
      "대동병원 지역응급의료센터 김미란 센터장(응급의학과 전문의)은 “쯔쯔가무시병 등 여름철에 유행하는 발열성 감염 질환은 증상이 최근 유행하는 코로나19와 유사해 본인 건강은 물론 의료기관 및 방역체계 혼선을 줄 가능성이 있으므로 이를 방지하기 위해서는 야외활동 전에 미리 예방 수칙을 파악해 준수하는 것이 중요하다”며 “야외활동 후 증상이 나타나면 즉시 의료기관에 방문해 진료를 받아야 하며 야외활동력을 의료진에게 알려야 한다”라고 말했다.\n",
      "\n",
      "쯔쯔가무시병, 진드기 통해 감염\n",
      "가장 대표적인 여름철 발열성 감염 질환은 쯔쯔가무시병이다. 질병관리청 자료에 따르면 2019년 쯔쯔가무시병으로 진료를 본 전체 인원은 4005명으로 본격적인 여름로 접어드는 시기인 9월부터 점점 증가하기 시작해 11월 절정을 이루다가 감소했다. 이는 쯔쯔가무시병 매개인 진드기 유충이 9월에 나타나 11월에 가장 많아지는 것과 야외활동이 증가하는 시기가 겹치는 것에서 원인을 찾을 수 있다.\n",
      "\n",
      "쯔쯔가무시병은 쯔쯔가무시균(Orientia tsutsugamushi) 감염에 의한 급성 발열성 질환으로 들판이나 풀숲에 살고 있는 들쥐 등의 설치류에 기생하는 털진드기 유충에 물려 감염되며 제3급 법정 감염병으로 지정되어 있다.\n",
      "\n",
      "주로 팔이나 다리, 목 등 외부에 노출된 부위에 물리는데 1∼3주 정도의 잠복기 후 갑작스러운 오한과 발열, 두통 등이 초기 증상이며 이어 근육통, 구토, 기침, 복통, 인후염 등이 동반되며 발진과 가피가 나타난다. 심할 경우 기관지염, 폐렴, 심근염 등 합병증이 발생할 수 있다.\n",
      "\n",
      "오한, 발열, 두통, 전신쇠약, 근육통 등은 쯔쯔가무시병 환자들에게 가장 많이 나타나는 증상으로 여름부터 유행하기 시작하는 독감이나 코로나19 증상과 유사하다. 차이가 있다면 가려움증이 없는 발진과 진드기에 물린 부위에 직경 5∼20mm 가량의 검은 딱지가 생기는 것이다.\n",
      "\n",
      "쯔쯔가무시병은 여름철 야외 활동력과 발진, 가피 등 특징적 소견으로 진단하며 이후 혈액 검사, 유전자 검출법 및 배양법 등으로 확진한다. 치료를 위해서는 독시사이클린, 테트라사이클린과 같은 항생제를 사용한다.\n",
      "\n",
      "쯔쯔가무시병과 같은 진드기 매개 감염병 예방을 위해서는 야외활동 시 긴 옷 착용하기 풀밭에 앉거나 눕지 않기 풀밭에 옷 벗어두지 않기 야외 작업 시 토시, 장화 등을 활용해 피부 노출 최소화하기 야외활동 후 샤워하기 야외활동 후 옷은 세탁하기 등이 있다.\n",
      "\n",
      "유행성출혈열, 들쥐 배설물 통해 전염\n",
      "유행성출혈열은 신증후군출혈열이라고도 불리는데 한탄바이러스, 서울바이러스, 푸우말라바이러스 등이 원인균이다. 감염된 들쥐의 배설물이나 침을 통해 바이러스가 나와 호흡기를 통해 전염되며 전 세계적으로 매년 약 15만 명의 환자가 발생하는 것으로 알려져 있다.\n",
      "\n",
      "초기증상은 독감과 유사하다. 고열과 두통, 복통 등의 증세를 보이며 감염 후 3∼5일이 지나면 얼굴과 몸에 붉은 반점이 나타난다. 심한 경우 쇼크 증상이나 단백뇨, 빈뇨, 출혈 등의 증상이 나타날 수 있다. 특히 출혈은 각종 장기에 일어날 수 있으므로 빠른 치료가 필요하다.\n",
      "\n",
      "유행성출혈열을 예방할 수 있는 가장 효과적인 방법은 발생 지역을 방문하지 않는 것이다. 들쥐의 분변이나 오줌이 배설 된 풀숲에서 휴식이나 야영을 피하고 배설물과 접촉하지 않도록 긴소매 옷을 착용하며, 감염 위험이 있는 업무를 할 경우 예방백신을 접종해 면역력을 키워두는 것이 좋다.\n",
      "\n",
      "렙토스피라증, 상처 주의해야\n",
      "렙토스피라증은 가축이나 야생 동물의 소변을 통해 전파되며 그로 인해 오염된 강물, 지하수, 흙과 접촉해도 감염이 된다. 감염 후 7∼12일정도의 잠복기가 있으며 갑자기 시작되는 발열과 두통, 오한, 종아리와 허벅지 등에 심한 근육통, 충혈 등의 증상이 대표적이다. 심할 경우 급성 신부전증, 전신의 출혈 등과 같은 증세를 보이며 황달이나 신장 손상이 발생할 경우 30%는 사망에 이르는 질병이다.\n",
      "\n",
      "렙토스피라증은 살짝 긁히는 정도만으로도 감염이 될 수 있는 질병이기 때문에 야외활동을 할 때 상처가 나지 않도록 주의해야 한다. 또한 긴 옷이나 토시 등을 착용해 상처가 나는 것을 예방하고 감염 가능성이 있는 물과의 접촉을 피해야 한다.\n",
      "\n",
      "오늘(5일) 새벽 설악산 정상에서 올여름 들어 첫얼음이 관측됐다.\n",
      "\n",
      "강원지방기상청에 따르면 오늘 아침 최저 기온은 설악산 영하 1.7도를 비롯해 향로봉 영하 1.1도 등 해발고도가 1천ｍ가 넘는 높은 산지는 기온이 영하로 떨어졌다.\n",
      "\n",
      "영하의 날씨에 설악산 중청대피소에는 첫얼음이 관측됐다.\n",
      "\n",
      "설악산 첫얼음은 2015년 10월 2일, 2016년 10월 9일, 2017년 9월 29일, 2018년 10월 11일, 지난해 10월 9일에 관측됐다.\n",
      "\n",
      "내륙과 산지도 기온이 크게 낮아져 철원 임남 0.2도, 대관령 3.2도, 화천 4.6도, 평창 5.2도, 춘천 5.8도 등으로 쌀쌀한 날씨를 보였다.\n",
      "\n"
     ]
    }
   ],
   "source": [
    "old_word  = input('바꿀 단어를 입력하세요')\n",
    "new_word = input('새로운 단어를 입력하세요')\n",
    "\n",
    "with open('autumn.txt', 'r', encoding='utf-8') as f:\n",
    "    with open('autumn_new.txt', 'w', encoding='utf-8') as h:\n",
    "        data = f.read()\n",
    "        data1 = data.replace(old_word, new_word)\n",
    "        h.write(data1)\n",
    "        \n",
    "with open('autumn_new.txt', 'r', encoding='utf-8') as f:\n",
    "    data = f.read()\n",
    "    print(data)    "
   ]
  },
  {
   "cell_type": "raw",
   "metadata": {},
   "source": []
  },
  {
   "cell_type": "code",
   "execution_count": null,
   "metadata": {},
   "outputs": [],
   "source": []
  },
  {
   "cell_type": "code",
   "execution_count": null,
   "metadata": {},
   "outputs": [],
   "source": []
  }
 ],
 "metadata": {
  "kernelspec": {
   "display_name": "Python 3",
   "language": "python",
   "name": "python3"
  },
  "language_info": {
   "codemirror_mode": {
    "name": "ipython",
    "version": 3
   },
   "file_extension": ".py",
   "mimetype": "text/x-python",
   "name": "python",
   "nbconvert_exporter": "python",
   "pygments_lexer": "ipython3",
   "version": "3.8.3"
  }
 },
 "nbformat": 4,
 "nbformat_minor": 4
}
