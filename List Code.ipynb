{
 "cells": [
  {
   "cell_type": "markdown",
   "metadata": {},
   "source": [
    "### List Sample Code"
   ]
  },
  {
   "cell_type": "code",
   "execution_count": 1,
   "metadata": {
    "ExecuteTime": {
     "end_time": "2021-01-06T02:50:31.570823Z",
     "start_time": "2021-01-06T02:50:31.565502Z"
    }
   },
   "outputs": [],
   "source": [
    "range1 = range(10)\n",
    "range2 = range(10,20)"
   ]
  },
  {
   "cell_type": "code",
   "execution_count": 2,
   "metadata": {
    "ExecuteTime": {
     "end_time": "2021-01-06T02:50:49.416177Z",
     "start_time": "2021-01-06T02:50:49.406947Z"
    }
   },
   "outputs": [
    {
     "name": "stdout",
     "output_type": "stream",
     "text": [
      "[0, 1, 2, 3, 4, 5, 6, 7, 8, 9]\n",
      "[10, 11, 12, 13, 14, 15, 16, 17, 18, 19]\n"
     ]
    }
   ],
   "source": [
    "print(list(range1))\n",
    "print(list(range2))"
   ]
  },
  {
   "cell_type": "code",
   "execution_count": 3,
   "metadata": {
    "ExecuteTime": {
     "end_time": "2021-01-06T02:51:50.651190Z",
     "start_time": "2021-01-06T02:51:50.642970Z"
    }
   },
   "outputs": [
    {
     "name": "stdout",
     "output_type": "stream",
     "text": [
      "2\n",
      "b\n",
      "5\n"
     ]
    }
   ],
   "source": [
    "listdata = [1,2,'a','b','c',[4,5,6]]\n",
    "val1 = listdata[1]\n",
    "val2 = listdata[3]\n",
    "val3 = listdata[5][1]\n",
    "print(val1)\n",
    "print(val2)\n",
    "print(val3)"
   ]
  },
  {
   "cell_type": "code",
   "execution_count": 7,
   "metadata": {
    "ExecuteTime": {
     "end_time": "2021-01-06T02:54:05.213891Z",
     "start_time": "2021-01-06T02:54:05.202804Z"
    }
   },
   "outputs": [
    {
     "name": "stdout",
     "output_type": "stream",
     "text": [
      "지구은(는) 태양계에서 3번째에 위치하고 있습니다.\n",
      "지구은(는) 태양계에서 9번째에 위치하고 있습니다.\n"
     ]
    }
   ],
   "source": [
    "solarsys = ['태양', '수성', '금성', '지구', '화성', '목성', '토성', '천왕성', '해왕성', '지구']\n",
    "planet = '지구'\n",
    "pos = solarsys.index(planet)\n",
    "print('%s은(는) 태양계에서 %d번째에 위치하고 있습니다.' %(planet,pos))\n",
    "pos = solarsys.index(planet, 5)\n",
    "print('%s은(는) 태양계에서 %d번째에 위치하고 있습니다.' %(planet, pos))"
   ]
  },
  {
   "cell_type": "code",
   "execution_count": 8,
   "metadata": {
    "ExecuteTime": {
     "end_time": "2021-01-06T02:54:14.827940Z",
     "start_time": "2021-01-06T02:54:14.821955Z"
    }
   },
   "outputs": [],
   "source": [
    "solarsys = ['태양', '수성', '금성', '지구', '화성', '목성', '지구']\n",
    "solarsys1 = ['토성', '천왕성', '해왕성']\n",
    "planet = '지구'"
   ]
  },
  {
   "cell_type": "markdown",
   "metadata": {},
   "source": [
    "1. solarsys 에서 ['수성', '금성', '지구'] 를 출력\n",
    "2. solarsys에서 '지구'의 위치값 출력\n",
    "3. solarsys에서 '화성'을 '해왕성'으로 수정\n",
    "4. solarsys에서 '수성' 자리에 '명왕성'을 삽입\n",
    "5. solarsys에 '토성'을 맨 끝에 첨가\n",
    "6. solarsys에 맨 끝 요소를 제거하고 리턴\n",
    "7. solarsys에서 '금성'을 제거\n",
    "8. solarsys에서 1번째에서 3번째까지 살제\n",
    "9. solarsys에서 인덱스값 2번 요소를 삭제\n",
    "10.solarsys와 solarsys1을 합하시요.\n",
    "11. solarsys를 오름차순으로 정력하세요.\n",
    "12. solarsys를 내림차순으로 정렬하세요.\n",
    "13. solarsys의 원소의 순서를 바꾸세요.\n",
    "14. solarsys에 '만리장성'이 있는지 확인하세요.\n",
    "15. solarsys를 3번 반복하세요.\n",
    "16. solarsys의 길이를 리턴하세요.\n",
    "17. solarsys에서 '지구'의 갯수를 출력하세요.\n",
    "18. solarsys의 모든 원소를 지워세요.\n",
    "19. solarsys 리스트를 삭제하세요."
   ]
  },
  {
   "cell_type": "code",
   "execution_count": 9,
   "metadata": {
    "ExecuteTime": {
     "end_time": "2021-01-06T02:54:55.282560Z",
     "start_time": "2021-01-06T02:54:55.257719Z"
    }
   },
   "outputs": [
    {
     "data": {
      "text/plain": [
       "['수성', '금성', '지구']"
      ]
     },
     "execution_count": 9,
     "metadata": {},
     "output_type": "execute_result"
    }
   ],
   "source": [
    "solarsys[1:4]"
   ]
  },
  {
   "cell_type": "code",
   "execution_count": 10,
   "metadata": {
    "ExecuteTime": {
     "end_time": "2021-01-06T02:55:06.009691Z",
     "start_time": "2021-01-06T02:55:06.002582Z"
    }
   },
   "outputs": [
    {
     "data": {
      "text/plain": [
       "3"
      ]
     },
     "execution_count": 10,
     "metadata": {},
     "output_type": "execute_result"
    }
   ],
   "source": [
    "solarsys.index('지구')"
   ]
  },
  {
   "cell_type": "code",
   "execution_count": 12,
   "metadata": {
    "ExecuteTime": {
     "end_time": "2021-01-06T02:55:31.861378Z",
     "start_time": "2021-01-06T02:55:31.853940Z"
    }
   },
   "outputs": [
    {
     "data": {
      "text/plain": [
       "['태양', '수성', '금성', '지구', '해왕성', '목성', '지구']"
      ]
     },
     "execution_count": 12,
     "metadata": {},
     "output_type": "execute_result"
    }
   ],
   "source": [
    "solarsys[4] = '해왕성'\n",
    "solarsys"
   ]
  },
  {
   "cell_type": "code",
   "execution_count": 14,
   "metadata": {
    "ExecuteTime": {
     "end_time": "2021-01-06T02:56:49.762863Z",
     "start_time": "2021-01-06T02:56:49.752890Z"
    }
   },
   "outputs": [
    {
     "data": {
      "text/plain": [
       "['태양', '명왕성', '명왕성', '수성', '금성', '지구', '해왕성', '목성', '지구']"
      ]
     },
     "execution_count": 14,
     "metadata": {},
     "output_type": "execute_result"
    }
   ],
   "source": [
    "solarsys.insert(solarsys.index('수성'),'명왕성')\n",
    "solarsys"
   ]
  },
  {
   "cell_type": "code",
   "execution_count": 15,
   "metadata": {
    "ExecuteTime": {
     "end_time": "2021-01-06T02:57:18.783563Z",
     "start_time": "2021-01-06T02:57:18.774589Z"
    }
   },
   "outputs": [
    {
     "data": {
      "text/plain": [
       "['태양', '명왕성', '명왕성', '수성', '금성', '지구', '해왕성', '목성', '지구', '토성']"
      ]
     },
     "execution_count": 15,
     "metadata": {},
     "output_type": "execute_result"
    }
   ],
   "source": [
    "solarsys.append('토성')\n",
    "solarsys"
   ]
  },
  {
   "cell_type": "code",
   "execution_count": 16,
   "metadata": {
    "ExecuteTime": {
     "end_time": "2021-01-06T02:57:34.773616Z",
     "start_time": "2021-01-06T02:57:34.763686Z"
    }
   },
   "outputs": [
    {
     "data": {
      "text/plain": [
       "['태양', '명왕성', '명왕성', '수성', '금성', '지구', '해왕성', '목성', '지구']"
      ]
     },
     "execution_count": 16,
     "metadata": {},
     "output_type": "execute_result"
    }
   ],
   "source": [
    "solarsys.pop()\n",
    "solarsys"
   ]
  },
  {
   "cell_type": "code",
   "execution_count": 17,
   "metadata": {
    "ExecuteTime": {
     "end_time": "2021-01-06T02:57:54.154212Z",
     "start_time": "2021-01-06T02:57:54.144822Z"
    }
   },
   "outputs": [
    {
     "data": {
      "text/plain": [
       "['태양', '명왕성', '명왕성', '수성', '지구', '해왕성', '목성', '지구']"
      ]
     },
     "execution_count": 17,
     "metadata": {},
     "output_type": "execute_result"
    }
   ],
   "source": [
    "solarsys.remove('금성')\n",
    "solarsys"
   ]
  },
  {
   "cell_type": "code",
   "execution_count": 18,
   "metadata": {
    "ExecuteTime": {
     "end_time": "2021-01-06T02:58:05.645690Z",
     "start_time": "2021-01-06T02:58:05.636292Z"
    }
   },
   "outputs": [
    {
     "data": {
      "text/plain": [
       "['태양', '지구', '해왕성', '목성', '지구']"
      ]
     },
     "execution_count": 18,
     "metadata": {},
     "output_type": "execute_result"
    }
   ],
   "source": [
    "del solarsys[1:4]\n",
    "solarsys"
   ]
  },
  {
   "cell_type": "code",
   "execution_count": 20,
   "metadata": {
    "ExecuteTime": {
     "end_time": "2021-01-06T02:58:21.864825Z",
     "start_time": "2021-01-06T02:58:21.854567Z"
    }
   },
   "outputs": [
    {
     "data": {
      "text/plain": [
       "['태양', '지구', '지구']"
      ]
     },
     "execution_count": 20,
     "metadata": {},
     "output_type": "execute_result"
    }
   ],
   "source": [
    "del solarsys[2]\n",
    "solarsys"
   ]
  },
  {
   "cell_type": "code",
   "execution_count": 21,
   "metadata": {
    "ExecuteTime": {
     "end_time": "2021-01-06T02:58:39.340931Z",
     "start_time": "2021-01-06T02:58:39.332905Z"
    }
   },
   "outputs": [
    {
     "data": {
      "text/plain": [
       "['태양', '지구', '지구', '토성', '천왕성', '해왕성']"
      ]
     },
     "execution_count": 21,
     "metadata": {},
     "output_type": "execute_result"
    }
   ],
   "source": [
    "solarsys = solarsys + solarsys1\n",
    "solarsys"
   ]
  },
  {
   "cell_type": "code",
   "execution_count": 22,
   "metadata": {
    "ExecuteTime": {
     "end_time": "2021-01-06T02:59:10.844469Z",
     "start_time": "2021-01-06T02:59:10.836043Z"
    }
   },
   "outputs": [
    {
     "data": {
      "text/plain": [
       "['지구', '지구', '천왕성', '태양', '토성', '해왕성']"
      ]
     },
     "execution_count": 22,
     "metadata": {},
     "output_type": "execute_result"
    }
   ],
   "source": [
    "solarsys.sort()\n",
    "solarsys"
   ]
  },
  {
   "cell_type": "code",
   "execution_count": 24,
   "metadata": {
    "ExecuteTime": {
     "end_time": "2021-01-06T02:59:30.500568Z",
     "start_time": "2021-01-06T02:59:30.488599Z"
    }
   },
   "outputs": [
    {
     "data": {
      "text/plain": [
       "['해왕성', '토성', '태양', '천왕성', '지구', '지구']"
      ]
     },
     "execution_count": 24,
     "metadata": {},
     "output_type": "execute_result"
    }
   ],
   "source": [
    "solarsys.sort(reverse=True)\n",
    "solarsys"
   ]
  },
  {
   "cell_type": "code",
   "execution_count": 25,
   "metadata": {
    "ExecuteTime": {
     "end_time": "2021-01-06T02:59:37.656347Z",
     "start_time": "2021-01-06T02:59:37.650036Z"
    }
   },
   "outputs": [
    {
     "data": {
      "text/plain": [
       "['지구', '지구', '천왕성', '태양', '토성', '해왕성']"
      ]
     },
     "execution_count": 25,
     "metadata": {},
     "output_type": "execute_result"
    }
   ],
   "source": [
    "sorted(solarsys)"
   ]
  },
  {
   "cell_type": "code",
   "execution_count": 26,
   "metadata": {
    "ExecuteTime": {
     "end_time": "2021-01-06T02:59:50.352181Z",
     "start_time": "2021-01-06T02:59:50.344836Z"
    }
   },
   "outputs": [
    {
     "data": {
      "text/plain": [
       "False"
      ]
     },
     "execution_count": 26,
     "metadata": {},
     "output_type": "execute_result"
    }
   ],
   "source": [
    "'만리장성' in solarsys"
   ]
  },
  {
   "cell_type": "code",
   "execution_count": 27,
   "metadata": {
    "ExecuteTime": {
     "end_time": "2021-01-06T03:00:05.748648Z",
     "start_time": "2021-01-06T03:00:05.739912Z"
    }
   },
   "outputs": [
    {
     "data": {
      "text/plain": [
       "['해왕성',\n",
       " '토성',\n",
       " '태양',\n",
       " '천왕성',\n",
       " '지구',\n",
       " '지구',\n",
       " '해왕성',\n",
       " '토성',\n",
       " '태양',\n",
       " '천왕성',\n",
       " '지구',\n",
       " '지구',\n",
       " '해왕성',\n",
       " '토성',\n",
       " '태양',\n",
       " '천왕성',\n",
       " '지구',\n",
       " '지구']"
      ]
     },
     "execution_count": 27,
     "metadata": {},
     "output_type": "execute_result"
    }
   ],
   "source": [
    "solarsys * 3"
   ]
  },
  {
   "cell_type": "code",
   "execution_count": 28,
   "metadata": {
    "ExecuteTime": {
     "end_time": "2021-01-06T03:00:14.954268Z",
     "start_time": "2021-01-06T03:00:14.946685Z"
    }
   },
   "outputs": [
    {
     "data": {
      "text/plain": [
       "6"
      ]
     },
     "execution_count": 28,
     "metadata": {},
     "output_type": "execute_result"
    }
   ],
   "source": [
    "len(solarsys)"
   ]
  },
  {
   "cell_type": "code",
   "execution_count": 29,
   "metadata": {
    "ExecuteTime": {
     "end_time": "2021-01-06T03:00:27.005646Z",
     "start_time": "2021-01-06T03:00:26.997818Z"
    }
   },
   "outputs": [
    {
     "data": {
      "text/plain": [
       "2"
      ]
     },
     "execution_count": 29,
     "metadata": {},
     "output_type": "execute_result"
    }
   ],
   "source": [
    "solarsys.count('지구')"
   ]
  },
  {
   "cell_type": "code",
   "execution_count": 31,
   "metadata": {
    "ExecuteTime": {
     "end_time": "2021-01-06T03:00:51.098582Z",
     "start_time": "2021-01-06T03:00:51.091529Z"
    }
   },
   "outputs": [
    {
     "data": {
      "text/plain": [
       "['지구', '지구', '천왕성', '태양', '토성', '해왕성']"
      ]
     },
     "execution_count": 31,
     "metadata": {},
     "output_type": "execute_result"
    }
   ],
   "source": [
    "list(reversed(solarsys))"
   ]
  },
  {
   "cell_type": "code",
   "execution_count": 32,
   "metadata": {
    "ExecuteTime": {
     "end_time": "2021-01-06T03:00:59.937760Z",
     "start_time": "2021-01-06T03:00:59.928757Z"
    }
   },
   "outputs": [
    {
     "data": {
      "text/plain": [
       "[]"
      ]
     },
     "execution_count": 32,
     "metadata": {},
     "output_type": "execute_result"
    }
   ],
   "source": [
    "solarsys.clear()\n",
    "solarsys"
   ]
  },
  {
   "cell_type": "code",
   "execution_count": 33,
   "metadata": {
    "ExecuteTime": {
     "end_time": "2021-01-06T03:01:13.760128Z",
     "start_time": "2021-01-06T03:01:13.754046Z"
    }
   },
   "outputs": [],
   "source": [
    "del solarsys"
   ]
  },
  {
   "cell_type": "code",
   "execution_count": 34,
   "metadata": {
    "ExecuteTime": {
     "end_time": "2021-01-06T03:01:23.015633Z",
     "start_time": "2021-01-06T03:01:23.007952Z"
    }
   },
   "outputs": [
    {
     "name": "stdout",
     "output_type": "stream",
     "text": [
      "[2, 4, 6, 8, 10, 12, 14, 16, 18, 20]\n"
     ]
    }
   ],
   "source": [
    "listdata = list(range(1, 21))\n",
    "evenlist = listdata[1::2]\n",
    "print(evenlist)"
   ]
  },
  {
   "cell_type": "code",
   "execution_count": 35,
   "metadata": {
    "ExecuteTime": {
     "end_time": "2021-01-06T03:01:51.448670Z",
     "start_time": "2021-01-06T03:01:51.441688Z"
    }
   },
   "outputs": [
    {
     "name": "stdout",
     "output_type": "stream",
     "text": [
      "[0, 1, 2, 0, 1, 2, 0, 1, 2]\n"
     ]
    }
   ],
   "source": [
    "listdata = list(range(3))\n",
    "ret = listdata*3\n",
    "print(ret)"
   ]
  },
  {
   "cell_type": "code",
   "execution_count": 36,
   "metadata": {
    "ExecuteTime": {
     "end_time": "2021-01-06T03:02:02.568584Z",
     "start_time": "2021-01-06T03:02:02.554075Z"
    }
   },
   "outputs": [
    {
     "name": "stdout",
     "output_type": "stream",
     "text": [
      "[(0, '태양'), (1, '수성'), (2, '금성'), (3, '지구'), (4, '화성'), (5, '목성'), (6, '토성'), (7, '천왕성'), (8, '해왕성')]\n"
     ]
    }
   ],
   "source": [
    "solarsys = ['태양', '수성', '금성', '지구', '화성', '목성', '토성', '천왕성', '해왕성']\n",
    "ret = list(enumerate(solarsys))\n",
    "print(ret)"
   ]
  },
  {
   "cell_type": "code",
   "execution_count": 37,
   "metadata": {
    "ExecuteTime": {
     "end_time": "2021-01-06T03:02:23.269740Z",
     "start_time": "2021-01-06T03:02:23.262146Z"
    }
   },
   "outputs": [
    {
     "name": "stdout",
     "output_type": "stream",
     "text": [
      "[1, 2, 3, 4]\n"
     ]
    }
   ],
   "source": [
    "a = [1.2, 2.5, 3.7, 4.6]\n",
    "a = list(map(int, a))\n",
    "print(a)"
   ]
  },
  {
   "cell_type": "code",
   "execution_count": 38,
   "metadata": {
    "ExecuteTime": {
     "end_time": "2021-01-06T03:02:31.330085Z",
     "start_time": "2021-01-06T03:02:31.323095Z"
    }
   },
   "outputs": [
    {
     "name": "stdout",
     "output_type": "stream",
     "text": [
      "['0', '1', '2', '3', '4', '5', '6', '7', '8', '9']\n"
     ]
    }
   ],
   "source": [
    "a = list(map(str, range(10)))\n",
    "print(a)"
   ]
  },
  {
   "cell_type": "code",
   "execution_count": 41,
   "metadata": {
    "ExecuteTime": {
     "end_time": "2021-01-06T03:03:24.414700Z",
     "start_time": "2021-01-06T03:03:22.517145Z"
    }
   },
   "outputs": [
    {
     "name": "stdout",
     "output_type": "stream",
     "text": [
      "1 2 3\n"
     ]
    },
    {
     "data": {
      "text/plain": [
       "['1', '2', '3']"
      ]
     },
     "execution_count": 41,
     "metadata": {},
     "output_type": "execute_result"
    }
   ],
   "source": [
    "list(map(str, input().split()))"
   ]
  }
 ],
 "metadata": {
  "kernelspec": {
   "display_name": "Python 3",
   "language": "python",
   "name": "python3"
  },
  "language_info": {
   "codemirror_mode": {
    "name": "ipython",
    "version": 3
   },
   "file_extension": ".py",
   "mimetype": "text/x-python",
   "name": "python",
   "nbconvert_exporter": "python",
   "pygments_lexer": "ipython3",
   "version": "3.8.5"
  },
  "toc": {
   "base_numbering": 1,
   "nav_menu": {},
   "number_sections": true,
   "sideBar": true,
   "skip_h1_title": false,
   "title_cell": "Table of Contents",
   "title_sidebar": "Contents",
   "toc_cell": false,
   "toc_position": {},
   "toc_section_display": true,
   "toc_window_display": false
  },
  "varInspector": {
   "cols": {
    "lenName": 16,
    "lenType": 16,
    "lenVar": 40
   },
   "kernels_config": {
    "python": {
     "delete_cmd_postfix": "",
     "delete_cmd_prefix": "del ",
     "library": "var_list.py",
     "varRefreshCmd": "print(var_dic_list())"
    },
    "r": {
     "delete_cmd_postfix": ") ",
     "delete_cmd_prefix": "rm(",
     "library": "var_list.r",
     "varRefreshCmd": "cat(var_dic_list()) "
    }
   },
   "types_to_exclude": [
    "module",
    "function",
    "builtin_function_or_method",
    "instance",
    "_Feature"
   ],
   "window_display": false
  }
 },
 "nbformat": 4,
 "nbformat_minor": 4
}
