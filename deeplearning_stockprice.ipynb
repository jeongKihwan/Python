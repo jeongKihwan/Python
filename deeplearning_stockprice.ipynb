{
  "nbformat": 4,
  "nbformat_minor": 0,
  "metadata": {
    "colab": {
      "name": "deeplearning_stockprice.ipynb",
      "provenance": [],
      "collapsed_sections": []
    },
    "kernelspec": {
      "name": "python3",
      "display_name": "Python 3"
    },
    "accelerator": "GPU"
  },
  "cells": [
    {
      "cell_type": "code",
      "metadata": {
        "id": "l7XrDTPPpJrp"
      },
      "source": [
        "import matplotlib.pyplot as plt\r\n",
        "import pandas as pd\r\n",
        "import numpy as np"
      ],
      "execution_count": 1,
      "outputs": []
    },
    {
      "cell_type": "code",
      "metadata": {
        "id": "xyW3LARFpbVa"
      },
      "source": [
        "import requests\r\n",
        "from keras.layers import *\r\n",
        "from keras.models import *\r\n",
        "from keras.models import Sequential\r\n",
        "from datetime import datetime\r\n",
        "from sklearn.preprocessing import MinMaxScaler"
      ],
      "execution_count": 2,
      "outputs": []
    },
    {
      "cell_type": "code",
      "metadata": {
        "id": "QBqql45-ptpo"
      },
      "source": [
        "# cafe\r\n",
        "url = 'https://poloniex.com/public?command=returnChartData&currencyPair=USDT_BTC&start=1405699200&end=9999999999&period=86400'"
      ],
      "execution_count": 3,
      "outputs": []
    },
    {
      "cell_type": "code",
      "metadata": {
        "id": "zMV-X7rWqVgp"
      },
      "source": [
        "ret = requests.get(url)"
      ],
      "execution_count": 4,
      "outputs": []
    },
    {
      "cell_type": "code",
      "metadata": {
        "colab": {
          "base_uri": "https://localhost:8080/"
        },
        "id": "7RMXvqvvrAaz",
        "outputId": "e8643640-a630-4b62-99bf-539acfff45f1"
      },
      "source": [
        "ret"
      ],
      "execution_count": 5,
      "outputs": [
        {
          "output_type": "execute_result",
          "data": {
            "text/plain": [
              "<Response [200]>"
            ]
          },
          "metadata": {
            "tags": []
          },
          "execution_count": 5
        }
      ]
    },
    {
      "cell_type": "code",
      "metadata": {
        "id": "FgyQFqJLrCf5"
      },
      "source": [
        "ret.json()"
      ],
      "execution_count": null,
      "outputs": []
    },
    {
      "cell_type": "code",
      "metadata": {
        "colab": {
          "base_uri": "https://localhost:8080/"
        },
        "id": "UntU5G67Lavv",
        "outputId": "d7d6f25b-0fc7-41f8-b787-fa98c88b568e"
      },
      "source": [
        "!pip install -U finance-datareader"
      ],
      "execution_count": 83,
      "outputs": [
        {
          "output_type": "stream",
          "text": [
            "Collecting finance-datareader\n",
            "  Downloading https://files.pythonhosted.org/packages/ed/10/1f819839aae5d08e6cc7b29425d278c10104a18e0155282aa2ce552e3fa2/finance_datareader-0.9.10-py3-none-any.whl\n",
            "Requirement already satisfied, skipping upgrade: tqdm in /usr/local/lib/python3.6/dist-packages (from finance-datareader) (4.41.1)\n",
            "Collecting requests-file\n",
            "  Downloading https://files.pythonhosted.org/packages/77/86/cdb5e8eaed90796aa83a6d9f75cfbd37af553c47a291cd47bc410ef9bdb2/requests_file-1.5.1-py2.py3-none-any.whl\n",
            "Requirement already satisfied, skipping upgrade: requests>=2.3.0 in /usr/local/lib/python3.6/dist-packages (from finance-datareader) (2.23.0)\n",
            "Requirement already satisfied, skipping upgrade: pandas>=0.19.2 in /usr/local/lib/python3.6/dist-packages (from finance-datareader) (1.1.5)\n",
            "Requirement already satisfied, skipping upgrade: lxml in /usr/local/lib/python3.6/dist-packages (from finance-datareader) (4.2.6)\n",
            "Requirement already satisfied, skipping upgrade: six in /usr/local/lib/python3.6/dist-packages (from requests-file->finance-datareader) (1.15.0)\n",
            "Requirement already satisfied, skipping upgrade: certifi>=2017.4.17 in /usr/local/lib/python3.6/dist-packages (from requests>=2.3.0->finance-datareader) (2020.12.5)\n",
            "Requirement already satisfied, skipping upgrade: idna<3,>=2.5 in /usr/local/lib/python3.6/dist-packages (from requests>=2.3.0->finance-datareader) (2.10)\n",
            "Requirement already satisfied, skipping upgrade: urllib3!=1.25.0,!=1.25.1,<1.26,>=1.21.1 in /usr/local/lib/python3.6/dist-packages (from requests>=2.3.0->finance-datareader) (1.24.3)\n",
            "Requirement already satisfied, skipping upgrade: chardet<4,>=3.0.2 in /usr/local/lib/python3.6/dist-packages (from requests>=2.3.0->finance-datareader) (3.0.4)\n",
            "Requirement already satisfied, skipping upgrade: numpy>=1.15.4 in /usr/local/lib/python3.6/dist-packages (from pandas>=0.19.2->finance-datareader) (1.18.5)\n",
            "Requirement already satisfied, skipping upgrade: pytz>=2017.2 in /usr/local/lib/python3.6/dist-packages (from pandas>=0.19.2->finance-datareader) (2018.9)\n",
            "Requirement already satisfied, skipping upgrade: python-dateutil>=2.7.3 in /usr/local/lib/python3.6/dist-packages (from pandas>=0.19.2->finance-datareader) (2.8.1)\n",
            "Installing collected packages: requests-file, finance-datareader\n",
            "Successfully installed finance-datareader-0.9.10 requests-file-1.5.1\n"
          ],
          "name": "stdout"
        }
      ]
    },
    {
      "cell_type": "code",
      "metadata": {
        "id": "52L7UkShLayW"
      },
      "source": [
        "import FinanceDataReader as fdr"
      ],
      "execution_count": 84,
      "outputs": []
    },
    {
      "cell_type": "code",
      "metadata": {
        "colab": {
          "base_uri": "https://localhost:8080/",
          "height": 234
        },
        "id": "gAb7kKCNLa1c",
        "outputId": "500b401b-ef74-441f-de04-20b00b179e1b"
      },
      "source": [
        "df = fdr.DataReader('005930', '2010-01-04','2020-12-15')\r\n",
        "df.head()"
      ],
      "execution_count": 127,
      "outputs": [
        {
          "output_type": "execute_result",
          "data": {
            "text/html": [
              "<div>\n",
              "<style scoped>\n",
              "    .dataframe tbody tr th:only-of-type {\n",
              "        vertical-align: middle;\n",
              "    }\n",
              "\n",
              "    .dataframe tbody tr th {\n",
              "        vertical-align: top;\n",
              "    }\n",
              "\n",
              "    .dataframe thead th {\n",
              "        text-align: right;\n",
              "    }\n",
              "</style>\n",
              "<table border=\"1\" class=\"dataframe\">\n",
              "  <thead>\n",
              "    <tr style=\"text-align: right;\">\n",
              "      <th></th>\n",
              "      <th>Open</th>\n",
              "      <th>High</th>\n",
              "      <th>Low</th>\n",
              "      <th>Close</th>\n",
              "      <th>Volume</th>\n",
              "      <th>Change</th>\n",
              "    </tr>\n",
              "    <tr>\n",
              "      <th>Date</th>\n",
              "      <th></th>\n",
              "      <th></th>\n",
              "      <th></th>\n",
              "      <th></th>\n",
              "      <th></th>\n",
              "      <th></th>\n",
              "    </tr>\n",
              "  </thead>\n",
              "  <tbody>\n",
              "    <tr>\n",
              "      <th>2010-01-04</th>\n",
              "      <td>16060</td>\n",
              "      <td>16180</td>\n",
              "      <td>16000</td>\n",
              "      <td>16180</td>\n",
              "      <td>239271</td>\n",
              "      <td>0.012516</td>\n",
              "    </tr>\n",
              "    <tr>\n",
              "      <th>2010-01-05</th>\n",
              "      <td>16520</td>\n",
              "      <td>16580</td>\n",
              "      <td>16300</td>\n",
              "      <td>16440</td>\n",
              "      <td>559219</td>\n",
              "      <td>0.016069</td>\n",
              "    </tr>\n",
              "    <tr>\n",
              "      <th>2010-01-06</th>\n",
              "      <td>16580</td>\n",
              "      <td>16820</td>\n",
              "      <td>16520</td>\n",
              "      <td>16820</td>\n",
              "      <td>459755</td>\n",
              "      <td>0.023114</td>\n",
              "    </tr>\n",
              "    <tr>\n",
              "      <th>2010-01-07</th>\n",
              "      <td>16820</td>\n",
              "      <td>16820</td>\n",
              "      <td>16260</td>\n",
              "      <td>16260</td>\n",
              "      <td>443237</td>\n",
              "      <td>-0.033294</td>\n",
              "    </tr>\n",
              "    <tr>\n",
              "      <th>2010-01-08</th>\n",
              "      <td>16400</td>\n",
              "      <td>16420</td>\n",
              "      <td>16120</td>\n",
              "      <td>16420</td>\n",
              "      <td>295798</td>\n",
              "      <td>0.009840</td>\n",
              "    </tr>\n",
              "  </tbody>\n",
              "</table>\n",
              "</div>"
            ],
            "text/plain": [
              "             Open   High    Low  Close  Volume    Change\n",
              "Date                                                    \n",
              "2010-01-04  16060  16180  16000  16180  239271  0.012516\n",
              "2010-01-05  16520  16580  16300  16440  559219  0.016069\n",
              "2010-01-06  16580  16820  16520  16820  459755  0.023114\n",
              "2010-01-07  16820  16820  16260  16260  443237 -0.033294\n",
              "2010-01-08  16400  16420  16120  16420  295798  0.009840"
            ]
          },
          "metadata": {
            "tags": []
          },
          "execution_count": 127
        }
      ]
    },
    {
      "cell_type": "code",
      "metadata": {
        "colab": {
          "base_uri": "https://localhost:8080/",
          "height": 234
        },
        "id": "7098MoQoLa4D",
        "outputId": "11e0472c-f879-4b3a-88ca-2a640db82453"
      },
      "source": [
        "df.tail()"
      ],
      "execution_count": 104,
      "outputs": [
        {
          "output_type": "execute_result",
          "data": {
            "text/html": [
              "<div>\n",
              "<style scoped>\n",
              "    .dataframe tbody tr th:only-of-type {\n",
              "        vertical-align: middle;\n",
              "    }\n",
              "\n",
              "    .dataframe tbody tr th {\n",
              "        vertical-align: top;\n",
              "    }\n",
              "\n",
              "    .dataframe thead th {\n",
              "        text-align: right;\n",
              "    }\n",
              "</style>\n",
              "<table border=\"1\" class=\"dataframe\">\n",
              "  <thead>\n",
              "    <tr style=\"text-align: right;\">\n",
              "      <th></th>\n",
              "      <th>Open</th>\n",
              "      <th>High</th>\n",
              "      <th>Low</th>\n",
              "      <th>Close</th>\n",
              "      <th>Volume</th>\n",
              "      <th>Change</th>\n",
              "    </tr>\n",
              "    <tr>\n",
              "      <th>Date</th>\n",
              "      <th></th>\n",
              "      <th></th>\n",
              "      <th></th>\n",
              "      <th></th>\n",
              "      <th></th>\n",
              "      <th></th>\n",
              "    </tr>\n",
              "  </thead>\n",
              "  <tbody>\n",
              "    <tr>\n",
              "      <th>2020-12-09</th>\n",
              "      <td>72100</td>\n",
              "      <td>73900</td>\n",
              "      <td>72000</td>\n",
              "      <td>73900</td>\n",
              "      <td>24077996</td>\n",
              "      <td>0.030683</td>\n",
              "    </tr>\n",
              "    <tr>\n",
              "      <th>2020-12-10</th>\n",
              "      <td>72700</td>\n",
              "      <td>73800</td>\n",
              "      <td>72500</td>\n",
              "      <td>72900</td>\n",
              "      <td>39882928</td>\n",
              "      <td>-0.013532</td>\n",
              "    </tr>\n",
              "    <tr>\n",
              "      <th>2020-12-11</th>\n",
              "      <td>73500</td>\n",
              "      <td>73800</td>\n",
              "      <td>73100</td>\n",
              "      <td>73400</td>\n",
              "      <td>18486672</td>\n",
              "      <td>0.006859</td>\n",
              "    </tr>\n",
              "    <tr>\n",
              "      <th>2020-12-14</th>\n",
              "      <td>73600</td>\n",
              "      <td>74500</td>\n",
              "      <td>73200</td>\n",
              "      <td>73800</td>\n",
              "      <td>21510415</td>\n",
              "      <td>0.005450</td>\n",
              "    </tr>\n",
              "    <tr>\n",
              "      <th>2020-12-15</th>\n",
              "      <td>73800</td>\n",
              "      <td>74100</td>\n",
              "      <td>73300</td>\n",
              "      <td>73800</td>\n",
              "      <td>20863671</td>\n",
              "      <td>0.000000</td>\n",
              "    </tr>\n",
              "  </tbody>\n",
              "</table>\n",
              "</div>"
            ],
            "text/plain": [
              "             Open   High    Low  Close    Volume    Change\n",
              "Date                                                      \n",
              "2020-12-09  72100  73900  72000  73900  24077996  0.030683\n",
              "2020-12-10  72700  73800  72500  72900  39882928 -0.013532\n",
              "2020-12-11  73500  73800  73100  73400  18486672  0.006859\n",
              "2020-12-14  73600  74500  73200  73800  21510415  0.005450\n",
              "2020-12-15  73800  74100  73300  73800  20863671  0.000000"
            ]
          },
          "metadata": {
            "tags": []
          },
          "execution_count": 104
        }
      ]
    },
    {
      "cell_type": "code",
      "metadata": {
        "colab": {
          "base_uri": "https://localhost:8080/",
          "height": 283
        },
        "id": "TUQbGVUcMwRA",
        "outputId": "42e07ead-2b05-4b95-caeb-88e7b8df5fb0"
      },
      "source": [
        "plt.plot(df.Close)"
      ],
      "execution_count": 105,
      "outputs": [
        {
          "output_type": "execute_result",
          "data": {
            "text/plain": [
              "[<matplotlib.lines.Line2D at 0x7f270019be80>]"
            ]
          },
          "metadata": {
            "tags": []
          },
          "execution_count": 105
        },
        {
          "output_type": "display_data",
          "data": {
            "image/png": "[encoded data removed]",
            "text/plain": [
              "<Figure size 432x288 with 1 Axes>"
            ]
          },
          "metadata": {
            "tags": [],
            "needs_background": "light"
          }
        }
      ]
    },
    {
      "cell_type": "code",
      "metadata": {
        "id": "L1O_XOzBrHQZ"
      },
      "source": [
        "# df = pd.DataFrame(ret.json())\r\n",
        "# df.head()"
      ],
      "execution_count": 88,
      "outputs": []
    },
    {
      "cell_type": "code",
      "metadata": {
        "colab": {
          "base_uri": "https://localhost:8080/"
        },
        "id": "vucxyIrHKrKQ",
        "outputId": "6429f6fa-dabb-4255-ca38-e6c2fa49e5b0"
      },
      "source": [
        "df.Close[-10:]"
      ],
      "execution_count": 90,
      "outputs": [
        {
          "output_type": "execute_result",
          "data": {
            "text/plain": [
              "Date\n",
              "2020-12-03    69700\n",
              "2020-12-04    71500\n",
              "2020-12-07    72900\n",
              "2020-12-08    71700\n",
              "2020-12-09    73900\n",
              "2020-12-10    72900\n",
              "2020-12-11    73400\n",
              "2020-12-14    73800\n",
              "2020-12-15    73800\n",
              "2020-12-16    73800\n",
              "Name: Close, dtype: int64"
            ]
          },
          "metadata": {
            "tags": []
          },
          "execution_count": 90
        }
      ]
    },
    {
      "cell_type": "code",
      "metadata": {
        "colab": {
          "base_uri": "https://localhost:8080/"
        },
        "id": "otNSw8GW8Hkj",
        "outputId": "24908cf1-648a-45fe-e7d7-59375793bbfc"
      },
      "source": [
        "df.info()"
      ],
      "execution_count": 108,
      "outputs": [
        {
          "output_type": "stream",
          "text": [
            "<class 'pandas.core.frame.DataFrame'>\n",
            "DatetimeIndex: 2704 entries, 2010-01-04 to 2020-12-15\n",
            "Data columns (total 6 columns):\n",
            " #   Column  Non-Null Count  Dtype  \n",
            "---  ------  --------------  -----  \n",
            " 0   Open    2704 non-null   int64  \n",
            " 1   High    2704 non-null   int64  \n",
            " 2   Low     2704 non-null   int64  \n",
            " 3   Close   2704 non-null   int64  \n",
            " 4   Volume  2704 non-null   int64  \n",
            " 5   Change  2704 non-null   float64\n",
            "dtypes: float64(1), int64(5)\n",
            "memory usage: 147.9 KB\n"
          ],
          "name": "stdout"
        }
      ]
    },
    {
      "cell_type": "code",
      "metadata": {
        "colab": {
          "base_uri": "https://localhost:8080/"
        },
        "id": "6V2wf9ePJunp",
        "outputId": "34ab733d-5676-4068-d71d-704e3b2a2b74"
      },
      "source": [
        "scaler = MinMaxScaler()\r\n",
        "price = scaler.fit_transform(df['Close'].values.reshape(-1,1))\r\n",
        "price = price.tolist()\r\n",
        "price[:10]"
      ],
      "execution_count": 131,
      "outputs": [
        {
          "output_type": "execute_result",
          "data": {
            "text/plain": [
              "[[0.04278606965174128],\n",
              " [0.04709784411276949],\n",
              " [0.05339966832504148],\n",
              " [0.04411276948590384],\n",
              " [0.04676616915422885],\n",
              " [0.038805970149253716],\n",
              " [0.04278606965174128],\n",
              " [0.038805970149253716],\n",
              " [0.04875621890547263],\n",
              " [0.05373134328358212]]"
            ]
          },
          "metadata": {
            "tags": []
          },
          "execution_count": 131
        }
      ]
    },
    {
      "cell_type": "code",
      "metadata": {
        "id": "QYjlE_9b8OkT"
      },
      "source": [
        "# 5일 간의 주가흐름을 기반으로 다음 날의 주가를 예측하는 모델.."
      ],
      "execution_count": null,
      "outputs": []
    },
    {
      "cell_type": "code",
      "metadata": {
        "colab": {
          "base_uri": "https://localhost:8080/"
        },
        "id": "WnC_pHXO8lHO",
        "outputId": "ef55775a-789b-452d-9407-3986d9e2dd27"
      },
      "source": [
        "# price = df['Close'].values.tolist()\r\n",
        "# price[:10]"
      ],
      "execution_count": 129,
      "outputs": [
        {
          "output_type": "execute_result",
          "data": {
            "text/plain": [
              "[16180, 16440, 16820, 16260, 16420, 15940, 16180, 15940, 16540, 16840]"
            ]
          },
          "metadata": {
            "tags": []
          },
          "execution_count": 129
        }
      ]
    },
    {
      "cell_type": "code",
      "metadata": {
        "colab": {
          "base_uri": "https://localhost:8080/"
        },
        "id": "HduQJ45R8lKM",
        "outputId": "da6eecb0-31fd-4d86-c31e-4af91c1d9d21"
      },
      "source": [
        "# sequence_length = 5\r\n",
        "print(price[:30])"
      ],
      "execution_count": 132,
      "outputs": [
        {
          "output_type": "stream",
          "text": [
            "[[0.04278606965174128], [0.04709784411276949], [0.05339966832504148], [0.04411276948590384], [0.04676616915422885], [0.038805970149253716], [0.04278606965174128], [0.038805970149253716], [0.04875621890547263], [0.05373134328358212], [0.0540630182421227], [0.04742951907131013], [0.051077943615257054], [0.056384742951907124], [0.04809286898839141], [0.05373134328358212], [0.044776119402985065], [0.039800995024875635], [0.0424543946932007], [0.034494195688225565], [0.03217247097844114], [0.030514096185738], [0.03217247097844114], [0.0318407960199005], [0.023217247097844118], [0.022553897180762866], [0.026865671641791072], [0.02487562189054729], [0.027529021558872296], [0.023217247097844118]]\n"
          ],
          "name": "stdout"
        }
      ]
    },
    {
      "cell_type": "code",
      "metadata": {
        "id": "SUfllH5s8lMz"
      },
      "source": [
        "window_size = 5\r\n",
        "x = []\r\n",
        "y = []\r\n",
        "\r\n",
        "for i in range(len(price)-window_size):\r\n",
        "  x.append([price[i+j] for j in range(window_size)])\r\n",
        "  y.append(price[window_size + i])"
      ],
      "execution_count": 133,
      "outputs": []
    },
    {
      "cell_type": "code",
      "metadata": {
        "colab": {
          "base_uri": "https://localhost:8080/"
        },
        "id": "JUHCTBTr8lR5",
        "outputId": "2ef870f8-e0e8-4e83-e857-5aaa70f18e37"
      },
      "source": [
        "x[:5]"
      ],
      "execution_count": 134,
      "outputs": [
        {
          "output_type": "execute_result",
          "data": {
            "text/plain": [
              "[[[0.04278606965174128],\n",
              "  [0.04709784411276949],\n",
              "  [0.05339966832504148],\n",
              "  [0.04411276948590384],\n",
              "  [0.04676616915422885]],\n",
              " [[0.04709784411276949],\n",
              "  [0.05339966832504148],\n",
              "  [0.04411276948590384],\n",
              "  [0.04676616915422885],\n",
              "  [0.038805970149253716]],\n",
              " [[0.05339966832504148],\n",
              "  [0.04411276948590384],\n",
              "  [0.04676616915422885],\n",
              "  [0.038805970149253716],\n",
              "  [0.04278606965174128]],\n",
              " [[0.04411276948590384],\n",
              "  [0.04676616915422885],\n",
              "  [0.038805970149253716],\n",
              "  [0.04278606965174128],\n",
              "  [0.038805970149253716]],\n",
              " [[0.04676616915422885],\n",
              "  [0.038805970149253716],\n",
              "  [0.04278606965174128],\n",
              "  [0.038805970149253716],\n",
              "  [0.04875621890547263]]]"
            ]
          },
          "metadata": {
            "tags": []
          },
          "execution_count": 134
        }
      ]
    },
    {
      "cell_type": "code",
      "metadata": {
        "colab": {
          "base_uri": "https://localhost:8080/"
        },
        "id": "H6IbH1aU8lUm",
        "outputId": "af763eff-93c3-4f83-861c-cdc790fe60b2"
      },
      "source": [
        "y[:5]"
      ],
      "execution_count": 135,
      "outputs": [
        {
          "output_type": "execute_result",
          "data": {
            "text/plain": [
              "[[0.038805970149253716],\n",
              " [0.04278606965174128],\n",
              " [0.038805970149253716],\n",
              " [0.04875621890547263],\n",
              " [0.05373134328358212]]"
            ]
          },
          "metadata": {
            "tags": []
          },
          "execution_count": 135
        }
      ]
    },
    {
      "cell_type": "code",
      "metadata": {
        "id": "u67BliEm8lXR"
      },
      "source": [
        "x = np.array(x)\r\n",
        "y = np.array(y)"
      ],
      "execution_count": 136,
      "outputs": []
    },
    {
      "cell_type": "code",
      "metadata": {
        "colab": {
          "base_uri": "https://localhost:8080/"
        },
        "id": "cIhwhweY8lZ0",
        "outputId": "2845c503-b968-4f00-d826-28ef9a440645"
      },
      "source": [
        "x.shape"
      ],
      "execution_count": 114,
      "outputs": [
        {
          "output_type": "execute_result",
          "data": {
            "text/plain": [
              "(2699, 5)"
            ]
          },
          "metadata": {
            "tags": []
          },
          "execution_count": 114
        }
      ]
    },
    {
      "cell_type": "code",
      "metadata": {
        "colab": {
          "base_uri": "https://localhost:8080/"
        },
        "id": "26-udQMq8lcW",
        "outputId": "8f7b6eff-4fee-4a1f-c5ab-97b6a70d46f8"
      },
      "source": [
        "y.shape"
      ],
      "execution_count": 116,
      "outputs": [
        {
          "output_type": "execute_result",
          "data": {
            "text/plain": [
              "(2699,)"
            ]
          },
          "metadata": {
            "tags": []
          },
          "execution_count": 116
        }
      ]
    },
    {
      "cell_type": "code",
      "metadata": {
        "id": "M07ELDPZBga6"
      },
      "source": [
        "train_test_split = 1500\r\n",
        "x_train = x[:1500, :]\r\n",
        "x_test = x[1500:]\r\n",
        "\r\n",
        "y_train = y[:1500]\r\n",
        "y_test = y[1500:]"
      ],
      "execution_count": 137,
      "outputs": []
    },
    {
      "cell_type": "code",
      "metadata": {
        "colab": {
          "base_uri": "https://localhost:8080/"
        },
        "id": "AWASbtB1BG_7",
        "outputId": "44d35a40-b042-4a6d-d337-350815e3e707"
      },
      "source": [
        "# (n_sample, sequence_len, n_features)\r\n",
        "\r\n",
        "x_train = np.reshape(x_train, (x_train.shape[0], window_size, 1))\r\n",
        "x_train[:2]"
      ],
      "execution_count": 138,
      "outputs": [
        {
          "output_type": "execute_result",
          "data": {
            "text/plain": [
              "array([[[0.04278607],\n",
              "        [0.04709784],\n",
              "        [0.05339967],\n",
              "        [0.04411277],\n",
              "        [0.04676617]],\n",
              "\n",
              "       [[0.04709784],\n",
              "        [0.05339967],\n",
              "        [0.04411277],\n",
              "        [0.04676617],\n",
              "        [0.03880597]]])"
            ]
          },
          "metadata": {
            "tags": []
          },
          "execution_count": 138
        }
      ]
    },
    {
      "cell_type": "code",
      "metadata": {
        "colab": {
          "base_uri": "https://localhost:8080/"
        },
        "id": "zxYx6L1dB89B",
        "outputId": "5fd4e00b-b85f-4839-a268-b5fa42e4891c"
      },
      "source": [
        "x_test = np.reshape(x_test, (x_test.shape[0], window_size, 1))\r\n",
        "x_test.shape"
      ],
      "execution_count": 139,
      "outputs": [
        {
          "output_type": "execute_result",
          "data": {
            "text/plain": [
              "(1199, 5, 1)"
            ]
          },
          "metadata": {
            "tags": []
          },
          "execution_count": 139
        }
      ]
    },
    {
      "cell_type": "code",
      "metadata": {
        "colab": {
          "base_uri": "https://localhost:8080/"
        },
        "id": "oGZWInmwB9Cd",
        "outputId": "3dbdecd9-640f-4273-ff13-546c5be53936"
      },
      "source": [
        "x_train.shape"
      ],
      "execution_count": 30,
      "outputs": [
        {
          "output_type": "execute_result",
          "data": {
            "text/plain": [
              "(1500, 5, 1)"
            ]
          },
          "metadata": {
            "tags": []
          },
          "execution_count": 30
        }
      ]
    },
    {
      "cell_type": "code",
      "metadata": {
        "colab": {
          "base_uri": "https://localhost:8080/"
        },
        "id": "kfqV35nMB9FH",
        "outputId": "6d5c8a5c-c1ab-4dc1-9701-f82200d1c4fc"
      },
      "source": [
        "model = Sequential()\r\n",
        "model.add(LSTM(128, input_shape=(5,1,), activation='tanh', return_sequences=True))\r\n",
        "model.add(Dropout(0.2))\r\n",
        "model.add(LSTM(74))\r\n",
        "model.add(Dense(30,activation='linear'))\r\n",
        "model.add(Dense(1,activation='linear'))\r\n",
        "model.summary()"
      ],
      "execution_count": 140,
      "outputs": [
        {
          "output_type": "stream",
          "text": [
            "Model: \"sequential_11\"\n",
            "_________________________________________________________________\n",
            "Layer (type)                 Output Shape              Param #   \n",
            "=================================================================\n",
            "lstm_17 (LSTM)               (None, 5, 128)            66560     \n",
            "_________________________________________________________________\n",
            "dropout_10 (Dropout)         (None, 5, 128)            0         \n",
            "_________________________________________________________________\n",
            "lstm_18 (LSTM)               (None, 74)                60088     \n",
            "_________________________________________________________________\n",
            "dense_10 (Dense)             (None, 30)                2250      \n",
            "_________________________________________________________________\n",
            "dense_11 (Dense)             (None, 1)                 31        \n",
            "=================================================================\n",
            "Total params: 128,929\n",
            "Trainable params: 128,929\n",
            "Non-trainable params: 0\n",
            "_________________________________________________________________\n"
          ],
          "name": "stdout"
        }
      ]
    },
    {
      "cell_type": "code",
      "metadata": {
        "id": "W9Vf7ifMB9IK"
      },
      "source": [
        "model.compile(loss='mse', \r\n",
        "              optimizer='adam')"
      ],
      "execution_count": 141,
      "outputs": []
    },
    {
      "cell_type": "code",
      "metadata": {
        "colab": {
          "base_uri": "https://localhost:8080/"
        },
        "id": "uFaqqKZWB9K4",
        "outputId": "3d9377f4-7076-4823-8d35-2dd17120b844"
      },
      "source": [
        "hist = model.fit(x_train, y_train, epochs=20, batch_size=1, validation_split=0.2)"
      ],
      "execution_count": 142,
      "outputs": [
        {
          "output_type": "stream",
          "text": [
            "Epoch 1/20\n",
            "1200/1200 [==============================] - 6s 5ms/step - loss: 5.0329e-04 - val_loss: 3.0806e-04\n",
            "Epoch 2/20\n",
            "1200/1200 [==============================] - 5s 4ms/step - loss: 2.4773e-04 - val_loss: 1.0598e-04\n",
            "Epoch 3/20\n",
            "1200/1200 [==============================] - 5s 4ms/step - loss: 2.1464e-04 - val_loss: 1.0986e-04\n",
            "Epoch 4/20\n",
            "1200/1200 [==============================] - 5s 4ms/step - loss: 2.0867e-04 - val_loss: 8.7602e-05\n",
            "Epoch 5/20\n",
            "1200/1200 [==============================] - 5s 4ms/step - loss: 2.0490e-04 - val_loss: 1.4683e-04\n",
            "Epoch 6/20\n",
            "1200/1200 [==============================] - 5s 4ms/step - loss: 1.7312e-04 - val_loss: 6.7084e-04\n",
            "Epoch 7/20\n",
            "1200/1200 [==============================] - 5s 4ms/step - loss: 1.5483e-04 - val_loss: 6.7642e-05\n",
            "Epoch 8/20\n",
            "1200/1200 [==============================] - 5s 4ms/step - loss: 1.6908e-04 - val_loss: 7.4010e-05\n",
            "Epoch 9/20\n",
            "1200/1200 [==============================] - 5s 4ms/step - loss: 1.3492e-04 - val_loss: 8.0844e-05\n",
            "Epoch 10/20\n",
            "1200/1200 [==============================] - 5s 4ms/step - loss: 1.3728e-04 - val_loss: 8.9035e-05\n",
            "Epoch 11/20\n",
            "1200/1200 [==============================] - 5s 4ms/step - loss: 1.4189e-04 - val_loss: 1.2332e-04\n",
            "Epoch 12/20\n",
            "1200/1200 [==============================] - 5s 4ms/step - loss: 1.2774e-04 - val_loss: 2.0955e-04\n",
            "Epoch 13/20\n",
            "1200/1200 [==============================] - 5s 4ms/step - loss: 1.1990e-04 - val_loss: 5.8487e-05\n",
            "Epoch 14/20\n",
            "1200/1200 [==============================] - 5s 4ms/step - loss: 1.2413e-04 - val_loss: 6.7343e-05\n",
            "Epoch 15/20\n",
            "1200/1200 [==============================] - 5s 4ms/step - loss: 1.2074e-04 - val_loss: 6.5222e-05\n",
            "Epoch 16/20\n",
            "1200/1200 [==============================] - 5s 4ms/step - loss: 1.1309e-04 - val_loss: 1.1536e-04\n",
            "Epoch 17/20\n",
            "1200/1200 [==============================] - 5s 4ms/step - loss: 1.0966e-04 - val_loss: 6.8471e-05\n",
            "Epoch 18/20\n",
            "1200/1200 [==============================] - 5s 4ms/step - loss: 1.1324e-04 - val_loss: 5.8092e-05\n",
            "Epoch 19/20\n",
            "1200/1200 [==============================] - 5s 4ms/step - loss: 1.0242e-04 - val_loss: 5.8312e-05\n",
            "Epoch 20/20\n",
            "1200/1200 [==============================] - 5s 4ms/step - loss: 1.0534e-04 - val_loss: 1.4561e-04\n"
          ],
          "name": "stdout"
        }
      ]
    },
    {
      "cell_type": "code",
      "metadata": {
        "colab": {
          "base_uri": "https://localhost:8080/",
          "height": 287
        },
        "id": "t30vH-1jIqPw",
        "outputId": "b35fe639-8035-4545-8e3c-04c12b60dc04"
      },
      "source": [
        "plt.plot(hist.history['loss'])\r\n",
        "plt.plot(hist.history['val_loss'])\r\n"
      ],
      "execution_count": 143,
      "outputs": [
        {
          "output_type": "execute_result",
          "data": {
            "text/plain": [
              "[<matplotlib.lines.Line2D at 0x7f267035ea20>]"
            ]
          },
          "metadata": {
            "tags": []
          },
          "execution_count": 143
        },
        {
          "output_type": "display_data",
          "data": {
            "image/png": "[encoded data removed]",
            "text/plain": [
              "<Figure size 432x288 with 1 Axes>"
            ]
          },
          "metadata": {
            "tags": [],
            "needs_background": "light"
          }
        }
      ]
    },
    {
      "cell_type": "code",
      "metadata": {
        "id": "BektP451EZ4C"
      },
      "source": [
        "x_test"
      ],
      "execution_count": null,
      "outputs": []
    },
    {
      "cell_type": "code",
      "metadata": {
        "colab": {
          "base_uri": "https://localhost:8080/"
        },
        "id": "_P_1gp46B9Nh",
        "outputId": "fa8ab5ab-0a6f-4865-d70e-890799a372ca"
      },
      "source": [
        "model.predict(x_train)"
      ],
      "execution_count": 144,
      "outputs": [
        {
          "output_type": "execute_result",
          "data": {
            "text/plain": [
              "array([[0.05534786],\n",
              "       [0.05026444],\n",
              "       [0.05181552],\n",
              "       ...,\n",
              "       [0.16843766],\n",
              "       [0.16811931],\n",
              "       [0.16270855]], dtype=float32)"
            ]
          },
          "metadata": {
            "tags": []
          },
          "execution_count": 144
        }
      ]
    },
    {
      "cell_type": "code",
      "metadata": {
        "colab": {
          "base_uri": "https://localhost:8080/"
        },
        "id": "e5us3wMcB9P3",
        "outputId": "165e1df1-782e-4524-c123-2b80bbe6119d"
      },
      "source": [
        "model.predict(x_test)"
      ],
      "execution_count": 145,
      "outputs": [
        {
          "output_type": "execute_result",
          "data": {
            "text/plain": [
              "array([[0.1710355 ],\n",
              "       [0.16522248],\n",
              "       [0.16586846],\n",
              "       ...,\n",
              "       [0.7753832 ],\n",
              "       [0.7793351 ],\n",
              "       [0.7824756 ]], dtype=float32)"
            ]
          },
          "metadata": {
            "tags": []
          },
          "execution_count": 145
        }
      ]
    },
    {
      "cell_type": "code",
      "metadata": {
        "id": "aOC-qj9LFcZd"
      },
      "source": [
        "plt.plot(model.predict(x_train))"
      ],
      "execution_count": null,
      "outputs": []
    },
    {
      "cell_type": "code",
      "metadata": {
        "id": "SZA4PAGuFnO0"
      },
      "source": [
        "plt.plot(y_train)"
      ],
      "execution_count": null,
      "outputs": []
    },
    {
      "cell_type": "code",
      "metadata": {
        "colab": {
          "base_uri": "https://localhost:8080/",
          "height": 283
        },
        "id": "6s_by_IwPl5-",
        "outputId": "d7fb67af-4337-44fd-e457-165b403d20b1"
      },
      "source": [
        "plt.plot(y_test)"
      ],
      "execution_count": 153,
      "outputs": [
        {
          "output_type": "execute_result",
          "data": {
            "text/plain": [
              "[<matplotlib.lines.Line2D at 0x7f2692336b70>]"
            ]
          },
          "metadata": {
            "tags": []
          },
          "execution_count": 153
        },
        {
          "output_type": "display_data",
          "data": {
            "image/png": "[encoded data removed]",
            "text/plain": [
              "<Figure size 432x288 with 1 Axes>"
            ]
          },
          "metadata": {
            "tags": [],
            "needs_background": "light"
          }
        }
      ]
    },
    {
      "cell_type": "code",
      "metadata": {
        "colab": {
          "base_uri": "https://localhost:8080/",
          "height": 283
        },
        "id": "c0oJClntPuPd",
        "outputId": "581dbb5b-b052-4699-9619-41c5868de973"
      },
      "source": [
        "plt.plot(model.predict(x_test))"
      ],
      "execution_count": 154,
      "outputs": [
        {
          "output_type": "execute_result",
          "data": {
            "text/plain": [
              "[<matplotlib.lines.Line2D at 0x7f269c0d9898>]"
            ]
          },
          "metadata": {
            "tags": []
          },
          "execution_count": 154
        },
        {
          "output_type": "display_data",
          "data": {
            "image/png": "[encoded data removed]",
            "text/plain": [
              "<Figure size 432x288 with 1 Axes>"
            ]
          },
          "metadata": {
            "tags": [],
            "needs_background": "light"
          }
        }
      ]
    },
    {
      "cell_type": "code",
      "metadata": {
        "colab": {
          "base_uri": "https://localhost:8080/",
          "height": 338
        },
        "id": "OWXXvtROP91-",
        "outputId": "bfdb40a4-a8b4-495b-840d-fca289dd45ed"
      },
      "source": [
        "plt.figure(figsize=(15,5))\r\n",
        "plt.plot(y_test, color='y')\r\n",
        "plt.plot(model.predict(x_test), color='g')"
      ],
      "execution_count": 160,
      "outputs": [
        {
          "output_type": "execute_result",
          "data": {
            "text/plain": [
              "[<matplotlib.lines.Line2D at 0x7f2675f0f668>]"
            ]
          },
          "metadata": {
            "tags": []
          },
          "execution_count": 160
        },
        {
          "output_type": "display_data",
          "data": {
            "image/png": "[encoded data removed]",
            "text/plain": [
              "<Figure size 1080x360 with 1 Axes>"
            ]
          },
          "metadata": {
            "tags": [],
            "needs_background": "light"
          }
        }
      ]
    },
    {
      "cell_type": "code",
      "metadata": {
        "id": "0ZhH26nIQJyt"
      },
      "source": [
        ""
      ],
      "execution_count": null,
      "outputs": []
    }
  ]
}