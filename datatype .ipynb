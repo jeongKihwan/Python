{
 "cells": [
  {
   "cell_type": "code",
   "execution_count": 1,
   "metadata": {
    "ExecuteTime": {
     "end_time": "2021-01-06T02:23:44.734874Z",
     "start_time": "2021-01-06T02:23:44.716066Z"
    }
   },
   "outputs": [
    {
     "data": {
      "text/plain": [
       "'{} got {} score'"
      ]
     },
     "execution_count": 1,
     "metadata": {},
     "output_type": "execute_result"
    }
   ],
   "source": [
    "text = '{} got {} score'\n",
    "text"
   ]
  },
  {
   "cell_type": "code",
   "execution_count": 2,
   "metadata": {
    "ExecuteTime": {
     "end_time": "2021-01-06T02:24:14.158819Z",
     "start_time": "2021-01-06T02:24:14.148314Z"
    }
   },
   "outputs": [
    {
     "data": {
      "text/plain": [
       "'Tom got 90 score'"
      ]
     },
     "execution_count": 2,
     "metadata": {},
     "output_type": "execute_result"
    }
   ],
   "source": [
    "'{} got {} score'.format('Tom','90')"
   ]
  },
  {
   "cell_type": "code",
   "execution_count": 3,
   "metadata": {
    "ExecuteTime": {
     "end_time": "2021-01-06T02:24:29.921962Z",
     "start_time": "2021-01-06T02:24:29.913843Z"
    }
   },
   "outputs": [
    {
     "data": {
      "text/plain": [
       "'Kim got 70 score'"
      ]
     },
     "execution_count": 3,
     "metadata": {},
     "output_type": "execute_result"
    }
   ],
   "source": [
    "text.format('Kim','70')"
   ]
  },
  {
   "cell_type": "code",
   "execution_count": 4,
   "metadata": {
    "ExecuteTime": {
     "end_time": "2021-01-06T02:24:54.323750Z",
     "start_time": "2021-01-06T02:24:54.318345Z"
    }
   },
   "outputs": [],
   "source": [
    "text = 'Kim got 100 score'"
   ]
  },
  {
   "cell_type": "code",
   "execution_count": 5,
   "metadata": {
    "ExecuteTime": {
     "end_time": "2021-01-06T02:25:18.314017Z",
     "start_time": "2021-01-06T02:25:18.306001Z"
    }
   },
   "outputs": [
    {
     "data": {
      "text/plain": [
       "'kim got 100 score'"
      ]
     },
     "execution_count": 5,
     "metadata": {},
     "output_type": "execute_result"
    }
   ],
   "source": [
    "'%s got %d score' % ('kim',100)"
   ]
  },
  {
   "cell_type": "markdown",
   "metadata": {
    "ExecuteTime": {
     "end_time": "2021-01-06T02:25:27.875242Z",
     "start_time": "2021-01-06T02:25:27.870255Z"
    }
   },
   "source": [
    "### input"
   ]
  },
  {
   "cell_type": "code",
   "execution_count": 7,
   "metadata": {
    "ExecuteTime": {
     "end_time": "2021-01-06T02:25:39.752764Z",
     "start_time": "2021-01-06T02:25:32.220118Z"
    }
   },
   "outputs": [
    {
     "name": "stdout",
     "output_type": "stream",
     "text": [
      "hello python\n"
     ]
    }
   ],
   "source": [
    "x = input()"
   ]
  },
  {
   "cell_type": "code",
   "execution_count": 8,
   "metadata": {
    "ExecuteTime": {
     "end_time": "2021-01-06T02:25:44.270249Z",
     "start_time": "2021-01-06T02:25:44.263978Z"
    }
   },
   "outputs": [
    {
     "name": "stdout",
     "output_type": "stream",
     "text": [
      "hello python\n"
     ]
    }
   ],
   "source": [
    "print(x)"
   ]
  },
  {
   "cell_type": "code",
   "execution_count": 9,
   "metadata": {
    "ExecuteTime": {
     "end_time": "2021-01-06T02:26:15.344580Z",
     "start_time": "2021-01-06T02:26:07.737003Z"
    }
   },
   "outputs": [
    {
     "name": "stdout",
     "output_type": "stream",
     "text": [
      "문장을 입력하세요hello python\n"
     ]
    }
   ],
   "source": [
    "text = input('문장을 입력하세요')"
   ]
  },
  {
   "cell_type": "code",
   "execution_count": 10,
   "metadata": {
    "ExecuteTime": {
     "end_time": "2021-01-06T02:26:19.907982Z",
     "start_time": "2021-01-06T02:26:19.900003Z"
    }
   },
   "outputs": [
    {
     "data": {
      "text/plain": [
       "'hello python'"
      ]
     },
     "execution_count": 10,
     "metadata": {},
     "output_type": "execute_result"
    }
   ],
   "source": [
    "text"
   ]
  },
  {
   "cell_type": "code",
   "execution_count": 11,
   "metadata": {
    "ExecuteTime": {
     "end_time": "2021-01-06T02:26:55.402443Z",
     "start_time": "2021-01-06T02:26:53.964116Z"
    }
   },
   "outputs": [
    {
     "name": "stdout",
     "output_type": "stream",
     "text": [
      "출생월을 입력하세요1\n"
     ]
    }
   ],
   "source": [
    "num = int(input('출생월을 입력하세요'))"
   ]
  },
  {
   "cell_type": "code",
   "execution_count": 12,
   "metadata": {
    "ExecuteTime": {
     "end_time": "2021-01-06T02:27:03.783017Z",
     "start_time": "2021-01-06T02:27:03.775105Z"
    }
   },
   "outputs": [
    {
     "data": {
      "text/plain": [
       "int"
      ]
     },
     "execution_count": 12,
     "metadata": {},
     "output_type": "execute_result"
    }
   ],
   "source": [
    "type(num)"
   ]
  },
  {
   "cell_type": "code",
   "execution_count": 13,
   "metadata": {
    "ExecuteTime": {
     "end_time": "2021-01-06T02:27:48.082154Z",
     "start_time": "2021-01-06T02:27:46.870299Z"
    }
   },
   "outputs": [
    {
     "name": "stdout",
     "output_type": "stream",
     "text": [
      "출생월을 입력하세요1\n"
     ]
    }
   ],
   "source": [
    "num = float(input('출생월을 입력하세요'))"
   ]
  },
  {
   "cell_type": "code",
   "execution_count": 14,
   "metadata": {
    "ExecuteTime": {
     "end_time": "2021-01-06T02:27:57.130886Z",
     "start_time": "2021-01-06T02:27:57.123246Z"
    }
   },
   "outputs": [
    {
     "data": {
      "text/plain": [
       "float"
      ]
     },
     "execution_count": 14,
     "metadata": {},
     "output_type": "execute_result"
    }
   ],
   "source": [
    "type(num)"
   ]
  },
  {
   "cell_type": "markdown",
   "metadata": {},
   "source": [
    "### String"
   ]
  },
  {
   "cell_type": "code",
   "execution_count": 15,
   "metadata": {
    "ExecuteTime": {
     "end_time": "2021-01-06T02:28:54.692163Z",
     "start_time": "2021-01-06T02:28:54.686557Z"
    }
   },
   "outputs": [],
   "source": [
    "lang = 'python programming learning'"
   ]
  },
  {
   "cell_type": "code",
   "execution_count": 16,
   "metadata": {
    "ExecuteTime": {
     "end_time": "2021-01-06T02:28:59.990793Z",
     "start_time": "2021-01-06T02:28:59.980907Z"
    }
   },
   "outputs": [
    {
     "data": {
      "text/plain": [
       "'y'"
      ]
     },
     "execution_count": 16,
     "metadata": {},
     "output_type": "execute_result"
    }
   ],
   "source": [
    "lang[1]"
   ]
  },
  {
   "cell_type": "code",
   "execution_count": 17,
   "metadata": {
    "ExecuteTime": {
     "end_time": "2021-01-06T02:29:04.393746Z",
     "start_time": "2021-01-06T02:29:04.385763Z"
    }
   },
   "outputs": [
    {
     "data": {
      "text/plain": [
       "'t'"
      ]
     },
     "execution_count": 17,
     "metadata": {},
     "output_type": "execute_result"
    }
   ],
   "source": [
    "lang[2]"
   ]
  },
  {
   "cell_type": "code",
   "execution_count": 18,
   "metadata": {
    "ExecuteTime": {
     "end_time": "2021-01-06T02:29:09.042041Z",
     "start_time": "2021-01-06T02:29:09.034947Z"
    }
   },
   "outputs": [
    {
     "data": {
      "text/plain": [
       "'l'"
      ]
     },
     "execution_count": 18,
     "metadata": {},
     "output_type": "execute_result"
    }
   ],
   "source": [
    "lang[-8]"
   ]
  },
  {
   "cell_type": "code",
   "execution_count": 19,
   "metadata": {
    "ExecuteTime": {
     "end_time": "2021-01-06T02:29:15.157220Z",
     "start_time": "2021-01-06T02:29:15.148238Z"
    }
   },
   "outputs": [
    {
     "data": {
      "text/plain": [
       "'python programming learning'"
      ]
     },
     "execution_count": 19,
     "metadata": {},
     "output_type": "execute_result"
    }
   ],
   "source": [
    "lang"
   ]
  },
  {
   "cell_type": "code",
   "execution_count": 20,
   "metadata": {
    "ExecuteTime": {
     "end_time": "2021-01-06T02:29:21.954868Z",
     "start_time": "2021-01-06T02:29:21.943824Z"
    }
   },
   "outputs": [
    {
     "data": {
      "text/plain": [
       "'pro'"
      ]
     },
     "execution_count": 20,
     "metadata": {},
     "output_type": "execute_result"
    }
   ],
   "source": [
    "lang[7:10]"
   ]
  },
  {
   "cell_type": "code",
   "execution_count": 23,
   "metadata": {
    "ExecuteTime": {
     "end_time": "2021-01-06T02:30:03.705470Z",
     "start_time": "2021-01-06T02:30:03.699222Z"
    }
   },
   "outputs": [
    {
     "data": {
      "text/plain": [
       "'pythot programmitg learning'"
      ]
     },
     "execution_count": 23,
     "metadata": {},
     "output_type": "execute_result"
    }
   ],
   "source": [
    "lang.replace('n','t',2)"
   ]
  },
  {
   "cell_type": "code",
   "execution_count": 24,
   "metadata": {
    "ExecuteTime": {
     "end_time": "2021-01-06T02:30:28.315186Z",
     "start_time": "2021-01-06T02:30:28.309397Z"
    }
   },
   "outputs": [],
   "source": [
    "a = 'hello'\n",
    "b = 'python'"
   ]
  },
  {
   "cell_type": "code",
   "execution_count": 25,
   "metadata": {
    "ExecuteTime": {
     "end_time": "2021-01-06T02:30:32.070462Z",
     "start_time": "2021-01-06T02:30:32.062989Z"
    }
   },
   "outputs": [
    {
     "data": {
      "text/plain": [
       "'hellopython'"
      ]
     },
     "execution_count": 25,
     "metadata": {},
     "output_type": "execute_result"
    }
   ],
   "source": [
    "a + b"
   ]
  },
  {
   "cell_type": "code",
   "execution_count": 26,
   "metadata": {
    "ExecuteTime": {
     "end_time": "2021-01-06T02:30:39.738028Z",
     "start_time": "2021-01-06T02:30:39.730052Z"
    }
   },
   "outputs": [
    {
     "data": {
      "text/plain": [
       "'hellohellohello'"
      ]
     },
     "execution_count": 26,
     "metadata": {},
     "output_type": "execute_result"
    }
   ],
   "source": [
    "a*3"
   ]
  },
  {
   "cell_type": "code",
   "execution_count": 27,
   "metadata": {
    "ExecuteTime": {
     "end_time": "2021-01-06T02:30:49.549150Z",
     "start_time": "2021-01-06T02:30:49.539177Z"
    }
   },
   "outputs": [
    {
     "data": {
      "text/plain": [
       "'hello python'"
      ]
     },
     "execution_count": 27,
     "metadata": {},
     "output_type": "execute_result"
    }
   ],
   "source": [
    "a+' '+b"
   ]
  },
  {
   "cell_type": "code",
   "execution_count": 28,
   "metadata": {
    "ExecuteTime": {
     "end_time": "2021-01-06T02:30:54.927226Z",
     "start_time": "2021-01-06T02:30:54.918244Z"
    }
   },
   "outputs": [
    {
     "data": {
      "text/plain": [
       "'python programming learning'"
      ]
     },
     "execution_count": 28,
     "metadata": {},
     "output_type": "execute_result"
    }
   ],
   "source": [
    "lang"
   ]
  },
  {
   "cell_type": "code",
   "execution_count": 29,
   "metadata": {
    "ExecuteTime": {
     "end_time": "2021-01-06T02:31:03.399921Z",
     "start_time": "2021-01-06T02:31:03.390976Z"
    }
   },
   "outputs": [
    {
     "data": {
      "text/plain": [
       "True"
      ]
     },
     "execution_count": 29,
     "metadata": {},
     "output_type": "execute_result"
    }
   ],
   "source": [
    "'r' in lang"
   ]
  },
  {
   "cell_type": "code",
   "execution_count": 30,
   "metadata": {
    "ExecuteTime": {
     "end_time": "2021-01-06T02:31:10.296325Z",
     "start_time": "2021-01-06T02:31:10.288772Z"
    }
   },
   "outputs": [
    {
     "data": {
      "text/plain": [
       "False"
      ]
     },
     "execution_count": 30,
     "metadata": {},
     "output_type": "execute_result"
    }
   ],
   "source": [
    "'s' in lang"
   ]
  },
  {
   "cell_type": "code",
   "execution_count": 31,
   "metadata": {
    "ExecuteTime": {
     "end_time": "2021-01-06T02:31:16.916718Z",
     "start_time": "2021-01-06T02:31:16.906690Z"
    }
   },
   "outputs": [
    {
     "data": {
      "text/plain": [
       "True"
      ]
     },
     "execution_count": 31,
     "metadata": {},
     "output_type": "execute_result"
    }
   ],
   "source": [
    "'s' not in lang"
   ]
  },
  {
   "cell_type": "code",
   "execution_count": 32,
   "metadata": {
    "ExecuteTime": {
     "end_time": "2021-01-06T02:31:24.292187Z",
     "start_time": "2021-01-06T02:31:24.284848Z"
    }
   },
   "outputs": [
    {
     "data": {
      "text/plain": [
       "27"
      ]
     },
     "execution_count": 32,
     "metadata": {},
     "output_type": "execute_result"
    }
   ],
   "source": [
    "len(lang)"
   ]
  },
  {
   "cell_type": "code",
   "execution_count": 33,
   "metadata": {
    "ExecuteTime": {
     "end_time": "2021-01-06T02:31:30.916113Z",
     "start_time": "2021-01-06T02:31:30.908091Z"
    }
   },
   "outputs": [
    {
     "data": {
      "text/plain": [
       "'PYTHON PROGRAMMING LEARNING'"
      ]
     },
     "execution_count": 33,
     "metadata": {},
     "output_type": "execute_result"
    }
   ],
   "source": [
    "lang.upper()"
   ]
  },
  {
   "cell_type": "code",
   "execution_count": 34,
   "metadata": {
    "ExecuteTime": {
     "end_time": "2021-01-06T02:31:35.068911Z",
     "start_time": "2021-01-06T02:31:35.060878Z"
    }
   },
   "outputs": [
    {
     "data": {
      "text/plain": [
       "'python programming learning'"
      ]
     },
     "execution_count": 34,
     "metadata": {},
     "output_type": "execute_result"
    }
   ],
   "source": [
    "lang.lower()"
   ]
  },
  {
   "cell_type": "code",
   "execution_count": 35,
   "metadata": {
    "ExecuteTime": {
     "end_time": "2021-01-06T02:31:42.363647Z",
     "start_time": "2021-01-06T02:31:42.355373Z"
    }
   },
   "outputs": [
    {
     "data": {
      "text/plain": [
       "'Python Programming Learning'"
      ]
     },
     "execution_count": 35,
     "metadata": {},
     "output_type": "execute_result"
    }
   ],
   "source": [
    "lang.title()"
   ]
  },
  {
   "cell_type": "code",
   "execution_count": 36,
   "metadata": {
    "ExecuteTime": {
     "end_time": "2021-01-06T02:31:49.848348Z",
     "start_time": "2021-01-06T02:31:49.840327Z"
    }
   },
   "outputs": [
    {
     "data": {
      "text/plain": [
       "8"
      ]
     },
     "execution_count": 36,
     "metadata": {},
     "output_type": "execute_result"
    }
   ],
   "source": [
    "lang.find('r')"
   ]
  },
  {
   "cell_type": "code",
   "execution_count": 37,
   "metadata": {
    "ExecuteTime": {
     "end_time": "2021-01-06T02:31:56.158642Z",
     "start_time": "2021-01-06T02:31:56.149555Z"
    }
   },
   "outputs": [
    {
     "data": {
      "text/plain": [
       "['python', 'programming', 'learning']"
      ]
     },
     "execution_count": 37,
     "metadata": {},
     "output_type": "execute_result"
    }
   ],
   "source": [
    "lang.split()"
   ]
  },
  {
   "cell_type": "code",
   "execution_count": 38,
   "metadata": {
    "ExecuteTime": {
     "end_time": "2021-01-06T02:32:10.011079Z",
     "start_time": "2021-01-06T02:32:10.003516Z"
    }
   },
   "outputs": [],
   "source": [
    "day = '2019-10-30'"
   ]
  },
  {
   "cell_type": "code",
   "execution_count": 39,
   "metadata": {
    "ExecuteTime": {
     "end_time": "2021-01-06T02:32:24.757446Z",
     "start_time": "2021-01-06T02:32:24.749432Z"
    }
   },
   "outputs": [
    {
     "data": {
      "text/plain": [
       "['2019', '10', '30']"
      ]
     },
     "execution_count": 39,
     "metadata": {},
     "output_type": "execute_result"
    }
   ],
   "source": [
    "day.split('-')"
   ]
  },
  {
   "cell_type": "code",
   "execution_count": 40,
   "metadata": {
    "ExecuteTime": {
     "end_time": "2021-01-06T02:32:38.571012Z",
     "start_time": "2021-01-06T02:32:38.562940Z"
    }
   },
   "outputs": [
    {
     "data": {
      "text/plain": [
       "'2019'"
      ]
     },
     "execution_count": 40,
     "metadata": {},
     "output_type": "execute_result"
    }
   ],
   "source": [
    "day.split('-')[0]"
   ]
  },
  {
   "cell_type": "code",
   "execution_count": 41,
   "metadata": {
    "ExecuteTime": {
     "end_time": "2021-01-06T02:33:09.161162Z",
     "start_time": "2021-01-06T02:33:09.156087Z"
    }
   },
   "outputs": [],
   "source": [
    "email = 'djk177@naver.com'"
   ]
  },
  {
   "cell_type": "code",
   "execution_count": 42,
   "metadata": {
    "ExecuteTime": {
     "end_time": "2021-01-06T02:33:19.052325Z",
     "start_time": "2021-01-06T02:33:19.043761Z"
    }
   },
   "outputs": [
    {
     "data": {
      "text/plain": [
       "['djk177', 'naver.com']"
      ]
     },
     "execution_count": 42,
     "metadata": {},
     "output_type": "execute_result"
    }
   ],
   "source": [
    "email.split('@')"
   ]
  },
  {
   "cell_type": "code",
   "execution_count": 43,
   "metadata": {
    "ExecuteTime": {
     "end_time": "2021-01-06T02:33:33.642503Z",
     "start_time": "2021-01-06T02:33:33.634930Z"
    }
   },
   "outputs": [
    {
     "data": {
      "text/plain": [
       "'naver.com'"
      ]
     },
     "execution_count": 43,
     "metadata": {},
     "output_type": "execute_result"
    }
   ],
   "source": [
    "email.split('@')[1]"
   ]
  },
  {
   "cell_type": "code",
   "execution_count": 44,
   "metadata": {
    "ExecuteTime": {
     "end_time": "2021-01-06T02:33:47.691052Z",
     "start_time": "2021-01-06T02:33:47.682612Z"
    }
   },
   "outputs": [
    {
     "data": {
      "text/plain": [
       "['djk177', 'naver.com']"
      ]
     },
     "execution_count": 44,
     "metadata": {},
     "output_type": "execute_result"
    }
   ],
   "source": [
    "temp = '@'\n",
    "email.split(temp)"
   ]
  },
  {
   "cell_type": "code",
   "execution_count": 45,
   "metadata": {
    "ExecuteTime": {
     "end_time": "2021-01-06T02:34:17.171115Z",
     "start_time": "2021-01-06T02:34:17.166127Z"
    }
   },
   "outputs": [],
   "source": [
    "lang_list = lang.split()"
   ]
  },
  {
   "cell_type": "code",
   "execution_count": 46,
   "metadata": {
    "ExecuteTime": {
     "end_time": "2021-01-06T02:34:22.193184Z",
     "start_time": "2021-01-06T02:34:22.184688Z"
    }
   },
   "outputs": [
    {
     "data": {
      "text/plain": [
       "['python', 'programming', 'learning']"
      ]
     },
     "execution_count": 46,
     "metadata": {},
     "output_type": "execute_result"
    }
   ],
   "source": [
    "lang_list"
   ]
  },
  {
   "cell_type": "code",
   "execution_count": 47,
   "metadata": {
    "ExecuteTime": {
     "end_time": "2021-01-06T02:34:40.129340Z",
     "start_time": "2021-01-06T02:34:40.121220Z"
    }
   },
   "outputs": [
    {
     "data": {
      "text/plain": [
       "'python==programming==learning'"
      ]
     },
     "execution_count": 47,
     "metadata": {},
     "output_type": "execute_result"
    }
   ],
   "source": [
    "'=='.join(lang_list)"
   ]
  },
  {
   "cell_type": "code",
   "execution_count": 49,
   "metadata": {
    "ExecuteTime": {
     "end_time": "2021-01-06T02:35:33.392995Z",
     "start_time": "2021-01-06T02:35:33.389000Z"
    }
   },
   "outputs": [],
   "source": [
    "text = 'name:Park, Phone: 010-6548-8745'"
   ]
  },
  {
   "cell_type": "code",
   "execution_count": 50,
   "metadata": {
    "ExecuteTime": {
     "end_time": "2021-01-06T02:35:36.346117Z",
     "start_time": "2021-01-06T02:35:36.336143Z"
    }
   },
   "outputs": [
    {
     "data": {
      "text/plain": [
       "'name:Park, Phone: 010-6548-8745'"
      ]
     },
     "execution_count": 50,
     "metadata": {},
     "output_type": "execute_result"
    }
   ],
   "source": [
    "text"
   ]
  },
  {
   "cell_type": "code",
   "execution_count": 51,
   "metadata": {
    "ExecuteTime": {
     "end_time": "2021-01-06T02:36:21.754110Z",
     "start_time": "2021-01-06T02:36:21.747096Z"
    }
   },
   "outputs": [
    {
     "data": {
      "text/plain": [
       "'name: Kim,Phone:010-5848-5475'"
      ]
     },
     "execution_count": 51,
     "metadata": {},
     "output_type": "execute_result"
    }
   ],
   "source": [
    "'name: {},Phone:{}'.format('Kim','010-5848-5475')"
   ]
  },
  {
   "cell_type": "code",
   "execution_count": 52,
   "metadata": {
    "ExecuteTime": {
     "end_time": "2021-01-06T02:36:41.212775Z",
     "start_time": "2021-01-06T02:36:41.206706Z"
    }
   },
   "outputs": [],
   "source": [
    "text1 = 'name:{},Phone:{}'"
   ]
  },
  {
   "cell_type": "code",
   "execution_count": 53,
   "metadata": {
    "ExecuteTime": {
     "end_time": "2021-01-06T02:36:58.683652Z",
     "start_time": "2021-01-06T02:36:58.675889Z"
    }
   },
   "outputs": [
    {
     "data": {
      "text/plain": [
       "'name:Lee,Phone:011-555-555'"
      ]
     },
     "execution_count": 53,
     "metadata": {},
     "output_type": "execute_result"
    }
   ],
   "source": [
    "text1.format('Lee','011-555-555')"
   ]
  },
  {
   "cell_type": "code",
   "execution_count": 54,
   "metadata": {
    "ExecuteTime": {
     "end_time": "2021-01-06T02:37:20.261352Z",
     "start_time": "2021-01-06T02:37:20.253464Z"
    }
   },
   "outputs": [
    {
     "data": {
      "text/plain": [
       "'name:You,Phone:222-555'"
      ]
     },
     "execution_count": 54,
     "metadata": {},
     "output_type": "execute_result"
    }
   ],
   "source": [
    "text1.format('You','222-555')"
   ]
  },
  {
   "cell_type": "markdown",
   "metadata": {},
   "source": [
    "### List"
   ]
  },
  {
   "cell_type": "code",
   "execution_count": 55,
   "metadata": {
    "ExecuteTime": {
     "end_time": "2021-01-06T02:37:48.568184Z",
     "start_time": "2021-01-06T02:37:48.563647Z"
    }
   },
   "outputs": [],
   "source": [
    "score = [80,30,24,51,85,65,54]"
   ]
  },
  {
   "cell_type": "code",
   "execution_count": 56,
   "metadata": {
    "ExecuteTime": {
     "end_time": "2021-01-06T02:37:51.391379Z",
     "start_time": "2021-01-06T02:37:51.382582Z"
    }
   },
   "outputs": [
    {
     "data": {
      "text/plain": [
       "[80, 30, 24, 51, 85, 65, 54]"
      ]
     },
     "execution_count": 56,
     "metadata": {},
     "output_type": "execute_result"
    }
   ],
   "source": [
    "score"
   ]
  },
  {
   "cell_type": "code",
   "execution_count": 57,
   "metadata": {
    "ExecuteTime": {
     "end_time": "2021-01-06T02:37:55.407032Z",
     "start_time": "2021-01-06T02:37:55.397459Z"
    }
   },
   "outputs": [
    {
     "data": {
      "text/plain": [
       "30"
      ]
     },
     "execution_count": 57,
     "metadata": {},
     "output_type": "execute_result"
    }
   ],
   "source": [
    "score[1]"
   ]
  },
  {
   "cell_type": "code",
   "execution_count": 58,
   "metadata": {
    "ExecuteTime": {
     "end_time": "2021-01-06T02:38:00.971417Z",
     "start_time": "2021-01-06T02:38:00.962859Z"
    }
   },
   "outputs": [
    {
     "data": {
      "text/plain": [
       "65"
      ]
     },
     "execution_count": 58,
     "metadata": {},
     "output_type": "execute_result"
    }
   ],
   "source": [
    "score[-2]"
   ]
  },
  {
   "cell_type": "code",
   "execution_count": 59,
   "metadata": {
    "ExecuteTime": {
     "end_time": "2021-01-06T02:38:06.467493Z",
     "start_time": "2021-01-06T02:38:06.459464Z"
    }
   },
   "outputs": [
    {
     "data": {
      "text/plain": [
       "[30, 24, 51]"
      ]
     },
     "execution_count": 59,
     "metadata": {},
     "output_type": "execute_result"
    }
   ],
   "source": [
    "score[1:4]"
   ]
  },
  {
   "cell_type": "code",
   "execution_count": 60,
   "metadata": {
    "ExecuteTime": {
     "end_time": "2021-01-06T02:38:11.843224Z",
     "start_time": "2021-01-06T02:38:11.834313Z"
    }
   },
   "outputs": [
    {
     "data": {
      "text/plain": [
       "[80, 30, 24]"
      ]
     },
     "execution_count": 60,
     "metadata": {},
     "output_type": "execute_result"
    }
   ],
   "source": [
    "score[:3]"
   ]
  },
  {
   "cell_type": "code",
   "execution_count": 61,
   "metadata": {
    "ExecuteTime": {
     "end_time": "2021-01-06T02:38:17.762285Z",
     "start_time": "2021-01-06T02:38:17.755200Z"
    }
   },
   "outputs": [
    {
     "data": {
      "text/plain": [
       "[65, 54]"
      ]
     },
     "execution_count": 61,
     "metadata": {},
     "output_type": "execute_result"
    }
   ],
   "source": [
    "score[-2:]"
   ]
  },
  {
   "cell_type": "code",
   "execution_count": 63,
   "metadata": {
    "ExecuteTime": {
     "end_time": "2021-01-06T02:38:26.039159Z",
     "start_time": "2021-01-06T02:38:26.031269Z"
    }
   },
   "outputs": [
    {
     "data": {
      "text/plain": [
       "[80, 30, 24, 51, 85, 65, 54]"
      ]
     },
     "execution_count": 63,
     "metadata": {},
     "output_type": "execute_result"
    }
   ],
   "source": [
    "score[:]"
   ]
  },
  {
   "cell_type": "code",
   "execution_count": 64,
   "metadata": {
    "ExecuteTime": {
     "end_time": "2021-01-06T02:38:34.501184Z",
     "start_time": "2021-01-06T02:38:34.493507Z"
    }
   },
   "outputs": [
    {
     "data": {
      "text/plain": [
       "7"
      ]
     },
     "execution_count": 64,
     "metadata": {},
     "output_type": "execute_result"
    }
   ],
   "source": [
    "len(score)"
   ]
  },
  {
   "cell_type": "code",
   "execution_count": 65,
   "metadata": {
    "ExecuteTime": {
     "end_time": "2021-01-06T02:38:45.832430Z",
     "start_time": "2021-01-06T02:38:45.823489Z"
    }
   },
   "outputs": [
    {
     "data": {
      "text/plain": [
       "[80, 24, 85, 54]"
      ]
     },
     "execution_count": 65,
     "metadata": {},
     "output_type": "execute_result"
    }
   ],
   "source": [
    "score[0:7:2]"
   ]
  },
  {
   "cell_type": "code",
   "execution_count": 66,
   "metadata": {
    "ExecuteTime": {
     "end_time": "2021-01-06T02:38:53.961325Z",
     "start_time": "2021-01-06T02:38:53.952232Z"
    }
   },
   "outputs": [
    {
     "data": {
      "text/plain": [
       "389"
      ]
     },
     "execution_count": 66,
     "metadata": {},
     "output_type": "execute_result"
    }
   ],
   "source": [
    "sum(score)"
   ]
  },
  {
   "cell_type": "code",
   "execution_count": 67,
   "metadata": {
    "ExecuteTime": {
     "end_time": "2021-01-06T02:39:04.809042Z",
     "start_time": "2021-01-06T02:39:04.802017Z"
    }
   },
   "outputs": [
    {
     "data": {
      "text/plain": [
       "85"
      ]
     },
     "execution_count": 67,
     "metadata": {},
     "output_type": "execute_result"
    }
   ],
   "source": [
    "max(score)"
   ]
  },
  {
   "cell_type": "code",
   "execution_count": 68,
   "metadata": {
    "ExecuteTime": {
     "end_time": "2021-01-06T02:39:11.626776Z",
     "start_time": "2021-01-06T02:39:11.617007Z"
    }
   },
   "outputs": [
    {
     "data": {
      "text/plain": [
       "24"
      ]
     },
     "execution_count": 68,
     "metadata": {},
     "output_type": "execute_result"
    }
   ],
   "source": [
    "min(score)"
   ]
  },
  {
   "cell_type": "code",
   "execution_count": 70,
   "metadata": {
    "ExecuteTime": {
     "end_time": "2021-01-06T02:40:00.825041Z",
     "start_time": "2021-01-06T02:40:00.816063Z"
    }
   },
   "outputs": [
    {
     "data": {
      "text/plain": [
       "55.57142857142857"
      ]
     },
     "execution_count": 70,
     "metadata": {},
     "output_type": "execute_result"
    }
   ],
   "source": [
    "import numpy as np\n",
    "numpy.mean(score)"
   ]
  },
  {
   "cell_type": "code",
   "execution_count": 72,
   "metadata": {
    "ExecuteTime": {
     "end_time": "2021-01-06T02:40:11.415725Z",
     "start_time": "2021-01-06T02:40:11.406459Z"
    }
   },
   "outputs": [
    {
     "data": {
      "text/plain": [
       "55.57142857142857"
      ]
     },
     "execution_count": 72,
     "metadata": {},
     "output_type": "execute_result"
    }
   ],
   "source": [
    "np.mean(score)"
   ]
  },
  {
   "cell_type": "code",
   "execution_count": 73,
   "metadata": {
    "ExecuteTime": {
     "end_time": "2021-01-06T02:40:23.535512Z",
     "start_time": "2021-01-06T02:40:23.531146Z"
    }
   },
   "outputs": [],
   "source": [
    "score.append(25)"
   ]
  },
  {
   "cell_type": "code",
   "execution_count": 74,
   "metadata": {
    "ExecuteTime": {
     "end_time": "2021-01-06T02:40:25.567570Z",
     "start_time": "2021-01-06T02:40:25.558595Z"
    }
   },
   "outputs": [
    {
     "data": {
      "text/plain": [
       "[80, 30, 24, 51, 85, 65, 54, 25]"
      ]
     },
     "execution_count": 74,
     "metadata": {},
     "output_type": "execute_result"
    }
   ],
   "source": [
    "score"
   ]
  },
  {
   "cell_type": "code",
   "execution_count": 75,
   "metadata": {
    "ExecuteTime": {
     "end_time": "2021-01-06T02:40:44.504923Z",
     "start_time": "2021-01-06T02:40:44.499764Z"
    }
   },
   "outputs": [],
   "source": [
    "score.append('java')"
   ]
  },
  {
   "cell_type": "code",
   "execution_count": 76,
   "metadata": {
    "ExecuteTime": {
     "end_time": "2021-01-06T02:40:47.668113Z",
     "start_time": "2021-01-06T02:40:47.660134Z"
    }
   },
   "outputs": [
    {
     "data": {
      "text/plain": [
       "[80, 30, 24, 51, 85, 65, 54, 25, 'java']"
      ]
     },
     "execution_count": 76,
     "metadata": {},
     "output_type": "execute_result"
    }
   ],
   "source": [
    "score"
   ]
  },
  {
   "cell_type": "code",
   "execution_count": 77,
   "metadata": {
    "ExecuteTime": {
     "end_time": "2021-01-06T02:41:03.242670Z",
     "start_time": "2021-01-06T02:41:03.234349Z"
    }
   },
   "outputs": [
    {
     "data": {
      "text/plain": [
       "1"
      ]
     },
     "execution_count": 77,
     "metadata": {},
     "output_type": "execute_result"
    }
   ],
   "source": [
    "score.count('java')"
   ]
  },
  {
   "cell_type": "code",
   "execution_count": 78,
   "metadata": {
    "ExecuteTime": {
     "end_time": "2021-01-06T02:41:19.373370Z",
     "start_time": "2021-01-06T02:41:19.364625Z"
    }
   },
   "outputs": [
    {
     "data": {
      "text/plain": [
       "[80, 24, 51, 85, 65, 54, 25, 'java']"
      ]
     },
     "execution_count": 78,
     "metadata": {},
     "output_type": "execute_result"
    }
   ],
   "source": [
    "score.pop(1) # pop(index) - 특정 인덱스 값이 삭제\n",
    "score"
   ]
  },
  {
   "cell_type": "code",
   "execution_count": 79,
   "metadata": {
    "ExecuteTime": {
     "end_time": "2021-01-06T02:42:08.886478Z",
     "start_time": "2021-01-06T02:42:08.877640Z"
    }
   },
   "outputs": [
    {
     "data": {
      "text/plain": [
       "[80, 24, 51, 85, 65, 54, 25]"
      ]
     },
     "execution_count": 79,
     "metadata": {},
     "output_type": "execute_result"
    }
   ],
   "source": [
    "score.remove('java')\n",
    "score"
   ]
  },
  {
   "cell_type": "code",
   "execution_count": 80,
   "metadata": {
    "ExecuteTime": {
     "end_time": "2021-01-06T02:42:17.616445Z",
     "start_time": "2021-01-06T02:42:17.605732Z"
    }
   },
   "outputs": [
    {
     "data": {
      "text/plain": [
       "[24, 25, 51, 54, 65, 80, 85]"
      ]
     },
     "execution_count": 80,
     "metadata": {},
     "output_type": "execute_result"
    }
   ],
   "source": [
    "sorted(score)"
   ]
  },
  {
   "cell_type": "code",
   "execution_count": 81,
   "metadata": {
    "ExecuteTime": {
     "end_time": "2021-01-06T02:42:27.644999Z",
     "start_time": "2021-01-06T02:42:27.641309Z"
    }
   },
   "outputs": [],
   "source": [
    "score.sort()"
   ]
  },
  {
   "cell_type": "code",
   "execution_count": 82,
   "metadata": {
    "ExecuteTime": {
     "end_time": "2021-01-06T02:42:31.654149Z",
     "start_time": "2021-01-06T02:42:31.646560Z"
    }
   },
   "outputs": [
    {
     "data": {
      "text/plain": [
       "[24, 25, 51, 54, 65, 80, 85]"
      ]
     },
     "execution_count": 82,
     "metadata": {},
     "output_type": "execute_result"
    }
   ],
   "source": [
    "score"
   ]
  },
  {
   "cell_type": "code",
   "execution_count": 83,
   "metadata": {
    "ExecuteTime": {
     "end_time": "2021-01-06T02:42:48.616270Z",
     "start_time": "2021-01-06T02:42:48.611286Z"
    }
   },
   "outputs": [],
   "source": [
    "score.sort(reverse=True)"
   ]
  },
  {
   "cell_type": "code",
   "execution_count": 84,
   "metadata": {
    "ExecuteTime": {
     "end_time": "2021-01-06T02:42:53.545399Z",
     "start_time": "2021-01-06T02:42:53.537358Z"
    }
   },
   "outputs": [
    {
     "data": {
      "text/plain": [
       "[85, 80, 65, 54, 51, 25, 24]"
      ]
     },
     "execution_count": 84,
     "metadata": {},
     "output_type": "execute_result"
    }
   ],
   "source": [
    "score"
   ]
  },
  {
   "cell_type": "code",
   "execution_count": 86,
   "metadata": {
    "ExecuteTime": {
     "end_time": "2021-01-06T02:43:11.311869Z",
     "start_time": "2021-01-06T02:43:11.306508Z"
    }
   },
   "outputs": [],
   "source": [
    "score.clear()"
   ]
  },
  {
   "cell_type": "code",
   "execution_count": 87,
   "metadata": {
    "ExecuteTime": {
     "end_time": "2021-01-06T02:43:14.561241Z",
     "start_time": "2021-01-06T02:43:14.554241Z"
    }
   },
   "outputs": [
    {
     "data": {
      "text/plain": [
       "[]"
      ]
     },
     "execution_count": 87,
     "metadata": {},
     "output_type": "execute_result"
    }
   ],
   "source": [
    "score"
   ]
  },
  {
   "cell_type": "code",
   "execution_count": 88,
   "metadata": {
    "ExecuteTime": {
     "end_time": "2021-01-06T02:43:18.193135Z",
     "start_time": "2021-01-06T02:43:18.188482Z"
    }
   },
   "outputs": [],
   "source": [
    "del score"
   ]
  },
  {
   "cell_type": "code",
   "execution_count": 89,
   "metadata": {
    "ExecuteTime": {
     "end_time": "2021-01-06T02:43:20.215765Z",
     "start_time": "2021-01-06T02:43:20.198308Z"
    },
    "collapsed": true
   },
   "outputs": [
    {
     "ename": "NameError",
     "evalue": "name 'score' is not defined",
     "output_type": "error",
     "traceback": [
      "\u001b[1;31m---------------------------------------------------------------------------\u001b[0m",
      "\u001b[1;31mNameError\u001b[0m                                 Traceback (most recent call last)",
      "\u001b[1;32m<ipython-input-89-d2d780e36333>\u001b[0m in \u001b[0;36m<module>\u001b[1;34m\u001b[0m\n\u001b[1;32m----> 1\u001b[1;33m \u001b[0mscore\u001b[0m\u001b[1;33m\u001b[0m\u001b[1;33m\u001b[0m\u001b[0m\n\u001b[0m",
      "\u001b[1;31mNameError\u001b[0m: name 'score' is not defined"
     ]
    }
   ],
   "source": [
    "score"
   ]
  },
  {
   "cell_type": "code",
   "execution_count": 90,
   "metadata": {
    "ExecuteTime": {
     "end_time": "2021-01-06T02:43:34.155506Z",
     "start_time": "2021-01-06T02:43:34.146528Z"
    }
   },
   "outputs": [
    {
     "data": {
      "text/plain": [
       "[1, 2, 3, 4, 5, 6, 7, 8, 9]"
      ]
     },
     "execution_count": 90,
     "metadata": {},
     "output_type": "execute_result"
    }
   ],
   "source": [
    "list(range(1,10))"
   ]
  },
  {
   "cell_type": "code",
   "execution_count": 91,
   "metadata": {
    "ExecuteTime": {
     "end_time": "2021-01-06T02:43:41.463672Z",
     "start_time": "2021-01-06T02:43:41.454172Z"
    }
   },
   "outputs": [
    {
     "data": {
      "text/plain": [
       "[1, 2, 3, 4, 5, 6, 7, 8, 9, 10]"
      ]
     },
     "execution_count": 91,
     "metadata": {},
     "output_type": "execute_result"
    }
   ],
   "source": [
    "list(range(1,11))"
   ]
  },
  {
   "cell_type": "code",
   "execution_count": 92,
   "metadata": {
    "ExecuteTime": {
     "end_time": "2021-01-06T02:43:51.876312Z",
     "start_time": "2021-01-06T02:43:51.869402Z"
    }
   },
   "outputs": [
    {
     "data": {
      "text/plain": [
       "[0, 1, 2, 3, 4, 5, 6, 7, 8, 9, 10]"
      ]
     },
     "execution_count": 92,
     "metadata": {},
     "output_type": "execute_result"
    }
   ],
   "source": [
    "list(range(11))"
   ]
  },
  {
   "cell_type": "code",
   "execution_count": 93,
   "metadata": {
    "ExecuteTime": {
     "end_time": "2021-01-06T02:43:59.743001Z",
     "start_time": "2021-01-06T02:43:59.734018Z"
    }
   },
   "outputs": [
    {
     "data": {
      "text/plain": [
       "[1, 3, 5, 7, 9]"
      ]
     },
     "execution_count": 93,
     "metadata": {},
     "output_type": "execute_result"
    }
   ],
   "source": [
    "list(range(1,11,2))"
   ]
  },
  {
   "cell_type": "code",
   "execution_count": null,
   "metadata": {},
   "outputs": [],
   "source": []
  }
 ],
 "metadata": {
  "kernelspec": {
   "display_name": "Python 3",
   "language": "python",
   "name": "python3"
  },
  "language_info": {
   "codemirror_mode": {
    "name": "ipython",
    "version": 3
   },
   "file_extension": ".py",
   "mimetype": "text/x-python",
   "name": "python",
   "nbconvert_exporter": "python",
   "pygments_lexer": "ipython3",
   "version": "3.8.5"
  },
  "toc": {
   "base_numbering": 1,
   "nav_menu": {},
   "number_sections": true,
   "sideBar": true,
   "skip_h1_title": false,
   "title_cell": "Table of Contents",
   "title_sidebar": "Contents",
   "toc_cell": false,
   "toc_position": {},
   "toc_section_display": true,
   "toc_window_display": false
  },
  "varInspector": {
   "cols": {
    "lenName": 16,
    "lenType": 16,
    "lenVar": 40
   },
   "kernels_config": {
    "python": {
     "delete_cmd_postfix": "",
     "delete_cmd_prefix": "del ",
     "library": "var_list.py",
     "varRefreshCmd": "print(var_dic_list())"
    },
    "r": {
     "delete_cmd_postfix": ") ",
     "delete_cmd_prefix": "rm(",
     "library": "var_list.r",
     "varRefreshCmd": "cat(var_dic_list()) "
    }
   },
   "types_to_exclude": [
    "module",
    "function",
    "builtin_function_or_method",
    "instance",
    "_Feature"
   ],
   "window_display": false
  }
 },
 "nbformat": 4,
 "nbformat_minor": 4
}
