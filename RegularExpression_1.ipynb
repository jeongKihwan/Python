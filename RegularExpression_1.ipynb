{
 "cells": [
  {
   "cell_type": "code",
   "execution_count": 10,
   "metadata": {
    "collapsed": true
   },
   "outputs": [],
   "source": [
    "# 반복\n",
    "\n",
    "### + : 앞 문자가 한 번 이상 나오는 패턴 (1 ~)\n",
    "### * : 앞 문자가 등장하지 않아도 되고 한 번 이상 등장하는 패턴 (0 ~)\n",
    "### ? : 앞 문자가 등장하지 않거나 한 번 등장하는 패턴 (0, 1)\n",
    "\n",
    "### 중괄호 -  특정 반복횟수를 구체적으로 명시\n",
    "### (ha){3} - 'ha'가 3번 등자하는 패턴..\n",
    "### (ha){3,5} - 'ha'가 3 ~5회 등장하는 패턴..\n",
    "\n",
    "# 이스케이프(\\)\n",
    "### \\\\ - '\\'를 그대로 출력.\n",
    "### \\d - 숫자\n",
    "### \\w - 숫자와 문자\n",
    "### \\s - 공백문자 (\\t, \\n)\n",
    "\n",
    "### \\D - 숫자를 제외한 문자\n",
    "### \\W - 숫자와 문자를 제외한 문자\n",
    "### \\S - 공백문자를 제외한 문자\n",
    "\n",
    "# 매칭\n",
    "### . - 하나의 문자\n",
    "### ^ - 줄의 시작\n",
    "### $ - 줄의 끝\n",
    "\n",
    "# 사용자 정의 패턴 => [....]\n",
    "### [aeiou] - 나열된 문자 중 1개와 일치\n",
    "### [^aeiou] - 나열된 문자와 일치하지 않는 패턴..\n",
    "### [^aeiou] - 나열된 문자와 일치하지 않는 문자를 찾는 패턴\n",
    "### '-' - 문자나 숫자의 범위\n",
    "### [a-zA-Z0-9] - 영문자 대소문자, 숫자와 일치하는 패턴\n",
    "\n",
    "# 그룹\n",
    "### () - 그룹 묶기\n",
    "\n",
    "# 주요 메서드\n",
    "### compile() - pattern을 컴파일하여 정규식 객체를 반환\n",
    "### search() - 패턴과 일치하는 문자열을 객체형식으로 반환, 처음 일치하는 하나만 리턴\n",
    "### findall() - 패턴과 일치하는 문자열을 모두 리스트에 담아서 리턴\n",
    "### sub(pattern, repl, text) - 패턴과 일치하는 문자열을 새로운 문자열로 변경해서 \n",
    "#                              text에서 pattern과 일치하는 문자열을 repl로 변경해서 리턴     \n"
   ]
  },
  {
   "cell_type": "code",
   "execution_count": 2,
   "metadata": {},
   "outputs": [],
   "source": [
    "import re"
   ]
  },
  {
   "cell_type": "code",
   "execution_count": 8,
   "metadata": {},
   "outputs": [
    {
     "data": {
      "text/plain": [
       "[('02-3454-7381', '02', '3454-7381'), ('031-8455-7541', '031', '8455-7541')]"
      ]
     },
     "execution_count": 8,
     "metadata": {},
     "output_type": "execute_result"
    }
   ],
   "source": [
    "# 전화번호 추출\n",
    "\n",
    "text = '문의사항은 02-3454-7381으로 연락해주시기 바랍니다. 집 변호는 031-8455-7541입니다'\n",
    "phonere = re.compile('((\\d{2,3})-(\\d{4}-\\d{4}))')\n",
    "\n",
    "phonere.findall(text)"
   ]
  },
  {
   "cell_type": "code",
   "execution_count": 9,
   "metadata": {},
   "outputs": [
    {
     "data": {
      "text/plain": [
       "[('02-3454-7381', '02', '3454-7381'), ('031-8455-7541', '031', '8455-7541')]"
      ]
     },
     "execution_count": 9,
     "metadata": {},
     "output_type": "execute_result"
    }
   ],
   "source": [
    "# 전화번호 추출\n",
    "\n",
    "text = '문의사항은 02-3454-7381으로 연락해주시기 바랍니다. 집 변호는 031-8455-7541입니다'\n",
    "phonere = re.compile('((\\d{2,3})-(\\d+-\\d+))')\n",
    "\n",
    "phonere.findall(text)"
   ]
  },
  {
   "cell_type": "code",
   "execution_count": 7,
   "metadata": {},
   "outputs": [
    {
     "data": {
      "text/plain": [
       "'02-3454-7381'"
      ]
     },
     "execution_count": 7,
     "metadata": {},
     "output_type": "execute_result"
    }
   ],
   "source": [
    "# 전화번호 추출\n",
    "\n",
    "text = '문의사항은 02-3454-7381으로 연락해주시기 바랍니다.'\n",
    "phonere = re.compile('((\\d{2,3})-(\\d{4}-\\d{4}))')\n",
    "\n",
    "mo = phonere.search(text)\n",
    "mo.group()"
   ]
  },
  {
   "cell_type": "code",
   "execution_count": 11,
   "metadata": {},
   "outputs": [
    {
     "data": {
      "text/plain": [
       "['10', '234', '8']"
      ]
     },
     "execution_count": 11,
     "metadata": {},
     "output_type": "execute_result"
    }
   ],
   "source": [
    "text = '문자열 10 중간에 234 숫자가 8 있습니다.'\n",
    "re.findall('[0-9]+', text)"
   ]
  },
  {
   "cell_type": "code",
   "execution_count": 12,
   "metadata": {},
   "outputs": [
    {
     "data": {
      "text/plain": [
       "['10', '234', '8']"
      ]
     },
     "execution_count": 12,
     "metadata": {},
     "output_type": "execute_result"
    }
   ],
   "source": [
    "text = '문자열 10 중간에 234 숫자가 8 있습니다.'\n",
    "re.findall('\\d+', text)"
   ]
  },
  {
   "cell_type": "code",
   "execution_count": 15,
   "metadata": {},
   "outputs": [
    {
     "data": {
      "text/plain": [
       "['ski777@hanmail.net', 'fio99@gmail.com']"
      ]
     },
     "execution_count": 15,
     "metadata": {},
     "output_type": "execute_result"
    }
   ],
   "source": [
    "# 이메일 추출 패턴\n",
    "text = '저의 이메일은 ski777@hanmail.net이고, 직원 이메일은 fio99@gmail.com입니다'\n",
    "\n",
    "phonere = re.compile('[a-z0-9A-Z]+@[a-z0-9A-Z]+.[a-z]{2,5}')\n",
    "phonere.findall(text)"
   ]
  },
  {
   "cell_type": "code",
   "execution_count": 16,
   "metadata": {},
   "outputs": [
    {
     "data": {
      "text/plain": [
       "['1223044.6원']"
      ]
     },
     "execution_count": 16,
     "metadata": {},
     "output_type": "execute_result"
    }
   ],
   "source": [
    "# 금액만 추출\n",
    "\n",
    "text = '총 금액은 1223044.6원입니다.'\n",
    "\n",
    "re.findall('\\d+.\\d+원', text)"
   ]
  },
  {
   "cell_type": "code",
   "execution_count": 17,
   "metadata": {},
   "outputs": [
    {
     "data": {
      "text/plain": [
       "[('2015', '2', '15'), ('2017', '08', '22')]"
      ]
     },
     "execution_count": 17,
     "metadata": {},
     "output_type": "execute_result"
    }
   ],
   "source": [
    "# 날짜 패턴만 추출...\n",
    "\n",
    "text = '계약시작일은 2015년 2월 15일, 계약 종료일 2017년 08월 22일입니다.'\n",
    "\n",
    "re.findall('(\\d+)년 (\\d+)월 (\\d+)일', text)"
   ]
  },
  {
   "cell_type": "code",
   "execution_count": 18,
   "metadata": {},
   "outputs": [
    {
     "data": {
      "text/plain": [
       "[('2015년 2월 15일', '2015', '2', '15'), ('2017년 08월 22일', '2017', '08', '22')]"
      ]
     },
     "execution_count": 18,
     "metadata": {},
     "output_type": "execute_result"
    }
   ],
   "source": [
    "# 날짜 패턴만 추출...\n",
    "\n",
    "text = '계약시작일은 2015년 2월 15일, 계약 종료일 2017년 08월 22일입니다.'\n",
    "\n",
    "re.findall('((\\d+)년 (\\d+)월 (\\d+)일)', text)"
   ]
  },
  {
   "cell_type": "code",
   "execution_count": 19,
   "metadata": {},
   "outputs": [
    {
     "data": {
      "text/plain": [
       "['https://www.homepage.com', 'http://www.yourhomepage.com']"
      ]
     },
     "execution_count": 19,
     "metadata": {},
     "output_type": "execute_result"
    }
   ],
   "source": [
    "# URL만 추출..\n",
    "\n",
    "text = '''\n",
    "저의 홈페이지 주소는 https://www.homepage.com입니다.\n",
    "당신의 홈페이지 주소는 http://www.yourhomepage.com입니다.\n",
    "'''\n",
    "urlre = re.compile('http[s]?://w{3}.[a-zA-Z0-9]+.[a-z]+')\n",
    "\n",
    "urlre.findall(text)"
   ]
  },
  {
   "cell_type": "code",
   "execution_count": 49,
   "metadata": {},
   "outputs": [
    {
     "data": {
      "text/plain": [
       "['223.62.180.95', '211.244.131.169']"
      ]
     },
     "execution_count": 49,
     "metadata": {},
     "output_type": "execute_result"
    }
   ],
   "source": [
    "# log data추출\n",
    "\n",
    "log_text = \"\"\"\n",
    "223.62.180.95 -- [107/Mar/2014:00:00:06 +0900] 'GET /trapi/mts/Check.jsp HTTP/1.1' 200 3293\n",
    "211.244.131.169 -- [07/Mar/2014:00:00:19 +0900] 'GET /trapi/mts/Check.jsp HTTP/1.1' 200 3233\n",
    "\"\"\"\n",
    "\n",
    "# IP Address 추출\n",
    "ipre = re.compile('([(\\d+.)]+)')\n",
    "iplist = ipre.findall(log_text)\n",
    "iplist\n",
    "iplist[0:100:11]\n",
    "\n"
   ]
  },
  {
   "cell_type": "code",
   "execution_count": null,
   "metadata": {},
   "outputs": [],
   "source": []
  }
 ],
 "metadata": {
  "kernelspec": {
   "display_name": "Python 3",
   "language": "python",
   "name": "python3"
  },
  "language_info": {
   "codemirror_mode": {
    "name": "ipython",
    "version": 3
   },
   "file_extension": ".py",
   "mimetype": "text/x-python",
   "name": "python",
   "nbconvert_exporter": "python",
   "pygments_lexer": "ipython3",
   "version": "3.8.3"
  }
 },
 "nbformat": 4,
 "nbformat_minor": 4
}
