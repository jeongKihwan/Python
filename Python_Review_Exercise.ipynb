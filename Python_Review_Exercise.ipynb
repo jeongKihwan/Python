{
 "cells": [
  {
   "cell_type": "markdown",
   "metadata": {},
   "source": [
    "### Python Review Exercise"
   ]
  },
  {
   "cell_type": "code",
   "execution_count": 2,
   "metadata": {},
   "outputs": [
    {
     "name": "stdout",
     "output_type": "stream",
     "text": [
      "hello world\n"
     ]
    }
   ],
   "source": [
    "# print('내용') - 화면에 내용을 출력하는 함수..\n",
    "\n",
    "print('hello world')"
   ]
  },
  {
   "cell_type": "code",
   "execution_count": 3,
   "metadata": {},
   "outputs": [],
   "source": [
    "# 값을 변수에 저장해서 사용..\n",
    "# 변수 = '값' : 값이 변수에 할당..값을 변수가 저장\n",
    "# 변수 : 값을 담는 그릇..\n",
    "\n",
    "var1 = 'hello world'\n",
    "var2 = 24\n",
    "var3 = 3.14\n",
    "var4 = True"
   ]
  },
  {
   "cell_type": "code",
   "execution_count": 4,
   "metadata": {},
   "outputs": [
    {
     "name": "stdout",
     "output_type": "stream",
     "text": [
      "hello world 24 3.14 True\n"
     ]
    }
   ],
   "source": [
    "print(var1, var2, var3, var4)"
   ]
  },
  {
   "cell_type": "code",
   "execution_count": 5,
   "metadata": {},
   "outputs": [
    {
     "data": {
      "text/plain": [
       "27.14"
      ]
     },
     "execution_count": 5,
     "metadata": {},
     "output_type": "execute_result"
    }
   ],
   "source": [
    "# 변수에 연산을 하면 변수의 값이 연산한다..\n",
    "var2 + var3"
   ]
  },
  {
   "cell_type": "code",
   "execution_count": null,
   "metadata": {},
   "outputs": [],
   "source": [
    "# 변수를 만드는 원칙\n",
    "\n",
    "# 1. '=' 할당연산자를 통해 변수에 값을 저장하면 변수가 생성..\n",
    "# 2. 파이썬 문법키워드는 사용금지\n",
    "#    (ex. return, def, class, if, for,)\n",
    "# 3. 특수문자는 '_'만 사용 가능 : var_1\n",
    "# 4. 공백을 포함할 수 없다.\n",
    "# 5. 숫자도 가능하지만 숫자로 시작하면 안 된다..\n",
    "#    (var1 : o,   1var : x)"
   ]
  },
  {
   "cell_type": "code",
   "execution_count": null,
   "metadata": {},
   "outputs": [],
   "source": [
    "# 주석 - 파이썬이 코드로 인식하지 않는 부분\n",
    "\n",
    "# 한 줄 주석\n",
    "\n",
    "\"\"\"\n",
    "여러 줄 주석\n",
    "여러 줄 주석\n",
    "\"\"\""
   ]
  },
  {
   "cell_type": "code",
   "execution_count": 6,
   "metadata": {},
   "outputs": [
    {
     "name": "stdout",
     "output_type": "stream",
     "text": [
      "hello world\n",
      "hello python\n"
     ]
    }
   ],
   "source": [
    "# print()는 실해되면 자동 줄바꿈..\n",
    "\n",
    "print('hello world')\n",
    "print('hello python')"
   ]
  },
  {
   "cell_type": "code",
   "execution_count": 8,
   "metadata": {},
   "outputs": [
    {
     "name": "stdout",
     "output_type": "stream",
     "text": [
      "hello world hello python\n"
     ]
    }
   ],
   "source": [
    "# print( content, end=' ') : 줄 바꿈이 아니라, end의 값을 붙인다.\n",
    "print('hello world', end=' ')\n",
    "print('hello python')"
   ]
  },
  {
   "cell_type": "code",
   "execution_count": 9,
   "metadata": {},
   "outputs": [
    {
     "name": "stdout",
     "output_type": "stream",
     "text": [
      "hello world 24 3.14 hello python\n"
     ]
    }
   ],
   "source": [
    "# 여러요소를 출력하는 경우 : ','로 구분한다\n",
    "\n",
    "print(var1, var2, var3, 'hello python')"
   ]
  },
  {
   "cell_type": "markdown",
   "metadata": {},
   "source": [
    "### Data Type"
   ]
  },
  {
   "cell_type": "markdown",
   "metadata": {},
   "source": [
    "##### 원소가 하나인 데이터 타입\n",
    "1. int    # 정수타입\n",
    "2. float  # 실수타입\n",
    "3. bool  # 불타입\n",
    "\n",
    "##### 원소가 여럿인 데이터 타입 : Sequence\n",
    "4. string : 문자열, ' ' 쌓는다, 원소를 수정, 삭제, 추가가 안 됨.., 인덱스, 순서\n",
    "5. List : [ ], 원소를 수정,삭제,추가가 자유롭게.. , 인덱스, 순서\n",
    "6. Set : { }, 집합개념, 수정, 삭제, 추가가 됨, 인덱스와 순서가 없다.\n",
    "7. Tuple : ( ), 원소의 수정,삭제,추가가 안 됨.., 인덱스와 순서가 있다..\n",
    "8. Dictionary : {key:value}, 원소의 수정,삭제,추가 가능, 인덱스와 순서는 없다..\n",
    "    "
   ]
  },
  {
   "cell_type": "code",
   "execution_count": 10,
   "metadata": {},
   "outputs": [],
   "source": [
    "### String"
   ]
  },
  {
   "cell_type": "code",
   "execution_count": 11,
   "metadata": {},
   "outputs": [
    {
     "name": "stdout",
     "output_type": "stream",
     "text": [
      "hello \n",
      " world\n",
      "hello \t world\n"
     ]
    }
   ],
   "source": [
    "# 문자열 속에서 '\\'는 특수한 의미를 갖는다.\n",
    "# \\n : 줄바꿈표시\n",
    "# \\t : tab의 의미..\n",
    "\n",
    "print('hello \\n world')\n",
    "print('hello \\t world')"
   ]
  },
  {
   "cell_type": "code",
   "execution_count": 12,
   "metadata": {},
   "outputs": [],
   "source": [
    "# 문자열은 항상 ' ' 묶어준다..\n",
    "str1 = 'python'\n",
    "str2 = \"python\"\n",
    "str3 = '''python'''"
   ]
  },
  {
   "cell_type": "code",
   "execution_count": null,
   "metadata": {},
   "outputs": [],
   "source": [
    "# 따옴표를 중복해서 찍는 경우, 바깥쪽 따옴표와 안쪽 따옴표는 달라야 한다.."
   ]
  },
  {
   "cell_type": "code",
   "execution_count": 13,
   "metadata": {},
   "outputs": [
    {
     "name": "stdout",
     "output_type": "stream",
     "text": [
      "hello 'python' world\n",
      "hello \"python\" world\n"
     ]
    }
   ],
   "source": [
    "str1 = \"hello 'python' world\"\n",
    "str2 = 'hello \"python\" world'\n",
    "print(str1)\n",
    "print(str2)"
   ]
  },
  {
   "cell_type": "code",
   "execution_count": 14,
   "metadata": {
    "collapsed": true
   },
   "outputs": [
    {
     "ename": "SyntaxError",
     "evalue": "invalid syntax (<ipython-input-14-7c2852ce63b6>, line 1)",
     "output_type": "error",
     "traceback": [
      "\u001b[1;36m  File \u001b[1;32m\"<ipython-input-14-7c2852ce63b6>\"\u001b[1;36m, line \u001b[1;32m1\u001b[0m\n\u001b[1;33m    str1 = \"hello \"python\" world\"\u001b[0m\n\u001b[1;37m                   ^\u001b[0m\n\u001b[1;31mSyntaxError\u001b[0m\u001b[1;31m:\u001b[0m invalid syntax\n"
     ]
    }
   ],
   "source": [
    "str1 = \"hello \"python\" world\"\n",
    "print(str1)"
   ]
  },
  {
   "cell_type": "code",
   "execution_count": 15,
   "metadata": {},
   "outputs": [
    {
     "name": "stdout",
     "output_type": "stream",
     "text": [
      "helloworld\n",
      "hellohellohello\n"
     ]
    }
   ],
   "source": [
    "# 문자열을 '+' 연산하면, 문자열을 이어준다\n",
    "# 문자열을 '*' 연산하면, 문자열을 반복한다..\n",
    "\n",
    "print('hello' + 'world')\n",
    "print('hello'*3)"
   ]
  },
  {
   "cell_type": "code",
   "execution_count": 16,
   "metadata": {},
   "outputs": [],
   "source": [
    "# 인덱싱과 슬라이싱\n",
    "# string은 여러 요소로 구성되어서, 각각은 순번을 갖고, 순번이 인덱스..\n",
    "# 순번은 항상 0부터 시작\n",
    "# 순번(인덱스)은 주소값 역할.. 값에 접근할 때는 주소를 통해서 접근..\n",
    "# 주소값은 항상 대괄호 [] 안에 적는다. => str[3]"
   ]
  },
  {
   "cell_type": "code",
   "execution_count": 2,
   "metadata": {},
   "outputs": [],
   "source": [
    "text = 'python programming is fun!!'"
   ]
  },
  {
   "cell_type": "code",
   "execution_count": 18,
   "metadata": {},
   "outputs": [],
   "source": [
    "# 인덱싱 - 하나의 요소 선택"
   ]
  },
  {
   "cell_type": "code",
   "execution_count": 19,
   "metadata": {},
   "outputs": [
    {
     "data": {
      "text/plain": [
       "'p'"
      ]
     },
     "execution_count": 19,
     "metadata": {},
     "output_type": "execute_result"
    }
   ],
   "source": [
    "text[0]"
   ]
  },
  {
   "cell_type": "code",
   "execution_count": 20,
   "metadata": {},
   "outputs": [
    {
     "data": {
      "text/plain": [
       "'h'"
      ]
     },
     "execution_count": 20,
     "metadata": {},
     "output_type": "execute_result"
    }
   ],
   "source": [
    "text[3]"
   ]
  },
  {
   "cell_type": "code",
   "execution_count": 21,
   "metadata": {},
   "outputs": [
    {
     "data": {
      "text/plain": [
       "'!'"
      ]
     },
     "execution_count": 21,
     "metadata": {},
     "output_type": "execute_result"
    }
   ],
   "source": [
    "text[-1]"
   ]
  },
  {
   "cell_type": "code",
   "execution_count": 22,
   "metadata": {},
   "outputs": [
    {
     "data": {
      "text/plain": [
       "'f'"
      ]
     },
     "execution_count": 22,
     "metadata": {},
     "output_type": "execute_result"
    }
   ],
   "source": [
    "text[-5]"
   ]
  },
  {
   "cell_type": "code",
   "execution_count": 23,
   "metadata": {},
   "outputs": [],
   "source": [
    "# 슬라이싱 - 구간선택 => : >[start_index : end_index (: step)]"
   ]
  },
  {
   "cell_type": "code",
   "execution_count": 24,
   "metadata": {},
   "outputs": [
    {
     "data": {
      "text/plain": [
       "'python programming is fun!!'"
      ]
     },
     "execution_count": 24,
     "metadata": {},
     "output_type": "execute_result"
    }
   ],
   "source": [
    "text"
   ]
  },
  {
   "cell_type": "code",
   "execution_count": 25,
   "metadata": {},
   "outputs": [
    {
     "data": {
      "text/plain": [
       "'ytho'"
      ]
     },
     "execution_count": 25,
     "metadata": {},
     "output_type": "execute_result"
    }
   ],
   "source": [
    "text[1:5] # 마지막인덱스는 선택되지 않는다"
   ]
  },
  {
   "cell_type": "code",
   "execution_count": 27,
   "metadata": {},
   "outputs": [
    {
     "data": {
      "text/plain": [
       "'pro'"
      ]
     },
     "execution_count": 27,
     "metadata": {},
     "output_type": "execute_result"
    }
   ],
   "source": [
    "# pro\n",
    "text[7:10]   # start : 7, end : 9"
   ]
  },
  {
   "cell_type": "code",
   "execution_count": 28,
   "metadata": {},
   "outputs": [
    {
     "data": {
      "text/plain": [
       "'pytho'"
      ]
     },
     "execution_count": 28,
     "metadata": {},
     "output_type": "execute_result"
    }
   ],
   "source": [
    "text[:5]   # 5번 인덱스 앞쪽으로 전체선택"
   ]
  },
  {
   "cell_type": "code",
   "execution_count": 29,
   "metadata": {},
   "outputs": [
    {
     "data": {
      "text/plain": [
       "'gramming is fun!!'"
      ]
     },
     "execution_count": 29,
     "metadata": {},
     "output_type": "execute_result"
    }
   ],
   "source": [
    "text[10:]  # 10번 인덱스부터 뒤 쪽으로 전체 선택.."
   ]
  },
  {
   "cell_type": "code",
   "execution_count": 30,
   "metadata": {},
   "outputs": [
    {
     "data": {
      "text/plain": [
       "'tnr'"
      ]
     },
     "execution_count": 30,
     "metadata": {},
     "output_type": "execute_result"
    }
   ],
   "source": [
    "text[2:10:3]  # 2번부터 10번까지 선택하는데, 3번씩 건너서 선택.."
   ]
  },
  {
   "cell_type": "code",
   "execution_count": 31,
   "metadata": {},
   "outputs": [
    {
     "data": {
      "text/plain": [
       "'!'"
      ]
     },
     "execution_count": 31,
     "metadata": {},
     "output_type": "execute_result"
    }
   ],
   "source": [
    "text[-2]  # 위에서 두번쨰 요소"
   ]
  },
  {
   "cell_type": "code",
   "execution_count": null,
   "metadata": {},
   "outputs": [],
   "source": [
    "text[-5:]   # 뒤에서 5번째에서 뒤로 전체선택"
   ]
  },
  {
   "cell_type": "code",
   "execution_count": 3,
   "metadata": {},
   "outputs": [
    {
     "data": {
      "text/plain": [
       "'python programmin'"
      ]
     },
     "execution_count": 3,
     "metadata": {},
     "output_type": "execute_result"
    }
   ],
   "source": [
    "text[:-10]   # 뒤에서 10번째부터 앞으로 전체선택.."
   ]
  },
  {
   "cell_type": "code",
   "execution_count": null,
   "metadata": {},
   "outputs": [],
   "source": []
  },
  {
   "cell_type": "code",
   "execution_count": null,
   "metadata": {},
   "outputs": [],
   "source": []
  },
  {
   "cell_type": "code",
   "execution_count": null,
   "metadata": {},
   "outputs": [],
   "source": []
  },
  {
   "cell_type": "code",
   "execution_count": 4,
   "metadata": {},
   "outputs": [],
   "source": [
    "# python_test_20201027\n",
    "\n",
    "# 1. 'hello world'를 변수에 저장한 후 화면에 출력하세요.\n",
    "# 2. var1에는 100, var2에는 200을 담은 후  두 변수의 합을 출력하시오.\n",
    "# 3. 파이썬 한 줄 주석과 여러 줄 주석은 무엇인가?\n",
    "# 4. 'hello world'를 변수 text에 저장하시오.\n",
    "# 5. text 변수에 저장된 문자열을 세 번 반복하시오.\n",
    "# 6. 문자열 'python programming'에서 \n",
    "#  1) 't'를 출력하시오\n",
    "#  2) 'prog'를 출력하시오\n",
    "#  3) 앞의 5개 문자를 출력하시오.\n",
    "#  4) 5번 인덱스의 값에 해당하는 문자를 출력하시오.\n",
    "#  5) 맨 뒤 문자 5개를 출력하시오"
   ]
  },
  {
   "cell_type": "code",
   "execution_count": 5,
   "metadata": {},
   "outputs": [
    {
     "name": "stdout",
     "output_type": "stream",
     "text": [
      "hello world\n"
     ]
    }
   ],
   "source": [
    "#1. \n",
    "text = 'hello world'\n",
    "print(text)"
   ]
  },
  {
   "cell_type": "code",
   "execution_count": 6,
   "metadata": {},
   "outputs": [
    {
     "data": {
      "text/plain": [
       "300"
      ]
     },
     "execution_count": 6,
     "metadata": {},
     "output_type": "execute_result"
    }
   ],
   "source": [
    "#2.\n",
    "var1= 100\n",
    "var2 = 200\n",
    "var1 + var2"
   ]
  },
  {
   "cell_type": "code",
   "execution_count": 7,
   "metadata": {},
   "outputs": [
    {
     "name": "stdout",
     "output_type": "stream",
     "text": [
      "hello world\n"
     ]
    }
   ],
   "source": [
    "# 한 줄 주석\n",
    "\n",
    "\"\"\"\n",
    "여러 줄 주석\n",
    "여러 줄 주석\n",
    "\"\"\"\n",
    "\n",
    "print(text)"
   ]
  },
  {
   "cell_type": "code",
   "execution_count": 8,
   "metadata": {},
   "outputs": [
    {
     "data": {
      "text/plain": [
       "'hello worldhello worldhello world'"
      ]
     },
     "execution_count": 8,
     "metadata": {},
     "output_type": "execute_result"
    }
   ],
   "source": [
    "#5.\n",
    "text * 3"
   ]
  },
  {
   "cell_type": "code",
   "execution_count": 9,
   "metadata": {},
   "outputs": [],
   "source": [
    "#6. \n",
    "text = 'python programming'"
   ]
  },
  {
   "cell_type": "code",
   "execution_count": 10,
   "metadata": {},
   "outputs": [
    {
     "data": {
      "text/plain": [
       "'t'"
      ]
     },
     "execution_count": 10,
     "metadata": {},
     "output_type": "execute_result"
    }
   ],
   "source": [
    "text[2]"
   ]
  },
  {
   "cell_type": "code",
   "execution_count": 13,
   "metadata": {},
   "outputs": [
    {
     "data": {
      "text/plain": [
       "'pro'"
      ]
     },
     "execution_count": 13,
     "metadata": {},
     "output_type": "execute_result"
    }
   ],
   "source": [
    "#7.\n",
    "text[7:10]"
   ]
  },
  {
   "cell_type": "code",
   "execution_count": 14,
   "metadata": {},
   "outputs": [
    {
     "data": {
      "text/plain": [
       "'pytho'"
      ]
     },
     "execution_count": 14,
     "metadata": {},
     "output_type": "execute_result"
    }
   ],
   "source": [
    "# 8\n",
    "text[0:5]"
   ]
  },
  {
   "cell_type": "code",
   "execution_count": 15,
   "metadata": {},
   "outputs": [
    {
     "data": {
      "text/plain": [
       "'pytho'"
      ]
     },
     "execution_count": 15,
     "metadata": {},
     "output_type": "execute_result"
    }
   ],
   "source": [
    "text[:5]"
   ]
  },
  {
   "cell_type": "code",
   "execution_count": 16,
   "metadata": {},
   "outputs": [
    {
     "data": {
      "text/plain": [
       "'n'"
      ]
     },
     "execution_count": 16,
     "metadata": {},
     "output_type": "execute_result"
    }
   ],
   "source": [
    "# 9\n",
    "text[5]"
   ]
  },
  {
   "cell_type": "code",
   "execution_count": 17,
   "metadata": {},
   "outputs": [
    {
     "data": {
      "text/plain": [
       "'mming'"
      ]
     },
     "execution_count": 17,
     "metadata": {},
     "output_type": "execute_result"
    }
   ],
   "source": [
    "# 10\n",
    "text[-5:]"
   ]
  },
  {
   "cell_type": "code",
   "execution_count": null,
   "metadata": {},
   "outputs": [],
   "source": []
  },
  {
   "cell_type": "code",
   "execution_count": 18,
   "metadata": {},
   "outputs": [
    {
     "data": {
      "text/plain": [
       "'helloworld'"
      ]
     },
     "execution_count": 18,
     "metadata": {},
     "output_type": "execute_result"
    }
   ],
   "source": [
    "a = 'hello'\n",
    "b = 'world'\n",
    "a+b  \n",
    "# 문자열 간에 더하기를 하면 문자열이 이어진다.."
   ]
  },
  {
   "cell_type": "code",
   "execution_count": 20,
   "metadata": {},
   "outputs": [
    {
     "data": {
      "text/plain": [
       "'hello world'"
      ]
     },
     "execution_count": 20,
     "metadata": {},
     "output_type": "execute_result"
    }
   ],
   "source": [
    "a = 'hello'\n",
    "b = 'world'\n",
    "c = ' '\n",
    "a+c+b  "
   ]
  },
  {
   "cell_type": "code",
   "execution_count": 21,
   "metadata": {},
   "outputs": [],
   "source": [
    "# in : '요소' in sequence (string, list, set,tuple, dictionary) \n",
    "# => 특정 요소가 sequence에 포함되어 있으면 => True\n",
    "# => 특정 요소가 sequence에 포함되어 있지 않으면 => False"
   ]
  },
  {
   "cell_type": "code",
   "execution_count": 23,
   "metadata": {},
   "outputs": [
    {
     "data": {
      "text/plain": [
       "'python programming'"
      ]
     },
     "execution_count": 23,
     "metadata": {},
     "output_type": "execute_result"
    }
   ],
   "source": [
    "text"
   ]
  },
  {
   "cell_type": "code",
   "execution_count": 24,
   "metadata": {},
   "outputs": [
    {
     "data": {
      "text/plain": [
       "True"
      ]
     },
     "execution_count": 24,
     "metadata": {},
     "output_type": "execute_result"
    }
   ],
   "source": [
    "'python' in text"
   ]
  },
  {
   "cell_type": "code",
   "execution_count": 25,
   "metadata": {},
   "outputs": [
    {
     "data": {
      "text/plain": [
       "False"
      ]
     },
     "execution_count": 25,
     "metadata": {},
     "output_type": "execute_result"
    }
   ],
   "source": [
    "'hello' in text"
   ]
  },
  {
   "cell_type": "code",
   "execution_count": 26,
   "metadata": {},
   "outputs": [
    {
     "data": {
      "text/plain": [
       "True"
      ]
     },
     "execution_count": 26,
     "metadata": {},
     "output_type": "execute_result"
    }
   ],
   "source": [
    "'p' in text"
   ]
  },
  {
   "cell_type": "code",
   "execution_count": 27,
   "metadata": {},
   "outputs": [
    {
     "data": {
      "text/plain": [
       "False"
      ]
     },
     "execution_count": 27,
     "metadata": {},
     "output_type": "execute_result"
    }
   ],
   "source": [
    "'s' in text"
   ]
  },
  {
   "cell_type": "code",
   "execution_count": 28,
   "metadata": {},
   "outputs": [
    {
     "data": {
      "text/plain": [
       "18"
      ]
     },
     "execution_count": 28,
     "metadata": {},
     "output_type": "execute_result"
    }
   ],
   "source": [
    "# len() : sequence의 길이를 return\n",
    "\n",
    "len(text)"
   ]
  },
  {
   "cell_type": "code",
   "execution_count": null,
   "metadata": {},
   "outputs": [],
   "source": [
    "# 문자열에 사용되는 함수.."
   ]
  },
  {
   "cell_type": "code",
   "execution_count": 33,
   "metadata": {},
   "outputs": [
    {
     "name": "stdout",
     "output_type": "stream",
     "text": [
      "PYTHON PROGRAMMING\n",
      "python programming\n",
      "2\n",
      "4\n",
      "['python', 'programming']\n",
      "java programming\n"
     ]
    }
   ],
   "source": [
    "print(text.upper())\n",
    "print(text.lower())\n",
    "print(text.count('p'))   # 문자열 내에 요소의 갯수를 출력..\n",
    "print(text.find('o'))    # 문자열 위치 인덱스 출력..\n",
    "print(text.split(' '))   # 문자열을 나눈다.\n",
    "print(text.replace('python', 'java'))    # 문자열의 값을 바꾼다.."
   ]
  },
  {
   "cell_type": "code",
   "execution_count": null,
   "metadata": {},
   "outputs": [],
   "source": [
    "# format"
   ]
  },
  {
   "cell_type": "code",
   "execution_count": 37,
   "metadata": {},
   "outputs": [
    {
     "name": "stdout",
     "output_type": "stream",
     "text": [
      "hello, python\n"
     ]
    }
   ],
   "source": [
    "text = 'hello, {}'.format('python')\n",
    "print(text)"
   ]
  },
  {
   "cell_type": "code",
   "execution_count": 38,
   "metadata": {},
   "outputs": [
    {
     "name": "stdout",
     "output_type": "stream",
     "text": [
      "점수를 입력하세요95\n",
      "당신의 점수는 95입니다\n"
     ]
    }
   ],
   "source": [
    "score = input('점수를 입력하세요')\n",
    "text = '당신의 점수는 {}입니다'.format(score)\n",
    "\n",
    "print(text)"
   ]
  },
  {
   "cell_type": "code",
   "execution_count": null,
   "metadata": {},
   "outputs": [],
   "source": []
  },
  {
   "cell_type": "code",
   "execution_count": null,
   "metadata": {},
   "outputs": [],
   "source": [
    "# int"
   ]
  },
  {
   "cell_type": "code",
   "execution_count": 34,
   "metadata": {},
   "outputs": [],
   "source": [
    "num1 = 13\n",
    "num2 = 15"
   ]
  },
  {
   "cell_type": "code",
   "execution_count": 39,
   "metadata": {
    "collapsed": true
   },
   "outputs": [
    {
     "name": "stdout",
     "output_type": "stream",
     "text": [
      "28\n",
      "-2\n",
      "195\n",
      "0.8666666666666667\n",
      "13\n",
      "0\n",
      "2197\n"
     ]
    }
   ],
   "source": [
    "print(num1 + num2)\n",
    "print(num1 - num2)\n",
    "print(num1 * num2)\n",
    "print(num1/num2)\n",
    "print(num1%num2)   # num1을 num2로 나눈 나머지..\n",
    "print(num1// num2)\n",
    "print(num1**3)   # 승을 표시"
   ]
  },
  {
   "cell_type": "code",
   "execution_count": 40,
   "metadata": {},
   "outputs": [],
   "source": [
    "num1 += num2  # num1과 num2를 더해서 num1에 입력..\n",
    "num1 -= num2\n",
    "num1 *= num2\n",
    "num1 /= num2"
   ]
  },
  {
   "cell_type": "code",
   "execution_count": 42,
   "metadata": {},
   "outputs": [
    {
     "name": "stdout",
     "output_type": "stream",
     "text": [
      "False\n",
      "True\n",
      "False\n",
      "True\n",
      "False\n",
      "True\n"
     ]
    }
   ],
   "source": [
    "a = 10\n",
    "b = 20\n",
    "\n",
    "# 비교연산을 하면 결과는 항상 bool\n",
    "print(a>b)\n",
    "print(a<b)\n",
    "print(a==b)\n",
    "print(a!=b)\n",
    "print(a>=b)\n",
    "print(a<=b)"
   ]
  },
  {
   "cell_type": "code",
   "execution_count": 43,
   "metadata": {},
   "outputs": [
    {
     "name": "stdout",
     "output_type": "stream",
     "text": [
      "False\n",
      "True\n",
      "False\n"
     ]
    }
   ],
   "source": [
    "# 논리연산\n",
    "# and(&) - 비교하는 두 값이 모두 True일 때만 True를 리턴\n",
    "# or(|) - 비교하는 두 중 어느 하나만 True이면 True를 리턴\n",
    "# not(!) - True => False, False => True\n",
    "\n",
    "a = True\n",
    "b = False\n",
    "c = True\n",
    "\n",
    "print(a & b)   # False\n",
    "print(a | b)   # True\n",
    "print(not a)   # False"
   ]
  },
  {
   "cell_type": "code",
   "execution_count": 45,
   "metadata": {},
   "outputs": [],
   "source": [
    "# List\n",
    "# 1. []\n",
    "# 2. 원소의 수정, 삭제, 추가가 자유롭다.\n",
    "# 3. 인덱스가 있어서 인덱싱과 슬라이싱이 가능하다"
   ]
  },
  {
   "cell_type": "code",
   "execution_count": 47,
   "metadata": {},
   "outputs": [],
   "source": [
    "score = [80, 91, 75, 88, 92]"
   ]
  },
  {
   "cell_type": "code",
   "execution_count": 48,
   "metadata": {},
   "outputs": [
    {
     "data": {
      "text/plain": [
       "75"
      ]
     },
     "execution_count": 48,
     "metadata": {},
     "output_type": "execute_result"
    }
   ],
   "source": [
    "score[2]"
   ]
  },
  {
   "cell_type": "code",
   "execution_count": 49,
   "metadata": {},
   "outputs": [
    {
     "data": {
      "text/plain": [
       "[91, 75, 88]"
      ]
     },
     "execution_count": 49,
     "metadata": {},
     "output_type": "execute_result"
    }
   ],
   "source": [
    "score[1: 4]"
   ]
  },
  {
   "cell_type": "code",
   "execution_count": 50,
   "metadata": {},
   "outputs": [
    {
     "data": {
      "text/plain": [
       "[80, 91, 75]"
      ]
     },
     "execution_count": 50,
     "metadata": {},
     "output_type": "execute_result"
    }
   ],
   "source": [
    "score[:4]"
   ]
  },
  {
   "cell_type": "code",
   "execution_count": 51,
   "metadata": {},
   "outputs": [
    {
     "data": {
      "text/plain": [
       "[88, 92]"
      ]
     },
     "execution_count": 51,
     "metadata": {},
     "output_type": "execute_result"
    }
   ],
   "source": [
    "score[3:]"
   ]
  },
  {
   "cell_type": "code",
   "execution_count": 52,
   "metadata": {},
   "outputs": [
    {
     "data": {
      "text/plain": [
       "88"
      ]
     },
     "execution_count": 52,
     "metadata": {},
     "output_type": "execute_result"
    }
   ],
   "source": [
    "score[-2]"
   ]
  },
  {
   "cell_type": "code",
   "execution_count": 53,
   "metadata": {},
   "outputs": [
    {
     "data": {
      "text/plain": [
       "[75, 88, 92]"
      ]
     },
     "execution_count": 53,
     "metadata": {},
     "output_type": "execute_result"
    }
   ],
   "source": [
    "score[-3:]"
   ]
  },
  {
   "cell_type": "code",
   "execution_count": 54,
   "metadata": {},
   "outputs": [],
   "source": [
    "# sequence data 주요 함수"
   ]
  },
  {
   "cell_type": "code",
   "execution_count": 55,
   "metadata": {},
   "outputs": [
    {
     "data": {
      "text/plain": [
       "5"
      ]
     },
     "execution_count": 55,
     "metadata": {},
     "output_type": "execute_result"
    }
   ],
   "source": [
    "len(score)"
   ]
  },
  {
   "cell_type": "code",
   "execution_count": 56,
   "metadata": {},
   "outputs": [
    {
     "data": {
      "text/plain": [
       "[80, 91, 75, 88, 92, 'a', '파이썬']"
      ]
     },
     "execution_count": 56,
     "metadata": {},
     "output_type": "execute_result"
    }
   ],
   "source": [
    "score.append('a')     # 리스트의 뒤로 원소가 계속 추가..\n",
    "score.append('파이썬')\n",
    "score"
   ]
  },
  {
   "cell_type": "code",
   "execution_count": 57,
   "metadata": {},
   "outputs": [
    {
     "data": {
      "text/plain": [
       "True"
      ]
     },
     "execution_count": 57,
     "metadata": {},
     "output_type": "execute_result"
    }
   ],
   "source": [
    "'a' in score"
   ]
  },
  {
   "cell_type": "code",
   "execution_count": 58,
   "metadata": {},
   "outputs": [
    {
     "data": {
      "text/plain": [
       "True"
      ]
     },
     "execution_count": 58,
     "metadata": {},
     "output_type": "execute_result"
    }
   ],
   "source": [
    "80 in score"
   ]
  },
  {
   "cell_type": "code",
   "execution_count": 59,
   "metadata": {},
   "outputs": [
    {
     "data": {
      "text/plain": [
       "1"
      ]
     },
     "execution_count": 59,
     "metadata": {},
     "output_type": "execute_result"
    }
   ],
   "source": [
    "score.count(80)"
   ]
  },
  {
   "cell_type": "code",
   "execution_count": 61,
   "metadata": {},
   "outputs": [
    {
     "data": {
      "text/plain": [
       "5"
      ]
     },
     "execution_count": 61,
     "metadata": {},
     "output_type": "execute_result"
    }
   ],
   "source": [
    "score.index('a')"
   ]
  },
  {
   "cell_type": "code",
   "execution_count": 62,
   "metadata": {},
   "outputs": [],
   "source": [
    "# list.pop(index) : 리스트에서 해당 인덱스 값을 삭제\n",
    "# list.remove(value) : 리스트에서 해당 값을 삭제.."
   ]
  },
  {
   "cell_type": "code",
   "execution_count": null,
   "metadata": {},
   "outputs": [],
   "source": []
  },
  {
   "cell_type": "code",
   "execution_count": 63,
   "metadata": {},
   "outputs": [],
   "source": [
    "# solarsys = ['태양','수성','금성','지구','화성','목성','지구']\n",
    "# solarsys1 = ['토성','천왕성','해왕성']\n",
    "\n",
    "# 1. 행성의 이름을 입력받은 후 solarsys에 있는지 확인하시오.\n",
    "# 2. 입력받은 행성이 몇 번째 인덱스에 있는지 확인하시오.\n",
    "# 3. 입력받은 행성을 solarsys의 맨 마지막에 추가하시오.\n",
    "# # - 지금부터 문제는 solarsys list를 기준으로 풀이하시오\n",
    "# 4. ['수성','금성','지구']를 출력하시오\n",
    "# 5. '지구'의 위치 인덱스를 출력하시오.\n",
    "# 6. '화성'을 '해왕성'으로 변경하시오.\n",
    "# 7. '수성' 자리에 '명왕성'을 입력하시오.\n",
    "# 8. '토성'을 맨 끝에 추가하시오.\n",
    "# 9. '금성'을 제거하시오.\n",
    "# 10. 2번 인덱스 요소를 삭제하시오.\n",
    "# 11. solarsys와 solarsys1을 연결하시오.\n",
    "# 12. 내림차순으로 정렬하시오.\n",
    "# 13. 원소의 순서를 반대로 하시오.\n",
    "# 14. solarsys에 '만리장성'이 있는지 확인하시오.\n",
    "# 15. solarsys를 3번 반복하시오.\n",
    "# 16. solarsys의 길이를 리턴하시오.\n",
    "# 17. solarsys의 모든 원소를 지우시오.\n",
    "# 18. solarsys 리스트를 삭제하시오."
   ]
  },
  {
   "cell_type": "code",
   "execution_count": null,
   "metadata": {},
   "outputs": [],
   "source": []
  },
  {
   "cell_type": "code",
   "execution_count": null,
   "metadata": {},
   "outputs": [],
   "source": [
    "# python_test"
   ]
  },
  {
   "cell_type": "code",
   "execution_count": null,
   "metadata": {},
   "outputs": [],
   "source": [
    "# 1. 변수 text에 문자열 'python programming is fun'을 입력하시오.\n",
    "text = 'python programming is fun'\n",
    "# 2. 위의 변수 text값에 's'가 있는지 확인하시오.\n",
    "'s' in text\n",
    "# 3. 위의 변수 text값에 'fun'이 있는지 확인하시오.\n",
    "'fun' in text\n",
    "# 4. 변수 text의 값의 길이를 출력하시오.\n",
    "len(text)\n",
    "# 5. text값을 모두 대문자로 변환하시오.\n",
    "text.upper()\n",
    "# 6. text값을 모두 소문자로 변환하시오.\n",
    "text.lower()\n",
    "# 7. text의 값에 'o'가 몇 포함되어 있는지 확인하시오.\n",
    "text.count('o')\n",
    "# 8. text의 값에 'o'가 몇 번째 인덱스에 처음 존재하는지 확인하시오.\n",
    "text.find('o')\n",
    "# 9. text의 문자열을 space를 기준으로 분리해서 리스트에 저장하시오.\n",
    "text.split()\n",
    "# 10. text의 문자열에서 'o'를 모두 's'로 바꾸시오.\n",
    "text.replace('o','s')\n",
    "# 11. text의 문자열에서 'python'을 'java'로 바꾸시오.\n",
    "text.replace('python', 'java')\n",
    "# 12. 문자열 'ynn@naver.com', '2020-06-24'에서 이메일 id와 일짜를 \n",
    "# 출력하시오.\n",
    "'ynn@naver.com'.split('@')[0]\n",
    "'2020-06-24'.split('-')[2]\n",
    "# 13. '???씨, 당신의 점수는 ???입니다.' 이 문자열에서 이름과 \n",
    "# 점수를 바꾸어 출력\n",
    "#      할 수 있도록 하고, 예시로 직접 값을 입력해서 출력하시오.\n",
    "#      (방식은 format과 % 두 가지 방식으로 만드시오.)\n",
    "'{}씨, 당신의 점수는 {}입니다.'.format('yuna', 95)\n",
    "'%s씨, 당신의 점수는 %s입니다.'%('yuna', 95)\n"
   ]
  },
  {
   "cell_type": "code",
   "execution_count": null,
   "metadata": {},
   "outputs": [],
   "source": [
    "# solarsys= ['태양','수성','금성','지구','화성','목성','지구']\n",
    "# solarsys1 = ['토성','천왕성','해왕성']\n",
    "# planet = '지구'\n",
    "\n",
    "# 1. solarsys에서 ['수성','금성','지구']를 출력\n",
    "solarsys[1:4]\n",
    "# 2. solarsys에서 '지구'의 위치 출력\n",
    "solarsys.index('지구')\n",
    "# 3. solarsys에서 '화성'을 '해왕성'으로 수정\n",
    "solarsys[4] = '해왕성'\n",
    "# 4. solarsys에서 '수성' 자리에 '명왕성' 삽입\n",
    "solarsys.insert(1, '명왕성')\n",
    "# 5. solarsys에서 '토성'을 맨 끝에 추가\n",
    "solarsys.append('토성')\n",
    "# 6. solarsys에서 '금성'을 제거\n",
    "solarsys.remove('금성')\n",
    "solarsys.pop(2)\n",
    "# 7. solarsys에서 2번 인덱스 요소 삭제\n",
    "# 8. solarsys와 solarsys1을 합하세요.\n",
    "solarsys + solarsys1\n",
    "# 9. solarsys에를 오름차순으로 정렬.\n",
    "sorted(solarsys)\n",
    "# 10. solarsys를 내림차순으로 정렬.\n",
    "sorted(solarsys, reverse=True)\n",
    "# 11. solarsys에서 '만리장성'이 있는지 확인\n",
    "'만리장성' in solarsys\n",
    "# 12. solarsys에서 길이를 리턴하세요.\n",
    "len(solarsys)\n",
    "# 13. solarsys에서 '지구'의 갯수를 출력.\n",
    "solarsys.count('지구')"
   ]
  },
  {
   "cell_type": "code",
   "execution_count": null,
   "metadata": {},
   "outputs": [],
   "source": []
  },
  {
   "cell_type": "code",
   "execution_count": 1,
   "metadata": {},
   "outputs": [],
   "source": [
    "# 2020-10-29"
   ]
  },
  {
   "cell_type": "code",
   "execution_count": null,
   "metadata": {},
   "outputs": [],
   "source": [
    "# set\n",
    "# 집합 - 순서가 없다. 인덱스가 없다\n",
    "# 중복값이 없다. unique한 원소로만 구성\n",
    "# {}"
   ]
  },
  {
   "cell_type": "code",
   "execution_count": 2,
   "metadata": {},
   "outputs": [],
   "source": [
    "s = {1,2,3}"
   ]
  },
  {
   "cell_type": "code",
   "execution_count": 3,
   "metadata": {},
   "outputs": [],
   "source": [
    "s.add(2)"
   ]
  },
  {
   "cell_type": "code",
   "execution_count": 4,
   "metadata": {},
   "outputs": [
    {
     "data": {
      "text/plain": [
       "{1, 2, 3}"
      ]
     },
     "execution_count": 4,
     "metadata": {},
     "output_type": "execute_result"
    }
   ],
   "source": [
    "s   # 동일한 값을 넣으면 중복값으로 추가가 되지 않는다."
   ]
  },
  {
   "cell_type": "code",
   "execution_count": 5,
   "metadata": {},
   "outputs": [
    {
     "data": {
      "text/plain": [
       "{1, 2, 3, 7}"
      ]
     },
     "execution_count": 5,
     "metadata": {},
     "output_type": "execute_result"
    }
   ],
   "source": [
    "s.add(7)\n",
    "s"
   ]
  },
  {
   "cell_type": "code",
   "execution_count": 6,
   "metadata": {
    "collapsed": true
   },
   "outputs": [
    {
     "data": {
      "text/plain": [
       "{1, 2, 3}"
      ]
     },
     "execution_count": 6,
     "metadata": {},
     "output_type": "execute_result"
    }
   ],
   "source": [
    "s.remove(7)\n",
    "s"
   ]
  },
  {
   "cell_type": "code",
   "execution_count": 7,
   "metadata": {
    "collapsed": true
   },
   "outputs": [
    {
     "data": {
      "text/plain": [
       "{1, 3}"
      ]
     },
     "execution_count": 7,
     "metadata": {},
     "output_type": "execute_result"
    }
   ],
   "source": [
    "s.discard(2)\n",
    "s"
   ]
  },
  {
   "cell_type": "code",
   "execution_count": 8,
   "metadata": {},
   "outputs": [],
   "source": [
    "# 집합연산"
   ]
  },
  {
   "cell_type": "code",
   "execution_count": 9,
   "metadata": {},
   "outputs": [],
   "source": [
    "a = {1,3,5,7}\n",
    "b = {1,2,4,6,7,8}"
   ]
  },
  {
   "cell_type": "code",
   "execution_count": 10,
   "metadata": {},
   "outputs": [
    {
     "data": {
      "text/plain": [
       "{1, 2, 3, 4, 5, 6, 7, 8}"
      ]
     },
     "execution_count": 10,
     "metadata": {},
     "output_type": "execute_result"
    }
   ],
   "source": [
    "# 합집합\n",
    "a.union(b)"
   ]
  },
  {
   "cell_type": "code",
   "execution_count": 11,
   "metadata": {},
   "outputs": [
    {
     "data": {
      "text/plain": [
       "{1, 7}"
      ]
     },
     "execution_count": 11,
     "metadata": {},
     "output_type": "execute_result"
    }
   ],
   "source": [
    "# 교집합\n",
    "a.intersection(b)"
   ]
  },
  {
   "cell_type": "code",
   "execution_count": 13,
   "metadata": {},
   "outputs": [
    {
     "data": {
      "text/plain": [
       "{2, 3, 4, 5, 6, 8}"
      ]
     },
     "execution_count": 13,
     "metadata": {},
     "output_type": "execute_result"
    }
   ],
   "source": [
    "# 교차차집합\n",
    "a.symmetric_difference(b)"
   ]
  },
  {
   "cell_type": "code",
   "execution_count": 14,
   "metadata": {},
   "outputs": [
    {
     "data": {
      "text/plain": [
       "False"
      ]
     },
     "execution_count": 14,
     "metadata": {},
     "output_type": "execute_result"
    }
   ],
   "source": [
    "# 포함여부\n",
    "a.issubset(b)"
   ]
  },
  {
   "cell_type": "code",
   "execution_count": 15,
   "metadata": {},
   "outputs": [
    {
     "data": {
      "text/plain": [
       "False"
      ]
     },
     "execution_count": 15,
     "metadata": {},
     "output_type": "execute_result"
    }
   ],
   "source": [
    "a.issuperset(b)"
   ]
  },
  {
   "cell_type": "code",
   "execution_count": 16,
   "metadata": {},
   "outputs": [
    {
     "data": {
      "text/plain": [
       "False"
      ]
     },
     "execution_count": 16,
     "metadata": {},
     "output_type": "execute_result"
    }
   ],
   "source": [
    "# 서로소여부 판단..\n",
    "\n",
    "a.isdisjoint(b)"
   ]
  },
  {
   "cell_type": "code",
   "execution_count": null,
   "metadata": {},
   "outputs": [],
   "source": []
  },
  {
   "cell_type": "code",
   "execution_count": 18,
   "metadata": {},
   "outputs": [],
   "source": [
    "# Dictionary - 사전 (key:value)\n",
    "# key가 index역할을 한다..\n",
    "# {key:value, key:value...}"
   ]
  },
  {
   "cell_type": "code",
   "execution_count": 19,
   "metadata": {},
   "outputs": [],
   "source": [
    "d = {'one':1, 'two':2, 'three':3}"
   ]
  },
  {
   "cell_type": "code",
   "execution_count": 20,
   "metadata": {},
   "outputs": [
    {
     "data": {
      "text/plain": [
       "1"
      ]
     },
     "execution_count": 20,
     "metadata": {},
     "output_type": "execute_result"
    }
   ],
   "source": [
    "# 값에 접근 시 key를 통해 접근 , key => index역할\n",
    "d['one']"
   ]
  },
  {
   "cell_type": "code",
   "execution_count": 21,
   "metadata": {},
   "outputs": [
    {
     "data": {
      "text/plain": [
       "2"
      ]
     },
     "execution_count": 21,
     "metadata": {},
     "output_type": "execute_result"
    }
   ],
   "source": [
    "d['two']"
   ]
  },
  {
   "cell_type": "code",
   "execution_count": 22,
   "metadata": {},
   "outputs": [
    {
     "data": {
      "text/plain": [
       "{'one': 1, 'two': 2, 'three': 3}"
      ]
     },
     "execution_count": 22,
     "metadata": {},
     "output_type": "execute_result"
    }
   ],
   "source": [
    "# dict 값을 추가하는 경우는 d[new key] = value\n",
    "# 기존에 없었던 새로운 key와 value를 넣으면, 요소가 추가된다.\n",
    "d"
   ]
  },
  {
   "cell_type": "code",
   "execution_count": 23,
   "metadata": {},
   "outputs": [],
   "source": [
    "d['four'] = 13"
   ]
  },
  {
   "cell_type": "code",
   "execution_count": 24,
   "metadata": {},
   "outputs": [
    {
     "data": {
      "text/plain": [
       "{'one': 1, 'two': 2, 'three': 3, 'four': 13}"
      ]
     },
     "execution_count": 24,
     "metadata": {},
     "output_type": "execute_result"
    }
   ],
   "source": [
    "d"
   ]
  },
  {
   "cell_type": "code",
   "execution_count": 25,
   "metadata": {},
   "outputs": [],
   "source": [
    "d['five'] = 100"
   ]
  },
  {
   "cell_type": "code",
   "execution_count": 26,
   "metadata": {},
   "outputs": [
    {
     "data": {
      "text/plain": [
       "{'one': 1, 'two': 2, 'three': 3, 'four': 13, 'five': 100}"
      ]
     },
     "execution_count": 26,
     "metadata": {},
     "output_type": "execute_result"
    }
   ],
   "source": [
    "d"
   ]
  },
  {
   "cell_type": "code",
   "execution_count": 27,
   "metadata": {},
   "outputs": [],
   "source": [
    "# 기존에 있던 key와 value를 입력하면, value에 덮어쓰기가 된다."
   ]
  },
  {
   "cell_type": "code",
   "execution_count": 28,
   "metadata": {},
   "outputs": [
    {
     "data": {
      "text/plain": [
       "{'one': 1, 'two': 2, 'three': 3, 'four': 13, 'five': 100}"
      ]
     },
     "execution_count": 28,
     "metadata": {},
     "output_type": "execute_result"
    }
   ],
   "source": [
    "d"
   ]
  },
  {
   "cell_type": "code",
   "execution_count": 29,
   "metadata": {},
   "outputs": [],
   "source": [
    "d['two'] = 50"
   ]
  },
  {
   "cell_type": "code",
   "execution_count": 30,
   "metadata": {},
   "outputs": [
    {
     "data": {
      "text/plain": [
       "{'one': 1, 'two': 50, 'three': 3, 'four': 13, 'five': 100}"
      ]
     },
     "execution_count": 30,
     "metadata": {},
     "output_type": "execute_result"
    }
   ],
   "source": [
    "d"
   ]
  },
  {
   "cell_type": "code",
   "execution_count": 32,
   "metadata": {},
   "outputs": [
    {
     "data": {
      "text/plain": [
       "dict_keys(['one', 'two', 'three', 'four', 'five'])"
      ]
     },
     "execution_count": 32,
     "metadata": {},
     "output_type": "execute_result"
    }
   ],
   "source": [
    "d.keys()"
   ]
  },
  {
   "cell_type": "code",
   "execution_count": 33,
   "metadata": {},
   "outputs": [
    {
     "data": {
      "text/plain": [
       "dict_values([1, 50, 3, 13, 100])"
      ]
     },
     "execution_count": 33,
     "metadata": {},
     "output_type": "execute_result"
    }
   ],
   "source": [
    "d.values()"
   ]
  },
  {
   "cell_type": "code",
   "execution_count": 34,
   "metadata": {},
   "outputs": [
    {
     "data": {
      "text/plain": [
       "dict_items([('one', 1), ('two', 50), ('three', 3), ('four', 13), ('five', 100)])"
      ]
     },
     "execution_count": 34,
     "metadata": {},
     "output_type": "execute_result"
    }
   ],
   "source": [
    "d.items()"
   ]
  },
  {
   "cell_type": "code",
   "execution_count": null,
   "metadata": {},
   "outputs": [],
   "source": []
  },
  {
   "cell_type": "code",
   "execution_count": null,
   "metadata": {},
   "outputs": [],
   "source": []
  },
  {
   "cell_type": "code",
   "execution_count": null,
   "metadata": {},
   "outputs": [],
   "source": [
    "# 다음 시간 테스트 : 튜플, 셋, 딕셔너리, int연산, 비교연산, 논리연산, IF문"
   ]
  },
  {
   "cell_type": "code",
   "execution_count": 1,
   "metadata": {},
   "outputs": [],
   "source": [
    "# 20201030"
   ]
  },
  {
   "cell_type": "code",
   "execution_count": null,
   "metadata": {},
   "outputs": [],
   "source": [
    "# if 조건문\n",
    "\n",
    "# 조건 참이면 실행코드를 실행한다.\n",
    "# 조건이 참이 아니면 실행코드를 실행하지 않는다.\n",
    "# 어느 조건도 참이 아니면 else의 실행코드가 실행..\n",
    "\n",
    "# if 조건1:\n",
    "#     실행코드1\n",
    "# elif 조건2:\n",
    "#     실행코드2\n",
    "# elif 조건3:\n",
    "#     실행코드3\n",
    "# else:\n",
    "#     실행코드4"
   ]
  },
  {
   "cell_type": "code",
   "execution_count": null,
   "metadata": {},
   "outputs": [],
   "source": [
    "# 임의의 num를 받은 후 양수이면 양수입니다, 홀수이면 홀수입니다.."
   ]
  },
  {
   "cell_type": "code",
   "execution_count": 4,
   "metadata": {},
   "outputs": [
    {
     "name": "stdout",
     "output_type": "stream",
     "text": [
      "임의의 수를 입력하시오-5\n",
      "음수입니다\n"
     ]
    }
   ],
   "source": [
    "num = int(input('임의의 수를 입력하시오'))\n",
    "\n",
    "if num >= 0:\n",
    "    print('양수입니다')\n",
    "else:\n",
    "    print('음수입니다')"
   ]
  },
  {
   "cell_type": "code",
   "execution_count": 7,
   "metadata": {},
   "outputs": [
    {
     "name": "stdout",
     "output_type": "stream",
     "text": [
      "임의의 수를 입력하시오5\n",
      "홀수입니다\n"
     ]
    }
   ],
   "source": [
    "# 짝수이면 \"짝수입니다\". 홀수이면 \"홀수입니다..\"\"\n",
    "\n",
    "num = int(input('임의의 수를 입력하시오'))\n",
    "\n",
    "if num%2 == 0:\n",
    "    print('짝수입니다')\n",
    "else:\n",
    "    print('홀수입니다')"
   ]
  },
  {
   "cell_type": "code",
   "execution_count": 9,
   "metadata": {},
   "outputs": [],
   "source": [
    "# 학점출력..\n",
    "# 임의 점수를 입력받은 후, 점수가 90점 이상이면 'A'입니다\n",
    "#                          점수가 80점 이상이면 'B'입니다\n",
    "#                          점수가 70점 미만이면 'C'입니다"
   ]
  },
  {
   "cell_type": "code",
   "execution_count": 13,
   "metadata": {},
   "outputs": [
    {
     "name": "stdout",
     "output_type": "stream",
     "text": [
      "점수를 입력하세요75\n",
      "C입니다\n"
     ]
    }
   ],
   "source": [
    "score = int(input('점수를 입력하세요'))\n",
    "\n",
    "if score >= 90:\n",
    "    print('A입니다')\n",
    "elif score >= 80:\n",
    "    print('B입니다')\n",
    "elif score >= 70:\n",
    "    print('C입니다')\n",
    "else:\n",
    "    print('D입니다')"
   ]
  },
  {
   "cell_type": "code",
   "execution_count": 14,
   "metadata": {},
   "outputs": [],
   "source": [
    "# 월을 입력받은 후 \n",
    "#  12.31 ~ 3.31  사이이면 '봄입니다'\n",
    "#  4.1 ~ 7.31 사이이면 '여름입니다'\n",
    "#  8.1 ~ 9.31 사이이면 '가을입니다'\n",
    "#  10.1 ~ 12.30 사이이면 '겨울입니다'\n",
    "\n"
   ]
  },
  {
   "cell_type": "code",
   "execution_count": 17,
   "metadata": {},
   "outputs": [
    {
     "name": "stdout",
     "output_type": "stream",
     "text": [
      "월과 일을 입력하세요8.5\n",
      "가을입니다\n"
     ]
    }
   ],
   "source": [
    "mon = float(input('월과 일을 입력하세요'))\n",
    "\n",
    "if 3.31 < mon <= 3.30:\n",
    "    print('봄입니다.')\n",
    "elif 4.1 < mon <= 7.31:\n",
    "    print('여름입니다')\n",
    "elif 8.1 < mon <= 9.31:\n",
    "    print('가을입니다')\n",
    "else:\n",
    "    print('겨울입니다.')"
   ]
  },
  {
   "cell_type": "code",
   "execution_count": 20,
   "metadata": {},
   "outputs": [
    {
     "name": "stdout",
     "output_type": "stream",
     "text": [
      "비밀번호를 입력하세요2323\n",
      "비밀번호가 틀립니다..\n"
     ]
    }
   ],
   "source": [
    "# 비밀번호는 '1234'이고 비밀번호를 입력받은 후 비밀면호가 일치하면,\n",
    "# '환영합니다', 비밀번호가 틀리면 '비밀번호가 틀립니다'를 출력하도록..\n",
    "\n",
    "pw = '1234'\n",
    "\n",
    "password = input('비밀번호를 입력하세요')\n",
    "\n",
    "if pw == password:\n",
    "    print('환영합니다')\n",
    "else:\n",
    "    print('비밀번호가 틀립니다..')"
   ]
  },
  {
   "cell_type": "code",
   "execution_count": 1,
   "metadata": {},
   "outputs": [
    {
     "name": "stdout",
     "output_type": "stream",
     "text": [
      "주민번호 7자리를 입력하세요\n",
      "주민번호 7자리가 아닙니다. 다시 입력하세요\n",
      "주민번호 7자리를 입력하세요\n"
     ]
    }
   ],
   "source": [
    "# 주민번호 7자리를 입력받은 후 7번째 자리가 1이면 '당신은 남성입니다'\n",
    "# 2이면 '당신은 여성입니다.'\n",
    "nn = input('주민번호 7자리를 입력하세요')\n",
    "\n",
    "if len(nn) == 7:\n",
    "    if nn[-1] == 1:\n",
    "        print('당신은 남성입니다')\n",
    "    else:\n",
    "        print('당신은 여성입니다.')\n",
    "else:\n",
    "    print('주민번호 7자리가 아닙니다. 다시 입력하세요')\n",
    "    nn = input('주민번호 7자리를 입력하세요')"
   ]
  },
  {
   "cell_type": "code",
   "execution_count": null,
   "metadata": {},
   "outputs": [],
   "source": []
  },
  {
   "cell_type": "code",
   "execution_count": null,
   "metadata": {},
   "outputs": [],
   "source": [
    "# 튜플, 셋, 딕셔너리, int연산, 비교연산, 논리연산, IF문 Test - 20201102"
   ]
  },
  {
   "cell_type": "code",
   "execution_count": null,
   "metadata": {},
   "outputs": [],
   "source": [
    "# Set Test\n",
    "s1 = {1,2,5}\n",
    "s2 = {1,2,4,6,7,8}\n",
    "\n",
    "set s1에서 원소 3를 추가하시오.\n",
    "=> s1.add(3)\n",
    "set s1에서 원소 5를 삭제하시요\n",
    "=> s2.discard(5), s2.remove(5)\n",
    "\n",
    "s1과 s2의 교집합을 출력하시오\n",
    "=> s1.intersection(s2)\n",
    "s1과 s2의 합집합을 출력하시오\n",
    "=> s1.union(s2)\n",
    "s1과 s2의 교차차집합을 출력하시오\n",
    "=> s1.difference(s2)\n",
    "=> s1.symmetric_difference(s2)\n",
    "s1이 s2에 포함되는지 확인하시오\n",
    "=> s1.issubset(s2)\n",
    "s1이 s2를 포함하는지 확인하시오\n",
    "=> s1.issuperset(s2)\n",
    "\n",
    "# Dictionary Test\n",
    "1. mydict라는 빈 딕셔너리를 만드세요.\n",
    "=> d = {}\n",
    "2. 'red':1, 'blue':3, 'green':4 세 요소를 딕셔너리에 추가\n",
    "=> d['red'] = 1\n",
    "=> d['blue'] = 3\n",
    "=> d['green'] = 4\n",
    "3. 'green'의 value를 7로 수정하세요.\n",
    "=> d['green'] = 7\n",
    "4. key에 'blue'가 존재하는지 확인..\n",
    "=> 'blue' in d\n",
    "5. dict의 길이를 출력\n",
    "=> len(d)\n",
    "6. 'red'의 값을 출력..\n",
    "=> d['red']\n",
    "7. key만 출력.\n",
    "=> d.keys()\n",
    "8. value만 출력\n",
    "=> d.values()\n",
    "9, key와 value를 tuple의 쌍으로 출력\n",
    "=> d.items()\n",
    "10, key가 'blue'인 요소를 삭제\n",
    "=> d.pop('blue')\n",
    "\n",
    "# IF문 Test\n",
    "1. 임의의 정수를 입력받은 후 짝수이면 '짝수입니다.'\n",
    "    홀수이면 '홀수입니다'를 출력하시오.\n",
    "    \n",
    "=> \n",
    "num = int(input('임의의 정수를 입력하세요'))\n",
    "if num%2 == 0:\n",
    "    print('짝수입니다')\n",
    "else: \n",
    "    print('홀수입니다')\n",
    "\n",
    "2. 날짜를 입력받은 후 해당 날짜의 계절을 출력하도록 하시오.\n",
    "=> date = input('날짜를 입력하세요')\n",
    "   date = '20201029'\n",
    "   month = date[4:6]\n",
    "   if 12 <= month < 3:\n",
    "        print('겨울입니다')\n",
    "   elif 3<= month < 6:\n",
    "        print('봄입니다')\n",
    "   elif 6<= month < 9:\n",
    "        print('가을입니다')\n",
    "   else:\n",
    "        print('겨울입니다..')\n",
    "\n",
    "3. 점수를 입력받은 후 학점을 출력하는 코드를 작성하시오.\n",
    "\n",
    "score = int(input('점수를 입력하세요'))\n",
    "if score >= 90:\n",
    "    print(\"'A'학점입니다\")\n",
    "elif 80 <= score < 90:\n",
    "    print(\"'B'학점입니다\")\n",
    "elif 70 <= score < 80:\n",
    "    print(\"'C'학점입니다\")\n",
    "else:\n",
    "    print(\"'D'학점입니다\")\n",
    "\n",
    "4. 출생년도를 입력받은 후   20대 이하이면 => '젊으시군요'\n",
    "                             30대이면 => '좋은 때입니다'\n",
    "                             40대이면 => '인생의 황금기입니다'\n",
    "                             50대 이상이면 => '중년이시군요'\n",
    "            \n",
    "birth = int(input('출생년도를 입력하세요'))\n",
    "age = 2020 - birth\n",
    "\n",
    "if age <= 20:\n",
    "    print('젊으시군요')\n",
    "elif 20 < age <= 30:\n",
    "    print('좋은 때입니다')\n",
    "elif 30 < age <= 40:\n",
    "    print('인생의 황금기입니다')\n",
    "else:\n",
    "    print('중년이시군요')    \n",
    "\n",
    "# 논리연산\n",
    "A = True\n",
    "B = False\n",
    "C = True\n",
    "\n",
    "1. A, B, C 모두 참일 경우에만 참이되는 연산식을 만드시오\n",
    "=> A & B & C\n",
    "\n",
    "2. A, B, C 중 어느 하나만 참이면 참이되는 연산식을 만드시오\n",
    "=> A | B | C\n"
   ]
  },
  {
   "cell_type": "code",
   "execution_count": 1,
   "metadata": {},
   "outputs": [],
   "source": [
    "# 반복문 => for문/while문 - 20201104"
   ]
  },
  {
   "cell_type": "code",
   "execution_count": null,
   "metadata": {},
   "outputs": [],
   "source": [
    "# for i in sequence(string, list, set, tuple, dictionay, range()):\n",
    "#     실행코드\n",
    "\n",
    "# sequence data에서 원소가 하나씩 나올 때마다 실행코드가 실행됨.\n",
    "# sequence data의 원소가 모두 나오면 반복을 중지"
   ]
  },
  {
   "cell_type": "code",
   "execution_count": null,
   "metadata": {},
   "outputs": [],
   "source": [
    "# while 조건(True/ False):\n",
    "#     실행코드\n",
    "\n",
    "# 조건이 True이면 실행코드를 실행 => 조건이 True이면 실행코드를 계속 실행..\n",
    "# 조건이 False로 바뀌면 => 실행코드의 반복을 중지.."
   ]
  },
  {
   "cell_type": "code",
   "execution_count": 2,
   "metadata": {
    "collapsed": true
   },
   "outputs": [
    {
     "name": "stdout",
     "output_type": "stream",
     "text": [
      "a\n",
      "b\n",
      "c\n"
     ]
    }
   ],
   "source": [
    "for i in ['a','b','c']:\n",
    "    print(i)"
   ]
  },
  {
   "cell_type": "code",
   "execution_count": 3,
   "metadata": {
    "collapsed": true
   },
   "outputs": [
    {
     "name": "stdout",
     "output_type": "stream",
     "text": [
      "a b c "
     ]
    }
   ],
   "source": [
    "for i in ('a','b','c'):\n",
    "    print(i, end=' ')"
   ]
  },
  {
   "cell_type": "code",
   "execution_count": 4,
   "metadata": {
    "collapsed": true
   },
   "outputs": [
    {
     "name": "stdout",
     "output_type": "stream",
     "text": [
      "b\n",
      "a\n",
      "c\n"
     ]
    }
   ],
   "source": [
    "for k in {'a','b','c'}:\n",
    "    print(k)"
   ]
  },
  {
   "cell_type": "code",
   "execution_count": 6,
   "metadata": {},
   "outputs": [
    {
     "name": "stdout",
     "output_type": "stream",
     "text": [
      "p y t h o n   p r o g r a m m i n g "
     ]
    }
   ],
   "source": [
    "for c in 'python programming':\n",
    "    print(c, end=' ')"
   ]
  },
  {
   "cell_type": "code",
   "execution_count": 7,
   "metadata": {},
   "outputs": [
    {
     "name": "stdout",
     "output_type": "stream",
     "text": [
      "a\n",
      "b\n",
      "c\n"
     ]
    }
   ],
   "source": [
    "for d in {'a':1, 'b':2, 'c':3}:\n",
    "    print(d)"
   ]
  },
  {
   "cell_type": "code",
   "execution_count": 9,
   "metadata": {
    "collapsed": true
   },
   "outputs": [
    {
     "name": "stdout",
     "output_type": "stream",
     "text": [
      "1::2::3::4::5::6::7::8::9::10::"
     ]
    }
   ],
   "source": [
    "for i in range(1,11):\n",
    "    print(i, end='::')"
   ]
  },
  {
   "cell_type": "code",
   "execution_count": 11,
   "metadata": {
    "collapsed": true
   },
   "outputs": [
    {
     "name": "stdout",
     "output_type": "stream",
     "text": [
      "0 1 2 3 4 5 6 7 8 9 "
     ]
    }
   ],
   "source": [
    "count = 0\n",
    "while count < 10:\n",
    "    print(count, end=' ')\n",
    "    count += 1"
   ]
  },
  {
   "cell_type": "code",
   "execution_count": 12,
   "metadata": {
    "collapsed": true
   },
   "outputs": [
    {
     "name": "stdout",
     "output_type": "stream",
     "text": [
      "(0, 'p')\n",
      "(1, 'y')\n",
      "(2, 't')\n",
      "(3, 'h')\n",
      "(4, 'o')\n",
      "(5, 'n')\n"
     ]
    }
   ],
   "source": [
    "for i, j in enumerate('python'):\n",
    "    print(i)"
   ]
  },
  {
   "cell_type": "code",
   "execution_count": 14,
   "metadata": {},
   "outputs": [
    {
     "name": "stdout",
     "output_type": "stream",
     "text": [
      "P\n",
      "Y\n",
      "T\n",
      "H\n",
      "O\n",
      "N\n"
     ]
    }
   ],
   "source": [
    "# 'python' for문으로 문자 하나하나씩 출력하되, 대문자로 출력하시오..\n",
    "for c in 'python':\n",
    "    print(c.upper())"
   ]
  },
  {
   "cell_type": "code",
   "execution_count": 15,
   "metadata": {
    "collapsed": true
   },
   "outputs": [
    {
     "name": "stdout",
     "output_type": "stream",
     "text": [
      "a 가\n",
      "a 나\n",
      "a 다\n",
      "b 가\n",
      "b 나\n",
      "b 다\n",
      "c 가\n",
      "c 나\n",
      "c 다\n"
     ]
    }
   ],
   "source": [
    "# list 'A'와 list 'B'의 각원소의 모든 조합을 출력하시오..\n",
    "A = ['a','b','c']\n",
    "B = ['가','나','다']\n",
    "\n",
    "for i in A:\n",
    "    for j in B:\n",
    "        print(i, j)"
   ]
  },
  {
   "cell_type": "code",
   "execution_count": 17,
   "metadata": {},
   "outputs": [
    {
     "data": {
      "text/plain": [
       "55"
      ]
     },
     "execution_count": 17,
     "metadata": {},
     "output_type": "execute_result"
    }
   ],
   "source": [
    "# 1 부터 10까지의 합을 구하시오...\n",
    "# for문과 while문을 각각 사용하시오..\n",
    "\n",
    "suma = 0\n",
    "for i in range(1,11):\n",
    "    suma += i\n",
    "suma"
   ]
  },
  {
   "cell_type": "code",
   "execution_count": 18,
   "metadata": {},
   "outputs": [
    {
     "data": {
      "text/plain": [
       "55"
      ]
     },
     "execution_count": 18,
     "metadata": {},
     "output_type": "execute_result"
    }
   ],
   "source": [
    "suma = 0\n",
    "count = 0\n",
    "\n",
    "while count < 11:\n",
    "    suma += count\n",
    "    count += 1\n",
    "suma"
   ]
  },
  {
   "cell_type": "code",
   "execution_count": null,
   "metadata": {},
   "outputs": [],
   "source": []
  },
  {
   "cell_type": "code",
   "execution_count": 1,
   "metadata": {},
   "outputs": [],
   "source": [
    "# for문 Test - 20201116"
   ]
  },
  {
   "cell_type": "code",
   "execution_count": null,
   "metadata": {},
   "outputs": [],
   "source": [
    "# 1. 1부터 10까지 3의 배수만 출력.. \n",
    "#  - for문과 while문으로 작성\n",
    "# 2. 1 ~ 10까지의 정수의 합을 구하시오.\n",
    "# 3. 1 ~ 10까지 홀수만 리스트에 담으시오.\n",
    "# 4. 1 ~ 10까지 짝수의 합을 구하시오.\n",
    "# 5. 점수를 3회 입력받은 후 평균점수를 출력하시오. \n",
    "#  - for문과 while문으로 작성\n",
    "# 6. text = 'hello python'\n",
    "#    모음 = 'aeiou'\n",
    "#    위의 text에서 모음의 갯수를 출력하시오\n",
    "# 7. 위의 text에서 모음은 모음끼리 자음은 자음끼리 리스트에 담으시오.\n",
    "# 8. 1 ~ 10까지의 연속값에서 '4','5','6'만 출력하시오.\n",
    "#    - continue와 break를 사용하시오.\n",
    "# 9. a = ['a','b','c']\n",
    "#    b = ['가','나','다']\n",
    "#     a와 b의 두 리스트의 모든 조합을 출력하시오..\n",
    "# 10. 1 ~ 10까지의 제곱값을 리스트에 담으시오\n",
    "#    - List Comprehension을 사용하시오."
   ]
  },
  {
   "cell_type": "code",
   "execution_count": 3,
   "metadata": {},
   "outputs": [
    {
     "name": "stdout",
     "output_type": "stream",
     "text": [
      "3 6 9 "
     ]
    }
   ],
   "source": [
    "# 1\n",
    "for i in range(1,11):\n",
    "    if i%3 == 0:\n",
    "        print(i, end=' ')"
   ]
  },
  {
   "cell_type": "code",
   "execution_count": 4,
   "metadata": {},
   "outputs": [
    {
     "name": "stdout",
     "output_type": "stream",
     "text": [
      "55\n"
     ]
    }
   ],
   "source": [
    "# 2\n",
    "suma = 0\n",
    "for i in range(1,11):\n",
    "    suma += i\n",
    "print(suma)"
   ]
  },
  {
   "cell_type": "code",
   "execution_count": 5,
   "metadata": {},
   "outputs": [
    {
     "data": {
      "text/plain": [
       "[1, 3, 5, 7, 9]"
      ]
     },
     "execution_count": 5,
     "metadata": {},
     "output_type": "execute_result"
    }
   ],
   "source": [
    "# 3\n",
    "odd_list = []\n",
    "for i in range(1,11):\n",
    "    if i%2 != 0:\n",
    "        odd_list.append(i)\n",
    "odd_list"
   ]
  },
  {
   "cell_type": "code",
   "execution_count": 6,
   "metadata": {},
   "outputs": [
    {
     "data": {
      "text/plain": [
       "30"
      ]
     },
     "execution_count": 6,
     "metadata": {},
     "output_type": "execute_result"
    }
   ],
   "source": [
    "# 4\n",
    "suma = 0\n",
    "for i in range(1,11):\n",
    "    if i%2 == 0:\n",
    "        suma += i\n",
    "suma"
   ]
  },
  {
   "cell_type": "code",
   "execution_count": 7,
   "metadata": {
    "collapsed": true
   },
   "outputs": [
    {
     "name": "stdout",
     "output_type": "stream",
     "text": [
      "점수를 입력하세요3\n",
      "점수를 입력하세요3\n",
      "점수를 입력하세요3\n",
      "3.0\n"
     ]
    }
   ],
   "source": [
    "# 5\n",
    "\n",
    "suma = 0\n",
    "count = 0\n",
    "\n",
    "while count < 3:\n",
    "    score = int(input('점수를 입력하세요'))\n",
    "    suma += score\n",
    "    count += 1\n",
    "    \n",
    "result = suma/3\n",
    "print(result)"
   ]
  },
  {
   "cell_type": "code",
   "execution_count": 8,
   "metadata": {
    "collapsed": true
   },
   "outputs": [
    {
     "name": "stdout",
     "output_type": "stream",
     "text": [
      "점수를 입력하세요3\n",
      "점수를 입력하세요3\n",
      "점수를 입력하세요3\n",
      "3.0\n"
     ]
    }
   ],
   "source": [
    "# 5\n",
    "\n",
    "suma = 0\n",
    "\n",
    "for _ in range(3):\n",
    "    score = int(input('점수를 입력하세요'))\n",
    "    suma += score\n",
    "    \n",
    "result = suma/3\n",
    "print(result)"
   ]
  },
  {
   "cell_type": "code",
   "execution_count": 9,
   "metadata": {},
   "outputs": [
    {
     "data": {
      "text/plain": [
       "3"
      ]
     },
     "execution_count": 9,
     "metadata": {},
     "output_type": "execute_result"
    }
   ],
   "source": [
    "# 6. \n",
    "text = 'hello python'\n",
    "vowel = 'aeiou'\n",
    "\n",
    "count = 0\n",
    "for c in text:\n",
    "    if c in vowel:\n",
    "        count += 1\n",
    "count"
   ]
  },
  {
   "cell_type": "code",
   "execution_count": 11,
   "metadata": {},
   "outputs": [
    {
     "name": "stdout",
     "output_type": "stream",
     "text": [
      "['e', 'o', 'o']\n",
      "['h', 'l', 'l', 'p', 'y', 't', 'h', 'n']\n"
     ]
    }
   ],
   "source": [
    "# 7 \n",
    "text = 'hello python'\n",
    "vowel = 'aeiou'\n",
    "\n",
    "v_list = []\n",
    "c_list = []\n",
    "\n",
    "for c in text:\n",
    "    if c in vowel:\n",
    "        v_list.append(c)\n",
    "    else:\n",
    "        if c.isalpha():\n",
    "            c_list.append(c)\n",
    "        \n",
    "print(v_list)\n",
    "print(c_list)"
   ]
  },
  {
   "cell_type": "code",
   "execution_count": 14,
   "metadata": {},
   "outputs": [
    {
     "name": "stdout",
     "output_type": "stream",
     "text": [
      "4\n",
      "5\n",
      "6\n"
     ]
    }
   ],
   "source": [
    "# 8   => '4','5','6'\n",
    "\n",
    "count = 0\n",
    "while count < 11:\n",
    "    count += 1\n",
    "    if count < 4:\n",
    "        continue\n",
    "    if count > 6:\n",
    "        break\n",
    "    print(count)\n",
    "    "
   ]
  },
  {
   "cell_type": "code",
   "execution_count": 15,
   "metadata": {
    "collapsed": true
   },
   "outputs": [
    {
     "name": "stdout",
     "output_type": "stream",
     "text": [
      "a 가\n",
      "a 나\n",
      "a 다\n",
      "b 가\n",
      "b 나\n",
      "b 다\n",
      "c 가\n",
      "c 나\n",
      "c 다\n"
     ]
    }
   ],
   "source": [
    "# 9. \n",
    "\n",
    "a = ['a','b','c']\n",
    "b = ['가','나','다']\n",
    "\n",
    "for i in a:\n",
    "    for j in b:\n",
    "        print(i, j)"
   ]
  },
  {
   "cell_type": "code",
   "execution_count": 18,
   "metadata": {},
   "outputs": [
    {
     "data": {
      "text/plain": [
       "[1, 4, 9, 16, 25, 36, 49, 64, 81, 100]"
      ]
     },
     "execution_count": 18,
     "metadata": {},
     "output_type": "execute_result"
    }
   ],
   "source": [
    "# 10.  List Comprehension\n",
    "\n",
    "[i**2 for i in range(1, 11)]"
   ]
  },
  {
   "cell_type": "code",
   "execution_count": 19,
   "metadata": {},
   "outputs": [
    {
     "data": {
      "text/plain": [
       "[1, 4, 9, 16, 25, 36, 49, 64, 81, 100]"
      ]
     },
     "execution_count": 19,
     "metadata": {},
     "output_type": "execute_result"
    }
   ],
   "source": [
    "temp = []\n",
    "for i in range(1,11):\n",
    "    temp.append(i**2)\n",
    "temp "
   ]
  },
  {
   "cell_type": "code",
   "execution_count": null,
   "metadata": {},
   "outputs": [],
   "source": []
  },
  {
   "cell_type": "code",
   "execution_count": 1,
   "metadata": {},
   "outputs": [],
   "source": [
    "### Function"
   ]
  },
  {
   "cell_type": "code",
   "execution_count": null,
   "metadata": {},
   "outputs": [],
   "source": [
    "# 함수 사용 이유\n",
    "#   코드 중복 사용하지 않음.\n",
    "#   코드 모듈화\n",
    "#   코드의 생산성\n",
    "\n",
    "# 1. 함수를 만드는 부분(정의)\n",
    "\n",
    "# def 함수이름(매개변수1, 매개변수2, ... ):\n",
    "#     실행코드..\n",
    "#     실행코드\n",
    "\n",
    "# 2. 함수 실행(함수호출)\n",
    "\n",
    "# 함수이름(매개변수1의 값, 매개변수2의 값, ...)"
   ]
  },
  {
   "cell_type": "code",
   "execution_count": 2,
   "metadata": {},
   "outputs": [],
   "source": [
    "# 매개변수 없는 함수\n",
    "\n",
    "def test_func():\n",
    "    print('hello python')"
   ]
  },
  {
   "cell_type": "code",
   "execution_count": 3,
   "metadata": {},
   "outputs": [
    {
     "name": "stdout",
     "output_type": "stream",
     "text": [
      "hello python\n"
     ]
    }
   ],
   "source": [
    "test_func()"
   ]
  },
  {
   "cell_type": "code",
   "execution_count": 3,
   "metadata": {},
   "outputs": [],
   "source": [
    "# 매개변수 있는 함수\n",
    "\n",
    "def test_func(name):\n",
    "    print('hello' + ' ' + str(name))    "
   ]
  },
  {
   "cell_type": "code",
   "execution_count": 4,
   "metadata": {
    "collapsed": true
   },
   "outputs": [
    {
     "ename": "TypeError",
     "evalue": "test_func() missing 1 required positional argument: 'name'",
     "output_type": "error",
     "traceback": [
      "\u001b[1;31m---------------------------------------------------------------------------\u001b[0m",
      "\u001b[1;31mTypeError\u001b[0m                                 Traceback (most recent call last)",
      "\u001b[1;32m<ipython-input-4-73ed4c3f2495>\u001b[0m in \u001b[0;36m<module>\u001b[1;34m\u001b[0m\n\u001b[1;32m----> 1\u001b[1;33m \u001b[0mtest_func\u001b[0m\u001b[1;33m(\u001b[0m\u001b[1;33m)\u001b[0m\u001b[1;33m\u001b[0m\u001b[1;33m\u001b[0m\u001b[0m\n\u001b[0m",
      "\u001b[1;31mTypeError\u001b[0m: test_func() missing 1 required positional argument: 'name'"
     ]
    }
   ],
   "source": [
    "test_func()  # 매개변수를 하나 받도록 함수가 정의 => 실행 시 매개변수를 전달하지 않음."
   ]
  },
  {
   "cell_type": "code",
   "execution_count": 5,
   "metadata": {},
   "outputs": [
    {
     "name": "stdout",
     "output_type": "stream",
     "text": [
      "hello JunHo\n"
     ]
    }
   ],
   "source": [
    "test_func('JunHo')"
   ]
  },
  {
   "cell_type": "code",
   "execution_count": 6,
   "metadata": {},
   "outputs": [],
   "source": [
    "# 매개변수가 여럿인 함수\n",
    "\n",
    "def test_func(name1, name2):\n",
    "    print('{}와 {}는 친구이다'.format(name1, name2))"
   ]
  },
  {
   "cell_type": "code",
   "execution_count": 7,
   "metadata": {
    "collapsed": true
   },
   "outputs": [
    {
     "ename": "TypeError",
     "evalue": "test_func() missing 1 required positional argument: 'name2'",
     "output_type": "error",
     "traceback": [
      "\u001b[1;31m---------------------------------------------------------------------------\u001b[0m",
      "\u001b[1;31mTypeError\u001b[0m                                 Traceback (most recent call last)",
      "\u001b[1;32m<ipython-input-7-09ef018b0c5c>\u001b[0m in \u001b[0;36m<module>\u001b[1;34m\u001b[0m\n\u001b[1;32m----> 1\u001b[1;33m \u001b[0mtest_func\u001b[0m\u001b[1;33m(\u001b[0m\u001b[1;34m'JunHO'\u001b[0m\u001b[1;33m)\u001b[0m\u001b[1;33m\u001b[0m\u001b[1;33m\u001b[0m\u001b[0m\n\u001b[0m",
      "\u001b[1;31mTypeError\u001b[0m: test_func() missing 1 required positional argument: 'name2'"
     ]
    }
   ],
   "source": [
    "test_func('JunHO') # 함수정의 시 매개변수 두 개 필요.. 호출 시 하나의 값만 전달.."
   ]
  },
  {
   "cell_type": "code",
   "execution_count": 8,
   "metadata": {},
   "outputs": [
    {
     "name": "stdout",
     "output_type": "stream",
     "text": [
      "Junho와 Parkmin는 친구이다\n"
     ]
    }
   ],
   "source": [
    "test_func('Junho', 'Parkmin')"
   ]
  },
  {
   "cell_type": "code",
   "execution_count": 9,
   "metadata": {},
   "outputs": [],
   "source": [
    "# 두 개의 값을 받아서 합을 출력하는  함수..\n",
    "\n",
    "def addf(num1, num2):\n",
    "    return num1 + num2"
   ]
  },
  {
   "cell_type": "code",
   "execution_count": 10,
   "metadata": {},
   "outputs": [
    {
     "data": {
      "text/plain": [
       "6"
      ]
     },
     "execution_count": 10,
     "metadata": {},
     "output_type": "execute_result"
    }
   ],
   "source": [
    "addf(2,4)"
   ]
  },
  {
   "cell_type": "code",
   "execution_count": 11,
   "metadata": {},
   "outputs": [],
   "source": [
    "# 기본매개변수\n",
    "# => 매개변수를 입력하면 입력한 값을 매개변수의 값으로 받는다\n",
    "# => 매개변수 값을 입력하지 않고 함수를 호출 => 기본매개변수의 값이 매개변수값이 된다\n",
    "\n",
    "def test_func3(var = 'python'):\n",
    "    print('hello {}!!'.format(var))"
   ]
  },
  {
   "cell_type": "code",
   "execution_count": 12,
   "metadata": {},
   "outputs": [
    {
     "name": "stdout",
     "output_type": "stream",
     "text": [
      "hello Junho!!\n"
     ]
    }
   ],
   "source": [
    "test_func3('Junho')"
   ]
  },
  {
   "cell_type": "code",
   "execution_count": 13,
   "metadata": {},
   "outputs": [
    {
     "name": "stdout",
     "output_type": "stream",
     "text": [
      "hello python!!\n"
     ]
    }
   ],
   "source": [
    "test_func3()  # 매개변수에 기본값이 정의된 경우.. 기본값이 매개변수의 값으로 전달.."
   ]
  },
  {
   "cell_type": "code",
   "execution_count": 14,
   "metadata": {},
   "outputs": [],
   "source": [
    "# 가변매개변수 : 여러개의 값을 받을 수 있는 매개변수.. *var\n",
    "# 가변매개변수는 값을 여러개 받으면 함수 내에서 tuple로 저장한다..\n",
    "\n",
    "def test_func(*var):\n",
    "    print(var)"
   ]
  },
  {
   "cell_type": "code",
   "execution_count": 2,
   "metadata": {},
   "outputs": [
    {
     "name": "stdout",
     "output_type": "stream",
     "text": [
      "(1, 2, 3, 4)\n"
     ]
    }
   ],
   "source": [
    "test_func(1,2,3,4)"
   ]
  },
  {
   "cell_type": "code",
   "execution_count": 15,
   "metadata": {},
   "outputs": [],
   "source": [
    "# 정수값을 여러개 받는 매개변수를 정의하고 그 합을 출력하는 함수..\n",
    "\n",
    "def test_func(*k):\n",
    "    return sum(k)"
   ]
  },
  {
   "cell_type": "code",
   "execution_count": 16,
   "metadata": {},
   "outputs": [
    {
     "data": {
      "text/plain": [
       "15"
      ]
     },
     "execution_count": 16,
     "metadata": {},
     "output_type": "execute_result"
    }
   ],
   "source": [
    "test_func(1,2,3,4,5)"
   ]
  },
  {
   "cell_type": "code",
   "execution_count": 17,
   "metadata": {},
   "outputs": [],
   "source": [
    "# 키워드매개변수 : **var \n",
    "# 키워드매개변수는 값을 받을 때, 반드시 key=value으로 값을 받는다.\n",
    "# 키워드매개변수는 함수 내에서 dictionary 형태로 변수이름으로 저장된다.."
   ]
  },
  {
   "cell_type": "code",
   "execution_count": 18,
   "metadata": {},
   "outputs": [],
   "source": [
    "def test_func5(**kw):\n",
    "    print(kw)"
   ]
  },
  {
   "cell_type": "code",
   "execution_count": 19,
   "metadata": {
    "collapsed": true
   },
   "outputs": [
    {
     "ename": "TypeError",
     "evalue": "test_func5() takes 0 positional arguments but 3 were given",
     "output_type": "error",
     "traceback": [
      "\u001b[1;31m---------------------------------------------------------------------------\u001b[0m",
      "\u001b[1;31mTypeError\u001b[0m                                 Traceback (most recent call last)",
      "\u001b[1;32m<ipython-input-19-624934c1e169>\u001b[0m in \u001b[0;36m<module>\u001b[1;34m\u001b[0m\n\u001b[1;32m----> 1\u001b[1;33m \u001b[0mtest_func5\u001b[0m\u001b[1;33m(\u001b[0m\u001b[1;36m2\u001b[0m\u001b[1;33m,\u001b[0m\u001b[1;36m3\u001b[0m\u001b[1;33m,\u001b[0m\u001b[1;36m4\u001b[0m\u001b[1;33m)\u001b[0m\u001b[1;33m\u001b[0m\u001b[1;33m\u001b[0m\u001b[0m\n\u001b[0m",
      "\u001b[1;31mTypeError\u001b[0m: test_func5() takes 0 positional arguments but 3 were given"
     ]
    }
   ],
   "source": [
    "test_func5(2,3,4)"
   ]
  },
  {
   "cell_type": "code",
   "execution_count": 21,
   "metadata": {
    "collapsed": true
   },
   "outputs": [
    {
     "ename": "TypeError",
     "evalue": "test_func5() takes 0 positional arguments but 1 was given",
     "output_type": "error",
     "traceback": [
      "\u001b[1;31m---------------------------------------------------------------------------\u001b[0m",
      "\u001b[1;31mTypeError\u001b[0m                                 Traceback (most recent call last)",
      "\u001b[1;32m<ipython-input-21-da95d2bd6d32>\u001b[0m in \u001b[0;36m<module>\u001b[1;34m\u001b[0m\n\u001b[1;32m----> 1\u001b[1;33m \u001b[0mtest_func5\u001b[0m\u001b[1;33m(\u001b[0m\u001b[1;36m2\u001b[0m\u001b[1;33m)\u001b[0m\u001b[1;33m\u001b[0m\u001b[1;33m\u001b[0m\u001b[0m\n\u001b[0m",
      "\u001b[1;31mTypeError\u001b[0m: test_func5() takes 0 positional arguments but 1 was given"
     ]
    }
   ],
   "source": [
    "test_func5(2)"
   ]
  },
  {
   "cell_type": "code",
   "execution_count": 22,
   "metadata": {},
   "outputs": [
    {
     "name": "stdout",
     "output_type": "stream",
     "text": [
      "{'x': 2, 'y': 4, 'z': 3}\n"
     ]
    }
   ],
   "source": [
    "test_func5(x=2, y=4, z=3)"
   ]
  },
  {
   "cell_type": "code",
   "execution_count": 24,
   "metadata": {},
   "outputs": [],
   "source": [
    "# 절대값을 출력하는 함수..\n",
    "\n",
    "def absf(n):\n",
    "    if n < 0:\n",
    "        return n*(-1)\n",
    "    else:\n",
    "        return n"
   ]
  },
  {
   "cell_type": "code",
   "execution_count": 25,
   "metadata": {
    "collapsed": true
   },
   "outputs": [
    {
     "ename": "TypeError",
     "evalue": "absf() missing 1 required positional argument: 'n'",
     "output_type": "error",
     "traceback": [
      "\u001b[1;31m---------------------------------------------------------------------------\u001b[0m",
      "\u001b[1;31mTypeError\u001b[0m                                 Traceback (most recent call last)",
      "\u001b[1;32m<ipython-input-25-2d2a587c0274>\u001b[0m in \u001b[0;36m<module>\u001b[1;34m\u001b[0m\n\u001b[1;32m----> 1\u001b[1;33m \u001b[0mabsf\u001b[0m\u001b[1;33m(\u001b[0m\u001b[1;33m)\u001b[0m\u001b[1;33m\u001b[0m\u001b[1;33m\u001b[0m\u001b[0m\n\u001b[0m",
      "\u001b[1;31mTypeError\u001b[0m: absf() missing 1 required positional argument: 'n'"
     ]
    }
   ],
   "source": [
    "absf()"
   ]
  },
  {
   "cell_type": "code",
   "execution_count": 26,
   "metadata": {
    "collapsed": true
   },
   "outputs": [
    {
     "data": {
      "text/plain": [
       "3"
      ]
     },
     "execution_count": 26,
     "metadata": {},
     "output_type": "execute_result"
    }
   ],
   "source": [
    "absf(3)"
   ]
  },
  {
   "cell_type": "code",
   "execution_count": 27,
   "metadata": {
    "collapsed": true
   },
   "outputs": [
    {
     "data": {
      "text/plain": [
       "3"
      ]
     },
     "execution_count": 27,
     "metadata": {},
     "output_type": "execute_result"
    }
   ],
   "source": [
    "absf(-3)"
   ]
  },
  {
   "cell_type": "code",
   "execution_count": 28,
   "metadata": {},
   "outputs": [],
   "source": [
    "# 이름, 이메일, 주소를 입력받아서 명함을 출력하는 함수..\n",
    "\n",
    "def business_card(name, email, address):\n",
    "    print('-----------------')\n",
    "    print('Name : {}'.format(name))\n",
    "    print('Email : {}'.format(email))\n",
    "    print('Address : {}'.format(address))\n",
    "    print('-----------------')"
   ]
  },
  {
   "cell_type": "code",
   "execution_count": 29,
   "metadata": {},
   "outputs": [
    {
     "name": "stdout",
     "output_type": "stream",
     "text": [
      "-----------------\n",
      "Name : park\n",
      "Email : park@hamail.net\n",
      "Address : seoul\n",
      "-----------------\n"
     ]
    }
   ],
   "source": [
    "business_card('park','park@hamail.net','seoul')"
   ]
  },
  {
   "cell_type": "code",
   "execution_count": 30,
   "metadata": {},
   "outputs": [],
   "source": [
    "# 두 개의 임의의 a, b 정수를 받아서 어느 것이 더 큰지 출력..\n",
    "def comp(a,b):\n",
    "    if a>b:\n",
    "        print('{}가 {}보다 큽니다'.format(a,b))\n",
    "    elif a<b:\n",
    "        print('{}가 {}보다 큽니다'.format(b,a))\n",
    "    else:\n",
    "        print('{}와 {}가 같습니다'.format(b,a))"
   ]
  },
  {
   "cell_type": "code",
   "execution_count": 32,
   "metadata": {},
   "outputs": [
    {
     "name": "stdout",
     "output_type": "stream",
     "text": [
      "2와 2가 같습니다\n"
     ]
    }
   ],
   "source": [
    "comp(2,2)"
   ]
  },
  {
   "cell_type": "code",
   "execution_count": 33,
   "metadata": {},
   "outputs": [],
   "source": [
    "# 점수를 받아서 학점을 출력하는 함수..\n",
    "\n",
    "def test_func(score):\n",
    "    if score >= 90:\n",
    "        hakjum = 'A'\n",
    "    elif 80 <= score <90:\n",
    "        hakjum = 'B'\n",
    "    else:\n",
    "        hakjum = 'C'\n",
    "    return hakjum"
   ]
  },
  {
   "cell_type": "code",
   "execution_count": 35,
   "metadata": {},
   "outputs": [
    {
     "data": {
      "text/plain": [
       "'A'"
      ]
     },
     "execution_count": 35,
     "metadata": {},
     "output_type": "execute_result"
    }
   ],
   "source": [
    "test_func(95)"
   ]
  },
  {
   "cell_type": "code",
   "execution_count": null,
   "metadata": {},
   "outputs": [],
   "source": []
  }
 ],
 "metadata": {
  "kernelspec": {
   "display_name": "Python 3",
   "language": "python",
   "name": "python3"
  },
  "language_info": {
   "codemirror_mode": {
    "name": "ipython",
    "version": 3
   },
   "file_extension": ".py",
   "mimetype": "text/x-python",
   "name": "python",
   "nbconvert_exporter": "python",
   "pygments_lexer": "ipython3",
   "version": "3.8.3"
  }
 },
 "nbformat": 4,
 "nbformat_minor": 4
}
