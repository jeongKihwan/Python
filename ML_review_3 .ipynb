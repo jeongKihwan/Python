{
 "cells": [
  {
   "cell_type": "code",
   "execution_count": 2,
   "metadata": {},
   "outputs": [
    {
     "data": {
      "text/html": [
       "<div>\n",
       "<style scoped>\n",
       "    .dataframe tbody tr th:only-of-type {\n",
       "        vertical-align: middle;\n",
       "    }\n",
       "\n",
       "    .dataframe tbody tr th {\n",
       "        vertical-align: top;\n",
       "    }\n",
       "\n",
       "    .dataframe thead th {\n",
       "        text-align: right;\n",
       "    }\n",
       "</style>\n",
       "<table border=\"1\" class=\"dataframe\">\n",
       "  <thead>\n",
       "    <tr style=\"text-align: right;\">\n",
       "      <th></th>\n",
       "      <th>Species</th>\n",
       "      <th>Weight</th>\n",
       "      <th>Length</th>\n",
       "      <th>Diagonal</th>\n",
       "      <th>Height</th>\n",
       "      <th>Width</th>\n",
       "    </tr>\n",
       "  </thead>\n",
       "  <tbody>\n",
       "    <tr>\n",
       "      <th>0</th>\n",
       "      <td>Bream</td>\n",
       "      <td>242.0</td>\n",
       "      <td>25.4</td>\n",
       "      <td>30.0</td>\n",
       "      <td>11.5200</td>\n",
       "      <td>4.0200</td>\n",
       "    </tr>\n",
       "    <tr>\n",
       "      <th>1</th>\n",
       "      <td>Bream</td>\n",
       "      <td>290.0</td>\n",
       "      <td>26.3</td>\n",
       "      <td>31.2</td>\n",
       "      <td>12.4800</td>\n",
       "      <td>4.3056</td>\n",
       "    </tr>\n",
       "    <tr>\n",
       "      <th>2</th>\n",
       "      <td>Bream</td>\n",
       "      <td>340.0</td>\n",
       "      <td>26.5</td>\n",
       "      <td>31.1</td>\n",
       "      <td>12.3778</td>\n",
       "      <td>4.6961</td>\n",
       "    </tr>\n",
       "    <tr>\n",
       "      <th>3</th>\n",
       "      <td>Bream</td>\n",
       "      <td>363.0</td>\n",
       "      <td>29.0</td>\n",
       "      <td>33.5</td>\n",
       "      <td>12.7300</td>\n",
       "      <td>4.4555</td>\n",
       "    </tr>\n",
       "    <tr>\n",
       "      <th>4</th>\n",
       "      <td>Bream</td>\n",
       "      <td>430.0</td>\n",
       "      <td>29.0</td>\n",
       "      <td>34.0</td>\n",
       "      <td>12.4440</td>\n",
       "      <td>5.1340</td>\n",
       "    </tr>\n",
       "  </tbody>\n",
       "</table>\n",
       "</div>"
      ],
      "text/plain": [
       "  Species  Weight  Length  Diagonal   Height   Width\n",
       "0   Bream   242.0    25.4      30.0  11.5200  4.0200\n",
       "1   Bream   290.0    26.3      31.2  12.4800  4.3056\n",
       "2   Bream   340.0    26.5      31.1  12.3778  4.6961\n",
       "3   Bream   363.0    29.0      33.5  12.7300  4.4555\n",
       "4   Bream   430.0    29.0      34.0  12.4440  5.1340"
      ]
     },
     "execution_count": 2,
     "metadata": {},
     "output_type": "execute_result"
    }
   ],
   "source": [
    "import pandas as pd\n",
    "fish = pd.read_csv('https://bit.ly/fish_csv')\n",
    "fish.head()"
   ]
  },
  {
   "cell_type": "code",
   "execution_count": 4,
   "metadata": {},
   "outputs": [
    {
     "name": "stdout",
     "output_type": "stream",
     "text": [
      "<class 'pandas.core.frame.DataFrame'>\n",
      "RangeIndex: 159 entries, 0 to 158\n",
      "Data columns (total 6 columns):\n",
      " #   Column    Non-Null Count  Dtype  \n",
      "---  ------    --------------  -----  \n",
      " 0   Species   159 non-null    object \n",
      " 1   Weight    159 non-null    float64\n",
      " 2   Length    159 non-null    float64\n",
      " 3   Diagonal  159 non-null    float64\n",
      " 4   Height    159 non-null    float64\n",
      " 5   Width     159 non-null    float64\n",
      "dtypes: float64(5), object(1)\n",
      "memory usage: 7.6+ KB\n"
     ]
    }
   ],
   "source": [
    "fish.info()"
   ]
  },
  {
   "cell_type": "code",
   "execution_count": 3,
   "metadata": {},
   "outputs": [],
   "source": [
    "y = fish.Species\n",
    "x = fish.drop('Species', axis=1)"
   ]
  },
  {
   "cell_type": "code",
   "execution_count": 6,
   "metadata": {},
   "outputs": [],
   "source": [
    "from sklearn.model_selection import train_test_split\n",
    "x_train, x_test, y_train, y_test = train_test_split(x,y)"
   ]
  },
  {
   "cell_type": "code",
   "execution_count": 5,
   "metadata": {},
   "outputs": [],
   "source": [
    "from sklearn.neighbors import KNeighborsClassifier\n",
    "from sklearn.linear_model import LogisticRegression"
   ]
  },
  {
   "cell_type": "code",
   "execution_count": 7,
   "metadata": {},
   "outputs": [],
   "source": [
    "knn = KNeighborsClassifier()\n",
    "log = LogisticRegression()"
   ]
  },
  {
   "cell_type": "code",
   "execution_count": 10,
   "metadata": {},
   "outputs": [
    {
     "data": {
      "text/plain": [
       "Perch        56\n",
       "Bream        35\n",
       "Roach        20\n",
       "Pike         17\n",
       "Smelt        14\n",
       "Parkki       11\n",
       "Whitefish     6\n",
       "Name: Species, dtype: int64"
      ]
     },
     "execution_count": 10,
     "metadata": {},
     "output_type": "execute_result"
    }
   ],
   "source": [
    "y.value_counts()"
   ]
  },
  {
   "cell_type": "code",
   "execution_count": 12,
   "metadata": {
    "collapsed": true
   },
   "outputs": [
    {
     "data": {
      "text/html": [
       "<div>\n",
       "<style scoped>\n",
       "    .dataframe tbody tr th:only-of-type {\n",
       "        vertical-align: middle;\n",
       "    }\n",
       "\n",
       "    .dataframe tbody tr th {\n",
       "        vertical-align: top;\n",
       "    }\n",
       "\n",
       "    .dataframe thead th {\n",
       "        text-align: right;\n",
       "    }\n",
       "</style>\n",
       "<table border=\"1\" class=\"dataframe\">\n",
       "  <thead>\n",
       "    <tr style=\"text-align: right;\">\n",
       "      <th></th>\n",
       "      <th>Weight</th>\n",
       "      <th>Length</th>\n",
       "      <th>Diagonal</th>\n",
       "      <th>Height</th>\n",
       "      <th>Width</th>\n",
       "    </tr>\n",
       "  </thead>\n",
       "  <tbody>\n",
       "    <tr>\n",
       "      <th>0</th>\n",
       "      <td>242.0</td>\n",
       "      <td>25.4</td>\n",
       "      <td>30.0</td>\n",
       "      <td>11.5200</td>\n",
       "      <td>4.0200</td>\n",
       "    </tr>\n",
       "    <tr>\n",
       "      <th>1</th>\n",
       "      <td>290.0</td>\n",
       "      <td>26.3</td>\n",
       "      <td>31.2</td>\n",
       "      <td>12.4800</td>\n",
       "      <td>4.3056</td>\n",
       "    </tr>\n",
       "    <tr>\n",
       "      <th>2</th>\n",
       "      <td>340.0</td>\n",
       "      <td>26.5</td>\n",
       "      <td>31.1</td>\n",
       "      <td>12.3778</td>\n",
       "      <td>4.6961</td>\n",
       "    </tr>\n",
       "    <tr>\n",
       "      <th>3</th>\n",
       "      <td>363.0</td>\n",
       "      <td>29.0</td>\n",
       "      <td>33.5</td>\n",
       "      <td>12.7300</td>\n",
       "      <td>4.4555</td>\n",
       "    </tr>\n",
       "    <tr>\n",
       "      <th>4</th>\n",
       "      <td>430.0</td>\n",
       "      <td>29.0</td>\n",
       "      <td>34.0</td>\n",
       "      <td>12.4440</td>\n",
       "      <td>5.1340</td>\n",
       "    </tr>\n",
       "  </tbody>\n",
       "</table>\n",
       "</div>"
      ],
      "text/plain": [
       "   Weight  Length  Diagonal   Height   Width\n",
       "0   242.0    25.4      30.0  11.5200  4.0200\n",
       "1   290.0    26.3      31.2  12.4800  4.3056\n",
       "2   340.0    26.5      31.1  12.3778  4.6961\n",
       "3   363.0    29.0      33.5  12.7300  4.4555\n",
       "4   430.0    29.0      34.0  12.4440  5.1340"
      ]
     },
     "execution_count": 12,
     "metadata": {},
     "output_type": "execute_result"
    }
   ],
   "source": [
    "x.head()"
   ]
  },
  {
   "cell_type": "code",
   "execution_count": 8,
   "metadata": {
    "collapsed": true
   },
   "outputs": [
    {
     "data": {
      "text/plain": [
       "0.525"
      ]
     },
     "execution_count": 8,
     "metadata": {},
     "output_type": "execute_result"
    }
   ],
   "source": [
    "knn.fit(x_train, y_train)\n",
    "knn.score(x_test, y_test)"
   ]
  },
  {
   "cell_type": "code",
   "execution_count": 11,
   "metadata": {
    "collapsed": true
   },
   "outputs": [
    {
     "name": "stderr",
     "output_type": "stream",
     "text": [
      "C:\\Users\\TJ\\anaconda3\\lib\\site-packages\\sklearn\\linear_model\\_logistic.py:762: ConvergenceWarning: lbfgs failed to converge (status=1):\n",
      "STOP: TOTAL NO. of ITERATIONS REACHED LIMIT.\n",
      "\n",
      "Increase the number of iterations (max_iter) or scale the data as shown in:\n",
      "    https://scikit-learn.org/stable/modules/preprocessing.html\n",
      "Please also refer to the documentation for alternative solver options:\n",
      "    https://scikit-learn.org/stable/modules/linear_model.html#logistic-regression\n",
      "  n_iter_i = _check_optimize_result(\n"
     ]
    },
    {
     "data": {
      "text/plain": [
       "0.675"
      ]
     },
     "execution_count": 11,
     "metadata": {},
     "output_type": "execute_result"
    }
   ],
   "source": [
    "log.fit(x_train, y_train)\n",
    "log.score(x_test, y_test)"
   ]
  },
  {
   "cell_type": "code",
   "execution_count": 17,
   "metadata": {},
   "outputs": [
    {
     "data": {
      "image/jpeg": "[encoded data removed]",
      "text/plain": [
       "<IPython.core.display.Image object>"
      ]
     },
     "execution_count": 17,
     "metadata": {},
     "output_type": "execute_result"
    }
   ],
   "source": [
    "from IPython.display import Image\n",
    "Image(\"standardization.jpg\")"
   ]
  },
  {
   "cell_type": "code",
   "execution_count": 15,
   "metadata": {},
   "outputs": [],
   "source": [
    "from sklearn.preprocessing import StandardScaler\n",
    "scale = StandardScaler()"
   ]
  },
  {
   "cell_type": "code",
   "execution_count": 16,
   "metadata": {},
   "outputs": [
    {
     "data": {
      "text/plain": [
       "StandardScaler()"
      ]
     },
     "execution_count": 16,
     "metadata": {},
     "output_type": "execute_result"
    }
   ],
   "source": [
    "scale.fit(x_train)"
   ]
  },
  {
   "cell_type": "code",
   "execution_count": 19,
   "metadata": {},
   "outputs": [],
   "source": [
    "scaled_x_train = scale.transform(x_train)\n",
    "scaled_x_test = scale.transform(x_test)"
   ]
  },
  {
   "cell_type": "code",
   "execution_count": 20,
   "metadata": {},
   "outputs": [],
   "source": [
    "knn = KNeighborsClassifier()\n",
    "log = LogisticRegression()"
   ]
  },
  {
   "cell_type": "code",
   "execution_count": 21,
   "metadata": {},
   "outputs": [
    {
     "data": {
      "text/plain": [
       "0.8"
      ]
     },
     "execution_count": 21,
     "metadata": {},
     "output_type": "execute_result"
    }
   ],
   "source": [
    "knn.fit(scaled_x_train, y_train)\n",
    "knn.score(scaled_x_test, y_test)"
   ]
  },
  {
   "cell_type": "code",
   "execution_count": 22,
   "metadata": {},
   "outputs": [
    {
     "data": {
      "text/plain": [
       "0.8"
      ]
     },
     "execution_count": 22,
     "metadata": {},
     "output_type": "execute_result"
    }
   ],
   "source": [
    "log.fit(scaled_x_train, y_train)\n",
    "log.score(scaled_x_test, y_test)"
   ]
  },
  {
   "cell_type": "code",
   "execution_count": null,
   "metadata": {},
   "outputs": [],
   "source": [
    "# knn : 가장 가까운 n개의 train data를 뽑아서 다수결로 예측.."
   ]
  },
  {
   "cell_type": "code",
   "execution_count": 24,
   "metadata": {
    "scrolled": true
   },
   "outputs": [
    {
     "data": {
      "text/plain": [
       "array(['Pike', 'Bream', 'Bream', 'Perch', 'Bream', 'Perch', 'Perch',\n",
       "       'Perch', 'Bream', 'Parkki', 'Smelt', 'Smelt', 'Bream', 'Parkki',\n",
       "       'Pike', 'Smelt', 'Perch', 'Pike', 'Roach', 'Perch', 'Parkki',\n",
       "       'Bream', 'Parkki', 'Pike', 'Perch', 'Bream', 'Smelt', 'Perch',\n",
       "       'Roach', 'Perch', 'Pike', 'Bream', 'Perch', 'Bream', 'Perch',\n",
       "       'Perch', 'Perch', 'Perch', 'Perch', 'Perch'], dtype=object)"
      ]
     },
     "execution_count": 24,
     "metadata": {},
     "output_type": "execute_result"
    }
   ],
   "source": [
    "preds = knn.predict(scaled_x_test)\n",
    "preds"
   ]
  },
  {
   "cell_type": "code",
   "execution_count": 27,
   "metadata": {},
   "outputs": [
    {
     "data": {
      "text/plain": [
       "0.8"
      ]
     },
     "execution_count": 27,
     "metadata": {},
     "output_type": "execute_result"
    }
   ],
   "source": [
    "import numpy as np\n",
    "np.mean(preds == y_test)"
   ]
  },
  {
   "cell_type": "code",
   "execution_count": 28,
   "metadata": {
    "collapsed": true
   },
   "outputs": [
    {
     "data": {
      "text/plain": [
       "array([[0. , 0. , 0. , 1. , 0. , 0. , 0. ],\n",
       "       [1. , 0. , 0. , 0. , 0. , 0. , 0. ],\n",
       "       [1. , 0. , 0. , 0. , 0. , 0. , 0. ],\n",
       "       [0. , 0. , 0.8, 0. , 0.2, 0. , 0. ],\n",
       "       [1. , 0. , 0. , 0. , 0. , 0. , 0. ],\n",
       "       [0. , 0. , 0.8, 0. , 0. , 0. , 0.2],\n",
       "       [0. , 0. , 1. , 0. , 0. , 0. , 0. ],\n",
       "       [0. , 0. , 0.8, 0. , 0.2, 0. , 0. ],\n",
       "       [1. , 0. , 0. , 0. , 0. , 0. , 0. ],\n",
       "       [0. , 0.4, 0.2, 0. , 0.4, 0. , 0. ],\n",
       "       [0. , 0. , 0. , 0. , 0. , 1. , 0. ],\n",
       "       [0. , 0. , 0. , 0. , 0. , 1. , 0. ],\n",
       "       [1. , 0. , 0. , 0. , 0. , 0. , 0. ],\n",
       "       [0. , 0.6, 0.4, 0. , 0. , 0. , 0. ],\n",
       "       [0. , 0. , 0. , 1. , 0. , 0. , 0. ],\n",
       "       [0. , 0. , 0. , 0. , 0. , 1. , 0. ],\n",
       "       [0. , 0.2, 0.4, 0. , 0.4, 0. , 0. ],\n",
       "       [0. , 0. , 0. , 1. , 0. , 0. , 0. ],\n",
       "       [0. , 0. , 0.4, 0. , 0.6, 0. , 0. ],\n",
       "       [0. , 0. , 1. , 0. , 0. , 0. , 0. ],\n",
       "       [0. , 0.6, 0.4, 0. , 0. , 0. , 0. ],\n",
       "       [1. , 0. , 0. , 0. , 0. , 0. , 0. ],\n",
       "       [0. , 0.6, 0.2, 0. , 0.2, 0. , 0. ],\n",
       "       [0. , 0. , 0.2, 0.8, 0. , 0. , 0. ],\n",
       "       [0. , 0. , 0.6, 0. , 0.4, 0. , 0. ],\n",
       "       [1. , 0. , 0. , 0. , 0. , 0. , 0. ],\n",
       "       [0. , 0. , 0. , 0. , 0. , 1. , 0. ],\n",
       "       [0. , 0. , 0.6, 0. , 0.4, 0. , 0. ],\n",
       "       [0. , 0. , 0.4, 0. , 0.6, 0. , 0. ],\n",
       "       [0. , 0. , 0.6, 0. , 0.4, 0. , 0. ],\n",
       "       [0. , 0. , 0.2, 0.8, 0. , 0. , 0. ],\n",
       "       [1. , 0. , 0. , 0. , 0. , 0. , 0. ],\n",
       "       [0. , 0. , 0.4, 0. , 0.2, 0.4, 0. ],\n",
       "       [1. , 0. , 0. , 0. , 0. , 0. , 0. ],\n",
       "       [0. , 0. , 0.4, 0. , 0.2, 0. , 0.4],\n",
       "       [0. , 0. , 0.8, 0. , 0. , 0. , 0.2],\n",
       "       [0. , 0. , 0.6, 0. , 0.2, 0. , 0.2],\n",
       "       [0. , 0. , 0.6, 0. , 0.2, 0. , 0.2],\n",
       "       [0. , 0. , 0.8, 0. , 0. , 0. , 0.2],\n",
       "       [0. , 0. , 0.6, 0. , 0.4, 0. , 0. ]])"
      ]
     },
     "execution_count": 28,
     "metadata": {},
     "output_type": "execute_result"
    }
   ],
   "source": [
    "knn.predict_proba(scaled_x_test)"
   ]
  },
  {
   "cell_type": "code",
   "execution_count": 34,
   "metadata": {},
   "outputs": [
    {
     "data": {
      "text/plain": [
       "array([3, 0, 0, 2, 0, 2, 2, 2, 0, 1, 5, 5, 0, 1, 3, 5, 2, 3, 4, 2, 1, 0,\n",
       "       1, 3, 2, 0, 5, 2, 4, 2, 3, 0, 2, 0, 2, 2, 2, 2, 2, 2], dtype=int64)"
      ]
     },
     "execution_count": 34,
     "metadata": {},
     "output_type": "execute_result"
    }
   ],
   "source": [
    "knn.predict_proba(scaled_x_test).argmax(axis=1)"
   ]
  },
  {
   "cell_type": "code",
   "execution_count": 38,
   "metadata": {},
   "outputs": [
    {
     "name": "stdout",
     "output_type": "stream",
     "text": [
      "Pike, Bream, Bream, Perch, Bream, Perch, Perch, Perch, Bream, Parkki, Smelt, Smelt, Bream, Parkki, Pike, Smelt, Perch, Pike, Roach, Perch, Parkki, Bream, Parkki, Pike, Perch, Bream, Smelt, Perch, Roach, Perch, Pike, Bream, Perch, Bream, Perch, Perch, Perch, Perch, Perch, Perch, "
     ]
    }
   ],
   "source": [
    "for index in knn.predict_proba(scaled_x_test).argmax(axis=1):\n",
    "    print(knn.classes_[index], end=', ')"
   ]
  },
  {
   "cell_type": "code",
   "execution_count": 33,
   "metadata": {},
   "outputs": [
    {
     "data": {
      "text/plain": [
       "array(['Bream', 'Parkki', 'Perch', 'Pike', 'Roach', 'Smelt', 'Whitefish'],\n",
       "      dtype=object)"
      ]
     },
     "execution_count": 33,
     "metadata": {},
     "output_type": "execute_result"
    }
   ],
   "source": [
    "knn.classes_"
   ]
  },
  {
   "cell_type": "code",
   "execution_count": 29,
   "metadata": {},
   "outputs": [],
   "source": [
    "distances, indexes = knn.kneighbors(scaled_x_test)"
   ]
  },
  {
   "cell_type": "code",
   "execution_count": 31,
   "metadata": {
    "collapsed": true
   },
   "outputs": [
    {
     "data": {
      "text/plain": [
       "array([[ 20,  34,  39,  38, 100],\n",
       "       [ 35,  11,  15,  37, 111],\n",
       "       [ 95,  60, 103,  37,  79],\n",
       "       [ 18,  53,  57,  75,  30],\n",
       "       [ 11,  35,  98,  37, 111],\n",
       "       [ 40,  89,   7, 102, 118],\n",
       "       [  8,  78,  52,   3,  14],\n",
       "       [ 65,  96,  83,  53,   9],\n",
       "       [104, 113,   6,  60,  72],\n",
       "       [ 17,  50,  48,   4, 116],\n",
       "       [ 10,  66,  46,  88, 109],\n",
       "       [ 16,  21,  66,  46,  88],\n",
       "       [104, 113,   6,  60,  72],\n",
       "       [108,  82,  17, 106,  32],\n",
       "       [ 20,  39,  34, 100,  42],\n",
       "       [ 21,  16,  66,  10,  46],\n",
       "       [ 50,  90, 116,  81,  94],\n",
       "       [ 39,  42, 100,  70,  20],\n",
       "       [ 61,   4,  48,  96, 107],\n",
       "       [118,   7,   0,  40,  59],\n",
       "       [108,  82,  17,  32, 106],\n",
       "       [ 35,  11,  37, 111,  15],\n",
       "       [108,  17,  82,  32,  99],\n",
       "       [ 20,  34,  38,  39,  64],\n",
       "       [ 43,  32,  33,  29,  54],\n",
       "       [ 35,  11,  15,  37, 111],\n",
       "       [ 66,  10,  46,  21,  88],\n",
       "       [ 99,  45,  32,   9, 107],\n",
       "       [110,  33,  49, 106,  97],\n",
       "       [ 81,  94,  90, 116,  56],\n",
       "       [ 85,  86,  12,  76,  40],\n",
       "       [104, 113,  72,  84,  60],\n",
       "       [ 26,  23,  94,  90, 109],\n",
       "       [ 37,  84, 103,  72,  79],\n",
       "       [ 27,  73,  14,  78,  93],\n",
       "       [  1,   5,  80,  74,  31],\n",
       "       [ 93,  52,  73,   8,  78],\n",
       "       [ 27,  14,  73,  78,  64],\n",
       "       [  1,  80,   5,  74,  31],\n",
       "       [ 96, 107,  45,  83,  65]], dtype=int64)"
      ]
     },
     "execution_count": 31,
     "metadata": {},
     "output_type": "execute_result"
    }
   ],
   "source": [
    "indexes"
   ]
  },
  {
   "cell_type": "code",
   "execution_count": 32,
   "metadata": {
    "collapsed": true
   },
   "outputs": [
    {
     "data": {
      "text/plain": [
       "array([[0.4783141 , 0.55498144, 0.68689609, 0.97565582, 1.0996389 ],\n",
       "       [0.21160828, 0.29595332, 0.3030323 , 0.39474653, 0.49992658],\n",
       "       [0.05743905, 0.29166717, 0.30400338, 0.314537  , 0.31772902],\n",
       "       [0.21793508, 0.23815404, 0.24658754, 0.2712841 , 0.27912995],\n",
       "       [0.28338478, 0.29965341, 0.46343724, 0.46382826, 0.56703636],\n",
       "       [0.35110932, 0.41604939, 0.43281993, 0.57506186, 0.69513427],\n",
       "       [0.03030736, 0.14136025, 0.18421651, 0.20278756, 0.27666367],\n",
       "       [0.14303462, 0.15374744, 0.15895874, 0.16604804, 0.22395699],\n",
       "       [0.16690251, 0.28516352, 0.39445237, 0.45975488, 0.57394804],\n",
       "       [0.33526316, 0.4178377 , 0.47620008, 0.4858652 , 0.50612365],\n",
       "       [0.08432239, 0.09585022, 0.1096794 , 0.12759411, 0.1295558 ],\n",
       "       [0.11817462, 0.12825702, 0.27042624, 0.30354655, 0.31820671],\n",
       "       [0.19013296, 0.30126838, 0.40734542, 0.46842027, 0.56895647],\n",
       "       [0.31059042, 0.41683624, 0.48644128, 0.74437975, 0.74512133],\n",
       "       [0.58624092, 0.62743766, 0.72294306, 0.80232954, 0.96599548],\n",
       "       [0.34652094, 0.36444153, 0.37042778, 0.49670659, 0.51151357],\n",
       "       [0.12622835, 0.63457838, 0.65802482, 0.70994314, 0.71036972],\n",
       "       [0.2004691 , 0.41207233, 0.46420642, 0.56488478, 1.10356155],\n",
       "       [0.18472538, 0.2035207 , 0.20563154, 0.22885071, 0.23750247],\n",
       "       [0.3802927 , 0.40332126, 0.45029741, 0.45704284, 0.51488534],\n",
       "       [0.22717505, 0.41889096, 0.45868143, 0.64838895, 0.65799753],\n",
       "       [0.22311677, 0.26664467, 0.40547081, 0.40685536, 0.45665062],\n",
       "       [0.1294074 , 0.2949625 , 0.58955654, 0.59318581, 0.60174422],\n",
       "       [0.32684027, 0.38846753, 0.81047471, 0.86896263, 1.12633222],\n",
       "       [0.15034092, 0.17305989, 0.18704125, 0.21126136, 0.21309638],\n",
       "       [0.19996388, 0.25789116, 0.37249851, 0.37919494, 0.48096564],\n",
       "       [0.0768068 , 0.08828464, 0.10983088, 0.12077018, 0.13030543],\n",
       "       [0.15369971, 0.18721167, 0.20585482, 0.21026695, 0.21499376],\n",
       "       [0.17298582, 0.20185816, 0.20330969, 0.23111914, 0.29342969],\n",
       "       [0.2474516 , 0.26525266, 0.32229285, 0.38641437, 0.44773933],\n",
       "       [0.13889917, 0.96866199, 1.2384597 , 2.11830022, 2.84010124],\n",
       "       [0.33231711, 0.37007388, 0.40469236, 0.46705003, 0.48840408],\n",
       "       [0.15569342, 0.17642428, 0.32780009, 0.33640687, 0.50375881],\n",
       "       [0.26571556, 0.29159588, 0.3259307 , 0.33767935, 0.36956817],\n",
       "       [0.15282479, 0.24021231, 0.30405016, 0.36358959, 0.36542829],\n",
       "       [0.31478334, 0.3364207 , 0.35986495, 0.40030447, 0.54921423],\n",
       "       [0.08890885, 0.17147558, 0.23607754, 0.27884834, 0.29733426],\n",
       "       [0.34750585, 0.38556264, 0.41960085, 0.43759461, 0.45154191],\n",
       "       [0.25610899, 0.30630873, 0.3791476 , 0.43459335, 0.5079899 ],\n",
       "       [0.09663077, 0.11477666, 0.14826797, 0.15532403, 0.18100591]])"
      ]
     },
     "execution_count": 32,
     "metadata": {},
     "output_type": "execute_result"
    }
   ],
   "source": [
    "distances"
   ]
  },
  {
   "cell_type": "code",
   "execution_count": null,
   "metadata": {},
   "outputs": [],
   "source": [
    "# LogisticRegression : sigmoid func을 사용해서 결과값을 0~1 사이로 전환.. \n",
    "# => 확률 : \n",
    "#     => binary cls, 0.5를 기준으로 0과 1로 분류\n",
    "#     => multi cls, 각 target에 대해 확률값이 나오고, 확률이 가장 큰 y(target)를 예측 결과로 분류"
   ]
  },
  {
   "cell_type": "code",
   "execution_count": 40,
   "metadata": {
    "collapsed": true
   },
   "outputs": [
    {
     "data": {
      "image/png": "[encoded data removed]",
      "text/plain": [
       "<IPython.core.display.Image object>"
      ]
     },
     "execution_count": 40,
     "metadata": {},
     "output_type": "execute_result"
    }
   ],
   "source": [
    "Image(\"logisticregression.png\")"
   ]
  },
  {
   "cell_type": "code",
   "execution_count": 45,
   "metadata": {
    "collapsed": true
   },
   "outputs": [
    {
     "data": {
      "text/plain": [
       "array([-10,  -9,  -8,  -7,  -6])"
      ]
     },
     "execution_count": 45,
     "metadata": {},
     "output_type": "execute_result"
    }
   ],
   "source": [
    "import matplotlib.pyplot as plt\n",
    "x = np.arange(-10, 10, 1)\n",
    "x[:5]"
   ]
  },
  {
   "cell_type": "code",
   "execution_count": 46,
   "metadata": {
    "collapsed": true
   },
   "outputs": [
    {
     "data": {
      "text/plain": [
       "array([4.53978687e-05, 1.23394576e-04, 3.35350130e-04, 9.11051194e-04,\n",
       "       2.47262316e-03, 6.69285092e-03, 1.79862100e-02, 4.74258732e-02,\n",
       "       1.19202922e-01, 2.68941421e-01, 5.00000000e-01, 7.31058579e-01,\n",
       "       8.80797078e-01, 9.52574127e-01, 9.82013790e-01, 9.93307149e-01,\n",
       "       9.97527377e-01, 9.99088949e-01, 9.99664650e-01, 9.99876605e-01])"
      ]
     },
     "execution_count": 46,
     "metadata": {},
     "output_type": "execute_result"
    }
   ],
   "source": [
    "y = 1 / (np.exp(-x) + 1)\n",
    "y"
   ]
  },
  {
   "cell_type": "code",
   "execution_count": 47,
   "metadata": {},
   "outputs": [
    {
     "data": {
      "text/plain": [
       "[<matplotlib.lines.Line2D at 0x15b8d65a820>]"
      ]
     },
     "execution_count": 47,
     "metadata": {},
     "output_type": "execute_result"
    },
    {
     "data": {
      "image/png": "[encoded data removed]",
      "text/plain": [
       "<Figure size 432x288 with 1 Axes>"
      ]
     },
     "metadata": {
      "needs_background": "light"
     },
     "output_type": "display_data"
    }
   ],
   "source": [
    "plt.plot(x,y)"
   ]
  },
  {
   "cell_type": "code",
   "execution_count": 48,
   "metadata": {},
   "outputs": [
    {
     "data": {
      "text/plain": [
       "array(['Pike', 'Bream', 'Bream', 'Perch', 'Bream', 'Perch', 'Perch',\n",
       "       'Perch', 'Bream', 'Parkki', 'Smelt', 'Smelt', 'Bream', 'Parkki',\n",
       "       'Pike', 'Smelt', 'Parkki', 'Pike', 'Perch', 'Perch', 'Parkki',\n",
       "       'Bream', 'Parkki', 'Pike', 'Perch', 'Bream', 'Smelt', 'Perch',\n",
       "       'Perch', 'Perch', 'Pike', 'Bream', 'Smelt', 'Bream', 'Perch',\n",
       "       'Perch', 'Perch', 'Perch', 'Perch', 'Perch'], dtype=object)"
      ]
     },
     "execution_count": 48,
     "metadata": {},
     "output_type": "execute_result"
    }
   ],
   "source": [
    "log=LogisticRegression()\n",
    "log.fit(scaled_x_train, y_train)\n",
    "preds = log.predict(scaled_x_test)\n",
    "preds"
   ]
  },
  {
   "cell_type": "code",
   "execution_count": 51,
   "metadata": {},
   "outputs": [
    {
     "data": {
      "text/plain": [
       "array([[0.01, 0.  , 0.12, 0.81, 0.04, 0.  , 0.02],\n",
       "       [0.88, 0.05, 0.02, 0.01, 0.02, 0.  , 0.03],\n",
       "       [0.9 , 0.03, 0.02, 0.01, 0.01, 0.  , 0.04],\n",
       "       [0.  , 0.03, 0.74, 0.01, 0.18, 0.01, 0.02],\n",
       "       [0.82, 0.06, 0.05, 0.  , 0.03, 0.  , 0.05],\n",
       "       [0.17, 0.  , 0.58, 0.06, 0.01, 0.  , 0.18],\n",
       "       [0.02, 0.03, 0.71, 0.04, 0.15, 0.  , 0.04],\n",
       "       [0.01, 0.07, 0.61, 0.01, 0.25, 0.02, 0.03],\n",
       "       [0.94, 0.01, 0.01, 0.  , 0.  , 0.  , 0.03],\n",
       "       [0.05, 0.32, 0.23, 0.01, 0.29, 0.08, 0.03],\n",
       "       [0.  , 0.02, 0.1 , 0.  , 0.06, 0.81, 0.  ],\n",
       "       [0.  , 0.02, 0.06, 0.  , 0.04, 0.89, 0.  ],\n",
       "       [0.94, 0.01, 0.01, 0.  , 0.  , 0.  , 0.03],\n",
       "       [0.22, 0.38, 0.12, 0.01, 0.22, 0.01, 0.04],\n",
       "       [0.02, 0.  , 0.29, 0.6 , 0.05, 0.  , 0.04],\n",
       "       [0.  , 0.02, 0.1 , 0.  , 0.05, 0.83, 0.  ],\n",
       "       [0.02, 0.34, 0.19, 0.  , 0.25, 0.18, 0.02],\n",
       "       [0.  , 0.  , 0.07, 0.9 , 0.01, 0.  , 0.01],\n",
       "       [0.01, 0.08, 0.53, 0.02, 0.29, 0.04, 0.02],\n",
       "       [0.06, 0.  , 0.79, 0.02, 0.01, 0.  , 0.12],\n",
       "       [0.16, 0.33, 0.21, 0.01, 0.24, 0.01, 0.04],\n",
       "       [0.86, 0.05, 0.03, 0.01, 0.02, 0.  , 0.04],\n",
       "       [0.12, 0.32, 0.24, 0.01, 0.26, 0.02, 0.04],\n",
       "       [0.01, 0.  , 0.17, 0.74, 0.06, 0.  , 0.02],\n",
       "       [0.03, 0.08, 0.57, 0.02, 0.26, 0.01, 0.04],\n",
       "       [0.87, 0.05, 0.02, 0.01, 0.02, 0.  , 0.04],\n",
       "       [0.  , 0.03, 0.1 , 0.  , 0.06, 0.81, 0.  ],\n",
       "       [0.03, 0.1 , 0.49, 0.03, 0.3 , 0.02, 0.04],\n",
       "       [0.05, 0.09, 0.49, 0.04, 0.28, 0.01, 0.05],\n",
       "       [0.  , 0.09, 0.48, 0.01, 0.24, 0.17, 0.01],\n",
       "       [0.  , 0.  , 0.01, 0.98, 0.  , 0.  , 0.  ],\n",
       "       [0.89, 0.01, 0.03, 0.01, 0.01, 0.  , 0.05],\n",
       "       [0.  , 0.04, 0.34, 0.  , 0.16, 0.44, 0.01],\n",
       "       [0.91, 0.03, 0.02, 0.  , 0.01, 0.  , 0.03],\n",
       "       [0.06, 0.04, 0.62, 0.03, 0.18, 0.  , 0.07],\n",
       "       [0.09, 0.01, 0.71, 0.06, 0.03, 0.  , 0.12],\n",
       "       [0.06, 0.06, 0.57, 0.04, 0.2 , 0.  , 0.06],\n",
       "       [0.02, 0.02, 0.79, 0.01, 0.11, 0.  , 0.05],\n",
       "       [0.06, 0.  , 0.75, 0.05, 0.03, 0.  , 0.1 ],\n",
       "       [0.01, 0.08, 0.58, 0.02, 0.26, 0.03, 0.03]])"
      ]
     },
     "execution_count": 51,
     "metadata": {},
     "output_type": "execute_result"
    }
   ],
   "source": [
    "np.round(log.predict_proba(scaled_x_test), 2)  "
   ]
  },
  {
   "cell_type": "code",
   "execution_count": 55,
   "metadata": {},
   "outputs": [
    {
     "data": {
      "image/jpeg": "[encoded data removed]",
      "text/plain": [
       "<IPython.core.display.Image object>"
      ]
     },
     "execution_count": 55,
     "metadata": {},
     "output_type": "execute_result"
    }
   ],
   "source": [
    "Image('softmax.jpeg')"
   ]
  },
  {
   "cell_type": "code",
   "execution_count": 54,
   "metadata": {},
   "outputs": [
    {
     "data": {
      "text/plain": [
       "array([1., 1., 1., 1., 1., 1., 1., 1., 1., 1., 1., 1., 1., 1., 1., 1., 1.,\n",
       "       1., 1., 1., 1., 1., 1., 1., 1., 1., 1., 1., 1., 1., 1., 1., 1., 1.,\n",
       "       1., 1., 1., 1., 1., 1.])"
      ]
     },
     "execution_count": 54,
     "metadata": {},
     "output_type": "execute_result"
    }
   ],
   "source": [
    "# softmax \n",
    "log.predict_proba(scaled_x_test).sum(axis=1)"
   ]
  },
  {
   "cell_type": "code",
   "execution_count": 52,
   "metadata": {},
   "outputs": [
    {
     "data": {
      "text/plain": [
       "array([3, 0, 0, 2, 0, 2, 2, 2, 0, 1, 5, 5, 0, 1, 3, 5, 1, 3, 2, 2, 1, 0,\n",
       "       1, 3, 2, 0, 5, 2, 2, 2, 3, 0, 5, 0, 2, 2, 2, 2, 2, 2], dtype=int64)"
      ]
     },
     "execution_count": 52,
     "metadata": {},
     "output_type": "execute_result"
    }
   ],
   "source": [
    "np.round(log.predict_proba(scaled_x_test), 2).argmax(axis=1)"
   ]
  },
  {
   "cell_type": "code",
   "execution_count": 56,
   "metadata": {},
   "outputs": [
    {
     "data": {
      "text/plain": [
       "array([[0.01, 0.  , 0.12, 0.81, 0.04, 0.  , 0.02],\n",
       "       [0.88, 0.05, 0.02, 0.01, 0.02, 0.  , 0.03],\n",
       "       [0.9 , 0.03, 0.02, 0.01, 0.01, 0.  , 0.04],\n",
       "       [0.  , 0.03, 0.74, 0.01, 0.18, 0.01, 0.02],\n",
       "       [0.82, 0.06, 0.05, 0.  , 0.03, 0.  , 0.05]])"
      ]
     },
     "execution_count": 56,
     "metadata": {},
     "output_type": "execute_result"
    }
   ],
   "source": [
    "np.round(log.predict_proba(scaled_x_test), 2)[:5]"
   ]
  },
  {
   "cell_type": "code",
   "execution_count": 60,
   "metadata": {},
   "outputs": [
    {
     "data": {
      "text/plain": [
       "array([3, 0, 0, 2, 0, 2, 2, 2, 0, 1, 5, 5, 0, 1, 3, 5, 1, 3, 2, 2, 1, 0,\n",
       "       1, 3, 2, 0, 5, 2, 2, 2, 3, 0, 5, 0, 2, 2, 2, 2, 2, 2], dtype=int64)"
      ]
     },
     "execution_count": 60,
     "metadata": {},
     "output_type": "execute_result"
    }
   ],
   "source": [
    "np.round(log.decision_function(scaled_x_test), 2).argmax(axis=1)"
   ]
  },
  {
   "cell_type": "code",
   "execution_count": 63,
   "metadata": {},
   "outputs": [
    {
     "data": {
      "text/plain": [
       "array([[0.01, 0.  , 0.12, 0.81, 0.04, 0.  , 0.02],\n",
       "       [0.88, 0.05, 0.02, 0.01, 0.02, 0.  , 0.03],\n",
       "       [0.9 , 0.03, 0.02, 0.01, 0.01, 0.  , 0.04],\n",
       "       [0.  , 0.03, 0.74, 0.01, 0.18, 0.01, 0.02],\n",
       "       [0.82, 0.06, 0.05, 0.  , 0.03, 0.  , 0.05]])"
      ]
     },
     "execution_count": 63,
     "metadata": {},
     "output_type": "execute_result"
    }
   ],
   "source": [
    "from scipy.special import softmax\n",
    "proba = softmax(log.decision_function(scaled_x_test), axis=1)\n",
    "np.round(proba,2)[:5]"
   ]
  },
  {
   "cell_type": "code",
   "execution_count": null,
   "metadata": {},
   "outputs": [],
   "source": [
    "'''\n",
    "ray([[0.01, 0.  , 0.12, 0.81, 0.04, 0.  , 0.02],\n",
    "       [0.88, 0.05, 0.02, 0.01, 0.02, 0.  , 0.03],\n",
    "       [0.9 , 0.03, 0.02, 0.01, 0.01, 0.  , 0.04],\n",
    "       [0.  , 0.03, 0.74, 0.01, 0.18, 0.01, 0.02],\n",
    "       [0.82, 0.06, 0.05, 0.  , 0.03, 0.  , 0.05],\n",
    "       [0.17, 0.  , 0.58, 0.06, 0.01, 0.  , 0.18],\n",
    "      '''"
   ]
  },
  {
   "cell_type": "code",
   "execution_count": null,
   "metadata": {},
   "outputs": [],
   "source": []
  },
  {
   "cell_type": "code",
   "execution_count": null,
   "metadata": {},
   "outputs": [],
   "source": [
    "# 경사하강법"
   ]
  },
  {
   "cell_type": "code",
   "execution_count": 1,
   "metadata": {},
   "outputs": [
    {
     "data": {
      "image/jpeg": "[encoded data removed]",
      "text/plain": [
       "<IPython.core.display.Image object>"
      ]
     },
     "execution_count": 1,
     "metadata": {},
     "output_type": "execute_result"
    }
   ],
   "source": [
    "from IPython.display import Image  # 주피터 노트북에 이미지 삽입\n",
    "Image(\"gradientdescent.JPG\")\n"
   ]
  },
  {
   "cell_type": "code",
   "execution_count": 2,
   "metadata": {},
   "outputs": [
    {
     "data": {
      "image/jpeg": "[encoded data removed]",
      "text/plain": [
       "<IPython.core.display.Image object>"
      ]
     },
     "execution_count": 2,
     "metadata": {},
     "output_type": "execute_result"
    }
   ],
   "source": [
    "Image(\"gradientdescent1.JPG\")"
   ]
  },
  {
   "cell_type": "code",
   "execution_count": 3,
   "metadata": {},
   "outputs": [],
   "source": [
    "# SGDClassifier"
   ]
  },
  {
   "cell_type": "code",
   "execution_count": 4,
   "metadata": {},
   "outputs": [],
   "source": [
    "import pandas as pd\n",
    "fish = pd.read_csv('https://bit.ly/fish_csv')"
   ]
  },
  {
   "cell_type": "code",
   "execution_count": 5,
   "metadata": {},
   "outputs": [
    {
     "data": {
      "text/html": [
       "<div>\n",
       "<style scoped>\n",
       "    .dataframe tbody tr th:only-of-type {\n",
       "        vertical-align: middle;\n",
       "    }\n",
       "\n",
       "    .dataframe tbody tr th {\n",
       "        vertical-align: top;\n",
       "    }\n",
       "\n",
       "    .dataframe thead th {\n",
       "        text-align: right;\n",
       "    }\n",
       "</style>\n",
       "<table border=\"1\" class=\"dataframe\">\n",
       "  <thead>\n",
       "    <tr style=\"text-align: right;\">\n",
       "      <th></th>\n",
       "      <th>Species</th>\n",
       "      <th>Weight</th>\n",
       "      <th>Length</th>\n",
       "      <th>Diagonal</th>\n",
       "      <th>Height</th>\n",
       "      <th>Width</th>\n",
       "    </tr>\n",
       "  </thead>\n",
       "  <tbody>\n",
       "    <tr>\n",
       "      <th>0</th>\n",
       "      <td>Bream</td>\n",
       "      <td>242.0</td>\n",
       "      <td>25.4</td>\n",
       "      <td>30.0</td>\n",
       "      <td>11.5200</td>\n",
       "      <td>4.0200</td>\n",
       "    </tr>\n",
       "    <tr>\n",
       "      <th>1</th>\n",
       "      <td>Bream</td>\n",
       "      <td>290.0</td>\n",
       "      <td>26.3</td>\n",
       "      <td>31.2</td>\n",
       "      <td>12.4800</td>\n",
       "      <td>4.3056</td>\n",
       "    </tr>\n",
       "    <tr>\n",
       "      <th>2</th>\n",
       "      <td>Bream</td>\n",
       "      <td>340.0</td>\n",
       "      <td>26.5</td>\n",
       "      <td>31.1</td>\n",
       "      <td>12.3778</td>\n",
       "      <td>4.6961</td>\n",
       "    </tr>\n",
       "    <tr>\n",
       "      <th>3</th>\n",
       "      <td>Bream</td>\n",
       "      <td>363.0</td>\n",
       "      <td>29.0</td>\n",
       "      <td>33.5</td>\n",
       "      <td>12.7300</td>\n",
       "      <td>4.4555</td>\n",
       "    </tr>\n",
       "    <tr>\n",
       "      <th>4</th>\n",
       "      <td>Bream</td>\n",
       "      <td>430.0</td>\n",
       "      <td>29.0</td>\n",
       "      <td>34.0</td>\n",
       "      <td>12.4440</td>\n",
       "      <td>5.1340</td>\n",
       "    </tr>\n",
       "  </tbody>\n",
       "</table>\n",
       "</div>"
      ],
      "text/plain": [
       "  Species  Weight  Length  Diagonal   Height   Width\n",
       "0   Bream   242.0    25.4      30.0  11.5200  4.0200\n",
       "1   Bream   290.0    26.3      31.2  12.4800  4.3056\n",
       "2   Bream   340.0    26.5      31.1  12.3778  4.6961\n",
       "3   Bream   363.0    29.0      33.5  12.7300  4.4555\n",
       "4   Bream   430.0    29.0      34.0  12.4440  5.1340"
      ]
     },
     "execution_count": 5,
     "metadata": {},
     "output_type": "execute_result"
    }
   ],
   "source": [
    "fish.head()"
   ]
  },
  {
   "cell_type": "code",
   "execution_count": 7,
   "metadata": {
    "collapsed": true
   },
   "outputs": [
    {
     "name": "stdout",
     "output_type": "stream",
     "text": [
      "<class 'pandas.core.frame.DataFrame'>\n",
      "RangeIndex: 159 entries, 0 to 158\n",
      "Data columns (total 6 columns):\n",
      " #   Column    Non-Null Count  Dtype  \n",
      "---  ------    --------------  -----  \n",
      " 0   Species   159 non-null    object \n",
      " 1   Weight    159 non-null    float64\n",
      " 2   Length    159 non-null    float64\n",
      " 3   Diagonal  159 non-null    float64\n",
      " 4   Height    159 non-null    float64\n",
      " 5   Width     159 non-null    float64\n",
      "dtypes: float64(5), object(1)\n",
      "memory usage: 7.6+ KB\n"
     ]
    }
   ],
   "source": [
    "fish.info()"
   ]
  },
  {
   "cell_type": "code",
   "execution_count": 6,
   "metadata": {},
   "outputs": [],
   "source": [
    "y = fish.Species\n",
    "x = fish.drop('Species', axis=1)"
   ]
  },
  {
   "cell_type": "code",
   "execution_count": 9,
   "metadata": {},
   "outputs": [],
   "source": [
    "from sklearn.model_selection import train_test_split\n",
    "x_train, x_test, y_train, y_test =train_test_split(x,y, test_size=0.2, random_state=11)"
   ]
  },
  {
   "cell_type": "code",
   "execution_count": 13,
   "metadata": {},
   "outputs": [],
   "source": [
    "from sklearn.preprocessing import StandardScaler\n",
    "scale = StandardScaler()"
   ]
  },
  {
   "cell_type": "code",
   "execution_count": 14,
   "metadata": {},
   "outputs": [
    {
     "data": {
      "text/plain": [
       "StandardScaler()"
      ]
     },
     "execution_count": 14,
     "metadata": {},
     "output_type": "execute_result"
    }
   ],
   "source": [
    "scale.fit(x_train)"
   ]
  },
  {
   "cell_type": "code",
   "execution_count": 15,
   "metadata": {},
   "outputs": [],
   "source": [
    "scaled_x_train = scale.transform(x_train)\n",
    "scaled_x_test = scale.transform(x_test)"
   ]
  },
  {
   "cell_type": "code",
   "execution_count": 17,
   "metadata": {},
   "outputs": [
    {
     "data": {
      "text/plain": [
       "array([[-1.08439086, -1.5823055 , -1.59367269, -1.6338778 , -1.95853435],\n",
       "       [-1.05783398, -1.34913832, -1.41269227, -1.47669913, -1.4742879 ],\n",
       "       [ 0.25714183,  0.25505184,  0.41434811,  1.12021966, -0.05208439],\n",
       "       [-0.96118887, -1.31183157, -1.30065678, -0.52854611, -1.31400567],\n",
       "       [ 0.80470619,  0.39495215,  0.5780923 ,  1.38290769,  0.51499206]])"
      ]
     },
     "execution_count": 17,
     "metadata": {},
     "output_type": "execute_result"
    }
   ],
   "source": [
    "scaled_x_train[:5]"
   ]
  },
  {
   "cell_type": "code",
   "execution_count": 42,
   "metadata": {},
   "outputs": [],
   "source": [
    "from sklearn.linear_model import SGDClassifier\n",
    "sc = SGDClassifier(loss = 'log', max_iter=10, random_state=42)\n",
    "# loss = -y*log(y_hat) + (1-y)log(1-y_hat)"
   ]
  },
  {
   "cell_type": "code",
   "execution_count": 27,
   "metadata": {},
   "outputs": [
    {
     "data": {
      "image/jpeg": "[encoded data removed]",
      "text/plain": [
       "<IPython.core.display.Image object>"
      ]
     },
     "execution_count": 27,
     "metadata": {},
     "output_type": "execute_result"
    }
   ],
   "source": [
    "Image(\"logloss.JPG\")"
   ]
  },
  {
   "cell_type": "code",
   "execution_count": 44,
   "metadata": {},
   "outputs": [
    {
     "name": "stderr",
     "output_type": "stream",
     "text": [
      "C:\\Users\\TJ\\anaconda3\\lib\\site-packages\\sklearn\\linear_model\\_stochastic_gradient.py:570: ConvergenceWarning: Maximum number of iteration reached before convergence. Consider increasing max_iter to improve the fit.\n",
      "  warnings.warn(\"Maximum number of iteration reached before \"\n"
     ]
    },
    {
     "data": {
      "text/plain": [
       "SGDClassifier(loss='log', max_iter=10, random_state=42)"
      ]
     },
     "execution_count": 44,
     "metadata": {},
     "output_type": "execute_result"
    }
   ],
   "source": [
    "sc.fit(scaled_x_train, y_train)"
   ]
  },
  {
   "cell_type": "code",
   "execution_count": 35,
   "metadata": {},
   "outputs": [
    {
     "data": {
      "text/plain": [
       "0.84375"
      ]
     },
     "execution_count": 35,
     "metadata": {},
     "output_type": "execute_result"
    }
   ],
   "source": [
    "sc.score(scaled_x_test, y_test)"
   ]
  },
  {
   "cell_type": "code",
   "execution_count": 36,
   "metadata": {},
   "outputs": [
    {
     "data": {
      "text/plain": [
       "0.7401574803149606"
      ]
     },
     "execution_count": 36,
     "metadata": {},
     "output_type": "execute_result"
    }
   ],
   "source": [
    "sc.partial_fit(scaled_x_train, y_train)\n",
    "sc.score(scaled_x_train, y_train)"
   ]
  },
  {
   "cell_type": "code",
   "execution_count": 60,
   "metadata": {},
   "outputs": [
    {
     "name": "stderr",
     "output_type": "stream",
     "text": [
      "C:\\Users\\TJ\\anaconda3\\lib\\site-packages\\sklearn\\linear_model\\_stochastic_gradient.py:570: ConvergenceWarning: Maximum number of iteration reached before convergence. Consider increasing max_iter to improve the fit.\n",
      "  warnings.warn(\"Maximum number of iteration reached before \"\n"
     ]
    }
   ],
   "source": [
    "sc = SGDClassifier(loss = 'log', max_iter=10, random_state=42)\n",
    "sc.fit(scaled_x_train, y_train)\n",
    "\n",
    "train_score_list = []\n",
    "test_score_list = []\n",
    "\n",
    "for _ in range(500):\n",
    "    sc.partial_fit(scaled_x_train, y_train)\n",
    "    train_score = sc.score(scaled_x_train, y_train)\n",
    "    test_score = sc.score(scaled_x_test, y_test)\n",
    "    \n",
    "    train_score_list.append(train_score)\n",
    "    test_score_list.append(test_score)"
   ]
  },
  {
   "cell_type": "code",
   "execution_count": 61,
   "metadata": {},
   "outputs": [
    {
     "data": {
      "text/plain": [
       "[<matplotlib.lines.Line2D at 0x1944a9eb970>]"
      ]
     },
     "execution_count": 61,
     "metadata": {},
     "output_type": "execute_result"
    },
    {
     "data": {
      "image/png": "[encoded data removed]",
      "text/plain": [
       "<Figure size 432x288 with 1 Axes>"
      ]
     },
     "metadata": {
      "needs_background": "light"
     },
     "output_type": "display_data"
    }
   ],
   "source": [
    "import matplotlib.pyplot as plt\n",
    "plt.plot(train_score_list, c='r')\n",
    "plt.plot(test_score_list, c='b')"
   ]
  },
  {
   "cell_type": "code",
   "execution_count": null,
   "metadata": {},
   "outputs": [],
   "source": []
  },
  {
   "cell_type": "code",
   "execution_count": null,
   "metadata": {},
   "outputs": [],
   "source": []
  }
 ],
 "metadata": {
  "kernelspec": {
   "display_name": "Python 3",
   "language": "python",
   "name": "python3"
  },
  "language_info": {
   "codemirror_mode": {
    "name": "ipython",
    "version": 3
   },
   "file_extension": ".py",
   "mimetype": "text/x-python",
   "name": "python",
   "nbconvert_exporter": "python",
   "pygments_lexer": "ipython3",
   "version": "3.8.5"
  },
  "toc": {
   "base_numbering": 1,
   "nav_menu": {},
   "number_sections": true,
   "sideBar": true,
   "skip_h1_title": false,
   "title_cell": "Table of Contents",
   "title_sidebar": "Contents",
   "toc_cell": false,
   "toc_position": {},
   "toc_section_display": true,
   "toc_window_display": false
  },
  "varInspector": {
   "cols": {
    "lenName": 16,
    "lenType": 16,
    "lenVar": 40
   },
   "kernels_config": {
    "python": {
     "delete_cmd_postfix": "",
     "delete_cmd_prefix": "del ",
     "library": "var_list.py",
     "varRefreshCmd": "print(var_dic_list())"
    },
    "r": {
     "delete_cmd_postfix": ") ",
     "delete_cmd_prefix": "rm(",
     "library": "var_list.r",
     "varRefreshCmd": "cat(var_dic_list()) "
    }
   },
   "types_to_exclude": [
    "module",
    "function",
    "builtin_function_or_method",
    "instance",
    "_Feature"
   ],
   "window_display": false
  }
 },
 "nbformat": 4,
 "nbformat_minor": 4
}
