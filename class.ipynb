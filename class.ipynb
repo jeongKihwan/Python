{
 "cells": [
  {
   "cell_type": "code",
   "execution_count": 1,
   "metadata": {},
   "outputs": [],
   "source": [
    "# class\n",
    "\n",
    "# 자주 사용하는 함수들과 변수들을 한 덩어리로 묶어서 관리\n",
    "# class를 사용할 때는 class를 복사해서 사용. \n",
    "# class를 복사한 것을 instance라고 함.\n",
    "\n",
    "# 속성(attribute): 클래스 내의 변수\n",
    "# 메소드(method): 클래스 내의 함수\n",
    "    \n",
    "# class는 설계도와 같음. class를 사용시 class를 복사해서 인스턴스로 사용..\n",
    "# 클래스 : 붕어빵 틀,   인스턴스 : 붕어빵"
   ]
  },
  {
   "cell_type": "code",
   "execution_count": null,
   "metadata": {},
   "outputs": [],
   "source": []
  },
  {
   "cell_type": "code",
   "execution_count": 4,
   "metadata": {},
   "outputs": [
    {
     "name": "stdout",
     "output_type": "stream",
     "text": [
      "====================\n",
      "Name : KimYun\n",
      "Email : kimyun@gmail.com\n",
      "Address : Seoul\n",
      "====================\n"
     ]
    }
   ],
   "source": [
    "# 명찰만드는 코드 \n",
    "\n",
    "print(\"=\"*20)\n",
    "print('Name : {}'.format('KimYun'))\n",
    "print('Email : {}'.format('kimyun@gmail.com'))\n",
    "print('Address : {}'.format('Seoul'))\n",
    "print(\"=\"*20)"
   ]
  },
  {
   "cell_type": "code",
   "execution_count": 5,
   "metadata": {},
   "outputs": [],
   "source": [
    "# 함수로 변환\n",
    "\n",
    "def BusinessCard():\n",
    "    print(\"=\"*20)\n",
    "    print('Name : {}'.format('KimYun'))\n",
    "    print('Email : {}'.format('kimyun@gmail.com'))\n",
    "    print('Address : {}'.format('Seoul'))\n",
    "    print(\"=\"*20)"
   ]
  },
  {
   "cell_type": "code",
   "execution_count": 6,
   "metadata": {
    "collapsed": true
   },
   "outputs": [
    {
     "name": "stdout",
     "output_type": "stream",
     "text": [
      "====================\n",
      "Name : KimYun\n",
      "Email : kimyun@gmail.com\n",
      "Address : Seoul\n",
      "====================\n"
     ]
    }
   ],
   "source": [
    "BusinessCard()"
   ]
  },
  {
   "cell_type": "code",
   "execution_count": 7,
   "metadata": {},
   "outputs": [],
   "source": [
    "def BusinessCard(name, email, address):\n",
    "    print(\"=\"*20)\n",
    "    print('Name : {}'.format(name))\n",
    "    print('Email : {}'.format(email))\n",
    "    print('Address : {}'.format(address))\n",
    "    print(\"=\"*20)"
   ]
  },
  {
   "cell_type": "code",
   "execution_count": 8,
   "metadata": {},
   "outputs": [
    {
     "name": "stdout",
     "output_type": "stream",
     "text": [
      "====================\n",
      "Name : ParkYun\n",
      "Email : parkyun@gmail.com\n",
      "Address : Incheon\n",
      "====================\n"
     ]
    }
   ],
   "source": [
    "BusinessCard('ParkYun','parkyun@gmail.com', 'Incheon')"
   ]
  },
  {
   "cell_type": "code",
   "execution_count": 10,
   "metadata": {},
   "outputs": [],
   "source": [
    "def BusinessCard(name, email, address):\n",
    "    print(\"=\"*20)\n",
    "    print('Name : {}'.format(name))\n",
    "    print('Email : {}'.format(email))\n",
    "    print('Address : {}'.format(address))\n",
    "    print(\"=\"*20)"
   ]
  },
  {
   "cell_type": "code",
   "execution_count": 11,
   "metadata": {},
   "outputs": [
    {
     "name": "stdout",
     "output_type": "stream",
     "text": [
      "====================\n",
      "Name : Yuna\n",
      "Email : yuna@hanmail.net\n",
      "Address : Pusan\n",
      "====================\n"
     ]
    }
   ],
   "source": [
    "name = 'Yuna'\n",
    "email = 'yuna@hanmail.net'\n",
    "address = 'Pusan'\n",
    "    \n",
    "BusinessCard(name, email, address)"
   ]
  },
  {
   "cell_type": "code",
   "execution_count": 12,
   "metadata": {},
   "outputs": [],
   "source": [
    "def detail_info(job, age, phone):\n",
    "    print(\"=\"*20)\n",
    "    print('Job : {}'.format(job))\n",
    "    print('Age : {}'.format(age))\n",
    "    print('Phone : {}'.format(phone))\n",
    "    print(\"=\"*20)"
   ]
  },
  {
   "cell_type": "code",
   "execution_count": 13,
   "metadata": {},
   "outputs": [
    {
     "name": "stdout",
     "output_type": "stream",
     "text": [
      "====================\n",
      "Job : teacher\n",
      "Age : 35\n",
      "Phone : 010894645646\n",
      "====================\n"
     ]
    }
   ],
   "source": [
    "job = 'teacher'\n",
    "age = 35\n",
    "phone = '010894645646'\n",
    "\n",
    "detail_info(job, age, phone)"
   ]
  },
  {
   "cell_type": "code",
   "execution_count": 14,
   "metadata": {},
   "outputs": [
    {
     "name": "stdout",
     "output_type": "stream",
     "text": [
      "====================\n",
      "Job : singer\n",
      "Age : 45\n",
      "Phone : 010894645646\n",
      "====================\n"
     ]
    }
   ],
   "source": [
    "job = 'singer'\n",
    "age = 45\n",
    "phone = '010894645646'\n",
    "\n",
    "detail_info(job, age, phone)"
   ]
  },
  {
   "cell_type": "code",
   "execution_count": 15,
   "metadata": {},
   "outputs": [],
   "source": [
    "# 클래스 생성\n",
    "\n",
    "class BusinessCard:\n",
    "    \n",
    "    name = 'Yuna'       # 클래스 변수\n",
    "    email = 'yuna@gmail.com'\n",
    "    address = 'Seoul'\n",
    "    \n",
    "    job = 'teacher'\n",
    "    age = 25\n",
    "    phone = '21345678'\n",
    "    \n",
    "    def BusinessCard(self):\n",
    "        print(\"=\"*20)\n",
    "        print('Name : {}'.format(BusinessCard.name))   # 클래스 명으로 접근..\n",
    "        print('Email : {}'.format(BusinessCard.email))\n",
    "        print('Address : {}'.format(BusinessCard.address))\n",
    "        print(\"=\"*20)\n",
    "        \n",
    "    def detail_info(self):\n",
    "        print(\"=\"*20)\n",
    "        print('Job : {}'.format(BusinessCard.job))\n",
    "        print('Age : {}'.format(BusinessCard.age))\n",
    "        print('Phone : {}'.format(BusinessCard.phone))\n",
    "        print(\"=\"*20)"
   ]
  },
  {
   "cell_type": "code",
   "execution_count": 16,
   "metadata": {},
   "outputs": [],
   "source": [
    "# 클래스 사용 => 클래스를 복사 (인스턴스 생성)"
   ]
  },
  {
   "cell_type": "code",
   "execution_count": 17,
   "metadata": {},
   "outputs": [],
   "source": [
    "biz = BusinessCard()"
   ]
  },
  {
   "cell_type": "code",
   "execution_count": 18,
   "metadata": {},
   "outputs": [
    {
     "name": "stdout",
     "output_type": "stream",
     "text": [
      "====================\n",
      "Name : Yuna\n",
      "Email : yuna@gmail.com\n",
      "Address : Seoul\n",
      "====================\n"
     ]
    }
   ],
   "source": [
    "biz.BusinessCard()"
   ]
  },
  {
   "cell_type": "code",
   "execution_count": 19,
   "metadata": {},
   "outputs": [
    {
     "name": "stdout",
     "output_type": "stream",
     "text": [
      "====================\n",
      "Job : teacher\n",
      "Age : 25\n",
      "Phone : 21345678\n",
      "====================\n"
     ]
    }
   ],
   "source": [
    "biz.detail_info()"
   ]
  },
  {
   "cell_type": "code",
   "execution_count": 20,
   "metadata": {},
   "outputs": [
    {
     "data": {
      "text/plain": [
       "'Yuna'"
      ]
     },
     "execution_count": 20,
     "metadata": {},
     "output_type": "execute_result"
    }
   ],
   "source": [
    "biz.name"
   ]
  },
  {
   "cell_type": "code",
   "execution_count": 21,
   "metadata": {},
   "outputs": [],
   "source": [
    "biz_c = BusinessCard()"
   ]
  },
  {
   "cell_type": "code",
   "execution_count": 22,
   "metadata": {},
   "outputs": [
    {
     "name": "stdout",
     "output_type": "stream",
     "text": [
      "====================\n",
      "Name : Yuna\n",
      "Email : yuna@gmail.com\n",
      "Address : Seoul\n",
      "====================\n"
     ]
    }
   ],
   "source": [
    "biz_c.BusinessCard()"
   ]
  },
  {
   "cell_type": "code",
   "execution_count": 24,
   "metadata": {},
   "outputs": [
    {
     "name": "stdout",
     "output_type": "stream",
     "text": [
      "====================\n",
      "Job : teacher\n",
      "Age : 25\n",
      "Phone : 21345678\n",
      "====================\n"
     ]
    }
   ],
   "source": [
    "biz_c.detail_info()"
   ]
  },
  {
   "cell_type": "code",
   "execution_count": null,
   "metadata": {},
   "outputs": [],
   "source": []
  },
  {
   "cell_type": "code",
   "execution_count": 27,
   "metadata": {},
   "outputs": [],
   "source": [
    "# 클래스 생성\n",
    "\n",
    "class BusinessCard:\n",
    "    \n",
    "    def set_info(self, name, email, address, job, age, phone):\n",
    "        self.name = name\n",
    "        self.email = email\n",
    "        self.address = address\n",
    "        self.job = job\n",
    "        self.age = age\n",
    "        self.phone = phone\n",
    "    \n",
    "    def BusinessCard(self):\n",
    "        print(\"=\"*20)\n",
    "        print('Name : {}'.format(self.name))\n",
    "        print('Email : {}'.format(self.email))\n",
    "        print('Address : {}'.format(self.address))\n",
    "        print(\"=\"*20)\n",
    "        \n",
    "    def detail_info(self):\n",
    "        print(\"=\"*20)\n",
    "        print('Job : {}'.format(self.job))\n",
    "        print('Age : {}'.format(self.age))\n",
    "        print('Phone : {}'.format(self.phone))\n",
    "        print(\"=\"*20)"
   ]
  },
  {
   "cell_type": "code",
   "execution_count": 28,
   "metadata": {},
   "outputs": [],
   "source": [
    "biz = BusinessCard()"
   ]
  },
  {
   "cell_type": "code",
   "execution_count": 30,
   "metadata": {},
   "outputs": [],
   "source": [
    "biz.set_info('yuna', 'yuna@hanmail.net','Seoul','Teacher',35, '1111-8888')"
   ]
  },
  {
   "cell_type": "code",
   "execution_count": 31,
   "metadata": {},
   "outputs": [
    {
     "name": "stdout",
     "output_type": "stream",
     "text": [
      "====================\n",
      "Name : yuna\n",
      "Email : yuna@hanmail.net\n",
      "Address : Seoul\n",
      "====================\n"
     ]
    }
   ],
   "source": [
    "biz.BusinessCard()"
   ]
  },
  {
   "cell_type": "code",
   "execution_count": 32,
   "metadata": {},
   "outputs": [
    {
     "name": "stdout",
     "output_type": "stream",
     "text": [
      "====================\n",
      "Job : Teacher\n",
      "Age : 35\n",
      "Phone : 1111-8888\n",
      "====================\n"
     ]
    }
   ],
   "source": [
    "biz.detail_info()"
   ]
  },
  {
   "cell_type": "code",
   "execution_count": 33,
   "metadata": {},
   "outputs": [],
   "source": [
    "biz1 = BusinessCard()"
   ]
  },
  {
   "cell_type": "code",
   "execution_count": 34,
   "metadata": {},
   "outputs": [],
   "source": [
    "biz1.set_info('Parkchul','park@gmail.net','Incheon','Singer',45,'5555-5555')"
   ]
  },
  {
   "cell_type": "code",
   "execution_count": 35,
   "metadata": {},
   "outputs": [
    {
     "name": "stdout",
     "output_type": "stream",
     "text": [
      "====================\n",
      "Name : Parkchul\n",
      "Email : park@gmail.net\n",
      "Address : Incheon\n",
      "====================\n"
     ]
    }
   ],
   "source": [
    "biz1.BusinessCard()"
   ]
  },
  {
   "cell_type": "code",
   "execution_count": 36,
   "metadata": {},
   "outputs": [
    {
     "name": "stdout",
     "output_type": "stream",
     "text": [
      "====================\n",
      "Job : Singer\n",
      "Age : 45\n",
      "Phone : 5555-5555\n",
      "====================\n"
     ]
    }
   ],
   "source": [
    "biz1.detail_info()"
   ]
  },
  {
   "cell_type": "code",
   "execution_count": 37,
   "metadata": {},
   "outputs": [],
   "source": [
    "biz2 = BusinessCard()  # 인스턴스생성 -  클래스를 복사"
   ]
  },
  {
   "cell_type": "code",
   "execution_count": 38,
   "metadata": {
    "collapsed": true
   },
   "outputs": [
    {
     "name": "stdout",
     "output_type": "stream",
     "text": [
      "====================\n"
     ]
    },
    {
     "ename": "AttributeError",
     "evalue": "'BusinessCard' object has no attribute 'name'",
     "output_type": "error",
     "traceback": [
      "\u001b[1;31m---------------------------------------------------------------------------\u001b[0m",
      "\u001b[1;31mAttributeError\u001b[0m                            Traceback (most recent call last)",
      "\u001b[1;32m<ipython-input-38-1e34deecbb80>\u001b[0m in \u001b[0;36m<module>\u001b[1;34m\u001b[0m\n\u001b[1;32m----> 1\u001b[1;33m \u001b[0mbiz2\u001b[0m\u001b[1;33m.\u001b[0m\u001b[0mBusinessCard\u001b[0m\u001b[1;33m(\u001b[0m\u001b[1;33m)\u001b[0m\u001b[1;33m\u001b[0m\u001b[1;33m\u001b[0m\u001b[0m\n\u001b[0m",
      "\u001b[1;32m<ipython-input-27-9178f147f74e>\u001b[0m in \u001b[0;36mBusinessCard\u001b[1;34m(self)\u001b[0m\n\u001b[0;32m     13\u001b[0m     \u001b[1;32mdef\u001b[0m \u001b[0mBusinessCard\u001b[0m\u001b[1;33m(\u001b[0m\u001b[0mself\u001b[0m\u001b[1;33m)\u001b[0m\u001b[1;33m:\u001b[0m\u001b[1;33m\u001b[0m\u001b[1;33m\u001b[0m\u001b[0m\n\u001b[0;32m     14\u001b[0m         \u001b[0mprint\u001b[0m\u001b[1;33m(\u001b[0m\u001b[1;34m\"=\"\u001b[0m\u001b[1;33m*\u001b[0m\u001b[1;36m20\u001b[0m\u001b[1;33m)\u001b[0m\u001b[1;33m\u001b[0m\u001b[1;33m\u001b[0m\u001b[0m\n\u001b[1;32m---> 15\u001b[1;33m         \u001b[0mprint\u001b[0m\u001b[1;33m(\u001b[0m\u001b[1;34m'Name : {}'\u001b[0m\u001b[1;33m.\u001b[0m\u001b[0mformat\u001b[0m\u001b[1;33m(\u001b[0m\u001b[0mself\u001b[0m\u001b[1;33m.\u001b[0m\u001b[0mname\u001b[0m\u001b[1;33m)\u001b[0m\u001b[1;33m)\u001b[0m\u001b[1;33m\u001b[0m\u001b[1;33m\u001b[0m\u001b[0m\n\u001b[0m\u001b[0;32m     16\u001b[0m         \u001b[0mprint\u001b[0m\u001b[1;33m(\u001b[0m\u001b[1;34m'Email : {}'\u001b[0m\u001b[1;33m.\u001b[0m\u001b[0mformat\u001b[0m\u001b[1;33m(\u001b[0m\u001b[0mself\u001b[0m\u001b[1;33m.\u001b[0m\u001b[0memail\u001b[0m\u001b[1;33m)\u001b[0m\u001b[1;33m)\u001b[0m\u001b[1;33m\u001b[0m\u001b[1;33m\u001b[0m\u001b[0m\n\u001b[0;32m     17\u001b[0m         \u001b[0mprint\u001b[0m\u001b[1;33m(\u001b[0m\u001b[1;34m'Address : {}'\u001b[0m\u001b[1;33m.\u001b[0m\u001b[0mformat\u001b[0m\u001b[1;33m(\u001b[0m\u001b[0mself\u001b[0m\u001b[1;33m.\u001b[0m\u001b[0maddress\u001b[0m\u001b[1;33m)\u001b[0m\u001b[1;33m)\u001b[0m\u001b[1;33m\u001b[0m\u001b[1;33m\u001b[0m\u001b[0m\n",
      "\u001b[1;31mAttributeError\u001b[0m: 'BusinessCard' object has no attribute 'name'"
     ]
    }
   ],
   "source": [
    "biz2.BusinessCard()  # error - 클래스 내에 변수에 값을 입력하지 않고 출력..\n",
    "                     # 클래스 구조는 반두시 set_info()로 변수값을 입력 후 다른 메소드 호출"
   ]
  },
  {
   "cell_type": "code",
   "execution_count": 39,
   "metadata": {},
   "outputs": [],
   "source": [
    "# 클래스 생성\n",
    "\n",
    "class BusinessCard:\n",
    "    \n",
    "    def __init__(self, name, email, address, job, age, phone):\n",
    "        \"\"\"\n",
    "        생성자 함수\n",
    "        클래스가 복사되어 인스턴스가 생성될 때, 무조건 실행되는 함수..\n",
    "        \"\"\"\n",
    "        self.name = name\n",
    "        self.email = email\n",
    "        self.address = address\n",
    "        self.job = job\n",
    "        self.age = age\n",
    "        self.phone = phone\n",
    "    \n",
    "    def BusinessCard(self):\n",
    "        print(\"=\"*20)\n",
    "        print('Name : {}'.format(self.name))\n",
    "        print('Email : {}'.format(self.email))\n",
    "        print('Address : {}'.format(self.address))\n",
    "        print(\"=\"*20)\n",
    "        \n",
    "    def detail_info(self):\n",
    "        print(\"=\"*20)\n",
    "        print('Job : {}'.format(self.job))\n",
    "        print('Age : {}'.format(self.age))\n",
    "        print('Phone : {}'.format(self.phone))\n",
    "        print(\"=\"*20)"
   ]
  },
  {
   "cell_type": "code",
   "execution_count": 40,
   "metadata": {
    "collapsed": true
   },
   "outputs": [
    {
     "ename": "TypeError",
     "evalue": "__init__() missing 6 required positional arguments: 'name', 'email', 'address', 'job', 'age', and 'phone'",
     "output_type": "error",
     "traceback": [
      "\u001b[1;31m---------------------------------------------------------------------------\u001b[0m",
      "\u001b[1;31mTypeError\u001b[0m                                 Traceback (most recent call last)",
      "\u001b[1;32m<ipython-input-40-30d97532d49c>\u001b[0m in \u001b[0;36m<module>\u001b[1;34m\u001b[0m\n\u001b[1;32m----> 1\u001b[1;33m \u001b[0mbiz\u001b[0m \u001b[1;33m=\u001b[0m \u001b[0mBusinessCard\u001b[0m\u001b[1;33m(\u001b[0m\u001b[1;33m)\u001b[0m\u001b[1;33m\u001b[0m\u001b[1;33m\u001b[0m\u001b[0m\n\u001b[0m",
      "\u001b[1;31mTypeError\u001b[0m: __init__() missing 6 required positional arguments: 'name', 'email', 'address', 'job', 'age', and 'phone'"
     ]
    }
   ],
   "source": [
    "biz = BusinessCard() # error - init()함수가 실행되면서 6개 매개변수를 필요로 함."
   ]
  },
  {
   "cell_type": "code",
   "execution_count": 42,
   "metadata": {},
   "outputs": [],
   "source": [
    "# 인스턴스 생성하면서 동시 init()함수가 실행됨 -  init()가 필요로하는 매개변수 동시전달\n",
    "biz = BusinessCard('Kimmin', 'kim@gmail.com','Seoul','Analyst', 55, '333333333')"
   ]
  },
  {
   "cell_type": "code",
   "execution_count": 43,
   "metadata": {},
   "outputs": [
    {
     "name": "stdout",
     "output_type": "stream",
     "text": [
      "====================\n",
      "Name : Kimmin\n",
      "Email : kim@gmail.com\n",
      "Address : Seoul\n",
      "====================\n"
     ]
    }
   ],
   "source": [
    "biz.BusinessCard()"
   ]
  },
  {
   "cell_type": "code",
   "execution_count": 44,
   "metadata": {},
   "outputs": [
    {
     "name": "stdout",
     "output_type": "stream",
     "text": [
      "====================\n",
      "Job : Analyst\n",
      "Age : 55\n",
      "Phone : 333333333\n",
      "====================\n"
     ]
    }
   ],
   "source": [
    "biz.detail_info()"
   ]
  },
  {
   "cell_type": "code",
   "execution_count": 45,
   "metadata": {},
   "outputs": [
    {
     "data": {
      "text/plain": [
       "'Kimmin'"
      ]
     },
     "execution_count": 45,
     "metadata": {},
     "output_type": "execute_result"
    }
   ],
   "source": [
    "biz.name"
   ]
  },
  {
   "cell_type": "code",
   "execution_count": null,
   "metadata": {},
   "outputs": [],
   "source": []
  },
  {
   "cell_type": "code",
   "execution_count": 47,
   "metadata": {},
   "outputs": [],
   "source": [
    "# class \n",
    "# 메서드(함수) -  원의 면적 계산 함수, 원의 둘레길이를 계산하는 함수\n",
    "# 속성(변수) - 반지름, pi(3.14)\n",
    "# 클래스 변수(인스턴스 간 공유)와 인스턴스 변수(개별 인스턴스가 구별, self).."
   ]
  },
  {
   "cell_type": "code",
   "execution_count": 48,
   "metadata": {},
   "outputs": [],
   "source": [
    "class circle:\n",
    "    \n",
    "    pi = 3.14  # 클래스변수 - 모든 인스턴스 공유되는 변수\n",
    "               # 클래스명으로 접근하는 게 원칙, self로 접근도 가능...\n",
    "    \n",
    "    def __init__(self, radius):  # 생성자 함수\n",
    "        self.radius = radius   # 인스턴스 변수 - 각각의 인스턴스 내에서 공유되는 변수\n",
    "        \n",
    "        # self - 각각의 인스턴스의 메모리 주소를 가리킨다...\n",
    "    \n",
    "    def circle_area(self):\n",
    "        return (self.radius**2)*(circle.pi)\n",
    "    \n",
    "    def circle_perimeter(self):\n",
    "        return (self.radius*2)*self.pi"
   ]
  },
  {
   "cell_type": "code",
   "execution_count": 49,
   "metadata": {
    "collapsed": true
   },
   "outputs": [
    {
     "ename": "TypeError",
     "evalue": "__init__() missing 1 required positional argument: 'radius'",
     "output_type": "error",
     "traceback": [
      "\u001b[1;31m---------------------------------------------------------------------------\u001b[0m",
      "\u001b[1;31mTypeError\u001b[0m                                 Traceback (most recent call last)",
      "\u001b[1;32m<ipython-input-49-f97c803424ea>\u001b[0m in \u001b[0;36m<module>\u001b[1;34m\u001b[0m\n\u001b[1;32m----> 1\u001b[1;33m \u001b[0mcir\u001b[0m \u001b[1;33m=\u001b[0m \u001b[0mcircle\u001b[0m\u001b[1;33m(\u001b[0m\u001b[1;33m)\u001b[0m  \u001b[1;31m# 인스턴스 생성(클래스 복사)\u001b[0m\u001b[1;33m\u001b[0m\u001b[1;33m\u001b[0m\u001b[0m\n\u001b[0m",
      "\u001b[1;31mTypeError\u001b[0m: __init__() missing 1 required positional argument: 'radius'"
     ]
    }
   ],
   "source": [
    "cir = circle()  # error,  인스턴스 생성(클래스 복사)"
   ]
  },
  {
   "cell_type": "code",
   "execution_count": 50,
   "metadata": {},
   "outputs": [],
   "source": [
    "cir = circle(3)"
   ]
  },
  {
   "cell_type": "code",
   "execution_count": 51,
   "metadata": {
    "collapsed": true
   },
   "outputs": [
    {
     "data": {
      "text/plain": [
       "28.26"
      ]
     },
     "execution_count": 51,
     "metadata": {},
     "output_type": "execute_result"
    }
   ],
   "source": [
    "cir.circle_area()"
   ]
  },
  {
   "cell_type": "code",
   "execution_count": 52,
   "metadata": {
    "collapsed": true
   },
   "outputs": [
    {
     "data": {
      "text/plain": [
       "18.84"
      ]
     },
     "execution_count": 52,
     "metadata": {},
     "output_type": "execute_result"
    }
   ],
   "source": [
    "cir.circle_perimeter()"
   ]
  },
  {
   "cell_type": "code",
   "execution_count": 53,
   "metadata": {},
   "outputs": [],
   "source": [
    "cir1=circle(5)"
   ]
  },
  {
   "cell_type": "code",
   "execution_count": 54,
   "metadata": {
    "collapsed": true
   },
   "outputs": [
    {
     "data": {
      "text/plain": [
       "78.5"
      ]
     },
     "execution_count": 54,
     "metadata": {},
     "output_type": "execute_result"
    }
   ],
   "source": [
    "cir1.circle_area()"
   ]
  },
  {
   "cell_type": "code",
   "execution_count": 55,
   "metadata": {
    "collapsed": true
   },
   "outputs": [
    {
     "data": {
      "text/plain": [
       "31.400000000000002"
      ]
     },
     "execution_count": 55,
     "metadata": {},
     "output_type": "execute_result"
    }
   ],
   "source": [
    "cir1.circle_perimeter()"
   ]
  },
  {
   "cell_type": "code",
   "execution_count": 56,
   "metadata": {},
   "outputs": [],
   "source": [
    "cir2 = circle(7)"
   ]
  },
  {
   "cell_type": "code",
   "execution_count": 57,
   "metadata": {
    "collapsed": true
   },
   "outputs": [
    {
     "data": {
      "text/plain": [
       "153.86"
      ]
     },
     "execution_count": 57,
     "metadata": {},
     "output_type": "execute_result"
    }
   ],
   "source": [
    "cir2.circle_area()"
   ]
  },
  {
   "cell_type": "code",
   "execution_count": 58,
   "metadata": {
    "collapsed": true
   },
   "outputs": [
    {
     "data": {
      "text/plain": [
       "43.96"
      ]
     },
     "execution_count": 58,
     "metadata": {},
     "output_type": "execute_result"
    }
   ],
   "source": [
    "cir2.circle_perimeter()"
   ]
  },
  {
   "cell_type": "code",
   "execution_count": 59,
   "metadata": {},
   "outputs": [
    {
     "data": {
      "text/plain": [
       "3.14"
      ]
     },
     "execution_count": 59,
     "metadata": {},
     "output_type": "execute_result"
    }
   ],
   "source": [
    "cir.pi"
   ]
  },
  {
   "cell_type": "code",
   "execution_count": 60,
   "metadata": {},
   "outputs": [
    {
     "data": {
      "text/plain": [
       "3.14"
      ]
     },
     "execution_count": 60,
     "metadata": {},
     "output_type": "execute_result"
    }
   ],
   "source": [
    "cir1.pi"
   ]
  },
  {
   "cell_type": "code",
   "execution_count": 61,
   "metadata": {},
   "outputs": [
    {
     "data": {
      "text/plain": [
       "3.14"
      ]
     },
     "execution_count": 61,
     "metadata": {},
     "output_type": "execute_result"
    }
   ],
   "source": [
    "cir2.pi"
   ]
  },
  {
   "cell_type": "code",
   "execution_count": 62,
   "metadata": {},
   "outputs": [
    {
     "data": {
      "text/plain": [
       "3"
      ]
     },
     "execution_count": 62,
     "metadata": {},
     "output_type": "execute_result"
    }
   ],
   "source": [
    "cir.radius"
   ]
  },
  {
   "cell_type": "code",
   "execution_count": 63,
   "metadata": {},
   "outputs": [
    {
     "data": {
      "text/plain": [
       "5"
      ]
     },
     "execution_count": 63,
     "metadata": {},
     "output_type": "execute_result"
    }
   ],
   "source": [
    "cir1.radius"
   ]
  },
  {
   "cell_type": "code",
   "execution_count": 64,
   "metadata": {},
   "outputs": [
    {
     "data": {
      "text/plain": [
       "7"
      ]
     },
     "execution_count": 64,
     "metadata": {},
     "output_type": "execute_result"
    }
   ],
   "source": [
    "cir2.radius"
   ]
  },
  {
   "cell_type": "code",
   "execution_count": null,
   "metadata": {},
   "outputs": [],
   "source": []
  },
  {
   "cell_type": "code",
   "execution_count": 65,
   "metadata": {},
   "outputs": [],
   "source": [
    "# 상속"
   ]
  },
  {
   "cell_type": "code",
   "execution_count": 66,
   "metadata": {},
   "outputs": [],
   "source": [
    "class Parent:\n",
    "    def can_sing(self):\n",
    "        print('sing a song')"
   ]
  },
  {
   "cell_type": "code",
   "execution_count": 67,
   "metadata": {},
   "outputs": [
    {
     "name": "stdout",
     "output_type": "stream",
     "text": [
      "sing a song\n"
     ]
    }
   ],
   "source": [
    "a  =  Parent()\n",
    "a.can_sing()"
   ]
  },
  {
   "cell_type": "code",
   "execution_count": 68,
   "metadata": {},
   "outputs": [
    {
     "name": "stdout",
     "output_type": "stream",
     "text": [
      "sing a song\n"
     ]
    }
   ],
   "source": [
    "b = Parent()\n",
    "b.can_sing()"
   ]
  },
  {
   "cell_type": "code",
   "execution_count": 70,
   "metadata": {},
   "outputs": [],
   "source": [
    "class Child(Parent):  # parent class를 상송\n",
    "    pass"
   ]
  },
  {
   "cell_type": "code",
   "execution_count": 71,
   "metadata": {},
   "outputs": [],
   "source": [
    "ch1 = Child()"
   ]
  },
  {
   "cell_type": "code",
   "execution_count": 72,
   "metadata": {},
   "outputs": [
    {
     "name": "stdout",
     "output_type": "stream",
     "text": [
      "sing a song\n"
     ]
    }
   ],
   "source": [
    "ch1.can_sing()"
   ]
  },
  {
   "cell_type": "code",
   "execution_count": 73,
   "metadata": {},
   "outputs": [],
   "source": [
    "class Child1(Parent): # parent class 상속\n",
    "    def can_dance(self):  # 자신의 메소드\n",
    "        print('can dance')"
   ]
  },
  {
   "cell_type": "code",
   "execution_count": 74,
   "metadata": {},
   "outputs": [],
   "source": [
    "chi2 = Child1()"
   ]
  },
  {
   "cell_type": "code",
   "execution_count": 75,
   "metadata": {},
   "outputs": [
    {
     "name": "stdout",
     "output_type": "stream",
     "text": [
      "sing a song\n"
     ]
    }
   ],
   "source": [
    "chi2.can_sing()"
   ]
  },
  {
   "cell_type": "code",
   "execution_count": 76,
   "metadata": {},
   "outputs": [
    {
     "name": "stdout",
     "output_type": "stream",
     "text": [
      "can dance\n"
     ]
    }
   ],
   "source": [
    "chi2.can_dance()"
   ]
  },
  {
   "cell_type": "code",
   "execution_count": null,
   "metadata": {},
   "outputs": [],
   "source": []
  },
  {
   "cell_type": "code",
   "execution_count": 77,
   "metadata": {},
   "outputs": [],
   "source": [
    "# class\n",
    "# 임의의 정수 2개를 인스턴스 변수(x,y)로 가지고,\n",
    "# 4칙연산 메서드 4개를 가진 클래스를 만드시오..(+. -, *, /)"
   ]
  },
  {
   "cell_type": "code",
   "execution_count": 79,
   "metadata": {},
   "outputs": [],
   "source": [
    "class FourCal:\n",
    "    \n",
    "    def __init__(self, x, y):\n",
    "        self.x = x\n",
    "        self.y = y\n",
    "        \n",
    "    def addf(self):\n",
    "        result = self.x + self.y\n",
    "        return result\n",
    "    \n",
    "    def divf(self):\n",
    "        result = self.x/self.y\n",
    "        return result\n",
    "    \n",
    "    def mulf(self):\n",
    "        result = self.x * self.y\n",
    "        return result\n",
    "    \n",
    "    def subf(self):\n",
    "        result = self.x - self.y\n",
    "        return result"
   ]
  },
  {
   "cell_type": "code",
   "execution_count": 81,
   "metadata": {},
   "outputs": [],
   "source": [
    "cal = FourCal(2,4)"
   ]
  },
  {
   "cell_type": "code",
   "execution_count": 82,
   "metadata": {
    "collapsed": true
   },
   "outputs": [
    {
     "data": {
      "text/plain": [
       "6"
      ]
     },
     "execution_count": 82,
     "metadata": {},
     "output_type": "execute_result"
    }
   ],
   "source": [
    "cal.addf()"
   ]
  },
  {
   "cell_type": "code",
   "execution_count": 83,
   "metadata": {
    "collapsed": true
   },
   "outputs": [
    {
     "data": {
      "text/plain": [
       "0.5"
      ]
     },
     "execution_count": 83,
     "metadata": {},
     "output_type": "execute_result"
    }
   ],
   "source": [
    "cal.divf()"
   ]
  },
  {
   "cell_type": "code",
   "execution_count": 84,
   "metadata": {
    "collapsed": true
   },
   "outputs": [
    {
     "data": {
      "text/plain": [
       "8"
      ]
     },
     "execution_count": 84,
     "metadata": {},
     "output_type": "execute_result"
    }
   ],
   "source": [
    "cal.mulf()"
   ]
  },
  {
   "cell_type": "code",
   "execution_count": 85,
   "metadata": {
    "collapsed": true
   },
   "outputs": [
    {
     "data": {
      "text/plain": [
       "-2"
      ]
     },
     "execution_count": 85,
     "metadata": {},
     "output_type": "execute_result"
    }
   ],
   "source": [
    "cal.subf()"
   ]
  },
  {
   "cell_type": "code",
   "execution_count": null,
   "metadata": {},
   "outputs": [],
   "source": []
  },
  {
   "cell_type": "code",
   "execution_count": 92,
   "metadata": {},
   "outputs": [],
   "source": [
    "class FourCal1(FourCal):\n",
    "    def pow(self):\n",
    "        result = self.x ** self.y\n",
    "        return result"
   ]
  },
  {
   "cell_type": "code",
   "execution_count": 93,
   "metadata": {},
   "outputs": [],
   "source": [
    "cal1 = FourCal1(3,3)"
   ]
  },
  {
   "cell_type": "code",
   "execution_count": 94,
   "metadata": {},
   "outputs": [
    {
     "data": {
      "text/plain": [
       "6"
      ]
     },
     "execution_count": 94,
     "metadata": {},
     "output_type": "execute_result"
    }
   ],
   "source": [
    "cal1.addf()"
   ]
  },
  {
   "cell_type": "code",
   "execution_count": 95,
   "metadata": {},
   "outputs": [
    {
     "data": {
      "text/plain": [
       "1.0"
      ]
     },
     "execution_count": 95,
     "metadata": {},
     "output_type": "execute_result"
    }
   ],
   "source": [
    "cal1.divf()"
   ]
  },
  {
   "cell_type": "code",
   "execution_count": 96,
   "metadata": {},
   "outputs": [
    {
     "data": {
      "text/plain": [
       "27"
      ]
     },
     "execution_count": 96,
     "metadata": {},
     "output_type": "execute_result"
    }
   ],
   "source": [
    "cal1.pow()"
   ]
  },
  {
   "cell_type": "code",
   "execution_count": 99,
   "metadata": {},
   "outputs": [],
   "source": [
    "cal2 = FourCal1(2,0)"
   ]
  },
  {
   "cell_type": "code",
   "execution_count": 100,
   "metadata": {},
   "outputs": [
    {
     "ename": "ZeroDivisionError",
     "evalue": "division by zero",
     "output_type": "error",
     "traceback": [
      "\u001b[1;31m---------------------------------------------------------------------------\u001b[0m",
      "\u001b[1;31mZeroDivisionError\u001b[0m                         Traceback (most recent call last)",
      "\u001b[1;32m<ipython-input-100-1cfd8fb31efd>\u001b[0m in \u001b[0;36m<module>\u001b[1;34m\u001b[0m\n\u001b[1;32m----> 1\u001b[1;33m \u001b[0mcal2\u001b[0m\u001b[1;33m.\u001b[0m\u001b[0mdivf\u001b[0m\u001b[1;33m(\u001b[0m\u001b[1;33m)\u001b[0m\u001b[1;33m\u001b[0m\u001b[1;33m\u001b[0m\u001b[0m\n\u001b[0m",
      "\u001b[1;32m<ipython-input-79-66f82e4f1c3d>\u001b[0m in \u001b[0;36mdivf\u001b[1;34m(self)\u001b[0m\n\u001b[0;32m      8\u001b[0m         \u001b[1;32mreturn\u001b[0m \u001b[0mresult\u001b[0m\u001b[1;33m\u001b[0m\u001b[1;33m\u001b[0m\u001b[0m\n\u001b[0;32m      9\u001b[0m     \u001b[1;32mdef\u001b[0m \u001b[0mdivf\u001b[0m\u001b[1;33m(\u001b[0m\u001b[0mself\u001b[0m\u001b[1;33m)\u001b[0m\u001b[1;33m:\u001b[0m\u001b[1;33m\u001b[0m\u001b[1;33m\u001b[0m\u001b[0m\n\u001b[1;32m---> 10\u001b[1;33m         \u001b[0mresult\u001b[0m \u001b[1;33m=\u001b[0m \u001b[0mself\u001b[0m\u001b[1;33m.\u001b[0m\u001b[0mx\u001b[0m\u001b[1;33m/\u001b[0m\u001b[0mself\u001b[0m\u001b[1;33m.\u001b[0m\u001b[0my\u001b[0m\u001b[1;33m\u001b[0m\u001b[1;33m\u001b[0m\u001b[0m\n\u001b[0m\u001b[0;32m     11\u001b[0m         \u001b[1;32mreturn\u001b[0m \u001b[0mresult\u001b[0m\u001b[1;33m\u001b[0m\u001b[1;33m\u001b[0m\u001b[0m\n\u001b[0;32m     12\u001b[0m     \u001b[1;32mdef\u001b[0m \u001b[0mmulf\u001b[0m\u001b[1;33m(\u001b[0m\u001b[0mself\u001b[0m\u001b[1;33m)\u001b[0m\u001b[1;33m:\u001b[0m\u001b[1;33m\u001b[0m\u001b[1;33m\u001b[0m\u001b[0m\n",
      "\u001b[1;31mZeroDivisionError\u001b[0m: division by zero"
     ]
    }
   ],
   "source": [
    "cal2.divf()"
   ]
  },
  {
   "cell_type": "code",
   "execution_count": 102,
   "metadata": {},
   "outputs": [],
   "source": [
    "class SafeFourCal(FourCal):  # 상속을 받으면서 기존 메소드를 수정 => override\n",
    "    def divf(self):\n",
    "        if self.y == 0:\n",
    "            return 0\n",
    "        else:\n",
    "            return self.x/ self.y"
   ]
  },
  {
   "cell_type": "code",
   "execution_count": 103,
   "metadata": {},
   "outputs": [],
   "source": [
    "cal3 = SafeFourCal(2,0)"
   ]
  },
  {
   "cell_type": "code",
   "execution_count": 104,
   "metadata": {},
   "outputs": [
    {
     "data": {
      "text/plain": [
       "0"
      ]
     },
     "execution_count": 104,
     "metadata": {},
     "output_type": "execute_result"
    }
   ],
   "source": [
    "cal3.divf()"
   ]
  },
  {
   "cell_type": "code",
   "execution_count": null,
   "metadata": {},
   "outputs": [],
   "source": []
  },
  {
   "cell_type": "code",
   "execution_count": 105,
   "metadata": {},
   "outputs": [],
   "source": [
    "class Sam:\n",
    "    \n",
    "    data = 'python'   # 클래스 변수\n",
    "    \n",
    "    def __init__(self):\n",
    "        self.data1 = 'korea'   # 인스턴스 변수\n",
    "    \n",
    "    def instance_method(self):      # 매개변수 self를 가지는 메소드 : 인스턴스메소드\n",
    "        print('instance method:', self.data1)\n",
    "        \n",
    "    @classmethod\n",
    "    def class_method(cls):    # 매개변수 cls를 가지고, @classmethod : 클래스 메소드\n",
    "        print('class method:', cls.data)\n",
    "        \n",
    "    @staticmethod\n",
    "    def static_method():   # 매개변수 self, cls를 가지지 않고, @staticmethod : 스테틱메소드\n",
    "        print('static method:',Sam.data)"
   ]
  },
  {
   "cell_type": "code",
   "execution_count": 107,
   "metadata": {},
   "outputs": [],
   "source": [
    "s = Sam()"
   ]
  },
  {
   "cell_type": "code",
   "execution_count": 108,
   "metadata": {},
   "outputs": [
    {
     "name": "stdout",
     "output_type": "stream",
     "text": [
      "instance method: korea\n"
     ]
    }
   ],
   "source": [
    "s.instance_method()"
   ]
  },
  {
   "cell_type": "code",
   "execution_count": 114,
   "metadata": {},
   "outputs": [
    {
     "name": "stdout",
     "output_type": "stream",
     "text": [
      "class method: python\n",
      "class method: python\n"
     ]
    }
   ],
   "source": [
    "s.class_method()  # 클래스메소드 : 인턴스로 접근이 가능\n",
    "Sam.class_method() # 클래스 메소드 : 클래스 명으로도 접근이 가능.."
   ]
  },
  {
   "cell_type": "code",
   "execution_count": 111,
   "metadata": {
    "collapsed": true
   },
   "outputs": [
    {
     "ename": "AttributeError",
     "evalue": "type object 'Sam' has no attribute 'instnace_method'",
     "output_type": "error",
     "traceback": [
      "\u001b[1;31m---------------------------------------------------------------------------\u001b[0m",
      "\u001b[1;31mAttributeError\u001b[0m                            Traceback (most recent call last)",
      "\u001b[1;32m<ipython-input-111-f48ca2413423>\u001b[0m in \u001b[0;36m<module>\u001b[1;34m\u001b[0m\n\u001b[1;32m----> 1\u001b[1;33m \u001b[0mSam\u001b[0m\u001b[1;33m.\u001b[0m\u001b[0minstnace_method\u001b[0m\u001b[1;33m(\u001b[0m\u001b[1;33m)\u001b[0m\u001b[1;33m\u001b[0m\u001b[1;33m\u001b[0m\u001b[0m\n\u001b[0m",
      "\u001b[1;31mAttributeError\u001b[0m: type object 'Sam' has no attribute 'instnace_method'"
     ]
    }
   ],
   "source": [
    "Sam.instnace_method() # 인스턴스메소드 : 인스턴스로만 접근이 가능"
   ]
  },
  {
   "cell_type": "code",
   "execution_count": 112,
   "metadata": {},
   "outputs": [
    {
     "name": "stdout",
     "output_type": "stream",
     "text": [
      "static method: python\n"
     ]
    }
   ],
   "source": [
    "s.static_method()  # 스테틱메소드 : 인스턴스로도 접근이 가능\n",
    "Sam.static_method()  # 스테틱메소드 : 클래스로도 접근이 가능"
   ]
  },
  {
   "cell_type": "code",
   "execution_count": 115,
   "metadata": {},
   "outputs": [],
   "source": [
    "# 객체를 만들어서 접근이 가능한 메소드 => 인스턴스 메소드, self를 매개변수로 가짐\n",
    "# 객체를 만들지 않고 접근이 가능한 메소드 => 클래스 메소드, cls를 매개변수를 가짐\n",
    "# 객체를 만들지 않고 접근이 가능한 메소드 => 스테틱 메소드, cls, self를 받지 않음\n",
    "\n",
    "# 클래스메소드 : 클래스 변수를 사용. 인스턴스 변수 사용 못 함\n",
    "# 스테틱메소드 : cls없이 클래스 변수를 사용. 인스턴스 변수 사용 못 함"
   ]
  },
  {
   "cell_type": "code",
   "execution_count": null,
   "metadata": {},
   "outputs": [],
   "source": []
  },
  {
   "cell_type": "code",
   "execution_count": null,
   "metadata": {},
   "outputs": [],
   "source": []
  },
  {
   "cell_type": "code",
   "execution_count": null,
   "metadata": {},
   "outputs": [],
   "source": []
  }
 ],
 "metadata": {
  "kernelspec": {
   "display_name": "Python 3",
   "language": "python",
   "name": "python3"
  },
  "language_info": {
   "codemirror_mode": {
    "name": "ipython",
    "version": 3
   },
   "file_extension": ".py",
   "mimetype": "text/x-python",
   "name": "python",
   "nbconvert_exporter": "python",
   "pygments_lexer": "ipython3",
   "version": "3.8.5"
  },
  "toc": {
   "base_numbering": 1,
   "nav_menu": {},
   "number_sections": true,
   "sideBar": true,
   "skip_h1_title": false,
   "title_cell": "Table of Contents",
   "title_sidebar": "Contents",
   "toc_cell": false,
   "toc_position": {},
   "toc_section_display": true,
   "toc_window_display": false
  },
  "varInspector": {
   "cols": {
    "lenName": 16,
    "lenType": 16,
    "lenVar": 40
   },
   "kernels_config": {
    "python": {
     "delete_cmd_postfix": "",
     "delete_cmd_prefix": "del ",
     "library": "var_list.py",
     "varRefreshCmd": "print(var_dic_list())"
    },
    "r": {
     "delete_cmd_postfix": ") ",
     "delete_cmd_prefix": "rm(",
     "library": "var_list.r",
     "varRefreshCmd": "cat(var_dic_list()) "
    }
   },
   "types_to_exclude": [
    "module",
    "function",
    "builtin_function_or_method",
    "instance",
    "_Feature"
   ],
   "window_display": false
  }
 },
 "nbformat": 4,
 "nbformat_minor": 4
}

