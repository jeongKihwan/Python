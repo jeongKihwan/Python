{
 "cells": [
  {
   "cell_type": "markdown",
   "metadata": {},
   "source": [
    "### Exception"
   ]
  },
  {
   "cell_type": "code",
   "execution_count": 1,
   "metadata": {},
   "outputs": [
    {
     "name": "stdout",
     "output_type": "stream",
     "text": [
      "안녕하세요\n"
     ]
    },
    {
     "ename": "NameError",
     "evalue": "name 'param' is not defined",
     "output_type": "error",
     "traceback": [
      "\u001b[1;31m---------------------------------------------------------------------------\u001b[0m",
      "\u001b[1;31mNameError\u001b[0m                                 Traceback (most recent call last)",
      "\u001b[1;32m<ipython-input-1-39051f2f5833>\u001b[0m in \u001b[0;36m<module>\u001b[1;34m\u001b[0m\n\u001b[0;32m      1\u001b[0m \u001b[0mprint\u001b[0m\u001b[1;33m(\u001b[0m\u001b[1;34m'안녕하세요'\u001b[0m\u001b[1;33m)\u001b[0m\u001b[1;33m\u001b[0m\u001b[1;33m\u001b[0m\u001b[0m\n\u001b[1;32m----> 2\u001b[1;33m \u001b[0mprint\u001b[0m\u001b[1;33m(\u001b[0m\u001b[0mparam\u001b[0m\u001b[1;33m)\u001b[0m\u001b[1;33m\u001b[0m\u001b[1;33m\u001b[0m\u001b[0m\n\u001b[0m\u001b[0;32m      3\u001b[0m \u001b[0mprint\u001b[0m\u001b[1;33m(\u001b[0m\u001b[1;34m'hello python'\u001b[0m\u001b[1;33m)\u001b[0m\u001b[1;33m\u001b[0m\u001b[1;33m\u001b[0m\u001b[0m\n",
      "\u001b[1;31mNameError\u001b[0m: name 'param' is not defined"
     ]
    }
   ],
   "source": [
    "print('안녕하세요')\n",
    "print(param)\n",
    "print('hello python')"
   ]
  },
  {
   "cell_type": "code",
   "execution_count": 2,
   "metadata": {},
   "outputs": [
    {
     "name": "stdout",
     "output_type": "stream",
     "text": [
      "안녕하세요\n",
      "예외가 발생했습니다\n"
     ]
    }
   ],
   "source": [
    "try:\n",
    "    print('안녕하세요')\n",
    "    print(param)\n",
    "except:\n",
    "    print('예외가 발생했습니다')"
   ]
  },
  {
   "cell_type": "code",
   "execution_count": 3,
   "metadata": {},
   "outputs": [
    {
     "name": "stdout",
     "output_type": "stream",
     "text": [
      "안녕하세요\n",
      "예외가 발생했습니다\n",
      "Hello World\n"
     ]
    }
   ],
   "source": [
    "try:\n",
    "    print('안녕하세요')\n",
    "    print(param)\n",
    "except:\n",
    "    print('예외가 발생했습니다')   #  except :예외 시 실행하는 부분\n",
    "    \n",
    "print('Hello World')"
   ]
  },
  {
   "cell_type": "code",
   "execution_count": 4,
   "metadata": {},
   "outputs": [
    {
     "name": "stdout",
     "output_type": "stream",
     "text": [
      "안녕하세요\n",
      "예외가 발생했습니다\n",
      "Hello World\n"
     ]
    }
   ],
   "source": [
    "try:\n",
    "    print('안녕하세요')\n",
    "    print(param)\n",
    "except:\n",
    "    print('예외가 발생했습니다')\n",
    "else:\n",
    "    print('예외가 발생하지 않았습니다..')   # else : 예외가 발생하지 않는 경우 실행\n",
    "    \n",
    "print('Hello World')"
   ]
  },
  {
   "cell_type": "code",
   "execution_count": 5,
   "metadata": {},
   "outputs": [
    {
     "name": "stdout",
     "output_type": "stream",
     "text": [
      "안녕하세요\n",
      "예외가 발생했습니다\n",
      "예외가 발생하지 않았습니다..\n",
      "Hello World\n"
     ]
    }
   ],
   "source": [
    "try:\n",
    "    print('안녕하세요')\n",
    "    print(param)\n",
    "except:\n",
    "    print('예외가 발생했습니다')\n",
    "finally:\n",
    "    print('예외가 발생하지 않았습니다..')   # finally :예외의 여부에 상관없이 무조건 실행\n",
    "    \n",
    "print('Hello World')"
   ]
  },
  {
   "cell_type": "code",
   "execution_count": 6,
   "metadata": {},
   "outputs": [
    {
     "name": "stdout",
     "output_type": "stream",
     "text": [
      "name 'param' is not defined\n"
     ]
    }
   ],
   "source": [
    "try:\n",
    "    print(param)\n",
    "except Exception as e:\n",
    "    print(e)"
   ]
  },
  {
   "cell_type": "code",
   "execution_count": 8,
   "metadata": {},
   "outputs": [
    {
     "name": "stdout",
     "output_type": "stream",
     "text": [
      "name 'a' is not defined\n",
      "hello python\n"
     ]
    }
   ],
   "source": [
    "try:\n",
    "    c = a/b\n",
    "except Exception as e:     # error message를 기록할 수 있음.\n",
    "    print(e)\n",
    "finally:\n",
    "    print('hello python')"
   ]
  },
  {
   "cell_type": "code",
   "execution_count": 9,
   "metadata": {},
   "outputs": [
    {
     "name": "stdout",
     "output_type": "stream",
     "text": [
      "division by zero\n"
     ]
    }
   ],
   "source": [
    "a = 1\n",
    "b = 0\n",
    "\n",
    "try:\n",
    "    c = a/b\n",
    "except Exception as e:\n",
    "    print(e)"
   ]
  },
  {
   "cell_type": "code",
   "execution_count": 10,
   "metadata": {
    "collapsed": true
   },
   "outputs": [
    {
     "name": "stdout",
     "output_type": "stream",
     "text": [
      "hello\n"
     ]
    },
    {
     "ename": "ZeroDivisionError",
     "evalue": "division by zero",
     "output_type": "error",
     "traceback": [
      "\u001b[1;31m---------------------------------------------------------------------------\u001b[0m",
      "\u001b[1;31mZeroDivisionError\u001b[0m                         Traceback (most recent call last)",
      "\u001b[1;32m<ipython-input-10-9653f8f658ae>\u001b[0m in \u001b[0;36m<module>\u001b[1;34m\u001b[0m\n\u001b[0;32m      4\u001b[0m \u001b[0mprint\u001b[0m\u001b[1;33m(\u001b[0m\u001b[1;34m'hello'\u001b[0m\u001b[1;33m)\u001b[0m\u001b[1;33m\u001b[0m\u001b[1;33m\u001b[0m\u001b[0m\n\u001b[0;32m      5\u001b[0m \u001b[1;33m\u001b[0m\u001b[0m\n\u001b[1;32m----> 6\u001b[1;33m \u001b[0mc\u001b[0m \u001b[1;33m=\u001b[0m \u001b[0ma\u001b[0m\u001b[1;33m/\u001b[0m\u001b[0mb\u001b[0m\u001b[1;33m\u001b[0m\u001b[1;33m\u001b[0m\u001b[0m\n\u001b[0m\u001b[0;32m      7\u001b[0m \u001b[1;33m\u001b[0m\u001b[0m\n\u001b[0;32m      8\u001b[0m \u001b[0mprint\u001b[0m\u001b[1;33m(\u001b[0m\u001b[1;34m'hello python'\u001b[0m\u001b[1;33m)\u001b[0m\u001b[1;33m\u001b[0m\u001b[1;33m\u001b[0m\u001b[0m\n",
      "\u001b[1;31mZeroDivisionError\u001b[0m: division by zero"
     ]
    }
   ],
   "source": [
    "a = 5\n",
    "b = 0\n",
    "L = ('hello')\n",
    "print('hello')\n",
    "\n",
    "c = a/b\n",
    "  \n",
    "print('hello python')"
   ]
  },
  {
   "cell_type": "code",
   "execution_count": 11,
   "metadata": {},
   "outputs": [
    {
     "name": "stdout",
     "output_type": "stream",
     "text": [
      "hello\n",
      "division by zero\n",
      "hello python\n"
     ]
    }
   ],
   "source": [
    "a = 5\n",
    "b = 0\n",
    "L = ('hello')\n",
    "print('hello')\n",
    "\n",
    "try:\n",
    "    c = a/b\n",
    "except Exception as e:\n",
    "    print(e)\n",
    "    \n",
    "print('hello python')"
   ]
  },
  {
   "cell_type": "code",
   "execution_count": 13,
   "metadata": {},
   "outputs": [
    {
     "name": "stdout",
     "output_type": "stream",
     "text": [
      "hello\n",
      "error message : list index out of range\n",
      "hello python\n"
     ]
    }
   ],
   "source": [
    "a = 5\n",
    "b = 0\n",
    "L = [1,2,3]\n",
    "print('hello')\n",
    "\n",
    "try:\n",
    "    print(L[3])\n",
    "except Exception as e:\n",
    "    print('error message :', e)\n",
    "    \n",
    "print('hello python')"
   ]
  },
  {
   "cell_type": "code",
   "execution_count": 16,
   "metadata": {},
   "outputs": [
    {
     "name": "stdout",
     "output_type": "stream",
     "text": [
      "1\n",
      "2\n",
      "3\n",
      "오류가 발생했습니다..\n",
      "hello python\n"
     ]
    }
   ],
   "source": [
    "import time\n",
    "count = 1\n",
    "\n",
    "try:\n",
    "    while True:\n",
    "        print(count)\n",
    "        count += 1\n",
    "        time.sleep(2)\n",
    "        \n",
    "except:\n",
    "    print('오류가 발생했습니다..')\n",
    "    \n",
    "print('hello python')"
   ]
  },
  {
   "cell_type": "code",
   "execution_count": 18,
   "metadata": {},
   "outputs": [
    {
     "name": "stdout",
     "output_type": "stream",
     "text": [
      "1\n",
      "2\n",
      "3\n",
      "사용자에 의해 중단되었습니다\n",
      "hello python\n"
     ]
    }
   ],
   "source": [
    "import time\n",
    "count = 1\n",
    "\n",
    "try:\n",
    "    while True:\n",
    "        print(count)\n",
    "        count += 1\n",
    "        time.sleep(2)\n",
    "        \n",
    "except KeyboardInterrupt:     # 지정한 error가 발생한 경우에만 error처리\n",
    "    print('사용자에 의해 중단되었습니다')\n",
    "    \n",
    "print('hello python')"
   ]
  },
  {
   "cell_type": "code",
   "execution_count": 20,
   "metadata": {},
   "outputs": [
    {
     "name": "stdout",
     "output_type": "stream",
     "text": [
      "cannot divide by zero!!\n",
      "hello python\n"
     ]
    }
   ],
   "source": [
    "# 각각의 발생가능한 error에 대해 다른 예외처리도 가능..\n",
    "\n",
    "a = 5\n",
    "b = 0\n",
    "L = [1,2,3]\n",
    "\n",
    "try:\n",
    "    c = a/b\n",
    "    print(x)\n",
    "    print(L[3])\n",
    "except ZeroDivisionError:\n",
    "    print('cannot divide by zero!!')\n",
    "except NameError:\n",
    "    print('no variable named X')\n",
    "except IndexError:\n",
    "    print('out of indexing in list')\n",
    "else:\n",
    "    print('no error')\n",
    "    \n",
    "print('hello python')"
   ]
  },
  {
   "cell_type": "code",
   "execution_count": 21,
   "metadata": {},
   "outputs": [
    {
     "name": "stdout",
     "output_type": "stream",
     "text": [
      "no variable named X\n",
      "hello python\n"
     ]
    }
   ],
   "source": [
    "# 각각의 발생가능한 error에 대해 다른 예외처리도 가능..\n",
    "\n",
    "a = 5\n",
    "b = 1\n",
    "L = [1,2,3]\n",
    "\n",
    "try:\n",
    "    c = a/b\n",
    "    print(x)\n",
    "    print(L[3])\n",
    "except ZeroDivisionError:\n",
    "    print('cannot divide by zero!!')\n",
    "except NameError:\n",
    "    print('no variable named X')\n",
    "except IndexError:\n",
    "    print('out of indexing in list')\n",
    "else:\n",
    "    print('no error')\n",
    "    \n",
    "print('hello python')"
   ]
  },
  {
   "cell_type": "code",
   "execution_count": 22,
   "metadata": {},
   "outputs": [
    {
     "name": "stdout",
     "output_type": "stream",
     "text": [
      "100\n",
      "out of indexing in list\n",
      "hello python\n"
     ]
    }
   ],
   "source": [
    "# 각각의 발생가능한 error에 대해 다른 예외처리도 가능..\n",
    "\n",
    "a = 5\n",
    "b = 1\n",
    "L = [1,2,3]\n",
    "x = 100\n",
    "\n",
    "try:\n",
    "    c = a/b\n",
    "    print(x)\n",
    "    print(L[3])\n",
    "except ZeroDivisionError:      # 각각의 개별적인 예외에 대해서만 예외처리..\n",
    "    print('cannot divide by zero!!')\n",
    "except NameError:\n",
    "    print('no variable named X')\n",
    "except IndexError:\n",
    "    print('out of indexing in list')\n",
    "else:\n",
    "    print('no error')\n",
    "    \n",
    "print('hello python')"
   ]
  },
  {
   "cell_type": "code",
   "execution_count": 23,
   "metadata": {},
   "outputs": [
    {
     "name": "stdout",
     "output_type": "stream",
     "text": [
      "100\n",
      "out of indexing in list\n",
      "finally part\n",
      "hello python\n"
     ]
    }
   ],
   "source": [
    "# 각각의 발생가능한 error에 대해 다른 예외처리도 가능..\n",
    "\n",
    "a = 5\n",
    "b = 1\n",
    "L = [1,2,3]\n",
    "x = 100\n",
    "\n",
    "try:\n",
    "    c = a/b\n",
    "    print(x)\n",
    "    print(L[3])\n",
    "except ZeroDivisionError:      # 각각의 개별적인 예외에 대해서만 예외처리..\n",
    "    print('cannot divide by zero!!')\n",
    "except NameError:\n",
    "    print('no variable named X')\n",
    "except IndexError:\n",
    "    print('out of indexing in list')\n",
    "else:\n",
    "    print('no error')\n",
    "    \n",
    "finally:\n",
    "    print('finally part')\n",
    "    \n",
    "print('hello python')"
   ]
  },
  {
   "cell_type": "code",
   "execution_count": 24,
   "metadata": {},
   "outputs": [
    {
     "name": "stdout",
     "output_type": "stream",
     "text": [
      "100\n",
      "3\n",
      "no error\n",
      "finally part\n",
      "hello python\n"
     ]
    }
   ],
   "source": [
    "# 각각의 발생가능한 error에 대해 다른 예외처리도 가능..\n",
    "\n",
    "a = 5\n",
    "b = 1\n",
    "L = [1,2,3]\n",
    "x = 100\n",
    "\n",
    "try:\n",
    "    c = a/b\n",
    "    print(x)\n",
    "    print(L[2])\n",
    "except ZeroDivisionError:      # 각각의 개별적인 예외에 대해서만 예외처리..\n",
    "    print('cannot divide by zero!!')\n",
    "except NameError:\n",
    "    print('no variable named X')\n",
    "except IndexError:\n",
    "    print('out of indexing in list')\n",
    "else:\n",
    "    print('no error')\n",
    "    \n",
    "finally:\n",
    "    print('finally part')\n",
    "    \n",
    "print('hello python')"
   ]
  },
  {
   "cell_type": "code",
   "execution_count": 32,
   "metadata": {},
   "outputs": [
    {
     "name": "stdout",
     "output_type": "stream",
     "text": [
      "임의의 정수를 입력하세요..0\n",
      "0이 아닌 정수를 입력하세요..\n",
      "hello world\n"
     ]
    }
   ],
   "source": [
    "num = input('임의의 정수를 입력하세요..')\n",
    "\n",
    "try:\n",
    "    result = 10/int(num)\n",
    "except:\n",
    "    print('0이 아닌 정수를 입력하세요..')\n",
    "else:\n",
    "    print(result)\n",
    "\n",
    "print('hello world')"
   ]
  },
  {
   "cell_type": "code",
   "execution_count": 34,
   "metadata": {},
   "outputs": [
    {
     "name": "stdout",
     "output_type": "stream",
     "text": [
      "임의의 정수를 입력하세요..0\n",
      "0이 아닌 정수를 입력하세요..\n",
      "hello world\n"
     ]
    }
   ],
   "source": [
    "num = input('임의의 정수를 입력하세요..')\n",
    "\n",
    "try:\n",
    "    result = 10/int(num)\n",
    "except ZeroDivisionError:\n",
    "    print('0이 아닌 정수를 입력하세요..')\n",
    "else:\n",
    "    print(result)\n",
    "\n",
    "print('hello world')"
   ]
  },
  {
   "cell_type": "code",
   "execution_count": 35,
   "metadata": {},
   "outputs": [
    {
     "name": "stdout",
     "output_type": "stream",
     "text": [
      "임의의 정수를 입력하세요..number\n"
     ]
    },
    {
     "ename": "ValueError",
     "evalue": "invalid literal for int() with base 10: 'number'",
     "output_type": "error",
     "traceback": [
      "\u001b[1;31m---------------------------------------------------------------------------\u001b[0m",
      "\u001b[1;31mValueError\u001b[0m                                Traceback (most recent call last)",
      "\u001b[1;32m<ipython-input-35-8efe28bfcc95>\u001b[0m in \u001b[0;36m<module>\u001b[1;34m\u001b[0m\n\u001b[0;32m      2\u001b[0m \u001b[1;33m\u001b[0m\u001b[0m\n\u001b[0;32m      3\u001b[0m \u001b[1;32mtry\u001b[0m\u001b[1;33m:\u001b[0m\u001b[1;33m\u001b[0m\u001b[1;33m\u001b[0m\u001b[0m\n\u001b[1;32m----> 4\u001b[1;33m     \u001b[0mresult\u001b[0m \u001b[1;33m=\u001b[0m \u001b[1;36m10\u001b[0m\u001b[1;33m/\u001b[0m\u001b[0mint\u001b[0m\u001b[1;33m(\u001b[0m\u001b[0mnum\u001b[0m\u001b[1;33m)\u001b[0m\u001b[1;33m\u001b[0m\u001b[1;33m\u001b[0m\u001b[0m\n\u001b[0m\u001b[0;32m      5\u001b[0m \u001b[1;32mexcept\u001b[0m \u001b[0mZeroDivisionError\u001b[0m\u001b[1;33m:\u001b[0m\u001b[1;33m\u001b[0m\u001b[1;33m\u001b[0m\u001b[0m\n\u001b[0;32m      6\u001b[0m     \u001b[0mprint\u001b[0m\u001b[1;33m(\u001b[0m\u001b[1;34m'0이 아닌 정수를 입력하세요..'\u001b[0m\u001b[1;33m)\u001b[0m\u001b[1;33m\u001b[0m\u001b[1;33m\u001b[0m\u001b[0m\n",
      "\u001b[1;31mValueError\u001b[0m: invalid literal for int() with base 10: 'number'"
     ]
    }
   ],
   "source": [
    "num = input('임의의 정수를 입력하세요..')\n",
    "\n",
    "try:\n",
    "    result = 10/int(num)\n",
    "except ZeroDivisionError:    \n",
    "    print('0이 아닌 정수를 입력하세요..')\n",
    "else:\n",
    "    print(result)\n",
    "\n",
    "print('hello world')"
   ]
  },
  {
   "cell_type": "code",
   "execution_count": 36,
   "metadata": {},
   "outputs": [
    {
     "name": "stdout",
     "output_type": "stream",
     "text": [
      "임의의 정수를 입력하세요..number\n",
      "0이 아닌 정수를 입력하세요..\n",
      "hello world\n"
     ]
    }
   ],
   "source": [
    "num = input('임의의 정수를 입력하세요..')\n",
    "\n",
    "try:\n",
    "    result = 10/int(num)\n",
    "except:    \n",
    "    print('0이 아닌 정수를 입력하세요..')\n",
    "else:\n",
    "    print(result)\n",
    "\n",
    "print('hello world')"
   ]
  },
  {
   "cell_type": "code",
   "execution_count": 38,
   "metadata": {},
   "outputs": [
    {
     "name": "stdout",
     "output_type": "stream",
     "text": [
      "임의의 정수를 입력하세요..number\n",
      "숫자만 입력하세요..\n",
      "hello world\n"
     ]
    }
   ],
   "source": [
    "num = input('임의의 정수를 입력하세요..')\n",
    "\n",
    "try:\n",
    "    result = 10/int(num)\n",
    "except ZeroDivisionError:    \n",
    "    print('0이 아닌 정수를 입력하세요..')\n",
    "except ValueError:\n",
    "    print('숫자만 입력하세요..')\n",
    "else:\n",
    "    print(result)\n",
    "\n",
    "print('hello world')"
   ]
  },
  {
   "cell_type": "code",
   "execution_count": 41,
   "metadata": {},
   "outputs": [
    {
     "name": "stdout",
     "output_type": "stream",
     "text": [
      "[Errno 2] No such file or directory: 'nofile'\n",
      "hello world\n"
     ]
    }
   ],
   "source": [
    "def openFile():\n",
    "    f = open('nofile')\n",
    "    line = f.readline()\n",
    "    print(line)\n",
    "    \n",
    "# 함수를 실행 시 발생할 오류를 예외처리하시오..\n",
    "\n",
    "try:\n",
    "    openFile()\n",
    "\n",
    "except Exception as e:\n",
    "    print(e)\n",
    "\n",
    "print('hello world')"
   ]
  },
  {
   "cell_type": "code",
   "execution_count": 42,
   "metadata": {},
   "outputs": [
    {
     "name": "stdout",
     "output_type": "stream",
     "text": [
      "[Errno 2] No such file or directory: 'nofile'\n",
      "hello world\n"
     ]
    }
   ],
   "source": [
    "def openFile():\n",
    "    f = open('nofile')\n",
    "    line = f.readline()\n",
    "    print(line)\n",
    "    \n",
    "# 함수를 실행 시 발생할 오류를 예외처리하시오..\n",
    "\n",
    "try:\n",
    "    openFile()\n",
    "\n",
    "except OSError as e:  # OSError : 시스템 에러..\n",
    "    print(e)\n",
    "\n",
    "print('hello world')"
   ]
  },
  {
   "cell_type": "code",
   "execution_count": 49,
   "metadata": {},
   "outputs": [],
   "source": [
    "def writeFile():\n",
    "    f = open('file.txt','w')\n",
    "    try:\n",
    "        f.write('hello world')\n",
    "    except:\n",
    "        print('oops!')\n",
    "    finally:\n",
    "        f.close()     \n",
    "        return 'file.txt'"
   ]
  },
  {
   "cell_type": "code",
   "execution_count": 51,
   "metadata": {},
   "outputs": [
    {
     "data": {
      "text/plain": [
       "'file.txt'"
      ]
     },
     "execution_count": 51,
     "metadata": {},
     "output_type": "execute_result"
    }
   ],
   "source": [
    "file = writeFile()\n",
    "file"
   ]
  },
  {
   "cell_type": "code",
   "execution_count": 69,
   "metadata": {},
   "outputs": [],
   "source": [
    "def readFile(file):\n",
    "    try:\n",
    "        f = open(file, 'r')\n",
    "    except Exception as e:\n",
    "        print(e)\n",
    "    else:\n",
    "        text = f.read()\n",
    "        print(text)\n",
    "        f.close()\n",
    "    finally: \n",
    "        print('file reading is over!!')"
   ]
  },
  {
   "cell_type": "code",
   "execution_count": 70,
   "metadata": {},
   "outputs": [
    {
     "name": "stdout",
     "output_type": "stream",
     "text": [
      "[Errno 2] No such file or directory: 'file1.txt'\n",
      "file reading is over!!\n"
     ]
    }
   ],
   "source": [
    "file = 'file1.txt'\n",
    "readFile(file)"
   ]
  },
  {
   "cell_type": "code",
   "execution_count": null,
   "metadata": {},
   "outputs": [],
   "source": []
  }
 ],
 "metadata": {
  "kernelspec": {
   "display_name": "Python 3",
   "language": "python",
   "name": "python3"
  },
  "language_info": {
   "codemirror_mode": {
    "name": "ipython",
    "version": 3
   },
   "file_extension": ".py",
   "mimetype": "text/x-python",
   "name": "python",
   "nbconvert_exporter": "python",
   "pygments_lexer": "ipython3",
   "version": "3.8.3"
  }
 },
 "nbformat": 4,
 "nbformat_minor": 4
}
