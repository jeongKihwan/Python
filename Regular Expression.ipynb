{
 "cells": [
  {
   "cell_type": "code",
   "execution_count": 1,
   "metadata": {},
   "outputs": [],
   "source": [
    "### 문자열에서 원하는 텍스트를 찾거나 교체하거나 또는 변형시키는 방식.."
   ]
  },
  {
   "cell_type": "markdown",
   "metadata": {},
   "source": [
    "1. re.compile('정규표현식')\n",
    "    * 정규표현식 패턴 객체 형성"
   ]
  },
  {
   "cell_type": "code",
   "execution_count": 2,
   "metadata": {},
   "outputs": [],
   "source": [
    "import re"
   ]
  },
  {
   "cell_type": "code",
   "execution_count": 5,
   "metadata": {},
   "outputs": [
    {
     "name": "stdout",
     "output_type": "stream",
     "text": [
      "415-555-4242\n"
     ]
    }
   ],
   "source": [
    "phonere = re.compile(r'\\d\\d\\d-\\d\\d\\d-\\d\\d\\d\\d')\n",
    "\n",
    "mo = phonere.search('My number is 415-555-4242')\n",
    "print(mo.group())\n",
    "\n",
    "# re.compile(정규표현식) : 정규표현식을 컴퓨터에게 이해하도록 compile한다..\n",
    "# 정규표현식 컴파일 객체를 생성한다 => phonere\n",
    "# 정규표현식 search 메소드로 텍스트 문서에 적용한다.\n",
    "# search 메소드는 정규표현식에 일치하는 문자열을 group()메소드를 통해 리턴한다.\n",
    "# 정규표현식 '\\d'는 숫자를 나타낸다."
   ]
  },
  {
   "cell_type": "code",
   "execution_count": null,
   "metadata": {},
   "outputs": [],
   "source": [
    "# Search()"
   ]
  },
  {
   "cell_type": "code",
   "execution_count": 7,
   "metadata": {},
   "outputs": [
    {
     "data": {
      "text/plain": [
       "'Batman'"
      ]
     },
     "execution_count": 7,
     "metadata": {},
     "output_type": "execute_result"
    }
   ],
   "source": [
    "herore = re.compile(r'Batman|Tina Fey')\n",
    "mo = herore.search('Batman and Tina Fey')   # 패턴과 일치하는 첫 번째 문자열만 리턴..\n",
    "mo.group()"
   ]
  },
  {
   "cell_type": "code",
   "execution_count": 8,
   "metadata": {},
   "outputs": [
    {
     "data": {
      "text/plain": [
       "'Batman'"
      ]
     },
     "execution_count": 8,
     "metadata": {},
     "output_type": "execute_result"
    }
   ],
   "source": [
    "herore = re.compile(r'Bat(wo)?man') # ? - 앞의 패턴이 0번 또는 1번 나오는 경우와 일치\n",
    "mo = herore.search('The Adventures of Batman')   # 패턴과 일치하는 첫 번째 문자열만 리턴..\n",
    "mo.group()"
   ]
  },
  {
   "cell_type": "code",
   "execution_count": 9,
   "metadata": {},
   "outputs": [
    {
     "data": {
      "text/plain": [
       "'Batwoman'"
      ]
     },
     "execution_count": 9,
     "metadata": {},
     "output_type": "execute_result"
    }
   ],
   "source": [
    "herore = re.compile(r'Bat(wo)?man') # ? - 앞의 패턴이 0번 또는 1번 나오는 경우와 일치\n",
    "mo = herore.search('The Adventures of Batwoman')   # 패턴과 일치하는 첫 번째 문자열만 리턴..\n",
    "mo.group()"
   ]
  },
  {
   "cell_type": "code",
   "execution_count": 11,
   "metadata": {},
   "outputs": [
    {
     "name": "stdout",
     "output_type": "stream",
     "text": [
      "None\n"
     ]
    }
   ],
   "source": [
    "herore = re.compile(r'Bat(wo)?man') # ? - 앞의 패턴이 0번 또는 1번 나오는 경우와 일치\n",
    "mo = herore.search('The Adventures of Batwowoman')   # 패턴과 일치하는 첫 번째 문자열만 리턴..\n",
    "print(mo)"
   ]
  },
  {
   "cell_type": "code",
   "execution_count": 13,
   "metadata": {},
   "outputs": [
    {
     "name": "stdout",
     "output_type": "stream",
     "text": [
      "<re.Match object; span=(18, 28), match='Batwowoman'>\n",
      "Batwowoman\n"
     ]
    }
   ],
   "source": [
    "herore = re.compile(r'Bat(wo)*man') # * - 앞의 패턴이 0번 또는 1번 이상 경우와 일치\n",
    "mo = herore.search('The Adventures of Batwowoman')   # 패턴과 일치하는 첫 번째 문자열만 리턴..\n",
    "print(mo)\n",
    "print(mo.group())"
   ]
  },
  {
   "cell_type": "code",
   "execution_count": 14,
   "metadata": {},
   "outputs": [
    {
     "name": "stdout",
     "output_type": "stream",
     "text": [
      "<re.Match object; span=(18, 28), match='Batwowoman'>\n",
      "Batwowoman\n"
     ]
    }
   ],
   "source": [
    "herore = re.compile(r'Bat(wo)+man') # + - 1번 이상 경우와 일치\n",
    "mo = herore.search('The Adventures of Batwowoman')   # 패턴과 일치하는 첫 번째 문자열만 리턴..\n",
    "print(mo)\n",
    "print(mo.group())"
   ]
  },
  {
   "cell_type": "code",
   "execution_count": 15,
   "metadata": {},
   "outputs": [
    {
     "name": "stdout",
     "output_type": "stream",
     "text": [
      "<re.Match object; span=(18, 30), match='Batwowowoman'>\n",
      "Batwowowoman\n"
     ]
    }
   ],
   "source": [
    "herore = re.compile(r'Bat(wo)+man') # + - 1번 이상 경우와 일치\n",
    "mo = herore.search('The Adventures of Batwowowoman')   # 패턴과 일치하는 첫 번째 문자열만 리턴..\n",
    "print(mo)\n",
    "print(mo.group())"
   ]
  },
  {
   "cell_type": "code",
   "execution_count": 17,
   "metadata": {},
   "outputs": [
    {
     "name": "stdout",
     "output_type": "stream",
     "text": [
      "None\n"
     ]
    }
   ],
   "source": [
    "herore = re.compile(r'Bat(wo)+man') # + - 1번 이상 경우와 일치\n",
    "mo = herore.search('The Adventures of Batman')   # 패턴과 일치하는 첫 번째 문자열만 리턴..\n",
    "print(mo)\n",
    "# print(mo.group())"
   ]
  },
  {
   "cell_type": "code",
   "execution_count": 18,
   "metadata": {},
   "outputs": [],
   "source": [
    "# ? - 앞의 패턴이 0번 또는 1번 나오는 패턴과 일치\n",
    "# * - 앞으 패턴이 0번 또는 1번 이상 나오는 패턴과 일치\n",
    "# + - 앞의 패턴이 1번 이상 나오는 경우와 일치"
   ]
  },
  {
   "cell_type": "code",
   "execution_count": 19,
   "metadata": {},
   "outputs": [],
   "source": [
    "### Findall()"
   ]
  },
  {
   "cell_type": "code",
   "execution_count": 20,
   "metadata": {},
   "outputs": [
    {
     "data": {
      "text/plain": [
       "['415-555-9999', '221-555-0000']"
      ]
     },
     "execution_count": 20,
     "metadata": {},
     "output_type": "execute_result"
    }
   ],
   "source": [
    "phonere = re.compile(r'\\d\\d\\d-\\d\\d\\d-\\d\\d\\d\\d')\n",
    "phonere.findall('Call: 415-555-9999 Work: 221-555-0000')"
   ]
  },
  {
   "cell_type": "code",
   "execution_count": 21,
   "metadata": {},
   "outputs": [
    {
     "data": {
      "text/plain": [
       "'415-555-9999'"
      ]
     },
     "execution_count": 21,
     "metadata": {},
     "output_type": "execute_result"
    }
   ],
   "source": [
    "phonere = re.compile(r'\\d\\d\\d-\\d\\d\\d-\\d\\d\\d\\d')\n",
    "mo = phonere.search('Call: 415-555-9999 Work: 221-555-0000')\n",
    "mo.group()"
   ]
  },
  {
   "cell_type": "code",
   "execution_count": 22,
   "metadata": {},
   "outputs": [],
   "source": [
    "# \\d - 0-9까지 임의의 숫자\n",
    "# \\w - 문자, 숫자, 밑줄글자\n",
    "# \\s - 스페이스, 탭, 줄바꿈 문자.."
   ]
  },
  {
   "cell_type": "code",
   "execution_count": 23,
   "metadata": {},
   "outputs": [
    {
     "data": {
      "text/plain": [
       "['12 drummers', '11 pipers', '10 lords', '9 ladies', '8 maids']"
      ]
     },
     "execution_count": 23,
     "metadata": {},
     "output_type": "execute_result"
    }
   ],
   "source": [
    "tempre = re.compile(r'\\d+\\s\\w+')\n",
    "tempre.findall('12 drummers, 11 pipers, 10 lords, 9 ladies, 8 maids')"
   ]
  },
  {
   "cell_type": "code",
   "execution_count": 24,
   "metadata": {},
   "outputs": [],
   "source": [
    "# ^ - 시작부분과 일치\n",
    "# $ -  끝 부분과 일치"
   ]
  },
  {
   "cell_type": "code",
   "execution_count": 25,
   "metadata": {},
   "outputs": [],
   "source": [
    "beginre = re.compile(r'^Hello')"
   ]
  },
  {
   "cell_type": "code",
   "execution_count": 26,
   "metadata": {},
   "outputs": [
    {
     "data": {
      "text/plain": [
       "['Hello']"
      ]
     },
     "execution_count": 26,
     "metadata": {},
     "output_type": "execute_result"
    }
   ],
   "source": [
    "beginre.findall('Hello world!')"
   ]
  },
  {
   "cell_type": "code",
   "execution_count": 27,
   "metadata": {},
   "outputs": [
    {
     "data": {
      "text/plain": [
       "[]"
      ]
     },
     "execution_count": 27,
     "metadata": {},
     "output_type": "execute_result"
    }
   ],
   "source": [
    "beginre.findall('He said hello')"
   ]
  },
  {
   "cell_type": "code",
   "execution_count": 28,
   "metadata": {},
   "outputs": [],
   "source": [
    "endsre = re.compile(r'\\d+$')"
   ]
  },
  {
   "cell_type": "code",
   "execution_count": 29,
   "metadata": {},
   "outputs": [
    {
     "data": {
      "text/plain": [
       "['42']"
      ]
     },
     "execution_count": 29,
     "metadata": {},
     "output_type": "execute_result"
    }
   ],
   "source": [
    "endsre.findall('Your number5 is 42')"
   ]
  },
  {
   "cell_type": "code",
   "execution_count": 30,
   "metadata": {},
   "outputs": [],
   "source": [
    "endsre = re.compile(r'\\d+')"
   ]
  },
  {
   "cell_type": "code",
   "execution_count": 31,
   "metadata": {},
   "outputs": [
    {
     "data": {
      "text/plain": [
       "['5', '42']"
      ]
     },
     "execution_count": 31,
     "metadata": {},
     "output_type": "execute_result"
    }
   ],
   "source": [
    "endsre.findall('Your number5 is 42')"
   ]
  },
  {
   "cell_type": "code",
   "execution_count": 32,
   "metadata": {},
   "outputs": [],
   "source": [
    "endsre = re.compile(r'\\d')"
   ]
  },
  {
   "cell_type": "code",
   "execution_count": 33,
   "metadata": {},
   "outputs": [
    {
     "data": {
      "text/plain": [
       "['5', '4', '2']"
      ]
     },
     "execution_count": 33,
     "metadata": {},
     "output_type": "execute_result"
    }
   ],
   "source": [
    "endsre.findall('Your number5 is 42')"
   ]
  },
  {
   "cell_type": "code",
   "execution_count": 34,
   "metadata": {},
   "outputs": [],
   "source": [
    "# . - 줄 바꿈 이외의 모든 한 개의 문자와 일치"
   ]
  },
  {
   "cell_type": "code",
   "execution_count": 35,
   "metadata": {},
   "outputs": [
    {
     "data": {
      "text/plain": [
       "['cat', 'hat', 'sat', 'lat', 'mat']"
      ]
     },
     "execution_count": 35,
     "metadata": {},
     "output_type": "execute_result"
    }
   ],
   "source": [
    "atre = re.compile(r'.at')\n",
    "atre.findall('The cat in the hat sat on the flat 3mat') "
   ]
  },
  {
   "cell_type": "code",
   "execution_count": null,
   "metadata": {},
   "outputs": [],
   "source": []
  }
 ],
 "metadata": {
  "kernelspec": {
   "display_name": "Python 3",
   "language": "python",
   "name": "python3"
  },
  "language_info": {
   "codemirror_mode": {
    "name": "ipython",
    "version": 3
   },
   "file_extension": ".py",
   "mimetype": "text/x-python",
   "name": "python",
   "nbconvert_exporter": "python",
   "pygments_lexer": "ipython3",
   "version": "3.8.5"
  },
  "toc": {
   "base_numbering": 1,
   "nav_menu": {},
   "number_sections": true,
   "sideBar": true,
   "skip_h1_title": false,
   "title_cell": "Table of Contents",
   "title_sidebar": "Contents",
   "toc_cell": false,
   "toc_position": {},
   "toc_section_display": true,
   "toc_window_display": false
  },
  "varInspector": {
   "cols": {
    "lenName": 16,
    "lenType": 16,
    "lenVar": 40
   },
   "kernels_config": {
    "python": {
     "delete_cmd_postfix": "",
     "delete_cmd_prefix": "del ",
     "library": "var_list.py",
     "varRefreshCmd": "print(var_dic_list())"
    },
    "r": {
     "delete_cmd_postfix": ") ",
     "delete_cmd_prefix": "rm(",
     "library": "var_list.r",
     "varRefreshCmd": "cat(var_dic_list()) "
    }
   },
   "types_to_exclude": [
    "module",
    "function",
    "builtin_function_or_method",
    "instance",
    "_Feature"
   ],
   "window_display": false
  }
 },
 "nbformat": 4,
 "nbformat_minor": 4
}
