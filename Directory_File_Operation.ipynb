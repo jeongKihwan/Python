{
 "cells": [
  {
   "cell_type": "code",
   "execution_count": 1,
   "metadata": {},
   "outputs": [
    {
     "data": {
      "text/plain": [
       "'D:\\\\BigData\\\\python'"
      ]
     },
     "execution_count": 1,
     "metadata": {},
     "output_type": "execute_result"
    }
   ],
   "source": [
    "pwd"
   ]
  },
  {
   "cell_type": "code",
   "execution_count": 2,
   "metadata": {
    "collapsed": true
   },
   "outputs": [
    {
     "name": "stdout",
     "output_type": "stream",
     "text": [
      " D 드라이브의 볼륨: 새 볼륨\n",
      " 볼륨 일련 번호: 3689-8172\n",
      "\n",
      " D:\\BigData\\python 디렉터리\n",
      "\n",
      "2020-09-29  오후 02:15    <DIR>          .\n",
      "2020-09-29  오후 02:15    <DIR>          ..\n",
      "2020-09-29  오후 02:13    <DIR>          .ipynb_checkpoints\n",
      "2019-11-27  오후 12:56           182,124 10장 파일 처리, 예외 처리.pptx\n",
      "2020-09-17  오후 12:45           213,204 2장 변수, 자료형(1), 주석.pptx\n",
      "2020-09-17  오후 12:46            85,672 3장 입출력문과 연산자.pptx\n",
      "2020-09-17  오후 12:46           243,463 4장 자료형(2).pptx\n",
      "2019-11-27  오후 12:54         1,680,868 5장 조건문.pptx\n",
      "2019-11-27  오후 12:54           317,296 6장 반복문.pptx\n",
      "2019-11-27  오후 12:54           200,591 7장 함수.pptx\n",
      "2019-11-27  오후 12:54           288,373 8장 클래스와 객체지향 프로그래밍.pptx\n",
      "2020-09-23  오후 02:06                22 ban.txt\n",
      "2020-09-23  오후 02:06                93 ban_student.txt\n",
      "2020-09-23  오후 12:50                30 data.txt\n",
      "2020-09-29  오후 02:15               576 Directory_File_Operation.ipynb\n",
      "2020-09-29  오후 12:33            21,286 Exception.ipynb\n",
      "2020-09-29  오후 12:27                11 file.txt\n",
      "2020-09-21  오후 06:20            10,704 IF.ipynb\n",
      "2020-09-23  오후 03:25                68 memo.txt\n",
      "2020-09-24  오후 04:50                50 memo_text.txt\n",
      "2020-09-23  오후 12:32                59 newfile.txt\n",
      "2020-09-23  오후 02:51               318 poem.txt\n",
      "2020-09-25  오후 06:48            39,497 python_class.ipynb\n",
      "2020-09-18  오후 06:50            17,883 python_datatype_1.ipynb\n",
      "2020-09-21  오후 03:14            45,387 python_datatype_2_sequential.ipynb\n",
      "2020-09-21  오후 05:48            37,510 python_datatype_3_sequential_tuple_set_dictionary.ipynb\n",
      "2020-09-24  오후 06:26            33,367 python_datatype_test_-1_review.ipynb\n",
      "2020-09-24  오전 11:00           101,802 python_file.ipynb\n",
      "2020-09-22  오후 06:41           254,073 python_for.ipynb\n",
      "2020-09-25  오후 06:49           102,085 python_function.ipynb\n",
      "2020-09-18  오후 06:50            18,396 python_operation.ipynb\n",
      "2020-09-23  오후 12:46                18 score.txt\n",
      "2020-09-23  오후 02:06            16,339 stockcode.txt\n",
      "2020-09-23  오후 04:18            16,339 stockcode_copy.txt\n",
      "2020-09-23  오후 02:41                28 subject.txt\n",
      "2020-09-23  오후 06:15                64 test.txt\n",
      "2020-09-24  오후 06:22            10,663 Untitled.ipynb\n",
      "              34개 파일           3,938,259 바이트\n",
      "               3개 디렉터리  742,876,643,328 바이트 남음\n"
     ]
    }
   ],
   "source": [
    "!dir"
   ]
  },
  {
   "cell_type": "code",
   "execution_count": 3,
   "metadata": {},
   "outputs": [
    {
     "data": {
      "text/plain": [
       "18"
      ]
     },
     "execution_count": 3,
     "metadata": {},
     "output_type": "execute_result"
    }
   ],
   "source": [
    "from os.path import getsize\n",
    "getsize('score.txt')"
   ]
  },
  {
   "cell_type": "code",
   "execution_count": 4,
   "metadata": {},
   "outputs": [],
   "source": [
    "from os import remove\n",
    "# remove('score.txt')"
   ]
  },
  {
   "cell_type": "code",
   "execution_count": 45,
   "metadata": {},
   "outputs": [
    {
     "data": {
      "text/plain": [
       "['.ipynb_checkpoints',\n",
       " '10장 파일 처리, 예외 처리.pptx',\n",
       " '2장 변수, 자료형(1), 주석.pptx',\n",
       " '3장 입출력문과 연산자.pptx',\n",
       " '4장 자료형(2).pptx',\n",
       " '5장 조건문.pptx',\n",
       " '6장 반복문.pptx',\n",
       " '7장 함수.pptx',\n",
       " '8장 클래스와 객체지향 프로그래밍.pptx',\n",
       " 'ban.txt',\n",
       " 'ban_student.txt',\n",
       " 'data.txt',\n",
       " 'Directory_File_Operation.ipynb',\n",
       " 'Exception.ipynb',\n",
       " 'file.txt',\n",
       " 'IF.ipynb',\n",
       " 'memo_text.txt',\n",
       " 'newfile.txt',\n",
       " 'new_test.txt',\n",
       " 'poem.txt',\n",
       " 'python_class.ipynb',\n",
       " 'python_datatype_1.ipynb',\n",
       " 'python_datatype_2_sequential.ipynb',\n",
       " 'python_datatype_3_sequential_tuple_set_dictionary.ipynb',\n",
       " 'python_datatype_test_-1_review.ipynb',\n",
       " 'python_file.ipynb',\n",
       " 'python_for.ipynb',\n",
       " 'python_function.ipynb',\n",
       " 'python_operation.ipynb',\n",
       " 'score.txt',\n",
       " 'stockcode.txt',\n",
       " 'stockcode_copy.txt',\n",
       " 'subject.txt',\n",
       " 'test_dir',\n",
       " 'Untitled.ipynb',\n",
       " '~$10장 파일 처리, 예외 처리.pptx']"
      ]
     },
     "execution_count": 45,
     "metadata": {},
     "output_type": "execute_result"
    }
   ],
   "source": [
    "import os\n",
    "os.listdir('D:\\\\BigData\\\\python')"
   ]
  },
  {
   "cell_type": "code",
   "execution_count": 6,
   "metadata": {
    "collapsed": true
   },
   "outputs": [
    {
     "data": {
      "text/plain": [
       "'D:\\\\BigData\\\\python'"
      ]
     },
     "execution_count": 6,
     "metadata": {},
     "output_type": "execute_result"
    }
   ],
   "source": [
    "os.getcwd()"
   ]
  },
  {
   "cell_type": "code",
   "execution_count": 7,
   "metadata": {},
   "outputs": [],
   "source": [
    "os.mkdir('test_dir')"
   ]
  },
  {
   "cell_type": "code",
   "execution_count": null,
   "metadata": {},
   "outputs": [],
   "source": []
  },
  {
   "cell_type": "code",
   "execution_count": 11,
   "metadata": {},
   "outputs": [
    {
     "name": "stdout",
     "output_type": "stream",
     "text": [
      "\"ban.txt\" file size : 22\n",
      "\"poem.txt\" file size : 318\n"
     ]
    }
   ],
   "source": [
    "from os.path import getsize  # 함수를 import\n",
    "\n",
    "file1 = 'ban.txt'\n",
    "file2 = 'poem.txt'\n",
    "\n",
    "file_size1 = getsize(file1)\n",
    "file_size2 = getsize(file2)\n",
    "\n",
    "print('\"{}\" file size :'.format(file1), file_size1 )\n",
    "print('\"{}\" file size :'.format(file2), file_size2)"
   ]
  },
  {
   "cell_type": "code",
   "execution_count": 40,
   "metadata": {},
   "outputs": [
    {
     "name": "stdout",
     "output_type": "stream",
     "text": [
      "input file name to remove..ban.txt\n",
      "ban.txt really remove the file? (y/n)n\n",
      "ban.txt file removed\n"
     ]
    }
   ],
   "source": [
    "from os import remove\n",
    "\n",
    "target_file = input('input file name to remove..')\n",
    "\n",
    "k = input('{} really remove the file? (y/n)'.format(target_file))\n",
    "\n",
    "try:\n",
    "    if k == 'y':\n",
    "        remove(target_file)\n",
    "\n",
    "except Exception as e:\n",
    "    print('error message:', e)\n",
    "else:\n",
    "    print('{} file removed'.format(target_file))"
   ]
  },
  {
   "cell_type": "code",
   "execution_count": 44,
   "metadata": {},
   "outputs": [
    {
     "name": "stdout",
     "output_type": "stream",
     "text": [
      "이름을 바꾸고자 하는 파일을 입력하세요ban.txt\n",
      "새로운 파일 이름을 입력하세요.new_ban.txt\n",
      "ban.txt really rename the file? (y/n)n\n",
      "file name is not changed\n"
     ]
    }
   ],
   "source": [
    "from os import rename\n",
    "\n",
    "target_file = input('이름을 바꾸고자 하는 파일을 입력하세요')\n",
    "new_target_file = input('새로운 파일 이름을 입력하세요.')\n",
    "\n",
    "k = input('{} really rename the file? (y/n)'.format(target_file))\n",
    "\n",
    "try:\n",
    "    if k == 'y':\n",
    "        rename(target_file, new_target_file)\n",
    "\n",
    "except Exception as e:\n",
    "    print('error message:', e)\n",
    "    \n",
    "else:\n",
    "    if k == 'y':\n",
    "        print('{} file name is changed..'.format(target_file))\n",
    "    else:\n",
    "        print('file name is not changed')"
   ]
  },
  {
   "cell_type": "code",
   "execution_count": 24,
   "metadata": {},
   "outputs": [
    {
     "name": "stdout",
     "output_type": "stream",
     "text": [
      "['apache-tomcat-8.5.58', 'apache-tomcat-8.5.58-windows-x64.zip', 'eclipse', 'eclipse-jee-2018-09-win32-x86_64.zip', 'jre-8u261-windows-x64.exe', 'testws', 'workspace']\n"
     ]
    }
   ],
   "source": [
    "import os\n",
    "\n",
    "pwd = os.getcwd()\n",
    "os.listdir(pwd)  # \n",
    "\n",
    "path = 'D:\\\\jsp'\n",
    "print(os.listdir(path))"
   ]
  },
  {
   "cell_type": "code",
   "execution_count": 30,
   "metadata": {},
   "outputs": [
    {
     "name": "stdout",
     "output_type": "stream",
     "text": [
      "D:\\BigData\\python\n",
      "D:\\jsp\n",
      "D:\\BigData\\python\n"
     ]
    }
   ],
   "source": [
    "import os \n",
    "pdir = os.getcwd()   # 현재 작업 폴더\n",
    "print(pdir)\n",
    "\n",
    "npath = 'D:\\\\jsp'\n",
    "os.chdir(npath)      # 작업 폴더를 변경\n",
    "print(os.getcwd())\n",
    "\n",
    "os.chdir(pdir)       # 작업 폴더를 원래 폴더로 변경\n",
    "print(os.getcwd())"
   ]
  },
  {
   "cell_type": "code",
   "execution_count": null,
   "metadata": {},
   "outputs": [],
   "source": []
  },
  {
   "cell_type": "code",
   "execution_count": 55,
   "metadata": {},
   "outputs": [
    {
     "name": "stdout",
     "output_type": "stream",
     "text": [
      "new folder name?testfolder\n",
      "폴더를 생성하지 못 했습니다.\n"
     ]
    }
   ],
   "source": [
    "#  mkdir - 폴더를 새로이 생성\n",
    "\n",
    "import os\n",
    "\n",
    "newfolder = input('new folder name?')\n",
    "\n",
    "try:\n",
    "    os.mkdir(newfolder)\n",
    "except:\n",
    "    print('폴더를 생성하지 못 했습니다.')\n"
   ]
  },
  {
   "cell_type": "code",
   "execution_count": 60,
   "metadata": {},
   "outputs": [
    {
     "name": "stdout",
     "output_type": "stream",
     "text": [
      "new folder name?newfolder\n",
      "error message: [WinError 183] 파일이 이미 있으므로 만들 수 없습니다: 'newfolder'\n"
     ]
    }
   ],
   "source": [
    "#  mkdir - 폴더를 새로이 생성\n",
    "\n",
    "import os\n",
    "\n",
    "newfolder = input('new folder name?')\n",
    "\n",
    "try:\n",
    "    os.mkdir(newfolder)\n",
    "except Exception as e:\n",
    "    print('error message:', e)\n"
   ]
  },
  {
   "cell_type": "code",
   "execution_count": 67,
   "metadata": {},
   "outputs": [
    {
     "name": "stdout",
     "output_type": "stream",
     "text": [
      "new folder name?testfolder\n"
     ]
    }
   ],
   "source": [
    "# 폴더 삭제 : rmdir\n",
    "\n",
    "newfolder = input('new folder name?')\n",
    "\n",
    "if newfolder in os.listdir():\n",
    "    os.rmdir(newfolder)\n",
    "    os.mkdir(newfolder)\n",
    "else:\n",
    "    os.mkdir(newfolder)"
   ]
  },
  {
   "cell_type": "code",
   "execution_count": 73,
   "metadata": {
    "collapsed": true
   },
   "outputs": [
    {
     "data": {
      "text/plain": [
       "['.ipynb_checkpoints',\n",
       " '10장 파일 처리, 예외 처리.pptx',\n",
       " '2장 변수, 자료형(1), 주석.pptx',\n",
       " '3장 입출력문과 연산자.pptx',\n",
       " '4장 자료형(2).pptx',\n",
       " '5장 조건문.pptx',\n",
       " '6장 반복문.pptx',\n",
       " '7장 함수.pptx',\n",
       " '8장 클래스와 객체지향 프로그래밍.pptx',\n",
       " 'ban.txt',\n",
       " 'ban_student.txt',\n",
       " 'data.txt',\n",
       " 'Directory_File_Operation.ipynb',\n",
       " 'Exception.ipynb',\n",
       " 'file.txt',\n",
       " 'IF.ipynb',\n",
       " 'memo_text.txt',\n",
       " 'newfile.txt',\n",
       " 'newfolder',\n",
       " 'new_test.txt',\n",
       " 'poem.txt',\n",
       " 'python_class.ipynb',\n",
       " 'python_datatype_1.ipynb',\n",
       " 'python_datatype_2_sequential.ipynb',\n",
       " 'python_datatype_3_sequential_tuple_set_dictionary.ipynb',\n",
       " 'python_datatype_test_-1_review.ipynb',\n",
       " 'python_file.ipynb',\n",
       " 'python_for.ipynb',\n",
       " 'python_function.ipynb',\n",
       " 'python_operation.ipynb',\n",
       " 'score.txt',\n",
       " 'stockcode.txt',\n",
       " 'stockcode_copy.txt',\n",
       " 'subject.txt',\n",
       " 'testfolder1',\n",
       " 'test_dir',\n",
       " 'test_folder',\n",
       " 'Untitled.ipynb',\n",
       " '~$10장 파일 처리, 예외 처리.pptx']"
      ]
     },
     "execution_count": 73,
     "metadata": {},
     "output_type": "execute_result"
    }
   ],
   "source": [
    "os.listdir()"
   ]
  },
  {
   "cell_type": "code",
   "execution_count": 71,
   "metadata": {},
   "outputs": [],
   "source": [
    "os.rmdir('testfolder')"
   ]
  },
  {
   "cell_type": "code",
   "execution_count": 72,
   "metadata": {
    "collapsed": true
   },
   "outputs": [
    {
     "data": {
      "text/plain": [
       "['.ipynb_checkpoints',\n",
       " '10장 파일 처리, 예외 처리.pptx',\n",
       " '2장 변수, 자료형(1), 주석.pptx',\n",
       " '3장 입출력문과 연산자.pptx',\n",
       " '4장 자료형(2).pptx',\n",
       " '5장 조건문.pptx',\n",
       " '6장 반복문.pptx',\n",
       " '7장 함수.pptx',\n",
       " '8장 클래스와 객체지향 프로그래밍.pptx',\n",
       " 'ban.txt',\n",
       " 'ban_student.txt',\n",
       " 'data.txt',\n",
       " 'Directory_File_Operation.ipynb',\n",
       " 'Exception.ipynb',\n",
       " 'file.txt',\n",
       " 'IF.ipynb',\n",
       " 'memo_text.txt',\n",
       " 'newfile.txt',\n",
       " 'newfolder',\n",
       " 'new_test.txt',\n",
       " 'poem.txt',\n",
       " 'python_class.ipynb',\n",
       " 'python_datatype_1.ipynb',\n",
       " 'python_datatype_2_sequential.ipynb',\n",
       " 'python_datatype_3_sequential_tuple_set_dictionary.ipynb',\n",
       " 'python_datatype_test_-1_review.ipynb',\n",
       " 'python_file.ipynb',\n",
       " 'python_for.ipynb',\n",
       " 'python_function.ipynb',\n",
       " 'python_operation.ipynb',\n",
       " 'score.txt',\n",
       " 'stockcode.txt',\n",
       " 'stockcode_copy.txt',\n",
       " 'subject.txt',\n",
       " 'testfolder1',\n",
       " 'test_dir',\n",
       " 'test_folder',\n",
       " 'Untitled.ipynb',\n",
       " '~$10장 파일 처리, 예외 처리.pptx']"
      ]
     },
     "execution_count": 72,
     "metadata": {},
     "output_type": "execute_result"
    }
   ],
   "source": [
    "os.listdir()"
   ]
  },
  {
   "cell_type": "code",
   "execution_count": 75,
   "metadata": {},
   "outputs": [],
   "source": [
    "os.mkdir('./testfolder/')"
   ]
  },
  {
   "cell_type": "code",
   "execution_count": null,
   "metadata": {},
   "outputs": [],
   "source": []
  },
  {
   "cell_type": "code",
   "execution_count": 77,
   "metadata": {},
   "outputs": [],
   "source": [
    "import shutil"
   ]
  },
  {
   "cell_type": "code",
   "execution_count": 79,
   "metadata": {},
   "outputs": [],
   "source": [
    "target_dir = 'D:\\\\BigData\\\\python\\\\test_dir'"
   ]
  },
  {
   "cell_type": "code",
   "execution_count": 81,
   "metadata": {},
   "outputs": [],
   "source": [
    "shutil.rmtree(target_dir)"
   ]
  },
  {
   "cell_type": "code",
   "execution_count": 82,
   "metadata": {
    "collapsed": true
   },
   "outputs": [
    {
     "data": {
      "text/plain": [
       "['.ipynb_checkpoints',\n",
       " '10장 파일 처리, 예외 처리.pptx',\n",
       " '2장 변수, 자료형(1), 주석.pptx',\n",
       " '3장 입출력문과 연산자.pptx',\n",
       " '4장 자료형(2).pptx',\n",
       " '5장 조건문.pptx',\n",
       " '6장 반복문.pptx',\n",
       " '7장 함수.pptx',\n",
       " '8장 클래스와 객체지향 프로그래밍.pptx',\n",
       " 'ban.txt',\n",
       " 'ban_student.txt',\n",
       " 'data.txt',\n",
       " 'Directory_File_Operation.ipynb',\n",
       " 'Exception.ipynb',\n",
       " 'file.txt',\n",
       " 'IF.ipynb',\n",
       " 'memo_text.txt',\n",
       " 'newfile.txt',\n",
       " 'newfolder',\n",
       " 'new_test.txt',\n",
       " 'poem.txt',\n",
       " 'python_class.ipynb',\n",
       " 'python_datatype_1.ipynb',\n",
       " 'python_datatype_2_sequential.ipynb',\n",
       " 'python_datatype_3_sequential_tuple_set_dictionary.ipynb',\n",
       " 'python_datatype_test_-1_review.ipynb',\n",
       " 'python_file.ipynb',\n",
       " 'python_for.ipynb',\n",
       " 'python_function.ipynb',\n",
       " 'python_operation.ipynb',\n",
       " 'score.txt',\n",
       " 'stockcode.txt',\n",
       " 'stockcode_copy.txt',\n",
       " 'subject.txt',\n",
       " 'testfolder',\n",
       " 'testfolder1',\n",
       " 'test_folder',\n",
       " 'Untitled.ipynb',\n",
       " '~$10장 파일 처리, 예외 처리.pptx']"
      ]
     },
     "execution_count": 82,
     "metadata": {},
     "output_type": "execute_result"
    }
   ],
   "source": [
    "os.listdir()"
   ]
  },
  {
   "cell_type": "code",
   "execution_count": null,
   "metadata": {},
   "outputs": [],
   "source": []
  },
  {
   "cell_type": "code",
   "execution_count": 87,
   "metadata": {
    "collapsed": true
   },
   "outputs": [
    {
     "name": "stdout",
     "output_type": "stream",
     "text": [
      ".ipynb_checkpoints는 폴더입니다\n",
      "newfolder는 폴더입니다\n",
      "testfolder는 폴더입니다\n",
      "testfolder1는 폴더입니다\n",
      "test_folder는 폴더입니다\n",
      "10장 파일 처리, 예외 처리.pptx는 파일입니다\n",
      "2장 변수, 자료형(1), 주석.pptx는 파일입니다\n",
      "3장 입출력문과 연산자.pptx는 파일입니다\n",
      "4장 자료형(2).pptx는 파일입니다\n",
      "5장 조건문.pptx는 파일입니다\n",
      "6장 반복문.pptx는 파일입니다\n",
      "7장 함수.pptx는 파일입니다\n",
      "8장 클래스와 객체지향 프로그래밍.pptx는 파일입니다\n",
      "ban.txt는 파일입니다\n",
      "ban_student.txt는 파일입니다\n",
      "data.txt는 파일입니다\n",
      "Directory_File_Operation.ipynb는 파일입니다\n",
      "Exception.ipynb는 파일입니다\n",
      "file.txt는 파일입니다\n",
      "IF.ipynb는 파일입니다\n",
      "memo_text.txt는 파일입니다\n",
      "newfile.txt는 파일입니다\n",
      "new_test.txt는 파일입니다\n",
      "poem.txt는 파일입니다\n",
      "python_class.ipynb는 파일입니다\n",
      "python_datatype_1.ipynb는 파일입니다\n",
      "python_datatype_2_sequential.ipynb는 파일입니다\n",
      "python_datatype_3_sequential_tuple_set_dictionary.ipynb는 파일입니다\n",
      "python_datatype_test_-1_review.ipynb는 파일입니다\n",
      "python_file.ipynb는 파일입니다\n",
      "python_for.ipynb는 파일입니다\n",
      "python_function.ipynb는 파일입니다\n",
      "python_operation.ipynb는 파일입니다\n",
      "score.txt는 파일입니다\n",
      "stockcode.txt는 파일입니다\n",
      "stockcode_copy.txt는 파일입니다\n",
      "subject.txt는 파일입니다\n",
      "Untitled.ipynb는 파일입니다\n",
      "~$10장 파일 처리, 예외 처리.pptx는 파일입니다\n"
     ]
    }
   ],
   "source": [
    "import os\n",
    "from os.path import exists, isdir, isfile\n",
    "\n",
    "folder_list = []\n",
    "file_list = []\n",
    "\n",
    "files  = os.listdir()\n",
    "for file in files:\n",
    "    if isdir(file):\n",
    "        print(\"{}는 폴더입니다\".format(file))\n",
    "        folder_list.append(file)\n",
    "    \n",
    "for file in files:\n",
    "    if isfile(file):\n",
    "        print(\"{}는 파일입니다\".format(file))\n",
    "        file_list.append(file)"
   ]
  },
  {
   "cell_type": "code",
   "execution_count": 88,
   "metadata": {
    "collapsed": true
   },
   "outputs": [
    {
     "data": {
      "text/plain": [
       "['.ipynb_checkpoints', 'newfolder', 'testfolder', 'testfolder1', 'test_folder']"
      ]
     },
     "execution_count": 88,
     "metadata": {},
     "output_type": "execute_result"
    }
   ],
   "source": [
    "folder_list"
   ]
  },
  {
   "cell_type": "code",
   "execution_count": 90,
   "metadata": {
    "collapsed": true
   },
   "outputs": [
    {
     "name": "stdout",
     "output_type": "stream",
     "text": [
      "['10장 파일 처리, 예외 처리.pptx', '2장 변수, 자료형(1), 주석.pptx', '3장 입출력문과 연산자.pptx', '4장 자료형(2).pptx', '5장 조건문.pptx', '6장 반복문.pptx', '7장 함수.pptx', '8장 클래스와 객체지향 프로그래밍.pptx', 'ban.txt', 'ban_student.txt', 'data.txt', 'Directory_File_Operation.ipynb', 'Exception.ipynb', 'file.txt', 'IF.ipynb', 'memo_text.txt', 'newfile.txt', 'new_test.txt', 'poem.txt', 'python_class.ipynb', 'python_datatype_1.ipynb', 'python_datatype_2_sequential.ipynb', 'python_datatype_3_sequential_tuple_set_dictionary.ipynb', 'python_datatype_test_-1_review.ipynb', 'python_file.ipynb', 'python_for.ipynb', 'python_function.ipynb', 'python_operation.ipynb', 'score.txt', 'stockcode.txt', 'stockcode_copy.txt', 'subject.txt', 'Untitled.ipynb', '~$10장 파일 처리, 예외 처리.pptx']\n"
     ]
    }
   ],
   "source": [
    "print(file_list)"
   ]
  },
  {
   "cell_type": "code",
   "execution_count": 92,
   "metadata": {
    "collapsed": true
   },
   "outputs": [
    {
     "data": {
      "text/plain": [
       "True"
      ]
     },
     "execution_count": 92,
     "metadata": {},
     "output_type": "execute_result"
    }
   ],
   "source": [
    "exists('stockcode.txt')"
   ]
  },
  {
   "cell_type": "code",
   "execution_count": 95,
   "metadata": {
    "collapsed": true
   },
   "outputs": [
    {
     "data": {
      "text/plain": [
       "False"
      ]
     },
     "execution_count": 95,
     "metadata": {},
     "output_type": "execute_result"
    }
   ],
   "source": [
    "exists('stockcode1.txt')"
   ]
  },
  {
   "cell_type": "code",
   "execution_count": null,
   "metadata": {},
   "outputs": [],
   "source": []
  },
  {
   "cell_type": "code",
   "execution_count": 96,
   "metadata": {},
   "outputs": [
    {
     "data": {
      "text/plain": [
       "['.ipynb_checkpoints', 'newfolder', 'testfolder', 'testfolder1', 'test_folder']"
      ]
     },
     "execution_count": 96,
     "metadata": {},
     "output_type": "execute_result"
    }
   ],
   "source": [
    "folder_list"
   ]
  },
  {
   "cell_type": "code",
   "execution_count": 97,
   "metadata": {},
   "outputs": [
    {
     "data": {
      "text/plain": [
       "[]"
      ]
     },
     "execution_count": 97,
     "metadata": {},
     "output_type": "execute_result"
    }
   ],
   "source": [
    "os.listdir('./newfolder')"
   ]
  },
  {
   "cell_type": "code",
   "execution_count": 98,
   "metadata": {},
   "outputs": [],
   "source": [
    "# 56,848"
   ]
  },
  {
   "cell_type": "code",
   "execution_count": 105,
   "metadata": {
    "collapsed": true
   },
   "outputs": [
    {
     "name": "stdout",
     "output_type": "stream",
     "text": [
      "D:\\BigData\\python\\testfolder\\bird.jpg_0 완료\n",
      "D:\\BigData\\python\\testfolder\\bird.jpg_1 완료\n",
      "D:\\BigData\\python\\testfolder\\bird.jpg_2 완료\n",
      "D:\\BigData\\python\\testfolder\\bird.jpg_3 완료\n",
      "D:\\BigData\\python\\testfolder\\bird.jpg_4 완료\n",
      "D:\\BigData\\python\\testfolder\\bird.jpg_5 완료\n",
      "D:\\BigData\\python\\testfolder\\bird.jpg_6 완료\n",
      "D:\\BigData\\python\\testfolder\\bird.jpg_7 완료\n",
      "D:\\BigData\\python\\testfolder\\bird.jpg_8 완료\n",
      "D:\\BigData\\python\\testfolder\\bird.jpg_9 완료\n",
      "D:\\BigData\\python\\testfolder\\bird.jpg_10 완료\n",
      "D:\\BigData\\python\\testfolder\\bird.jpg_11 완료\n",
      "D:\\BigData\\python\\testfolder\\bird.jpg_12 완료\n",
      "D:\\BigData\\python\\testfolder\\bird.jpg_13 완료\n",
      "D:\\BigData\\python\\testfolder\\bird.jpg_14 완료\n",
      "D:\\BigData\\python\\testfolder\\bird.jpg_15 완료\n",
      "D:\\BigData\\python\\testfolder\\bird.jpg_16 완료\n",
      "D:\\BigData\\python\\testfolder\\bird.jpg_17 완료\n",
      "D:\\BigData\\python\\testfolder\\bird.jpg_18 완료\n"
     ]
    }
   ],
   "source": [
    "# 원본파일을 열어서 3000byte씩 읽어서 subfile에 기록..\n",
    "\n",
    "filename = 'D:\\\\BigData\\\\python\\\\testfolder\\\\bird.jpg'\n",
    "subsize = 3000\n",
    "suffix = 0\n",
    "\n",
    "with open(filename, 'rb') as f:\n",
    "    buf = f.read(subsize)\n",
    "    while buf:\n",
    "        subfilename = filename + '_'+str(suffix)\n",
    "        with open(subfilename, 'wb') as h:\n",
    "            h.write(buf)\n",
    "            print('{} 완료'.format(subfilename))\n",
    "        buf = f.read(subsize)\n",
    "        suffix += 1  \n",
    "        "
   ]
  },
  {
   "cell_type": "code",
   "execution_count": 106,
   "metadata": {
    "collapsed": true
   },
   "outputs": [
    {
     "data": {
      "text/plain": [
       "['bird.jpg',\n",
       " 'bird.jpg_0',\n",
       " 'bird.jpg_1',\n",
       " 'bird.jpg_10',\n",
       " 'bird.jpg_11',\n",
       " 'bird.jpg_12',\n",
       " 'bird.jpg_13',\n",
       " 'bird.jpg_14',\n",
       " 'bird.jpg_15',\n",
       " 'bird.jpg_16',\n",
       " 'bird.jpg_17',\n",
       " 'bird.jpg_18',\n",
       " 'bird.jpg_2',\n",
       " 'bird.jpg_3',\n",
       " 'bird.jpg_4',\n",
       " 'bird.jpg_5',\n",
       " 'bird.jpg_6',\n",
       " 'bird.jpg_7',\n",
       " 'bird.jpg_8',\n",
       " 'bird.jpg_9']"
      ]
     },
     "execution_count": 106,
     "metadata": {},
     "output_type": "execute_result"
    }
   ],
   "source": [
    "os.listdir('D:\\\\BigData\\\\python\\\\testfolder\\\\')"
   ]
  },
  {
   "cell_type": "code",
   "execution_count": 107,
   "metadata": {},
   "outputs": [],
   "source": [
    "# subfile을 열고 읽어서 하나의 파일에 기록해서 하나의 파일로 통합"
   ]
  },
  {
   "cell_type": "code",
   "execution_count": 122,
   "metadata": {},
   "outputs": [],
   "source": [
    "merge_filename = 'D:\\\\BigData\\\\python\\\\testfolder\\\\bird_new.jpg'\n",
    "path = 'D:\\\\BigData\\\\python\\\\testfolder\\\\bird.jpg_'\n",
    "\n",
    "file_list = [path + str(x) for x in range(len(os.listdir('D:\\\\BigData\\\\python\\\\testfolder\\\\'))-2)]\n",
    "\n",
    "with open(merge_filename, 'wb') as f:\n",
    "    for filename in file_list:\n",
    "        with open(filename, 'rb') as h:\n",
    "            buf = h.read()\n",
    "            f.write(buf)"
   ]
  },
  {
   "cell_type": "code",
   "execution_count": null,
   "metadata": {},
   "outputs": [],
   "source": []
  }
 ],
 "metadata": {
  "kernelspec": {
   "display_name": "Python 3",
   "language": "python",
   "name": "python3"
  },
  "language_info": {
   "codemirror_mode": {
    "name": "ipython",
    "version": 3
   },
   "file_extension": ".py",
   "mimetype": "text/x-python",
   "name": "python",
   "nbconvert_exporter": "python",
   "pygments_lexer": "ipython3",
   "version": "3.8.3"
  }
 },
 "nbformat": 4,
 "nbformat_minor": 4
}
